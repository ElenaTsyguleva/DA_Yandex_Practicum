{
 "cells": [
  {
   "cell_type": "markdown",
   "metadata": {},
   "source": [
    "# Исследование объявлений о продаже квартир\n",
    "\n",
    "В нашем распоряжении данные сервиса Яндекс.Недвижимость — архив объявлений о продаже квартир в Санкт-Петербурге и соседних населённых пунктов за несколько лет. Нужно  определить рыночную стоимость объектов недвижимости. Наша задача — установить параметры. Это позволит построить автоматизированную систему: она отследит аномалии и мошенническую деятельность. \n",
    "\n",
    "По каждой квартире на продажу доступны два вида данных. Первые вписаны пользователем, вторые — получены автоматически на основе картографических данных. Например, расстояние до центра, аэропорта, ближайшего парка и водоёма. \n",
    "\n",
    "*Цель исследования:* выполнить предобработку данных и изучить их, чтобы найти интересные особенности и зависимости, которые существуют на рынке недвижимости.\n",
    "\n",
    "*Ход исследования*\n",
    "\n",
    "Данные  объявлениий  мы получили из файла datasets/real_estate_data.csv. О качестве данных ничего не известно. Поэтому перед анализом данных понадобится обзор данных и предобработка.\n",
    "\n",
    "Таким образом, исследование пройдёт в три этапа:\n",
    "\n",
    "    Обзор данных.\n",
    "    Предобработка данных.\n",
    "    Проведение исследовательского анализа.\n"
   ]
  },
  {
   "cell_type": "markdown",
   "metadata": {},
   "source": [
    "### Откроем файл с данными и изучим общую информацию. "
   ]
  },
  {
   "cell_type": "code",
   "execution_count": 1,
   "metadata": {},
   "outputs": [],
   "source": [
    "# импортируем библиотеку pandas\n",
    "import pandas as pd\n",
    "\n",
    "# импортируем matplotlib\n",
    "import matplotlib.pyplot as plt"
   ]
  },
  {
   "cell_type": "code",
   "execution_count": 2,
   "metadata": {},
   "outputs": [],
   "source": [
    "# прочитаем csv-файл\n",
    "data = pd.read_csv('/datasets/real_estate_data.csv')"
   ]
  },
  {
   "cell_type": "code",
   "execution_count": 3,
   "metadata": {
    "scrolled": true
   },
   "outputs": [
    {
     "data": {
      "text/html": [
       "<div>\n",
       "<style scoped>\n",
       "    .dataframe tbody tr th:only-of-type {\n",
       "        vertical-align: middle;\n",
       "    }\n",
       "\n",
       "    .dataframe tbody tr th {\n",
       "        vertical-align: top;\n",
       "    }\n",
       "\n",
       "    .dataframe thead th {\n",
       "        text-align: right;\n",
       "    }\n",
       "</style>\n",
       "<table border=\"1\" class=\"dataframe\">\n",
       "  <thead>\n",
       "    <tr style=\"text-align: right;\">\n",
       "      <th></th>\n",
       "      <th>total_images\\tlast_price\\ttotal_area\\tfirst_day_exposition\\trooms\\tceiling_height\\tfloors_total\\tliving_area\\tfloor\\tis_apartment\\tstudio\\topen_plan\\tkitchen_area\\tbalcony\\tlocality_name\\tairports_nearest\\tcityCenters_nearest\\tparks_around3000\\tparks_nearest\\tponds_around3000\\tponds_nearest\\tdays_exposition</th>\n",
       "    </tr>\n",
       "  </thead>\n",
       "  <tbody>\n",
       "    <tr>\n",
       "      <th>0</th>\n",
       "      <td>20\\t13000000.0\\t108.0\\t2019-03-07T00:00:00\\t3\\...</td>\n",
       "    </tr>\n",
       "    <tr>\n",
       "      <th>1</th>\n",
       "      <td>7\\t3350000.0\\t40.4\\t2018-12-04T00:00:00\\t1\\t\\t...</td>\n",
       "    </tr>\n",
       "    <tr>\n",
       "      <th>2</th>\n",
       "      <td>10\\t5196000.0\\t56.0\\t2015-08-20T00:00:00\\t2\\t\\...</td>\n",
       "    </tr>\n",
       "    <tr>\n",
       "      <th>3</th>\n",
       "      <td>0\\t64900000.0\\t159.0\\t2015-07-24T00:00:00\\t3\\t...</td>\n",
       "    </tr>\n",
       "    <tr>\n",
       "      <th>4</th>\n",
       "      <td>2\\t10000000.0\\t100.0\\t2018-06-19T00:00:00\\t2\\t...</td>\n",
       "    </tr>\n",
       "    <tr>\n",
       "      <th>5</th>\n",
       "      <td>10\\t2890000.0\\t30.4\\t2018-09-10T00:00:00\\t1\\t\\...</td>\n",
       "    </tr>\n",
       "    <tr>\n",
       "      <th>6</th>\n",
       "      <td>6\\t3700000.0\\t37.3\\t2017-11-02T00:00:00\\t1\\t\\t...</td>\n",
       "    </tr>\n",
       "    <tr>\n",
       "      <th>7</th>\n",
       "      <td>5\\t7915000.0\\t71.6\\t2019-04-18T00:00:00\\t2\\t\\t...</td>\n",
       "    </tr>\n",
       "    <tr>\n",
       "      <th>8</th>\n",
       "      <td>20\\t2900000.0\\t33.16\\t2018-05-23T00:00:00\\t1\\t...</td>\n",
       "    </tr>\n",
       "    <tr>\n",
       "      <th>9</th>\n",
       "      <td>18\\t5400000.0\\t61.0\\t2017-02-26T00:00:00\\t3\\t2...</td>\n",
       "    </tr>\n",
       "    <tr>\n",
       "      <th>10</th>\n",
       "      <td>5\\t5050000.0\\t39.6\\t2017-11-16T00:00:00\\t1\\t2....</td>\n",
       "    </tr>\n",
       "    <tr>\n",
       "      <th>11</th>\n",
       "      <td>9\\t3300000.0\\t44.0\\t2018-08-27T00:00:00\\t2\\t\\t...</td>\n",
       "    </tr>\n",
       "    <tr>\n",
       "      <th>12</th>\n",
       "      <td>10\\t3890000.0\\t54.0\\t2016-06-30T00:00:00\\t2\\t\\...</td>\n",
       "    </tr>\n",
       "    <tr>\n",
       "      <th>13</th>\n",
       "      <td>20\\t3550000.0\\t42.8\\t2017-07-01T00:00:00\\t2\\t2...</td>\n",
       "    </tr>\n",
       "    <tr>\n",
       "      <th>14</th>\n",
       "      <td>1\\t4400000.0\\t36.0\\t2016-06-23T00:00:00\\t1\\t\\t...</td>\n",
       "    </tr>\n",
       "  </tbody>\n",
       "</table>\n",
       "</div>"
      ],
      "text/plain": [
       "   total_images\\tlast_price\\ttotal_area\\tfirst_day_exposition\\trooms\\tceiling_height\\tfloors_total\\tliving_area\\tfloor\\tis_apartment\\tstudio\\topen_plan\\tkitchen_area\\tbalcony\\tlocality_name\\tairports_nearest\\tcityCenters_nearest\\tparks_around3000\\tparks_nearest\\tponds_around3000\\tponds_nearest\\tdays_exposition\n",
       "0   20\\t13000000.0\\t108.0\\t2019-03-07T00:00:00\\t3\\...                                                                                                                                                                                                                                                                  \n",
       "1   7\\t3350000.0\\t40.4\\t2018-12-04T00:00:00\\t1\\t\\t...                                                                                                                                                                                                                                                                  \n",
       "2   10\\t5196000.0\\t56.0\\t2015-08-20T00:00:00\\t2\\t\\...                                                                                                                                                                                                                                                                  \n",
       "3   0\\t64900000.0\\t159.0\\t2015-07-24T00:00:00\\t3\\t...                                                                                                                                                                                                                                                                  \n",
       "4   2\\t10000000.0\\t100.0\\t2018-06-19T00:00:00\\t2\\t...                                                                                                                                                                                                                                                                  \n",
       "5   10\\t2890000.0\\t30.4\\t2018-09-10T00:00:00\\t1\\t\\...                                                                                                                                                                                                                                                                  \n",
       "6   6\\t3700000.0\\t37.3\\t2017-11-02T00:00:00\\t1\\t\\t...                                                                                                                                                                                                                                                                  \n",
       "7   5\\t7915000.0\\t71.6\\t2019-04-18T00:00:00\\t2\\t\\t...                                                                                                                                                                                                                                                                  \n",
       "8   20\\t2900000.0\\t33.16\\t2018-05-23T00:00:00\\t1\\t...                                                                                                                                                                                                                                                                  \n",
       "9   18\\t5400000.0\\t61.0\\t2017-02-26T00:00:00\\t3\\t2...                                                                                                                                                                                                                                                                  \n",
       "10  5\\t5050000.0\\t39.6\\t2017-11-16T00:00:00\\t1\\t2....                                                                                                                                                                                                                                                                  \n",
       "11  9\\t3300000.0\\t44.0\\t2018-08-27T00:00:00\\t2\\t\\t...                                                                                                                                                                                                                                                                  \n",
       "12  10\\t3890000.0\\t54.0\\t2016-06-30T00:00:00\\t2\\t\\...                                                                                                                                                                                                                                                                  \n",
       "13  20\\t3550000.0\\t42.8\\t2017-07-01T00:00:00\\t2\\t2...                                                                                                                                                                                                                                                                  \n",
       "14  1\\t4400000.0\\t36.0\\t2016-06-23T00:00:00\\t1\\t\\t...                                                                                                                                                                                                                                                                  "
      ]
     },
     "execution_count": 3,
     "metadata": {},
     "output_type": "execute_result"
    }
   ],
   "source": [
    "#Выведим первые 20 строчек датафрейма data на экран\n",
    "data.head(15)"
   ]
  },
  {
   "cell_type": "markdown",
   "metadata": {},
   "source": [
    "Данные склеились в одну строку вместо того, чтобы разбиться по колонкам. таблица открывается не корректно, по ней невозможно изучить данные"
   ]
  },
  {
   "cell_type": "code",
   "execution_count": 4,
   "metadata": {
    "scrolled": true
   },
   "outputs": [
    {
     "data": {
      "text/html": [
       "<div>\n",
       "<style scoped>\n",
       "    .dataframe tbody tr th:only-of-type {\n",
       "        vertical-align: middle;\n",
       "    }\n",
       "\n",
       "    .dataframe tbody tr th {\n",
       "        vertical-align: top;\n",
       "    }\n",
       "\n",
       "    .dataframe thead th {\n",
       "        text-align: right;\n",
       "    }\n",
       "</style>\n",
       "<table border=\"1\" class=\"dataframe\">\n",
       "  <thead>\n",
       "    <tr style=\"text-align: right;\">\n",
       "      <th></th>\n",
       "      <th>total_images</th>\n",
       "      <th>last_price</th>\n",
       "      <th>total_area</th>\n",
       "      <th>first_day_exposition</th>\n",
       "      <th>rooms</th>\n",
       "      <th>ceiling_height</th>\n",
       "      <th>floors_total</th>\n",
       "      <th>living_area</th>\n",
       "      <th>floor</th>\n",
       "      <th>is_apartment</th>\n",
       "      <th>...</th>\n",
       "      <th>kitchen_area</th>\n",
       "      <th>balcony</th>\n",
       "      <th>locality_name</th>\n",
       "      <th>airports_nearest</th>\n",
       "      <th>cityCenters_nearest</th>\n",
       "      <th>parks_around3000</th>\n",
       "      <th>parks_nearest</th>\n",
       "      <th>ponds_around3000</th>\n",
       "      <th>ponds_nearest</th>\n",
       "      <th>days_exposition</th>\n",
       "    </tr>\n",
       "  </thead>\n",
       "  <tbody>\n",
       "    <tr>\n",
       "      <th>0</th>\n",
       "      <td>20</td>\n",
       "      <td>13000000.0</td>\n",
       "      <td>108.00</td>\n",
       "      <td>2019-03-07T00:00:00</td>\n",
       "      <td>3</td>\n",
       "      <td>2.70</td>\n",
       "      <td>16.0</td>\n",
       "      <td>51.00</td>\n",
       "      <td>8</td>\n",
       "      <td>NaN</td>\n",
       "      <td>...</td>\n",
       "      <td>25.00</td>\n",
       "      <td>NaN</td>\n",
       "      <td>Санкт-Петербург</td>\n",
       "      <td>18863.0</td>\n",
       "      <td>16028.0</td>\n",
       "      <td>1.0</td>\n",
       "      <td>482.0</td>\n",
       "      <td>2.0</td>\n",
       "      <td>755.0</td>\n",
       "      <td>NaN</td>\n",
       "    </tr>\n",
       "    <tr>\n",
       "      <th>1</th>\n",
       "      <td>7</td>\n",
       "      <td>3350000.0</td>\n",
       "      <td>40.40</td>\n",
       "      <td>2018-12-04T00:00:00</td>\n",
       "      <td>1</td>\n",
       "      <td>NaN</td>\n",
       "      <td>11.0</td>\n",
       "      <td>18.60</td>\n",
       "      <td>1</td>\n",
       "      <td>NaN</td>\n",
       "      <td>...</td>\n",
       "      <td>11.00</td>\n",
       "      <td>2.0</td>\n",
       "      <td>посёлок Шушары</td>\n",
       "      <td>12817.0</td>\n",
       "      <td>18603.0</td>\n",
       "      <td>0.0</td>\n",
       "      <td>NaN</td>\n",
       "      <td>0.0</td>\n",
       "      <td>NaN</td>\n",
       "      <td>81.0</td>\n",
       "    </tr>\n",
       "    <tr>\n",
       "      <th>2</th>\n",
       "      <td>10</td>\n",
       "      <td>5196000.0</td>\n",
       "      <td>56.00</td>\n",
       "      <td>2015-08-20T00:00:00</td>\n",
       "      <td>2</td>\n",
       "      <td>NaN</td>\n",
       "      <td>5.0</td>\n",
       "      <td>34.30</td>\n",
       "      <td>4</td>\n",
       "      <td>NaN</td>\n",
       "      <td>...</td>\n",
       "      <td>8.30</td>\n",
       "      <td>0.0</td>\n",
       "      <td>Санкт-Петербург</td>\n",
       "      <td>21741.0</td>\n",
       "      <td>13933.0</td>\n",
       "      <td>1.0</td>\n",
       "      <td>90.0</td>\n",
       "      <td>2.0</td>\n",
       "      <td>574.0</td>\n",
       "      <td>558.0</td>\n",
       "    </tr>\n",
       "    <tr>\n",
       "      <th>3</th>\n",
       "      <td>0</td>\n",
       "      <td>64900000.0</td>\n",
       "      <td>159.00</td>\n",
       "      <td>2015-07-24T00:00:00</td>\n",
       "      <td>3</td>\n",
       "      <td>NaN</td>\n",
       "      <td>14.0</td>\n",
       "      <td>NaN</td>\n",
       "      <td>9</td>\n",
       "      <td>NaN</td>\n",
       "      <td>...</td>\n",
       "      <td>NaN</td>\n",
       "      <td>0.0</td>\n",
       "      <td>Санкт-Петербург</td>\n",
       "      <td>28098.0</td>\n",
       "      <td>6800.0</td>\n",
       "      <td>2.0</td>\n",
       "      <td>84.0</td>\n",
       "      <td>3.0</td>\n",
       "      <td>234.0</td>\n",
       "      <td>424.0</td>\n",
       "    </tr>\n",
       "    <tr>\n",
       "      <th>4</th>\n",
       "      <td>2</td>\n",
       "      <td>10000000.0</td>\n",
       "      <td>100.00</td>\n",
       "      <td>2018-06-19T00:00:00</td>\n",
       "      <td>2</td>\n",
       "      <td>3.03</td>\n",
       "      <td>14.0</td>\n",
       "      <td>32.00</td>\n",
       "      <td>13</td>\n",
       "      <td>NaN</td>\n",
       "      <td>...</td>\n",
       "      <td>41.00</td>\n",
       "      <td>NaN</td>\n",
       "      <td>Санкт-Петербург</td>\n",
       "      <td>31856.0</td>\n",
       "      <td>8098.0</td>\n",
       "      <td>2.0</td>\n",
       "      <td>112.0</td>\n",
       "      <td>1.0</td>\n",
       "      <td>48.0</td>\n",
       "      <td>121.0</td>\n",
       "    </tr>\n",
       "    <tr>\n",
       "      <th>5</th>\n",
       "      <td>10</td>\n",
       "      <td>2890000.0</td>\n",
       "      <td>30.40</td>\n",
       "      <td>2018-09-10T00:00:00</td>\n",
       "      <td>1</td>\n",
       "      <td>NaN</td>\n",
       "      <td>12.0</td>\n",
       "      <td>14.40</td>\n",
       "      <td>5</td>\n",
       "      <td>NaN</td>\n",
       "      <td>...</td>\n",
       "      <td>9.10</td>\n",
       "      <td>NaN</td>\n",
       "      <td>городской посёлок Янино-1</td>\n",
       "      <td>NaN</td>\n",
       "      <td>NaN</td>\n",
       "      <td>NaN</td>\n",
       "      <td>NaN</td>\n",
       "      <td>NaN</td>\n",
       "      <td>NaN</td>\n",
       "      <td>55.0</td>\n",
       "    </tr>\n",
       "    <tr>\n",
       "      <th>6</th>\n",
       "      <td>6</td>\n",
       "      <td>3700000.0</td>\n",
       "      <td>37.30</td>\n",
       "      <td>2017-11-02T00:00:00</td>\n",
       "      <td>1</td>\n",
       "      <td>NaN</td>\n",
       "      <td>26.0</td>\n",
       "      <td>10.60</td>\n",
       "      <td>6</td>\n",
       "      <td>NaN</td>\n",
       "      <td>...</td>\n",
       "      <td>14.40</td>\n",
       "      <td>1.0</td>\n",
       "      <td>посёлок Парголово</td>\n",
       "      <td>52996.0</td>\n",
       "      <td>19143.0</td>\n",
       "      <td>0.0</td>\n",
       "      <td>NaN</td>\n",
       "      <td>0.0</td>\n",
       "      <td>NaN</td>\n",
       "      <td>155.0</td>\n",
       "    </tr>\n",
       "    <tr>\n",
       "      <th>7</th>\n",
       "      <td>5</td>\n",
       "      <td>7915000.0</td>\n",
       "      <td>71.60</td>\n",
       "      <td>2019-04-18T00:00:00</td>\n",
       "      <td>2</td>\n",
       "      <td>NaN</td>\n",
       "      <td>24.0</td>\n",
       "      <td>NaN</td>\n",
       "      <td>22</td>\n",
       "      <td>NaN</td>\n",
       "      <td>...</td>\n",
       "      <td>18.90</td>\n",
       "      <td>2.0</td>\n",
       "      <td>Санкт-Петербург</td>\n",
       "      <td>23982.0</td>\n",
       "      <td>11634.0</td>\n",
       "      <td>0.0</td>\n",
       "      <td>NaN</td>\n",
       "      <td>0.0</td>\n",
       "      <td>NaN</td>\n",
       "      <td>NaN</td>\n",
       "    </tr>\n",
       "    <tr>\n",
       "      <th>8</th>\n",
       "      <td>20</td>\n",
       "      <td>2900000.0</td>\n",
       "      <td>33.16</td>\n",
       "      <td>2018-05-23T00:00:00</td>\n",
       "      <td>1</td>\n",
       "      <td>NaN</td>\n",
       "      <td>27.0</td>\n",
       "      <td>15.43</td>\n",
       "      <td>26</td>\n",
       "      <td>NaN</td>\n",
       "      <td>...</td>\n",
       "      <td>8.81</td>\n",
       "      <td>NaN</td>\n",
       "      <td>посёлок Мурино</td>\n",
       "      <td>NaN</td>\n",
       "      <td>NaN</td>\n",
       "      <td>NaN</td>\n",
       "      <td>NaN</td>\n",
       "      <td>NaN</td>\n",
       "      <td>NaN</td>\n",
       "      <td>189.0</td>\n",
       "    </tr>\n",
       "    <tr>\n",
       "      <th>9</th>\n",
       "      <td>18</td>\n",
       "      <td>5400000.0</td>\n",
       "      <td>61.00</td>\n",
       "      <td>2017-02-26T00:00:00</td>\n",
       "      <td>3</td>\n",
       "      <td>2.50</td>\n",
       "      <td>9.0</td>\n",
       "      <td>43.60</td>\n",
       "      <td>7</td>\n",
       "      <td>NaN</td>\n",
       "      <td>...</td>\n",
       "      <td>6.50</td>\n",
       "      <td>2.0</td>\n",
       "      <td>Санкт-Петербург</td>\n",
       "      <td>50898.0</td>\n",
       "      <td>15008.0</td>\n",
       "      <td>0.0</td>\n",
       "      <td>NaN</td>\n",
       "      <td>0.0</td>\n",
       "      <td>NaN</td>\n",
       "      <td>289.0</td>\n",
       "    </tr>\n",
       "    <tr>\n",
       "      <th>10</th>\n",
       "      <td>5</td>\n",
       "      <td>5050000.0</td>\n",
       "      <td>39.60</td>\n",
       "      <td>2017-11-16T00:00:00</td>\n",
       "      <td>1</td>\n",
       "      <td>2.67</td>\n",
       "      <td>12.0</td>\n",
       "      <td>20.30</td>\n",
       "      <td>3</td>\n",
       "      <td>NaN</td>\n",
       "      <td>...</td>\n",
       "      <td>8.50</td>\n",
       "      <td>NaN</td>\n",
       "      <td>Санкт-Петербург</td>\n",
       "      <td>38357.0</td>\n",
       "      <td>13878.0</td>\n",
       "      <td>1.0</td>\n",
       "      <td>310.0</td>\n",
       "      <td>2.0</td>\n",
       "      <td>553.0</td>\n",
       "      <td>137.0</td>\n",
       "    </tr>\n",
       "    <tr>\n",
       "      <th>11</th>\n",
       "      <td>9</td>\n",
       "      <td>3300000.0</td>\n",
       "      <td>44.00</td>\n",
       "      <td>2018-08-27T00:00:00</td>\n",
       "      <td>2</td>\n",
       "      <td>NaN</td>\n",
       "      <td>5.0</td>\n",
       "      <td>31.00</td>\n",
       "      <td>4</td>\n",
       "      <td>False</td>\n",
       "      <td>...</td>\n",
       "      <td>6.00</td>\n",
       "      <td>1.0</td>\n",
       "      <td>Ломоносов</td>\n",
       "      <td>48252.0</td>\n",
       "      <td>51677.0</td>\n",
       "      <td>0.0</td>\n",
       "      <td>NaN</td>\n",
       "      <td>0.0</td>\n",
       "      <td>NaN</td>\n",
       "      <td>7.0</td>\n",
       "    </tr>\n",
       "    <tr>\n",
       "      <th>12</th>\n",
       "      <td>10</td>\n",
       "      <td>3890000.0</td>\n",
       "      <td>54.00</td>\n",
       "      <td>2016-06-30T00:00:00</td>\n",
       "      <td>2</td>\n",
       "      <td>NaN</td>\n",
       "      <td>5.0</td>\n",
       "      <td>30.00</td>\n",
       "      <td>5</td>\n",
       "      <td>NaN</td>\n",
       "      <td>...</td>\n",
       "      <td>9.00</td>\n",
       "      <td>0.0</td>\n",
       "      <td>Сертолово</td>\n",
       "      <td>NaN</td>\n",
       "      <td>NaN</td>\n",
       "      <td>NaN</td>\n",
       "      <td>NaN</td>\n",
       "      <td>NaN</td>\n",
       "      <td>NaN</td>\n",
       "      <td>90.0</td>\n",
       "    </tr>\n",
       "    <tr>\n",
       "      <th>13</th>\n",
       "      <td>20</td>\n",
       "      <td>3550000.0</td>\n",
       "      <td>42.80</td>\n",
       "      <td>2017-07-01T00:00:00</td>\n",
       "      <td>2</td>\n",
       "      <td>2.56</td>\n",
       "      <td>5.0</td>\n",
       "      <td>27.00</td>\n",
       "      <td>5</td>\n",
       "      <td>NaN</td>\n",
       "      <td>...</td>\n",
       "      <td>5.20</td>\n",
       "      <td>1.0</td>\n",
       "      <td>Петергоф</td>\n",
       "      <td>37868.0</td>\n",
       "      <td>33058.0</td>\n",
       "      <td>1.0</td>\n",
       "      <td>294.0</td>\n",
       "      <td>3.0</td>\n",
       "      <td>298.0</td>\n",
       "      <td>366.0</td>\n",
       "    </tr>\n",
       "    <tr>\n",
       "      <th>14</th>\n",
       "      <td>1</td>\n",
       "      <td>4400000.0</td>\n",
       "      <td>36.00</td>\n",
       "      <td>2016-06-23T00:00:00</td>\n",
       "      <td>1</td>\n",
       "      <td>NaN</td>\n",
       "      <td>6.0</td>\n",
       "      <td>17.00</td>\n",
       "      <td>1</td>\n",
       "      <td>NaN</td>\n",
       "      <td>...</td>\n",
       "      <td>8.00</td>\n",
       "      <td>0.0</td>\n",
       "      <td>Пушкин</td>\n",
       "      <td>20782.0</td>\n",
       "      <td>30759.0</td>\n",
       "      <td>0.0</td>\n",
       "      <td>NaN</td>\n",
       "      <td>1.0</td>\n",
       "      <td>96.0</td>\n",
       "      <td>203.0</td>\n",
       "    </tr>\n",
       "  </tbody>\n",
       "</table>\n",
       "<p>15 rows × 22 columns</p>\n",
       "</div>"
      ],
      "text/plain": [
       "    total_images  last_price  total_area first_day_exposition  rooms  \\\n",
       "0             20  13000000.0      108.00  2019-03-07T00:00:00      3   \n",
       "1              7   3350000.0       40.40  2018-12-04T00:00:00      1   \n",
       "2             10   5196000.0       56.00  2015-08-20T00:00:00      2   \n",
       "3              0  64900000.0      159.00  2015-07-24T00:00:00      3   \n",
       "4              2  10000000.0      100.00  2018-06-19T00:00:00      2   \n",
       "5             10   2890000.0       30.40  2018-09-10T00:00:00      1   \n",
       "6              6   3700000.0       37.30  2017-11-02T00:00:00      1   \n",
       "7              5   7915000.0       71.60  2019-04-18T00:00:00      2   \n",
       "8             20   2900000.0       33.16  2018-05-23T00:00:00      1   \n",
       "9             18   5400000.0       61.00  2017-02-26T00:00:00      3   \n",
       "10             5   5050000.0       39.60  2017-11-16T00:00:00      1   \n",
       "11             9   3300000.0       44.00  2018-08-27T00:00:00      2   \n",
       "12            10   3890000.0       54.00  2016-06-30T00:00:00      2   \n",
       "13            20   3550000.0       42.80  2017-07-01T00:00:00      2   \n",
       "14             1   4400000.0       36.00  2016-06-23T00:00:00      1   \n",
       "\n",
       "    ceiling_height  floors_total  living_area  floor is_apartment  ...  \\\n",
       "0             2.70          16.0        51.00      8          NaN  ...   \n",
       "1              NaN          11.0        18.60      1          NaN  ...   \n",
       "2              NaN           5.0        34.30      4          NaN  ...   \n",
       "3              NaN          14.0          NaN      9          NaN  ...   \n",
       "4             3.03          14.0        32.00     13          NaN  ...   \n",
       "5              NaN          12.0        14.40      5          NaN  ...   \n",
       "6              NaN          26.0        10.60      6          NaN  ...   \n",
       "7              NaN          24.0          NaN     22          NaN  ...   \n",
       "8              NaN          27.0        15.43     26          NaN  ...   \n",
       "9             2.50           9.0        43.60      7          NaN  ...   \n",
       "10            2.67          12.0        20.30      3          NaN  ...   \n",
       "11             NaN           5.0        31.00      4        False  ...   \n",
       "12             NaN           5.0        30.00      5          NaN  ...   \n",
       "13            2.56           5.0        27.00      5          NaN  ...   \n",
       "14             NaN           6.0        17.00      1          NaN  ...   \n",
       "\n",
       "    kitchen_area  balcony              locality_name  airports_nearest  \\\n",
       "0          25.00      NaN            Санкт-Петербург           18863.0   \n",
       "1          11.00      2.0             посёлок Шушары           12817.0   \n",
       "2           8.30      0.0            Санкт-Петербург           21741.0   \n",
       "3            NaN      0.0            Санкт-Петербург           28098.0   \n",
       "4          41.00      NaN            Санкт-Петербург           31856.0   \n",
       "5           9.10      NaN  городской посёлок Янино-1               NaN   \n",
       "6          14.40      1.0          посёлок Парголово           52996.0   \n",
       "7          18.90      2.0            Санкт-Петербург           23982.0   \n",
       "8           8.81      NaN             посёлок Мурино               NaN   \n",
       "9           6.50      2.0            Санкт-Петербург           50898.0   \n",
       "10          8.50      NaN            Санкт-Петербург           38357.0   \n",
       "11          6.00      1.0                  Ломоносов           48252.0   \n",
       "12          9.00      0.0                  Сертолово               NaN   \n",
       "13          5.20      1.0                   Петергоф           37868.0   \n",
       "14          8.00      0.0                     Пушкин           20782.0   \n",
       "\n",
       "   cityCenters_nearest  parks_around3000  parks_nearest  ponds_around3000  \\\n",
       "0              16028.0               1.0          482.0               2.0   \n",
       "1              18603.0               0.0            NaN               0.0   \n",
       "2              13933.0               1.0           90.0               2.0   \n",
       "3               6800.0               2.0           84.0               3.0   \n",
       "4               8098.0               2.0          112.0               1.0   \n",
       "5                  NaN               NaN            NaN               NaN   \n",
       "6              19143.0               0.0            NaN               0.0   \n",
       "7              11634.0               0.0            NaN               0.0   \n",
       "8                  NaN               NaN            NaN               NaN   \n",
       "9              15008.0               0.0            NaN               0.0   \n",
       "10             13878.0               1.0          310.0               2.0   \n",
       "11             51677.0               0.0            NaN               0.0   \n",
       "12                 NaN               NaN            NaN               NaN   \n",
       "13             33058.0               1.0          294.0               3.0   \n",
       "14             30759.0               0.0            NaN               1.0   \n",
       "\n",
       "    ponds_nearest  days_exposition  \n",
       "0           755.0              NaN  \n",
       "1             NaN             81.0  \n",
       "2           574.0            558.0  \n",
       "3           234.0            424.0  \n",
       "4            48.0            121.0  \n",
       "5             NaN             55.0  \n",
       "6             NaN            155.0  \n",
       "7             NaN              NaN  \n",
       "8             NaN            189.0  \n",
       "9             NaN            289.0  \n",
       "10          553.0            137.0  \n",
       "11            NaN              7.0  \n",
       "12            NaN             90.0  \n",
       "13          298.0            366.0  \n",
       "14           96.0            203.0  \n",
       "\n",
       "[15 rows x 22 columns]"
      ]
     },
     "execution_count": 4,
     "metadata": {},
     "output_type": "execute_result"
    }
   ],
   "source": [
    "#Поставим разделитель sep='\\t' и посмотрим первые 15 строк таблицы\n",
    "\n",
    "data = pd.read_csv('/datasets/real_estate_data.csv', sep='\\t')\n",
    "\n",
    "data.head(15)"
   ]
  },
  {
   "cell_type": "markdown",
   "metadata": {},
   "source": [
    "Даные открылись корректно. Но часть столбцов не отображаются. Настроим параметр пандас по отображению количества столбцов в датафрейме"
   ]
  },
  {
   "cell_type": "code",
   "execution_count": 5,
   "metadata": {},
   "outputs": [
    {
     "data": {
      "text/html": [
       "<div>\n",
       "<style scoped>\n",
       "    .dataframe tbody tr th:only-of-type {\n",
       "        vertical-align: middle;\n",
       "    }\n",
       "\n",
       "    .dataframe tbody tr th {\n",
       "        vertical-align: top;\n",
       "    }\n",
       "\n",
       "    .dataframe thead th {\n",
       "        text-align: right;\n",
       "    }\n",
       "</style>\n",
       "<table border=\"1\" class=\"dataframe\">\n",
       "  <thead>\n",
       "    <tr style=\"text-align: right;\">\n",
       "      <th></th>\n",
       "      <th>total_images</th>\n",
       "      <th>last_price</th>\n",
       "      <th>total_area</th>\n",
       "      <th>first_day_exposition</th>\n",
       "      <th>rooms</th>\n",
       "      <th>ceiling_height</th>\n",
       "      <th>floors_total</th>\n",
       "      <th>living_area</th>\n",
       "      <th>floor</th>\n",
       "      <th>is_apartment</th>\n",
       "      <th>studio</th>\n",
       "      <th>open_plan</th>\n",
       "      <th>kitchen_area</th>\n",
       "      <th>balcony</th>\n",
       "      <th>locality_name</th>\n",
       "      <th>airports_nearest</th>\n",
       "      <th>cityCenters_nearest</th>\n",
       "      <th>parks_around3000</th>\n",
       "      <th>parks_nearest</th>\n",
       "      <th>ponds_around3000</th>\n",
       "      <th>ponds_nearest</th>\n",
       "      <th>days_exposition</th>\n",
       "    </tr>\n",
       "  </thead>\n",
       "  <tbody>\n",
       "    <tr>\n",
       "      <th>0</th>\n",
       "      <td>20</td>\n",
       "      <td>13000000.0</td>\n",
       "      <td>108.00</td>\n",
       "      <td>2019-03-07T00:00:00</td>\n",
       "      <td>3</td>\n",
       "      <td>2.70</td>\n",
       "      <td>16.0</td>\n",
       "      <td>51.00</td>\n",
       "      <td>8</td>\n",
       "      <td>NaN</td>\n",
       "      <td>False</td>\n",
       "      <td>False</td>\n",
       "      <td>25.00</td>\n",
       "      <td>NaN</td>\n",
       "      <td>Санкт-Петербург</td>\n",
       "      <td>18863.0</td>\n",
       "      <td>16028.0</td>\n",
       "      <td>1.0</td>\n",
       "      <td>482.0</td>\n",
       "      <td>2.0</td>\n",
       "      <td>755.0</td>\n",
       "      <td>NaN</td>\n",
       "    </tr>\n",
       "    <tr>\n",
       "      <th>1</th>\n",
       "      <td>7</td>\n",
       "      <td>3350000.0</td>\n",
       "      <td>40.40</td>\n",
       "      <td>2018-12-04T00:00:00</td>\n",
       "      <td>1</td>\n",
       "      <td>NaN</td>\n",
       "      <td>11.0</td>\n",
       "      <td>18.60</td>\n",
       "      <td>1</td>\n",
       "      <td>NaN</td>\n",
       "      <td>False</td>\n",
       "      <td>False</td>\n",
       "      <td>11.00</td>\n",
       "      <td>2.0</td>\n",
       "      <td>посёлок Шушары</td>\n",
       "      <td>12817.0</td>\n",
       "      <td>18603.0</td>\n",
       "      <td>0.0</td>\n",
       "      <td>NaN</td>\n",
       "      <td>0.0</td>\n",
       "      <td>NaN</td>\n",
       "      <td>81.0</td>\n",
       "    </tr>\n",
       "    <tr>\n",
       "      <th>2</th>\n",
       "      <td>10</td>\n",
       "      <td>5196000.0</td>\n",
       "      <td>56.00</td>\n",
       "      <td>2015-08-20T00:00:00</td>\n",
       "      <td>2</td>\n",
       "      <td>NaN</td>\n",
       "      <td>5.0</td>\n",
       "      <td>34.30</td>\n",
       "      <td>4</td>\n",
       "      <td>NaN</td>\n",
       "      <td>False</td>\n",
       "      <td>False</td>\n",
       "      <td>8.30</td>\n",
       "      <td>0.0</td>\n",
       "      <td>Санкт-Петербург</td>\n",
       "      <td>21741.0</td>\n",
       "      <td>13933.0</td>\n",
       "      <td>1.0</td>\n",
       "      <td>90.0</td>\n",
       "      <td>2.0</td>\n",
       "      <td>574.0</td>\n",
       "      <td>558.0</td>\n",
       "    </tr>\n",
       "    <tr>\n",
       "      <th>3</th>\n",
       "      <td>0</td>\n",
       "      <td>64900000.0</td>\n",
       "      <td>159.00</td>\n",
       "      <td>2015-07-24T00:00:00</td>\n",
       "      <td>3</td>\n",
       "      <td>NaN</td>\n",
       "      <td>14.0</td>\n",
       "      <td>NaN</td>\n",
       "      <td>9</td>\n",
       "      <td>NaN</td>\n",
       "      <td>False</td>\n",
       "      <td>False</td>\n",
       "      <td>NaN</td>\n",
       "      <td>0.0</td>\n",
       "      <td>Санкт-Петербург</td>\n",
       "      <td>28098.0</td>\n",
       "      <td>6800.0</td>\n",
       "      <td>2.0</td>\n",
       "      <td>84.0</td>\n",
       "      <td>3.0</td>\n",
       "      <td>234.0</td>\n",
       "      <td>424.0</td>\n",
       "    </tr>\n",
       "    <tr>\n",
       "      <th>4</th>\n",
       "      <td>2</td>\n",
       "      <td>10000000.0</td>\n",
       "      <td>100.00</td>\n",
       "      <td>2018-06-19T00:00:00</td>\n",
       "      <td>2</td>\n",
       "      <td>3.03</td>\n",
       "      <td>14.0</td>\n",
       "      <td>32.00</td>\n",
       "      <td>13</td>\n",
       "      <td>NaN</td>\n",
       "      <td>False</td>\n",
       "      <td>False</td>\n",
       "      <td>41.00</td>\n",
       "      <td>NaN</td>\n",
       "      <td>Санкт-Петербург</td>\n",
       "      <td>31856.0</td>\n",
       "      <td>8098.0</td>\n",
       "      <td>2.0</td>\n",
       "      <td>112.0</td>\n",
       "      <td>1.0</td>\n",
       "      <td>48.0</td>\n",
       "      <td>121.0</td>\n",
       "    </tr>\n",
       "    <tr>\n",
       "      <th>5</th>\n",
       "      <td>10</td>\n",
       "      <td>2890000.0</td>\n",
       "      <td>30.40</td>\n",
       "      <td>2018-09-10T00:00:00</td>\n",
       "      <td>1</td>\n",
       "      <td>NaN</td>\n",
       "      <td>12.0</td>\n",
       "      <td>14.40</td>\n",
       "      <td>5</td>\n",
       "      <td>NaN</td>\n",
       "      <td>False</td>\n",
       "      <td>False</td>\n",
       "      <td>9.10</td>\n",
       "      <td>NaN</td>\n",
       "      <td>городской посёлок Янино-1</td>\n",
       "      <td>NaN</td>\n",
       "      <td>NaN</td>\n",
       "      <td>NaN</td>\n",
       "      <td>NaN</td>\n",
       "      <td>NaN</td>\n",
       "      <td>NaN</td>\n",
       "      <td>55.0</td>\n",
       "    </tr>\n",
       "    <tr>\n",
       "      <th>6</th>\n",
       "      <td>6</td>\n",
       "      <td>3700000.0</td>\n",
       "      <td>37.30</td>\n",
       "      <td>2017-11-02T00:00:00</td>\n",
       "      <td>1</td>\n",
       "      <td>NaN</td>\n",
       "      <td>26.0</td>\n",
       "      <td>10.60</td>\n",
       "      <td>6</td>\n",
       "      <td>NaN</td>\n",
       "      <td>False</td>\n",
       "      <td>False</td>\n",
       "      <td>14.40</td>\n",
       "      <td>1.0</td>\n",
       "      <td>посёлок Парголово</td>\n",
       "      <td>52996.0</td>\n",
       "      <td>19143.0</td>\n",
       "      <td>0.0</td>\n",
       "      <td>NaN</td>\n",
       "      <td>0.0</td>\n",
       "      <td>NaN</td>\n",
       "      <td>155.0</td>\n",
       "    </tr>\n",
       "    <tr>\n",
       "      <th>7</th>\n",
       "      <td>5</td>\n",
       "      <td>7915000.0</td>\n",
       "      <td>71.60</td>\n",
       "      <td>2019-04-18T00:00:00</td>\n",
       "      <td>2</td>\n",
       "      <td>NaN</td>\n",
       "      <td>24.0</td>\n",
       "      <td>NaN</td>\n",
       "      <td>22</td>\n",
       "      <td>NaN</td>\n",
       "      <td>False</td>\n",
       "      <td>False</td>\n",
       "      <td>18.90</td>\n",
       "      <td>2.0</td>\n",
       "      <td>Санкт-Петербург</td>\n",
       "      <td>23982.0</td>\n",
       "      <td>11634.0</td>\n",
       "      <td>0.0</td>\n",
       "      <td>NaN</td>\n",
       "      <td>0.0</td>\n",
       "      <td>NaN</td>\n",
       "      <td>NaN</td>\n",
       "    </tr>\n",
       "    <tr>\n",
       "      <th>8</th>\n",
       "      <td>20</td>\n",
       "      <td>2900000.0</td>\n",
       "      <td>33.16</td>\n",
       "      <td>2018-05-23T00:00:00</td>\n",
       "      <td>1</td>\n",
       "      <td>NaN</td>\n",
       "      <td>27.0</td>\n",
       "      <td>15.43</td>\n",
       "      <td>26</td>\n",
       "      <td>NaN</td>\n",
       "      <td>False</td>\n",
       "      <td>False</td>\n",
       "      <td>8.81</td>\n",
       "      <td>NaN</td>\n",
       "      <td>посёлок Мурино</td>\n",
       "      <td>NaN</td>\n",
       "      <td>NaN</td>\n",
       "      <td>NaN</td>\n",
       "      <td>NaN</td>\n",
       "      <td>NaN</td>\n",
       "      <td>NaN</td>\n",
       "      <td>189.0</td>\n",
       "    </tr>\n",
       "    <tr>\n",
       "      <th>9</th>\n",
       "      <td>18</td>\n",
       "      <td>5400000.0</td>\n",
       "      <td>61.00</td>\n",
       "      <td>2017-02-26T00:00:00</td>\n",
       "      <td>3</td>\n",
       "      <td>2.50</td>\n",
       "      <td>9.0</td>\n",
       "      <td>43.60</td>\n",
       "      <td>7</td>\n",
       "      <td>NaN</td>\n",
       "      <td>False</td>\n",
       "      <td>False</td>\n",
       "      <td>6.50</td>\n",
       "      <td>2.0</td>\n",
       "      <td>Санкт-Петербург</td>\n",
       "      <td>50898.0</td>\n",
       "      <td>15008.0</td>\n",
       "      <td>0.0</td>\n",
       "      <td>NaN</td>\n",
       "      <td>0.0</td>\n",
       "      <td>NaN</td>\n",
       "      <td>289.0</td>\n",
       "    </tr>\n",
       "    <tr>\n",
       "      <th>10</th>\n",
       "      <td>5</td>\n",
       "      <td>5050000.0</td>\n",
       "      <td>39.60</td>\n",
       "      <td>2017-11-16T00:00:00</td>\n",
       "      <td>1</td>\n",
       "      <td>2.67</td>\n",
       "      <td>12.0</td>\n",
       "      <td>20.30</td>\n",
       "      <td>3</td>\n",
       "      <td>NaN</td>\n",
       "      <td>False</td>\n",
       "      <td>False</td>\n",
       "      <td>8.50</td>\n",
       "      <td>NaN</td>\n",
       "      <td>Санкт-Петербург</td>\n",
       "      <td>38357.0</td>\n",
       "      <td>13878.0</td>\n",
       "      <td>1.0</td>\n",
       "      <td>310.0</td>\n",
       "      <td>2.0</td>\n",
       "      <td>553.0</td>\n",
       "      <td>137.0</td>\n",
       "    </tr>\n",
       "    <tr>\n",
       "      <th>11</th>\n",
       "      <td>9</td>\n",
       "      <td>3300000.0</td>\n",
       "      <td>44.00</td>\n",
       "      <td>2018-08-27T00:00:00</td>\n",
       "      <td>2</td>\n",
       "      <td>NaN</td>\n",
       "      <td>5.0</td>\n",
       "      <td>31.00</td>\n",
       "      <td>4</td>\n",
       "      <td>False</td>\n",
       "      <td>False</td>\n",
       "      <td>False</td>\n",
       "      <td>6.00</td>\n",
       "      <td>1.0</td>\n",
       "      <td>Ломоносов</td>\n",
       "      <td>48252.0</td>\n",
       "      <td>51677.0</td>\n",
       "      <td>0.0</td>\n",
       "      <td>NaN</td>\n",
       "      <td>0.0</td>\n",
       "      <td>NaN</td>\n",
       "      <td>7.0</td>\n",
       "    </tr>\n",
       "    <tr>\n",
       "      <th>12</th>\n",
       "      <td>10</td>\n",
       "      <td>3890000.0</td>\n",
       "      <td>54.00</td>\n",
       "      <td>2016-06-30T00:00:00</td>\n",
       "      <td>2</td>\n",
       "      <td>NaN</td>\n",
       "      <td>5.0</td>\n",
       "      <td>30.00</td>\n",
       "      <td>5</td>\n",
       "      <td>NaN</td>\n",
       "      <td>False</td>\n",
       "      <td>False</td>\n",
       "      <td>9.00</td>\n",
       "      <td>0.0</td>\n",
       "      <td>Сертолово</td>\n",
       "      <td>NaN</td>\n",
       "      <td>NaN</td>\n",
       "      <td>NaN</td>\n",
       "      <td>NaN</td>\n",
       "      <td>NaN</td>\n",
       "      <td>NaN</td>\n",
       "      <td>90.0</td>\n",
       "    </tr>\n",
       "    <tr>\n",
       "      <th>13</th>\n",
       "      <td>20</td>\n",
       "      <td>3550000.0</td>\n",
       "      <td>42.80</td>\n",
       "      <td>2017-07-01T00:00:00</td>\n",
       "      <td>2</td>\n",
       "      <td>2.56</td>\n",
       "      <td>5.0</td>\n",
       "      <td>27.00</td>\n",
       "      <td>5</td>\n",
       "      <td>NaN</td>\n",
       "      <td>False</td>\n",
       "      <td>False</td>\n",
       "      <td>5.20</td>\n",
       "      <td>1.0</td>\n",
       "      <td>Петергоф</td>\n",
       "      <td>37868.0</td>\n",
       "      <td>33058.0</td>\n",
       "      <td>1.0</td>\n",
       "      <td>294.0</td>\n",
       "      <td>3.0</td>\n",
       "      <td>298.0</td>\n",
       "      <td>366.0</td>\n",
       "    </tr>\n",
       "    <tr>\n",
       "      <th>14</th>\n",
       "      <td>1</td>\n",
       "      <td>4400000.0</td>\n",
       "      <td>36.00</td>\n",
       "      <td>2016-06-23T00:00:00</td>\n",
       "      <td>1</td>\n",
       "      <td>NaN</td>\n",
       "      <td>6.0</td>\n",
       "      <td>17.00</td>\n",
       "      <td>1</td>\n",
       "      <td>NaN</td>\n",
       "      <td>False</td>\n",
       "      <td>False</td>\n",
       "      <td>8.00</td>\n",
       "      <td>0.0</td>\n",
       "      <td>Пушкин</td>\n",
       "      <td>20782.0</td>\n",
       "      <td>30759.0</td>\n",
       "      <td>0.0</td>\n",
       "      <td>NaN</td>\n",
       "      <td>1.0</td>\n",
       "      <td>96.0</td>\n",
       "      <td>203.0</td>\n",
       "    </tr>\n",
       "  </tbody>\n",
       "</table>\n",
       "</div>"
      ],
      "text/plain": [
       "    total_images  last_price  total_area first_day_exposition  rooms  \\\n",
       "0             20  13000000.0      108.00  2019-03-07T00:00:00      3   \n",
       "1              7   3350000.0       40.40  2018-12-04T00:00:00      1   \n",
       "2             10   5196000.0       56.00  2015-08-20T00:00:00      2   \n",
       "3              0  64900000.0      159.00  2015-07-24T00:00:00      3   \n",
       "4              2  10000000.0      100.00  2018-06-19T00:00:00      2   \n",
       "5             10   2890000.0       30.40  2018-09-10T00:00:00      1   \n",
       "6              6   3700000.0       37.30  2017-11-02T00:00:00      1   \n",
       "7              5   7915000.0       71.60  2019-04-18T00:00:00      2   \n",
       "8             20   2900000.0       33.16  2018-05-23T00:00:00      1   \n",
       "9             18   5400000.0       61.00  2017-02-26T00:00:00      3   \n",
       "10             5   5050000.0       39.60  2017-11-16T00:00:00      1   \n",
       "11             9   3300000.0       44.00  2018-08-27T00:00:00      2   \n",
       "12            10   3890000.0       54.00  2016-06-30T00:00:00      2   \n",
       "13            20   3550000.0       42.80  2017-07-01T00:00:00      2   \n",
       "14             1   4400000.0       36.00  2016-06-23T00:00:00      1   \n",
       "\n",
       "    ceiling_height  floors_total  living_area  floor is_apartment  studio  \\\n",
       "0             2.70          16.0        51.00      8          NaN   False   \n",
       "1              NaN          11.0        18.60      1          NaN   False   \n",
       "2              NaN           5.0        34.30      4          NaN   False   \n",
       "3              NaN          14.0          NaN      9          NaN   False   \n",
       "4             3.03          14.0        32.00     13          NaN   False   \n",
       "5              NaN          12.0        14.40      5          NaN   False   \n",
       "6              NaN          26.0        10.60      6          NaN   False   \n",
       "7              NaN          24.0          NaN     22          NaN   False   \n",
       "8              NaN          27.0        15.43     26          NaN   False   \n",
       "9             2.50           9.0        43.60      7          NaN   False   \n",
       "10            2.67          12.0        20.30      3          NaN   False   \n",
       "11             NaN           5.0        31.00      4        False   False   \n",
       "12             NaN           5.0        30.00      5          NaN   False   \n",
       "13            2.56           5.0        27.00      5          NaN   False   \n",
       "14             NaN           6.0        17.00      1          NaN   False   \n",
       "\n",
       "    open_plan  kitchen_area  balcony              locality_name  \\\n",
       "0       False         25.00      NaN            Санкт-Петербург   \n",
       "1       False         11.00      2.0             посёлок Шушары   \n",
       "2       False          8.30      0.0            Санкт-Петербург   \n",
       "3       False           NaN      0.0            Санкт-Петербург   \n",
       "4       False         41.00      NaN            Санкт-Петербург   \n",
       "5       False          9.10      NaN  городской посёлок Янино-1   \n",
       "6       False         14.40      1.0          посёлок Парголово   \n",
       "7       False         18.90      2.0            Санкт-Петербург   \n",
       "8       False          8.81      NaN             посёлок Мурино   \n",
       "9       False          6.50      2.0            Санкт-Петербург   \n",
       "10      False          8.50      NaN            Санкт-Петербург   \n",
       "11      False          6.00      1.0                  Ломоносов   \n",
       "12      False          9.00      0.0                  Сертолово   \n",
       "13      False          5.20      1.0                   Петергоф   \n",
       "14      False          8.00      0.0                     Пушкин   \n",
       "\n",
       "    airports_nearest  cityCenters_nearest  parks_around3000  parks_nearest  \\\n",
       "0            18863.0              16028.0               1.0          482.0   \n",
       "1            12817.0              18603.0               0.0            NaN   \n",
       "2            21741.0              13933.0               1.0           90.0   \n",
       "3            28098.0               6800.0               2.0           84.0   \n",
       "4            31856.0               8098.0               2.0          112.0   \n",
       "5                NaN                  NaN               NaN            NaN   \n",
       "6            52996.0              19143.0               0.0            NaN   \n",
       "7            23982.0              11634.0               0.0            NaN   \n",
       "8                NaN                  NaN               NaN            NaN   \n",
       "9            50898.0              15008.0               0.0            NaN   \n",
       "10           38357.0              13878.0               1.0          310.0   \n",
       "11           48252.0              51677.0               0.0            NaN   \n",
       "12               NaN                  NaN               NaN            NaN   \n",
       "13           37868.0              33058.0               1.0          294.0   \n",
       "14           20782.0              30759.0               0.0            NaN   \n",
       "\n",
       "    ponds_around3000  ponds_nearest  days_exposition  \n",
       "0                2.0          755.0              NaN  \n",
       "1                0.0            NaN             81.0  \n",
       "2                2.0          574.0            558.0  \n",
       "3                3.0          234.0            424.0  \n",
       "4                1.0           48.0            121.0  \n",
       "5                NaN            NaN             55.0  \n",
       "6                0.0            NaN            155.0  \n",
       "7                0.0            NaN              NaN  \n",
       "8                NaN            NaN            189.0  \n",
       "9                0.0            NaN            289.0  \n",
       "10               2.0          553.0            137.0  \n",
       "11               0.0            NaN              7.0  \n",
       "12               NaN            NaN             90.0  \n",
       "13               3.0          298.0            366.0  \n",
       "14               1.0           96.0            203.0  "
      ]
     },
     "execution_count": 5,
     "metadata": {},
     "output_type": "execute_result"
    }
   ],
   "source": [
    "import pandas as pd\n",
    "\n",
    "pd.set_option('display.max_rows', 500)\n",
    "pd.set_option('display.max_columns', 500)\n",
    "\n",
    "data = pd.read_csv('/datasets/real_estate_data.csv', sep='\\t')\n",
    "\n",
    "data.head(15)"
   ]
  },
  {
   "cell_type": "code",
   "execution_count": 6,
   "metadata": {},
   "outputs": [
    {
     "name": "stdout",
     "output_type": "stream",
     "text": [
      "<class 'pandas.core.frame.DataFrame'>\n",
      "RangeIndex: 23699 entries, 0 to 23698\n",
      "Data columns (total 22 columns):\n",
      " #   Column                Non-Null Count  Dtype  \n",
      "---  ------                --------------  -----  \n",
      " 0   total_images          23699 non-null  int64  \n",
      " 1   last_price            23699 non-null  float64\n",
      " 2   total_area            23699 non-null  float64\n",
      " 3   first_day_exposition  23699 non-null  object \n",
      " 4   rooms                 23699 non-null  int64  \n",
      " 5   ceiling_height        14504 non-null  float64\n",
      " 6   floors_total          23613 non-null  float64\n",
      " 7   living_area           21796 non-null  float64\n",
      " 8   floor                 23699 non-null  int64  \n",
      " 9   is_apartment          2775 non-null   object \n",
      " 10  studio                23699 non-null  bool   \n",
      " 11  open_plan             23699 non-null  bool   \n",
      " 12  kitchen_area          21421 non-null  float64\n",
      " 13  balcony               12180 non-null  float64\n",
      " 14  locality_name         23650 non-null  object \n",
      " 15  airports_nearest      18157 non-null  float64\n",
      " 16  cityCenters_nearest   18180 non-null  float64\n",
      " 17  parks_around3000      18181 non-null  float64\n",
      " 18  parks_nearest         8079 non-null   float64\n",
      " 19  ponds_around3000      18181 non-null  float64\n",
      " 20  ponds_nearest         9110 non-null   float64\n",
      " 21  days_exposition       20518 non-null  float64\n",
      "dtypes: bool(2), float64(14), int64(3), object(3)\n",
      "memory usage: 3.7+ MB\n"
     ]
    }
   ],
   "source": [
    "#Выведим основную информацию о датафрейме с помощью метода info()\n",
    "\n",
    "data.info()"
   ]
  },
  {
   "cell_type": "code",
   "execution_count": 7,
   "metadata": {
    "scrolled": false
   },
   "outputs": [
    {
     "data": {
      "image/png": "[encoded data removed]",
      "text/plain": [
       "<Figure size 1080x1440 with 20 Axes>"
      ]
     },
     "metadata": {
      "needs_background": "light"
     },
     "output_type": "display_data"
    }
   ],
   "source": [
    "#Построим общую гистограмму для всех столбцов таблицы \n",
    "data.hist(figsize=(15, 20));\n",
    "#plt.show()"
   ]
  },
  {
   "cell_type": "markdown",
   "metadata": {},
   "source": [
    "### Предобработка данных"
   ]
  },
  {
   "cell_type": "code",
   "execution_count": 8,
   "metadata": {},
   "outputs": [
    {
     "data": {
      "text/plain": [
       "total_images                0\n",
       "last_price                  0\n",
       "total_area                  0\n",
       "first_day_exposition        0\n",
       "rooms                       0\n",
       "ceiling_height           9195\n",
       "floors_total               86\n",
       "living_area              1903\n",
       "floor                       0\n",
       "is_apartment            20924\n",
       "studio                      0\n",
       "open_plan                   0\n",
       "kitchen_area             2278\n",
       "balcony                 11519\n",
       "locality_name              49\n",
       "airports_nearest         5542\n",
       "cityCenters_nearest      5519\n",
       "parks_around3000         5518\n",
       "parks_nearest           15620\n",
       "ponds_around3000         5518\n",
       "ponds_nearest           14589\n",
       "days_exposition          3181\n",
       "dtype: int64"
      ]
     },
     "execution_count": 8,
     "metadata": {},
     "output_type": "execute_result"
    }
   ],
   "source": [
    "#Найдем и изучим пропущенные значения в столбцах. Определим, в каких столбцах есть пропуски.\n",
    "data.isna().sum()"
   ]
  },
  {
   "cell_type": "code",
   "execution_count": 9,
   "metadata": {},
   "outputs": [
    {
     "data": {
      "text/html": [
       "<style  type=\"text/css\" >\n",
       "#T_b96ce_row0_col0,#T_b96ce_row1_col0,#T_b96ce_row2_col0,#T_b96ce_row3_col0,#T_b96ce_row4_col0,#T_b96ce_row6_col0,#T_b96ce_row8_col0,#T_b96ce_row10_col0,#T_b96ce_row11_col0,#T_b96ce_row14_col0{\n",
       "            background-color:  #3b4cc0;\n",
       "            color:  #f1f1f1;\n",
       "        }#T_b96ce_row5_col0{\n",
       "            background-color:  #cdd9ec;\n",
       "            color:  #000000;\n",
       "        }#T_b96ce_row7_col0{\n",
       "            background-color:  #5673e0;\n",
       "            color:  #000000;\n",
       "        }#T_b96ce_row9_col0{\n",
       "            background-color:  #b40426;\n",
       "            color:  #f1f1f1;\n",
       "        }#T_b96ce_row12_col0{\n",
       "            background-color:  #5e7de7;\n",
       "            color:  #000000;\n",
       "        }#T_b96ce_row13_col0{\n",
       "            background-color:  #ead4c8;\n",
       "            color:  #000000;\n",
       "        }#T_b96ce_row15_col0,#T_b96ce_row16_col0,#T_b96ce_row17_col0,#T_b96ce_row19_col0{\n",
       "            background-color:  #90b2fe;\n",
       "            color:  #000000;\n",
       "        }#T_b96ce_row18_col0{\n",
       "            background-color:  #f4987a;\n",
       "            color:  #000000;\n",
       "        }#T_b96ce_row20_col0{\n",
       "            background-color:  #f7aa8c;\n",
       "            color:  #000000;\n",
       "        }#T_b96ce_row21_col0{\n",
       "            background-color:  #688aef;\n",
       "            color:  #000000;\n",
       "        }</style><table id=\"T_b96ce_\" ><thead>    <tr>        <th class=\"blank level0\" ></th>        <th class=\"col_heading level0 col0\" >0</th>    </tr></thead><tbody>\n",
       "                <tr>\n",
       "                        <th id=\"T_b96ce_level0_row0\" class=\"row_heading level0 row0\" >total_images</th>\n",
       "                        <td id=\"T_b96ce_row0_col0\" class=\"data row0 col0\" >0.000000</td>\n",
       "            </tr>\n",
       "            <tr>\n",
       "                        <th id=\"T_b96ce_level0_row1\" class=\"row_heading level0 row1\" >last_price</th>\n",
       "                        <td id=\"T_b96ce_row1_col0\" class=\"data row1 col0\" >0.000000</td>\n",
       "            </tr>\n",
       "            <tr>\n",
       "                        <th id=\"T_b96ce_level0_row2\" class=\"row_heading level0 row2\" >total_area</th>\n",
       "                        <td id=\"T_b96ce_row2_col0\" class=\"data row2 col0\" >0.000000</td>\n",
       "            </tr>\n",
       "            <tr>\n",
       "                        <th id=\"T_b96ce_level0_row3\" class=\"row_heading level0 row3\" >first_day_exposition</th>\n",
       "                        <td id=\"T_b96ce_row3_col0\" class=\"data row3 col0\" >0.000000</td>\n",
       "            </tr>\n",
       "            <tr>\n",
       "                        <th id=\"T_b96ce_level0_row4\" class=\"row_heading level0 row4\" >rooms</th>\n",
       "                        <td id=\"T_b96ce_row4_col0\" class=\"data row4 col0\" >0.000000</td>\n",
       "            </tr>\n",
       "            <tr>\n",
       "                        <th id=\"T_b96ce_level0_row5\" class=\"row_heading level0 row5\" >ceiling_height</th>\n",
       "                        <td id=\"T_b96ce_row5_col0\" class=\"data row5 col0\" >39.000000</td>\n",
       "            </tr>\n",
       "            <tr>\n",
       "                        <th id=\"T_b96ce_level0_row6\" class=\"row_heading level0 row6\" >floors_total</th>\n",
       "                        <td id=\"T_b96ce_row6_col0\" class=\"data row6 col0\" >0.000000</td>\n",
       "            </tr>\n",
       "            <tr>\n",
       "                        <th id=\"T_b96ce_level0_row7\" class=\"row_heading level0 row7\" >living_area</th>\n",
       "                        <td id=\"T_b96ce_row7_col0\" class=\"data row7 col0\" >8.000000</td>\n",
       "            </tr>\n",
       "            <tr>\n",
       "                        <th id=\"T_b96ce_level0_row8\" class=\"row_heading level0 row8\" >floor</th>\n",
       "                        <td id=\"T_b96ce_row8_col0\" class=\"data row8 col0\" >0.000000</td>\n",
       "            </tr>\n",
       "            <tr>\n",
       "                        <th id=\"T_b96ce_level0_row9\" class=\"row_heading level0 row9\" >is_apartment</th>\n",
       "                        <td id=\"T_b96ce_row9_col0\" class=\"data row9 col0\" >88.000000</td>\n",
       "            </tr>\n",
       "            <tr>\n",
       "                        <th id=\"T_b96ce_level0_row10\" class=\"row_heading level0 row10\" >studio</th>\n",
       "                        <td id=\"T_b96ce_row10_col0\" class=\"data row10 col0\" >0.000000</td>\n",
       "            </tr>\n",
       "            <tr>\n",
       "                        <th id=\"T_b96ce_level0_row11\" class=\"row_heading level0 row11\" >open_plan</th>\n",
       "                        <td id=\"T_b96ce_row11_col0\" class=\"data row11 col0\" >0.000000</td>\n",
       "            </tr>\n",
       "            <tr>\n",
       "                        <th id=\"T_b96ce_level0_row12\" class=\"row_heading level0 row12\" >kitchen_area</th>\n",
       "                        <td id=\"T_b96ce_row12_col0\" class=\"data row12 col0\" >10.000000</td>\n",
       "            </tr>\n",
       "            <tr>\n",
       "                        <th id=\"T_b96ce_level0_row13\" class=\"row_heading level0 row13\" >balcony</th>\n",
       "                        <td id=\"T_b96ce_row13_col0\" class=\"data row13 col0\" >49.000000</td>\n",
       "            </tr>\n",
       "            <tr>\n",
       "                        <th id=\"T_b96ce_level0_row14\" class=\"row_heading level0 row14\" >locality_name</th>\n",
       "                        <td id=\"T_b96ce_row14_col0\" class=\"data row14 col0\" >0.000000</td>\n",
       "            </tr>\n",
       "            <tr>\n",
       "                        <th id=\"T_b96ce_level0_row15\" class=\"row_heading level0 row15\" >airports_nearest</th>\n",
       "                        <td id=\"T_b96ce_row15_col0\" class=\"data row15 col0\" >23.000000</td>\n",
       "            </tr>\n",
       "            <tr>\n",
       "                        <th id=\"T_b96ce_level0_row16\" class=\"row_heading level0 row16\" >cityCenters_nearest</th>\n",
       "                        <td id=\"T_b96ce_row16_col0\" class=\"data row16 col0\" >23.000000</td>\n",
       "            </tr>\n",
       "            <tr>\n",
       "                        <th id=\"T_b96ce_level0_row17\" class=\"row_heading level0 row17\" >parks_around3000</th>\n",
       "                        <td id=\"T_b96ce_row17_col0\" class=\"data row17 col0\" >23.000000</td>\n",
       "            </tr>\n",
       "            <tr>\n",
       "                        <th id=\"T_b96ce_level0_row18\" class=\"row_heading level0 row18\" >parks_nearest</th>\n",
       "                        <td id=\"T_b96ce_row18_col0\" class=\"data row18 col0\" >66.000000</td>\n",
       "            </tr>\n",
       "            <tr>\n",
       "                        <th id=\"T_b96ce_level0_row19\" class=\"row_heading level0 row19\" >ponds_around3000</th>\n",
       "                        <td id=\"T_b96ce_row19_col0\" class=\"data row19 col0\" >23.000000</td>\n",
       "            </tr>\n",
       "            <tr>\n",
       "                        <th id=\"T_b96ce_level0_row20\" class=\"row_heading level0 row20\" >ponds_nearest</th>\n",
       "                        <td id=\"T_b96ce_row20_col0\" class=\"data row20 col0\" >62.000000</td>\n",
       "            </tr>\n",
       "            <tr>\n",
       "                        <th id=\"T_b96ce_level0_row21\" class=\"row_heading level0 row21\" >days_exposition</th>\n",
       "                        <td id=\"T_b96ce_row21_col0\" class=\"data row21 col0\" >13.000000</td>\n",
       "            </tr>\n",
       "    </tbody></table>"
      ],
      "text/plain": [
       "<pandas.io.formats.style.Styler at 0x7f0aa41b1970>"
      ]
     },
     "execution_count": 9,
     "metadata": {},
     "output_type": "execute_result"
    }
   ],
   "source": [
    "#проверим количество пропусков в %\n",
    "pd.DataFrame(round(data.isna().mean()*100,)).style.background_gradient('coolwarm')"
   ]
  },
  {
   "cell_type": "markdown",
   "metadata": {},
   "source": [
    "У нас пропуски почти во всех столбцах: ceiling_height — высота потолков (м), floors_total — всего этажей в доме, living_area — жилая площадь в квадратных метрах (м²), is_apartment — апартаменты (булев тип), kitchen_area — площадь кухни в квадратных метрах (м²), balcony — число балконов, locality_name — название населённого пункта, airports_nearest — расстояние до ближайшего аэропорта в метрах (м),cityCenters_nearest — расстояние до центра города (м), parks_around3000 — число парков в радиусе 3 км, parks_nearest — расстояние до ближайшего парка (м),ponds_around3000 — число водоёмов в радиусе 3 км, ponds_nearest — расстояние до ближайшего водоёма (м), days_exposition — сколько дней было размещено объявление (от публикации до снятия).\n",
    "\n",
    "Заполним пропущенные значения там, где это возможно. Например, если продавец не указал число балконов, то, скорее всего, в его квартире их нет. Такие пропуски правильно заменить на 0. Если логичную замену предложить невозможно, то оставим эти значения пустыми. "
   ]
  },
  {
   "cell_type": "code",
   "execution_count": 10,
   "metadata": {},
   "outputs": [],
   "source": [
    "# заменяем пропущенные значения в is_apartment на False\n",
    "data['is_apartment'] = data['is_apartment'].fillna(value = 'False')"
   ]
  },
  {
   "cell_type": "code",
   "execution_count": 11,
   "metadata": {},
   "outputs": [],
   "source": [
    "#заполняем пропуски в floors_total элементами из столбца floor\n",
    "data['floors_total'] = data['floors_total'].fillna(data['floor'])\n"
   ]
  },
  {
   "cell_type": "code",
   "execution_count": 12,
   "metadata": {},
   "outputs": [],
   "source": [
    "# заменяем пропущенные значения на 0. Приводим в целочисленный тип количество балконов.\n",
    "data['balcony'] = data['balcony'].fillna(0).astype('int')"
   ]
  },
  {
   "cell_type": "code",
   "execution_count": 13,
   "metadata": {},
   "outputs": [],
   "source": [
    "# заменяем пропущенные значения на 0. Приводим в целочисленный тип количество парков.\n",
    "data['parks_around3000'] = data['parks_around3000'].fillna(0).astype('int')\n"
   ]
  },
  {
   "cell_type": "code",
   "execution_count": 14,
   "metadata": {},
   "outputs": [],
   "source": [
    "# заменяем пропущенные значения на 0. Приводим в целочисленный тип количество прудов.\n",
    "data['ponds_around3000'] = data['ponds_around3000'].fillna(0).astype('int')"
   ]
  },
  {
   "cell_type": "code",
   "execution_count": 15,
   "metadata": {},
   "outputs": [],
   "source": [
    "# заменим пропуски в days_exposition и заменим тип данных\n",
    "data['days_exposition'] = data['days_exposition'].fillna(0).astype('int')\n",
    "data = data.loc[data['days_exposition'] != 0]"
   ]
  },
  {
   "cell_type": "code",
   "execution_count": 16,
   "metadata": {},
   "outputs": [],
   "source": [
    "#заполним пропуски в  столбце living_area медианным значением по каждому типу из столбца rooms по значениям из сгруппированного датафрейма .\n",
    "grouped_living_area = data.groupby('living_area')['rooms'].median() \n",
    "for row in grouped_living_area.index:\n",
    "    data.loc[(data['living_area'] == row)&(data['rooms'].isna()), 'rooms'] = grouped_living_area[row]\n",
    "data['living_area']= data['living_area'].fillna(value=grouped_living_area)"
   ]
  },
  {
   "cell_type": "code",
   "execution_count": 17,
   "metadata": {},
   "outputs": [],
   "source": [
    "#заполним пропуски в  столбце ceiling_height  медианным значением \n",
    "median_ceiling_height =  data['ceiling_height'].median()\n",
    "data['ceiling_height'] = data['ceiling_height'].fillna(value=median_ceiling_height)"
   ]
  },
  {
   "cell_type": "code",
   "execution_count": 18,
   "metadata": {},
   "outputs": [],
   "source": [
    "#заполним пропуски в  столбце locality_name   значением not defined\n",
    "data['locality_name'] = data['locality_name'].fillna('not defined')"
   ]
  },
  {
   "cell_type": "code",
   "execution_count": 19,
   "metadata": {},
   "outputs": [
    {
     "data": {
      "text/plain": [
       "total_images                0\n",
       "last_price                  0\n",
       "total_area                  0\n",
       "first_day_exposition        0\n",
       "rooms                       0\n",
       "ceiling_height              0\n",
       "floors_total                0\n",
       "living_area              1698\n",
       "floor                       0\n",
       "is_apartment                0\n",
       "studio                      0\n",
       "open_plan                   0\n",
       "kitchen_area             2075\n",
       "balcony                     0\n",
       "locality_name               0\n",
       "airports_nearest         4675\n",
       "cityCenters_nearest      4653\n",
       "parks_around3000            0\n",
       "parks_nearest           13584\n",
       "ponds_around3000            0\n",
       "ponds_nearest           12624\n",
       "days_exposition             0\n",
       "dtype: int64"
      ]
     },
     "execution_count": 19,
     "metadata": {},
     "output_type": "execute_result"
    }
   ],
   "source": [
    "# Смотрим количество пропущенных значений\n",
    "data.isna().sum()"
   ]
  },
  {
   "cell_type": "markdown",
   "metadata": {},
   "source": [
    "Расстояние до парков и водоемов, расстояние до ближайшего аэропорта, площадь кухни оставляем с пропусками тк логическую замену провести невозможно без сторонней информации. Скорее всего, это необязательные поля при заполнении пользователями или некоторые ошибки при выгрузке данных."
   ]
  },
  {
   "cell_type": "code",
   "execution_count": 20,
   "metadata": {},
   "outputs": [
    {
     "name": "stdout",
     "output_type": "stream",
     "text": [
      "<class 'pandas.core.frame.DataFrame'>\n",
      "Int64Index: 20518 entries, 1 to 23697\n",
      "Data columns (total 22 columns):\n",
      " #   Column                Non-Null Count  Dtype  \n",
      "---  ------                --------------  -----  \n",
      " 0   total_images          20518 non-null  int64  \n",
      " 1   last_price            20518 non-null  float64\n",
      " 2   total_area            20518 non-null  float64\n",
      " 3   first_day_exposition  20518 non-null  object \n",
      " 4   rooms                 20518 non-null  float64\n",
      " 5   ceiling_height        20518 non-null  float64\n",
      " 6   floors_total          20518 non-null  float64\n",
      " 7   living_area           18820 non-null  float64\n",
      " 8   floor                 20518 non-null  int64  \n",
      " 9   is_apartment          20518 non-null  object \n",
      " 10  studio                20518 non-null  bool   \n",
      " 11  open_plan             20518 non-null  bool   \n",
      " 12  kitchen_area          18443 non-null  float64\n",
      " 13  balcony               20518 non-null  int64  \n",
      " 14  locality_name         20518 non-null  object \n",
      " 15  airports_nearest      15843 non-null  float64\n",
      " 16  cityCenters_nearest   15865 non-null  float64\n",
      " 17  parks_around3000      20518 non-null  int64  \n",
      " 18  parks_nearest         6934 non-null   float64\n",
      " 19  ponds_around3000      20518 non-null  int64  \n",
      " 20  ponds_nearest         7894 non-null   float64\n",
      " 21  days_exposition       20518 non-null  int64  \n",
      "dtypes: bool(2), float64(11), int64(6), object(3)\n",
      "memory usage: 3.3+ MB\n"
     ]
    }
   ],
   "source": [
    "data.info()"
   ]
  },
  {
   "cell_type": "markdown",
   "metadata": {},
   "source": [
    "Найдем столбцы, в которых нужно изменить тип данных. \n",
    "\n",
    "При заполнении пропусков мы ранее уже заменили на целочисленный тип столбец количество балконов,количество парков, пудов, сколько дней было размещено объявление \n",
    "\n",
    "Столбцы, где есть пропуски перевести с float на int мы не сможем"
   ]
  },
  {
   "cell_type": "code",
   "execution_count": 21,
   "metadata": {},
   "outputs": [],
   "source": [
    "#изменим цену на тип int для удобства просмотра\n",
    "data['last_price'] = data['last_price'].astype('int')\n",
    "\n",
    "#изменим rooms на тип int для удобства просмотра\n",
    "data['rooms'] = data['rooms'].astype('int')\n",
    "\n",
    "#изменим floors_total на тип int для удобства просмотра\n",
    "data['floors_total'] = data['floors_total'].astype('int')\n",
    "\n",
    "#переведем столбец с датой в формат даты без времени, т.к. время не указано\n",
    "data['first_day_exposition'] = pd.to_datetime(data['first_day_exposition'], format = '%Y-%m-%d')"
   ]
  },
  {
   "cell_type": "code",
   "execution_count": 22,
   "metadata": {},
   "outputs": [
    {
     "name": "stdout",
     "output_type": "stream",
     "text": [
      "<class 'pandas.core.frame.DataFrame'>\n",
      "Int64Index: 20518 entries, 1 to 23697\n",
      "Data columns (total 22 columns):\n",
      " #   Column                Non-Null Count  Dtype         \n",
      "---  ------                --------------  -----         \n",
      " 0   total_images          20518 non-null  int64         \n",
      " 1   last_price            20518 non-null  int64         \n",
      " 2   total_area            20518 non-null  float64       \n",
      " 3   first_day_exposition  20518 non-null  datetime64[ns]\n",
      " 4   rooms                 20518 non-null  int64         \n",
      " 5   ceiling_height        20518 non-null  float64       \n",
      " 6   floors_total          20518 non-null  int64         \n",
      " 7   living_area           18820 non-null  float64       \n",
      " 8   floor                 20518 non-null  int64         \n",
      " 9   is_apartment          20518 non-null  object        \n",
      " 10  studio                20518 non-null  bool          \n",
      " 11  open_plan             20518 non-null  bool          \n",
      " 12  kitchen_area          18443 non-null  float64       \n",
      " 13  balcony               20518 non-null  int64         \n",
      " 14  locality_name         20518 non-null  object        \n",
      " 15  airports_nearest      15843 non-null  float64       \n",
      " 16  cityCenters_nearest   15865 non-null  float64       \n",
      " 17  parks_around3000      20518 non-null  int64         \n",
      " 18  parks_nearest         6934 non-null   float64       \n",
      " 19  ponds_around3000      20518 non-null  int64         \n",
      " 20  ponds_nearest         7894 non-null   float64       \n",
      " 21  days_exposition       20518 non-null  int64         \n",
      "dtypes: bool(2), datetime64[ns](1), float64(8), int64(9), object(2)\n",
      "memory usage: 3.3+ MB\n"
     ]
    }
   ],
   "source": [
    "data.info()\n"
   ]
  },
  {
   "cell_type": "code",
   "execution_count": 23,
   "metadata": {
    "scrolled": true
   },
   "outputs": [
    {
     "data": {
      "text/html": [
       "<div>\n",
       "<style scoped>\n",
       "    .dataframe tbody tr th:only-of-type {\n",
       "        vertical-align: middle;\n",
       "    }\n",
       "\n",
       "    .dataframe tbody tr th {\n",
       "        vertical-align: top;\n",
       "    }\n",
       "\n",
       "    .dataframe thead th {\n",
       "        text-align: right;\n",
       "    }\n",
       "</style>\n",
       "<table border=\"1\" class=\"dataframe\">\n",
       "  <thead>\n",
       "    <tr style=\"text-align: right;\">\n",
       "      <th></th>\n",
       "      <th>total_images</th>\n",
       "      <th>last_price</th>\n",
       "      <th>total_area</th>\n",
       "      <th>first_day_exposition</th>\n",
       "      <th>rooms</th>\n",
       "      <th>ceiling_height</th>\n",
       "      <th>floors_total</th>\n",
       "      <th>living_area</th>\n",
       "      <th>floor</th>\n",
       "      <th>is_apartment</th>\n",
       "      <th>studio</th>\n",
       "      <th>open_plan</th>\n",
       "      <th>kitchen_area</th>\n",
       "      <th>balcony</th>\n",
       "      <th>locality_name</th>\n",
       "      <th>airports_nearest</th>\n",
       "      <th>cityCenters_nearest</th>\n",
       "      <th>parks_around3000</th>\n",
       "      <th>parks_nearest</th>\n",
       "      <th>ponds_around3000</th>\n",
       "      <th>ponds_nearest</th>\n",
       "      <th>days_exposition</th>\n",
       "    </tr>\n",
       "  </thead>\n",
       "  <tbody>\n",
       "    <tr>\n",
       "      <th>1</th>\n",
       "      <td>7</td>\n",
       "      <td>3350000</td>\n",
       "      <td>40.40</td>\n",
       "      <td>2018-12-04</td>\n",
       "      <td>1</td>\n",
       "      <td>2.65</td>\n",
       "      <td>11</td>\n",
       "      <td>18.60</td>\n",
       "      <td>1</td>\n",
       "      <td>False</td>\n",
       "      <td>False</td>\n",
       "      <td>False</td>\n",
       "      <td>11.00</td>\n",
       "      <td>2</td>\n",
       "      <td>посёлок Шушары</td>\n",
       "      <td>12817.0</td>\n",
       "      <td>18603.0</td>\n",
       "      <td>0</td>\n",
       "      <td>NaN</td>\n",
       "      <td>0</td>\n",
       "      <td>NaN</td>\n",
       "      <td>81</td>\n",
       "    </tr>\n",
       "    <tr>\n",
       "      <th>2</th>\n",
       "      <td>10</td>\n",
       "      <td>5196000</td>\n",
       "      <td>56.00</td>\n",
       "      <td>2015-08-20</td>\n",
       "      <td>2</td>\n",
       "      <td>2.65</td>\n",
       "      <td>5</td>\n",
       "      <td>34.30</td>\n",
       "      <td>4</td>\n",
       "      <td>False</td>\n",
       "      <td>False</td>\n",
       "      <td>False</td>\n",
       "      <td>8.30</td>\n",
       "      <td>0</td>\n",
       "      <td>Санкт-Петербург</td>\n",
       "      <td>21741.0</td>\n",
       "      <td>13933.0</td>\n",
       "      <td>1</td>\n",
       "      <td>90.0</td>\n",
       "      <td>2</td>\n",
       "      <td>574.0</td>\n",
       "      <td>558</td>\n",
       "    </tr>\n",
       "    <tr>\n",
       "      <th>3</th>\n",
       "      <td>0</td>\n",
       "      <td>64900000</td>\n",
       "      <td>159.00</td>\n",
       "      <td>2015-07-24</td>\n",
       "      <td>3</td>\n",
       "      <td>2.65</td>\n",
       "      <td>14</td>\n",
       "      <td>2.00</td>\n",
       "      <td>9</td>\n",
       "      <td>False</td>\n",
       "      <td>False</td>\n",
       "      <td>False</td>\n",
       "      <td>NaN</td>\n",
       "      <td>0</td>\n",
       "      <td>Санкт-Петербург</td>\n",
       "      <td>28098.0</td>\n",
       "      <td>6800.0</td>\n",
       "      <td>2</td>\n",
       "      <td>84.0</td>\n",
       "      <td>3</td>\n",
       "      <td>234.0</td>\n",
       "      <td>424</td>\n",
       "    </tr>\n",
       "    <tr>\n",
       "      <th>4</th>\n",
       "      <td>2</td>\n",
       "      <td>10000000</td>\n",
       "      <td>100.00</td>\n",
       "      <td>2018-06-19</td>\n",
       "      <td>2</td>\n",
       "      <td>3.03</td>\n",
       "      <td>14</td>\n",
       "      <td>32.00</td>\n",
       "      <td>13</td>\n",
       "      <td>False</td>\n",
       "      <td>False</td>\n",
       "      <td>False</td>\n",
       "      <td>41.00</td>\n",
       "      <td>0</td>\n",
       "      <td>Санкт-Петербург</td>\n",
       "      <td>31856.0</td>\n",
       "      <td>8098.0</td>\n",
       "      <td>2</td>\n",
       "      <td>112.0</td>\n",
       "      <td>1</td>\n",
       "      <td>48.0</td>\n",
       "      <td>121</td>\n",
       "    </tr>\n",
       "    <tr>\n",
       "      <th>5</th>\n",
       "      <td>10</td>\n",
       "      <td>2890000</td>\n",
       "      <td>30.40</td>\n",
       "      <td>2018-09-10</td>\n",
       "      <td>1</td>\n",
       "      <td>2.65</td>\n",
       "      <td>12</td>\n",
       "      <td>14.40</td>\n",
       "      <td>5</td>\n",
       "      <td>False</td>\n",
       "      <td>False</td>\n",
       "      <td>False</td>\n",
       "      <td>9.10</td>\n",
       "      <td>0</td>\n",
       "      <td>городской посёлок Янино-1</td>\n",
       "      <td>NaN</td>\n",
       "      <td>NaN</td>\n",
       "      <td>0</td>\n",
       "      <td>NaN</td>\n",
       "      <td>0</td>\n",
       "      <td>NaN</td>\n",
       "      <td>55</td>\n",
       "    </tr>\n",
       "    <tr>\n",
       "      <th>6</th>\n",
       "      <td>6</td>\n",
       "      <td>3700000</td>\n",
       "      <td>37.30</td>\n",
       "      <td>2017-11-02</td>\n",
       "      <td>1</td>\n",
       "      <td>2.65</td>\n",
       "      <td>26</td>\n",
       "      <td>10.60</td>\n",
       "      <td>6</td>\n",
       "      <td>False</td>\n",
       "      <td>False</td>\n",
       "      <td>False</td>\n",
       "      <td>14.40</td>\n",
       "      <td>1</td>\n",
       "      <td>посёлок Парголово</td>\n",
       "      <td>52996.0</td>\n",
       "      <td>19143.0</td>\n",
       "      <td>0</td>\n",
       "      <td>NaN</td>\n",
       "      <td>0</td>\n",
       "      <td>NaN</td>\n",
       "      <td>155</td>\n",
       "    </tr>\n",
       "    <tr>\n",
       "      <th>8</th>\n",
       "      <td>20</td>\n",
       "      <td>2900000</td>\n",
       "      <td>33.16</td>\n",
       "      <td>2018-05-23</td>\n",
       "      <td>1</td>\n",
       "      <td>2.65</td>\n",
       "      <td>27</td>\n",
       "      <td>15.43</td>\n",
       "      <td>26</td>\n",
       "      <td>False</td>\n",
       "      <td>False</td>\n",
       "      <td>False</td>\n",
       "      <td>8.81</td>\n",
       "      <td>0</td>\n",
       "      <td>посёлок Мурино</td>\n",
       "      <td>NaN</td>\n",
       "      <td>NaN</td>\n",
       "      <td>0</td>\n",
       "      <td>NaN</td>\n",
       "      <td>0</td>\n",
       "      <td>NaN</td>\n",
       "      <td>189</td>\n",
       "    </tr>\n",
       "    <tr>\n",
       "      <th>9</th>\n",
       "      <td>18</td>\n",
       "      <td>5400000</td>\n",
       "      <td>61.00</td>\n",
       "      <td>2017-02-26</td>\n",
       "      <td>3</td>\n",
       "      <td>2.50</td>\n",
       "      <td>9</td>\n",
       "      <td>43.60</td>\n",
       "      <td>7</td>\n",
       "      <td>False</td>\n",
       "      <td>False</td>\n",
       "      <td>False</td>\n",
       "      <td>6.50</td>\n",
       "      <td>2</td>\n",
       "      <td>Санкт-Петербург</td>\n",
       "      <td>50898.0</td>\n",
       "      <td>15008.0</td>\n",
       "      <td>0</td>\n",
       "      <td>NaN</td>\n",
       "      <td>0</td>\n",
       "      <td>NaN</td>\n",
       "      <td>289</td>\n",
       "    </tr>\n",
       "    <tr>\n",
       "      <th>10</th>\n",
       "      <td>5</td>\n",
       "      <td>5050000</td>\n",
       "      <td>39.60</td>\n",
       "      <td>2017-11-16</td>\n",
       "      <td>1</td>\n",
       "      <td>2.67</td>\n",
       "      <td>12</td>\n",
       "      <td>20.30</td>\n",
       "      <td>3</td>\n",
       "      <td>False</td>\n",
       "      <td>False</td>\n",
       "      <td>False</td>\n",
       "      <td>8.50</td>\n",
       "      <td>0</td>\n",
       "      <td>Санкт-Петербург</td>\n",
       "      <td>38357.0</td>\n",
       "      <td>13878.0</td>\n",
       "      <td>1</td>\n",
       "      <td>310.0</td>\n",
       "      <td>2</td>\n",
       "      <td>553.0</td>\n",
       "      <td>137</td>\n",
       "    </tr>\n",
       "    <tr>\n",
       "      <th>11</th>\n",
       "      <td>9</td>\n",
       "      <td>3300000</td>\n",
       "      <td>44.00</td>\n",
       "      <td>2018-08-27</td>\n",
       "      <td>2</td>\n",
       "      <td>2.65</td>\n",
       "      <td>5</td>\n",
       "      <td>31.00</td>\n",
       "      <td>4</td>\n",
       "      <td>False</td>\n",
       "      <td>False</td>\n",
       "      <td>False</td>\n",
       "      <td>6.00</td>\n",
       "      <td>1</td>\n",
       "      <td>Ломоносов</td>\n",
       "      <td>48252.0</td>\n",
       "      <td>51677.0</td>\n",
       "      <td>0</td>\n",
       "      <td>NaN</td>\n",
       "      <td>0</td>\n",
       "      <td>NaN</td>\n",
       "      <td>7</td>\n",
       "    </tr>\n",
       "    <tr>\n",
       "      <th>12</th>\n",
       "      <td>10</td>\n",
       "      <td>3890000</td>\n",
       "      <td>54.00</td>\n",
       "      <td>2016-06-30</td>\n",
       "      <td>2</td>\n",
       "      <td>2.65</td>\n",
       "      <td>5</td>\n",
       "      <td>30.00</td>\n",
       "      <td>5</td>\n",
       "      <td>False</td>\n",
       "      <td>False</td>\n",
       "      <td>False</td>\n",
       "      <td>9.00</td>\n",
       "      <td>0</td>\n",
       "      <td>Сертолово</td>\n",
       "      <td>NaN</td>\n",
       "      <td>NaN</td>\n",
       "      <td>0</td>\n",
       "      <td>NaN</td>\n",
       "      <td>0</td>\n",
       "      <td>NaN</td>\n",
       "      <td>90</td>\n",
       "    </tr>\n",
       "    <tr>\n",
       "      <th>13</th>\n",
       "      <td>20</td>\n",
       "      <td>3550000</td>\n",
       "      <td>42.80</td>\n",
       "      <td>2017-07-01</td>\n",
       "      <td>2</td>\n",
       "      <td>2.56</td>\n",
       "      <td>5</td>\n",
       "      <td>27.00</td>\n",
       "      <td>5</td>\n",
       "      <td>False</td>\n",
       "      <td>False</td>\n",
       "      <td>False</td>\n",
       "      <td>5.20</td>\n",
       "      <td>1</td>\n",
       "      <td>Петергоф</td>\n",
       "      <td>37868.0</td>\n",
       "      <td>33058.0</td>\n",
       "      <td>1</td>\n",
       "      <td>294.0</td>\n",
       "      <td>3</td>\n",
       "      <td>298.0</td>\n",
       "      <td>366</td>\n",
       "    </tr>\n",
       "    <tr>\n",
       "      <th>14</th>\n",
       "      <td>1</td>\n",
       "      <td>4400000</td>\n",
       "      <td>36.00</td>\n",
       "      <td>2016-06-23</td>\n",
       "      <td>1</td>\n",
       "      <td>2.65</td>\n",
       "      <td>6</td>\n",
       "      <td>17.00</td>\n",
       "      <td>1</td>\n",
       "      <td>False</td>\n",
       "      <td>False</td>\n",
       "      <td>False</td>\n",
       "      <td>8.00</td>\n",
       "      <td>0</td>\n",
       "      <td>Пушкин</td>\n",
       "      <td>20782.0</td>\n",
       "      <td>30759.0</td>\n",
       "      <td>0</td>\n",
       "      <td>NaN</td>\n",
       "      <td>1</td>\n",
       "      <td>96.0</td>\n",
       "      <td>203</td>\n",
       "    </tr>\n",
       "    <tr>\n",
       "      <th>15</th>\n",
       "      <td>16</td>\n",
       "      <td>4650000</td>\n",
       "      <td>39.00</td>\n",
       "      <td>2017-11-18</td>\n",
       "      <td>1</td>\n",
       "      <td>2.65</td>\n",
       "      <td>14</td>\n",
       "      <td>20.50</td>\n",
       "      <td>5</td>\n",
       "      <td>False</td>\n",
       "      <td>False</td>\n",
       "      <td>False</td>\n",
       "      <td>7.60</td>\n",
       "      <td>1</td>\n",
       "      <td>Санкт-Петербург</td>\n",
       "      <td>12900.0</td>\n",
       "      <td>14259.0</td>\n",
       "      <td>1</td>\n",
       "      <td>590.0</td>\n",
       "      <td>1</td>\n",
       "      <td>296.0</td>\n",
       "      <td>19</td>\n",
       "    </tr>\n",
       "    <tr>\n",
       "      <th>16</th>\n",
       "      <td>11</td>\n",
       "      <td>6700000</td>\n",
       "      <td>82.00</td>\n",
       "      <td>2017-11-23</td>\n",
       "      <td>3</td>\n",
       "      <td>3.05</td>\n",
       "      <td>5</td>\n",
       "      <td>55.60</td>\n",
       "      <td>1</td>\n",
       "      <td>False</td>\n",
       "      <td>False</td>\n",
       "      <td>False</td>\n",
       "      <td>9.00</td>\n",
       "      <td>0</td>\n",
       "      <td>Санкт-Петербург</td>\n",
       "      <td>22108.0</td>\n",
       "      <td>10698.0</td>\n",
       "      <td>3</td>\n",
       "      <td>420.0</td>\n",
       "      <td>0</td>\n",
       "      <td>NaN</td>\n",
       "      <td>397</td>\n",
       "    </tr>\n",
       "  </tbody>\n",
       "</table>\n",
       "</div>"
      ],
      "text/plain": [
       "    total_images  last_price  total_area first_day_exposition  rooms  \\\n",
       "1              7     3350000       40.40           2018-12-04      1   \n",
       "2             10     5196000       56.00           2015-08-20      2   \n",
       "3              0    64900000      159.00           2015-07-24      3   \n",
       "4              2    10000000      100.00           2018-06-19      2   \n",
       "5             10     2890000       30.40           2018-09-10      1   \n",
       "6              6     3700000       37.30           2017-11-02      1   \n",
       "8             20     2900000       33.16           2018-05-23      1   \n",
       "9             18     5400000       61.00           2017-02-26      3   \n",
       "10             5     5050000       39.60           2017-11-16      1   \n",
       "11             9     3300000       44.00           2018-08-27      2   \n",
       "12            10     3890000       54.00           2016-06-30      2   \n",
       "13            20     3550000       42.80           2017-07-01      2   \n",
       "14             1     4400000       36.00           2016-06-23      1   \n",
       "15            16     4650000       39.00           2017-11-18      1   \n",
       "16            11     6700000       82.00           2017-11-23      3   \n",
       "\n",
       "    ceiling_height  floors_total  living_area  floor is_apartment  studio  \\\n",
       "1             2.65            11        18.60      1        False   False   \n",
       "2             2.65             5        34.30      4        False   False   \n",
       "3             2.65            14         2.00      9        False   False   \n",
       "4             3.03            14        32.00     13        False   False   \n",
       "5             2.65            12        14.40      5        False   False   \n",
       "6             2.65            26        10.60      6        False   False   \n",
       "8             2.65            27        15.43     26        False   False   \n",
       "9             2.50             9        43.60      7        False   False   \n",
       "10            2.67            12        20.30      3        False   False   \n",
       "11            2.65             5        31.00      4        False   False   \n",
       "12            2.65             5        30.00      5        False   False   \n",
       "13            2.56             5        27.00      5        False   False   \n",
       "14            2.65             6        17.00      1        False   False   \n",
       "15            2.65            14        20.50      5        False   False   \n",
       "16            3.05             5        55.60      1        False   False   \n",
       "\n",
       "    open_plan  kitchen_area  balcony              locality_name  \\\n",
       "1       False         11.00        2             посёлок Шушары   \n",
       "2       False          8.30        0            Санкт-Петербург   \n",
       "3       False           NaN        0            Санкт-Петербург   \n",
       "4       False         41.00        0            Санкт-Петербург   \n",
       "5       False          9.10        0  городской посёлок Янино-1   \n",
       "6       False         14.40        1          посёлок Парголово   \n",
       "8       False          8.81        0             посёлок Мурино   \n",
       "9       False          6.50        2            Санкт-Петербург   \n",
       "10      False          8.50        0            Санкт-Петербург   \n",
       "11      False          6.00        1                  Ломоносов   \n",
       "12      False          9.00        0                  Сертолово   \n",
       "13      False          5.20        1                   Петергоф   \n",
       "14      False          8.00        0                     Пушкин   \n",
       "15      False          7.60        1            Санкт-Петербург   \n",
       "16      False          9.00        0            Санкт-Петербург   \n",
       "\n",
       "    airports_nearest  cityCenters_nearest  parks_around3000  parks_nearest  \\\n",
       "1            12817.0              18603.0                 0            NaN   \n",
       "2            21741.0              13933.0                 1           90.0   \n",
       "3            28098.0               6800.0                 2           84.0   \n",
       "4            31856.0               8098.0                 2          112.0   \n",
       "5                NaN                  NaN                 0            NaN   \n",
       "6            52996.0              19143.0                 0            NaN   \n",
       "8                NaN                  NaN                 0            NaN   \n",
       "9            50898.0              15008.0                 0            NaN   \n",
       "10           38357.0              13878.0                 1          310.0   \n",
       "11           48252.0              51677.0                 0            NaN   \n",
       "12               NaN                  NaN                 0            NaN   \n",
       "13           37868.0              33058.0                 1          294.0   \n",
       "14           20782.0              30759.0                 0            NaN   \n",
       "15           12900.0              14259.0                 1          590.0   \n",
       "16           22108.0              10698.0                 3          420.0   \n",
       "\n",
       "    ponds_around3000  ponds_nearest  days_exposition  \n",
       "1                  0            NaN               81  \n",
       "2                  2          574.0              558  \n",
       "3                  3          234.0              424  \n",
       "4                  1           48.0              121  \n",
       "5                  0            NaN               55  \n",
       "6                  0            NaN              155  \n",
       "8                  0            NaN              189  \n",
       "9                  0            NaN              289  \n",
       "10                 2          553.0              137  \n",
       "11                 0            NaN                7  \n",
       "12                 0            NaN               90  \n",
       "13                 3          298.0              366  \n",
       "14                 1           96.0              203  \n",
       "15                 1          296.0               19  \n",
       "16                 0            NaN              397  "
      ]
     },
     "execution_count": 23,
     "metadata": {},
     "output_type": "execute_result"
    }
   ],
   "source": [
    "data.head(15)"
   ]
  },
  {
   "cell_type": "code",
   "execution_count": 24,
   "metadata": {},
   "outputs": [
    {
     "data": {
      "text/plain": [
       "0"
      ]
     },
     "execution_count": 24,
     "metadata": {},
     "output_type": "execute_result"
    }
   ],
   "source": [
    "#проверим количество дубликатов\n",
    "data.duplicated().sum()"
   ]
  },
  {
   "cell_type": "markdown",
   "metadata": {},
   "source": [
    "Явные дубликаты в нашей таблице отсутствуют."
   ]
  },
  {
   "cell_type": "markdown",
   "metadata": {},
   "source": [
    " *Вывод:*\n",
    "\n",
    "Мы обработали полученный архив данных - обработали пропущенные значения там, где это необходимо, заменили типы данных на необходимые для удобной работы. Посчитали и добавили в таблицу цену квадратного метра жилья, вывели из даты дни недели, месяцы и года размещения объявлений, добавили категории по этажам квартир. Изучили следующие параметры на наличие выбивающихся значений - площадь, цена, число комнат, высота потолков. Были определены аномалии в данных параметрах."
   ]
  },
  {
   "cell_type": "markdown",
   "metadata": {},
   "source": [
    "### Изучим данные и добавим в таблицу новые столбцы"
   ]
  },
  {
   "cell_type": "code",
   "execution_count": 25,
   "metadata": {
    "scrolled": true
   },
   "outputs": [
    {
     "data": {
      "text/plain": [
       "array(['not defined', 'Бокситогорск', 'Волосово', 'Волхов', 'Всеволожск',\n",
       "       'Выборг', 'Высоцк', 'Гатчина', 'Зеленогорск', 'Ивангород',\n",
       "       'Каменногорск', 'Кингисепп', 'Кириши', 'Кировск', 'Колпино',\n",
       "       'Коммунар', 'Красное Село', 'Кронштадт', 'Кудрово',\n",
       "       'Лодейное Поле', 'Ломоносов', 'Луга', 'Любань', 'Никольское',\n",
       "       'Новая Ладога', 'Отрадное', 'Павловск', 'Петергоф', 'Пикалёво',\n",
       "       'Подпорожье', 'Приморск', 'Приозерск', 'Пушкин', 'Санкт-Петербург',\n",
       "       'Светогорск', 'Сертолово', 'Сестрорецк', 'Сланцы', 'Сосновый Бор',\n",
       "       'Сясьстрой', 'Тихвин', 'Тосно', 'Шлиссельбург',\n",
       "       'городской поселок Большая Ижора', 'городской поселок Янино-1',\n",
       "       'городской посёлок Будогощь', 'городской посёлок Виллози',\n",
       "       'городской посёлок Мга', 'городской посёлок Назия',\n",
       "       'городской посёлок Новоселье', 'городской посёлок Павлово',\n",
       "       'городской посёлок Рощино', 'городской посёлок Свирьстрой',\n",
       "       'городской посёлок Фёдоровское', 'городской посёлок Янино-1',\n",
       "       'деревня Агалатово', 'деревня Аро', 'деревня Батово',\n",
       "       'деревня Бегуницы', 'деревня Белогорка', 'деревня Большая Вруда',\n",
       "       'деревня Большая Пустомержа', 'деревня Большие Колпаны',\n",
       "       'деревня Большое Рейзино', 'деревня Бор', 'деревня Борисова Грива',\n",
       "       'деревня Ваганово', 'деревня Вартемяги', 'деревня Вахнова Кара',\n",
       "       'деревня Выскатка', 'деревня Гарболово', 'деревня Глинка',\n",
       "       'деревня Горбунки', 'деревня Гостилицы', 'деревня Заклинье',\n",
       "       'деревня Заневка', 'деревня Зимитицы', 'деревня Извара',\n",
       "       'деревня Иссад', 'деревня Калитино', 'деревня Кальтино',\n",
       "       'деревня Камышовка', 'деревня Каськово', 'деревня Келози',\n",
       "       'деревня Кипень', 'деревня Кисельня', 'деревня Колтуши',\n",
       "       'деревня Кудрово', 'деревня Кузьмолово', 'деревня Куровицы',\n",
       "       'деревня Куттузи', 'деревня Лаврики', 'деревня Лаголово',\n",
       "       'деревня Лампово', 'деревня Лесколово', 'деревня Лопухинка',\n",
       "       'деревня Лупполово', 'деревня Малая Романовка',\n",
       "       'деревня Малое Верево', 'деревня Малое Карлино',\n",
       "       'деревня Малые Колпаны', 'деревня Мануйлово', 'деревня Мины',\n",
       "       'деревня Мистолово', 'деревня Ненимяки', 'деревня Нижние Осельки',\n",
       "       'деревня Нижняя', 'деревня Низино', 'деревня Новое Девяткино',\n",
       "       'деревня Нурма', 'деревня Оржицы', 'деревня Парицы',\n",
       "       'деревня Пельгора', 'деревня Пеники', 'деревня Пикколово',\n",
       "       'деревня Пудомяги', 'деревня Пустынка', 'деревня Рабитицы',\n",
       "       'деревня Разбегаево', 'деревня Разметелево', 'деревня Рапполово',\n",
       "       'деревня Реброво', 'деревня Русско', 'деревня Старая',\n",
       "       'деревня Старая Пустошь', 'деревня Старое Хинколово',\n",
       "       'деревня Старополье', 'деревня Старосиверская',\n",
       "       'деревня Старые Бегуницы', 'деревня Суоранда',\n",
       "       'деревня Сяськелево', 'деревня Тарасово', 'деревня Терпилицы',\n",
       "       'деревня Тихковицы', 'деревня Торосово', 'деревня Трубников Бор',\n",
       "       'деревня Фалилеево', 'деревня Фёдоровское', 'деревня Хапо-Ое',\n",
       "       'деревня Хязельки', 'деревня Шпаньково', 'деревня Щеглово',\n",
       "       'деревня Юкки', 'деревня Ялгино', 'деревня Яльгелево',\n",
       "       'деревня Ям-Тесово', 'коттеджный поселок Кивеннапа Север',\n",
       "       'коттеджный поселок Счастье', 'коттеджный посёлок Лесное',\n",
       "       'поселок Аннино', 'поселок Барышево', 'поселок Бугры',\n",
       "       'поселок Возрождение', 'поселок Войсковицы', 'поселок Володарское',\n",
       "       'поселок Гаврилово', 'поселок Гарболово', 'поселок Гладкое',\n",
       "       'поселок Глажево', 'поселок Глебычево', 'поселок Гончарово',\n",
       "       'поселок Громово', 'поселок Дружноселье', 'поселок Елизаветино',\n",
       "       'поселок Жилгородок', 'поселок Жилпосёлок', 'поселок Житково',\n",
       "       'поселок Заводской', 'поселок Запорожское', 'поселок Зимитицы',\n",
       "       'поселок Ильичёво', 'поселок Калитино', 'поселок Каложицы',\n",
       "       'поселок Кингисеппский', 'поселок Кобралово', 'поселок Кобринское',\n",
       "       'поселок Коммунары', 'поселок Коробицыно', 'поселок Котельский',\n",
       "       'поселок Красная Долина', 'поселок Красносельское',\n",
       "       'поселок Лисий Нос', 'поселок Любань', 'поселок Мельниково',\n",
       "       'поселок Мичуринское', 'поселок Молодцово', 'поселок Мурино',\n",
       "       'поселок Новый Свет', 'поселок Новый Учхоз', 'поселок Оредеж',\n",
       "       'поселок Пансионат Зелёный Бор', 'поселок Первомайское',\n",
       "       'поселок Перово', 'поселок Петровское', 'поселок Победа',\n",
       "       'поселок Поляны', 'поселок Починок', 'поселок Пушное',\n",
       "       'поселок Пчевжа', 'поселок Романовка', 'поселок Ромашки',\n",
       "       'поселок Рябово', 'поселок Севастьяново', 'поселок Селезнёво',\n",
       "       'поселок Сельцо', 'поселок Семиозерье', 'поселок Семрино',\n",
       "       'поселок Серебрянский', 'поселок Совхозный',\n",
       "       'поселок Старая Малукса', 'поселок Стеклянный', 'поселок Сумино',\n",
       "       'поселок Суходолье', 'поселок Тельмана', 'поселок Терволово',\n",
       "       'поселок Торковичи', 'поселок Тёсово-4', 'поселок Углово',\n",
       "       'поселок Усть-Луга', 'поселок Ушаки', 'поселок Цвылёво',\n",
       "       'поселок городского типа Большая Ижора',\n",
       "       'поселок городского типа Вырица',\n",
       "       'поселок городского типа Дружная Горка',\n",
       "       'поселок городского типа Дубровка',\n",
       "       'поселок городского типа Ефимовский',\n",
       "       'поселок городского типа Кондратьево',\n",
       "       'поселок городского типа Красный Бор',\n",
       "       'поселок городского типа Кузьмоловский',\n",
       "       'поселок городского типа Лебяжье',\n",
       "       'поселок городского типа Лесогорский',\n",
       "       'поселок городского типа Назия',\n",
       "       'поселок городского типа Никольский',\n",
       "       'поселок городского типа Приладожский',\n",
       "       'поселок городского типа Рахья', 'поселок городского типа Рощино',\n",
       "       'поселок городского типа Рябово',\n",
       "       'поселок городского типа Синявино',\n",
       "       'поселок городского типа Советский',\n",
       "       'поселок городского типа Токсово',\n",
       "       'поселок городского типа Форносово',\n",
       "       'поселок городского типа имени Свердлова',\n",
       "       'поселок станции Вещево', 'поселок станции Корнево',\n",
       "       'поселок станции Лужайка', 'поселок станции Приветнинское',\n",
       "       'посёлок Александровская', 'посёлок Алексеевка', 'посёлок Аннино',\n",
       "       'посёлок Белоостров', 'посёлок Бугры', 'посёлок Возрождение',\n",
       "       'посёлок Войскорово', 'посёлок Высокоключевой',\n",
       "       'посёлок Гаврилово', 'посёлок Жилгородок', 'посёлок Ильичёво',\n",
       "       'посёлок Кикерино', 'посёлок Кобралово', 'посёлок Левашово',\n",
       "       'посёлок Ленинское', 'посёлок Лисий Нос', 'посёлок Мельниково',\n",
       "       'посёлок Металлострой', 'посёлок Мичуринское',\n",
       "       'посёлок Молодёжное', 'посёлок Мурино', 'посёлок Новогорелово',\n",
       "       'посёлок Новый Свет', 'посёлок Пансионат Зелёный Бор',\n",
       "       'посёлок Парголово', 'посёлок Перово', 'посёлок Песочный',\n",
       "       'посёлок Петро-Славянка', 'посёлок Петровское',\n",
       "       'посёлок Платформа 69-й километр', 'посёлок Плодовое',\n",
       "       'посёлок Плоское', 'посёлок Поляны', 'посёлок Понтонный',\n",
       "       'посёлок Пригородный', 'посёлок Пудость', 'посёлок Репино',\n",
       "       'посёлок Ропша', 'посёлок Сапёрное', 'посёлок Сапёрный',\n",
       "       'посёлок Сосново', 'посёлок Старая Малукса', 'посёлок Стеклянный',\n",
       "       'посёлок Стрельна', 'посёлок Суйда', 'посёлок Тельмана',\n",
       "       'посёлок Терволово', 'посёлок Торфяное', 'посёлок Усть-Ижора',\n",
       "       'посёлок Усть-Луга', 'посёлок Шушары', 'посёлок Щеглово',\n",
       "       'посёлок городского типа Важины',\n",
       "       'посёлок городского типа Вознесенье',\n",
       "       'посёлок городского типа Вырица',\n",
       "       'посёлок городского типа Красный Бор',\n",
       "       'посёлок городского типа Кузнечное',\n",
       "       'посёлок городского типа Кузьмоловский',\n",
       "       'посёлок городского типа Лебяжье', 'посёлок городского типа Мга',\n",
       "       'посёлок городского типа Павлово',\n",
       "       'посёлок городского типа Рощино', 'посёлок городского типа Рябово',\n",
       "       'посёлок городского типа Сиверский',\n",
       "       'посёлок городского типа Тайцы', 'посёлок городского типа Токсово',\n",
       "       'посёлок городского типа Ульяновка',\n",
       "       'посёлок городского типа Форносово',\n",
       "       'посёлок городского типа имени Морозова',\n",
       "       'посёлок городского типа имени Свердлова',\n",
       "       'посёлок при железнодорожной станции Вещево',\n",
       "       'посёлок станции Громово', 'посёлок станции Свирь',\n",
       "       'садоводческое некоммерческое товарищество Лесная Поляна',\n",
       "       'садовое товарищество Приладожский', 'садовое товарищество Рахья',\n",
       "       'садовое товарищество Садко', 'село Копорье', 'село Павлово',\n",
       "       'село Паша', 'село Путилово', 'село Рождествено',\n",
       "       'село Русско-Высоцкое', 'село Старая Ладога', 'село Шум'],\n",
       "      dtype=object)"
      ]
     },
     "execution_count": 25,
     "metadata": {},
     "output_type": "execute_result"
    }
   ],
   "source": [
    "#Посмотрим уникальные значения в столбце с названиями,для удобства сортируем в алфавитном порядке.\n",
    "\n",
    "data['locality_name'].sort_values().unique()"
   ]
  },
  {
   "cell_type": "markdown",
   "metadata": {},
   "source": [
    "Значений с названиями слишком много, попробуем отсортировать список уникальных значений по последнему слову"
   ]
  },
  {
   "cell_type": "code",
   "execution_count": 26,
   "metadata": {},
   "outputs": [
    {
     "data": {
      "text/plain": [
       "['not defined',\n",
       " 'деревня Агалатово',\n",
       " 'посёлок Александровская',\n",
       " 'посёлок Алексеевка',\n",
       " 'посёлок Аннино',\n",
       " 'поселок Аннино',\n",
       " 'деревня Аро',\n",
       " 'поселок Барышево',\n",
       " 'деревня Батово',\n",
       " 'деревня Бегуницы',\n",
       " 'деревня Старые Бегуницы',\n",
       " 'деревня Белогорка',\n",
       " 'посёлок Белоостров',\n",
       " 'Бокситогорск',\n",
       " 'поселок городского типа Красный Бор',\n",
       " 'Сосновый Бор',\n",
       " 'посёлок городского типа Красный Бор',\n",
       " 'деревня Бор',\n",
       " 'деревня Трубников Бор',\n",
       " 'посёлок Пансионат Зелёный Бор',\n",
       " 'поселок Пансионат Зелёный Бор',\n",
       " 'посёлок Бугры',\n",
       " 'поселок Бугры',\n",
       " 'городской посёлок Будогощь',\n",
       " 'деревня Ваганово',\n",
       " 'посёлок городского типа Важины',\n",
       " 'деревня Вартемяги',\n",
       " 'деревня Малое Верево',\n",
       " 'поселок станции Вещево',\n",
       " 'посёлок при железнодорожной станции Вещево',\n",
       " 'городской посёлок Виллози',\n",
       " 'посёлок городского типа Вознесенье',\n",
       " 'посёлок Возрождение',\n",
       " 'поселок Возрождение',\n",
       " 'поселок Войсковицы',\n",
       " 'посёлок Войскорово',\n",
       " 'поселок Володарское',\n",
       " 'Волосово',\n",
       " 'Волхов',\n",
       " 'деревня Большая Вруда',\n",
       " 'Всеволожск',\n",
       " 'Выборг',\n",
       " 'посёлок городского типа Вырица',\n",
       " 'поселок городского типа Вырица',\n",
       " 'деревня Выскатка',\n",
       " 'посёлок Высокоключевой',\n",
       " 'Высоцк',\n",
       " 'посёлок Гаврилово',\n",
       " 'поселок Гаврилово',\n",
       " 'деревня Гарболово',\n",
       " 'поселок Гарболово',\n",
       " 'Гатчина',\n",
       " 'поселок Гладкое',\n",
       " 'поселок Глажево',\n",
       " 'поселок Глебычево',\n",
       " 'деревня Глинка',\n",
       " 'поселок Гончарово',\n",
       " 'деревня Горбунки',\n",
       " 'поселок городского типа Дружная Горка',\n",
       " 'деревня Гостилицы',\n",
       " 'деревня Борисова Грива',\n",
       " 'посёлок станции Громово',\n",
       " 'поселок Громово',\n",
       " 'деревня Новое Девяткино',\n",
       " 'поселок Красная Долина',\n",
       " 'поселок Дружноселье',\n",
       " 'поселок городского типа Дубровка',\n",
       " 'поселок Елизаветино',\n",
       " 'поселок городского типа Ефимовский',\n",
       " 'поселок Жилгородок',\n",
       " 'посёлок Жилгородок',\n",
       " 'поселок Жилпосёлок',\n",
       " 'поселок Житково',\n",
       " 'поселок Заводской',\n",
       " 'деревня Заклинье',\n",
       " 'деревня Заневка',\n",
       " 'поселок Запорожское',\n",
       " 'Зеленогорск',\n",
       " 'поселок Зимитицы',\n",
       " 'деревня Зимитицы',\n",
       " 'Ивангород',\n",
       " 'городской поселок Большая Ижора',\n",
       " 'поселок городского типа Большая Ижора',\n",
       " 'деревня Извара',\n",
       " 'поселок Ильичёво',\n",
       " 'посёлок Ильичёво',\n",
       " 'деревня Иссад',\n",
       " 'деревня Калитино',\n",
       " 'поселок Калитино',\n",
       " 'поселок Каложицы',\n",
       " 'деревня Кальтино',\n",
       " 'Каменногорск',\n",
       " 'деревня Камышовка',\n",
       " 'деревня Вахнова Кара',\n",
       " 'деревня Малое Карлино',\n",
       " 'деревня Каськово',\n",
       " 'деревня Келози',\n",
       " 'посёлок Кикерино',\n",
       " 'Кингисепп',\n",
       " 'поселок Кингисеппский',\n",
       " 'деревня Кипень',\n",
       " 'Кириши',\n",
       " 'Кировск',\n",
       " 'деревня Кисельня',\n",
       " 'поселок Кобралово',\n",
       " 'посёлок Кобралово',\n",
       " 'поселок Кобринское',\n",
       " 'деревня Большие Колпаны',\n",
       " 'деревня Малые Колпаны',\n",
       " 'Колпино',\n",
       " 'деревня Колтуши',\n",
       " 'Коммунар',\n",
       " 'поселок Коммунары',\n",
       " 'поселок городского типа Кондратьево',\n",
       " 'село Копорье',\n",
       " 'поселок станции Корнево',\n",
       " 'поселок Коробицыно',\n",
       " 'поселок Котельский',\n",
       " 'поселок Красносельское',\n",
       " 'Кронштадт',\n",
       " 'деревня Кудрово',\n",
       " 'Кудрово',\n",
       " 'посёлок городского типа Кузнечное',\n",
       " 'деревня Кузьмолово',\n",
       " 'поселок городского типа Кузьмоловский',\n",
       " 'посёлок городского типа Кузьмоловский',\n",
       " 'деревня Куровицы',\n",
       " 'деревня Куттузи',\n",
       " 'деревня Лаврики',\n",
       " 'деревня Лаголово',\n",
       " 'Новая Ладога',\n",
       " 'село Старая Ладога',\n",
       " 'деревня Лампово',\n",
       " 'посёлок городского типа Лебяжье',\n",
       " 'поселок городского типа Лебяжье',\n",
       " 'посёлок Левашово',\n",
       " 'посёлок Ленинское',\n",
       " 'деревня Лесколово',\n",
       " 'коттеджный посёлок Лесное',\n",
       " 'поселок городского типа Лесогорский',\n",
       " 'Ломоносов',\n",
       " 'деревня Лопухинка',\n",
       " 'Луга',\n",
       " 'поселок станции Лужайка',\n",
       " 'деревня Лупполово',\n",
       " 'Любань',\n",
       " 'поселок Любань',\n",
       " 'поселок Старая Малукса',\n",
       " 'посёлок Старая Малукса',\n",
       " 'деревня Мануйлово',\n",
       " 'городской посёлок Мга',\n",
       " 'посёлок городского типа Мга',\n",
       " 'поселок Мельниково',\n",
       " 'посёлок Мельниково',\n",
       " 'посёлок Металлострой',\n",
       " 'деревня Мины',\n",
       " 'деревня Мистолово',\n",
       " 'посёлок Мичуринское',\n",
       " 'поселок Мичуринское',\n",
       " 'поселок Молодцово',\n",
       " 'посёлок Молодёжное',\n",
       " 'посёлок городского типа имени Морозова',\n",
       " 'посёлок Мурино',\n",
       " 'поселок Мурино',\n",
       " 'городской посёлок Назия',\n",
       " 'поселок городского типа Назия',\n",
       " 'деревня Ненимяки',\n",
       " 'деревня Нижняя',\n",
       " 'деревня Низино',\n",
       " 'поселок городского типа Никольский',\n",
       " 'Никольское',\n",
       " 'посёлок Новогорелово',\n",
       " 'городской посёлок Новоселье',\n",
       " 'поселок Лисий Нос',\n",
       " 'посёлок Лисий Нос',\n",
       " 'деревня Нурма',\n",
       " 'поселок Оредеж',\n",
       " 'деревня Оржицы',\n",
       " 'деревня Нижние Осельки',\n",
       " 'Отрадное',\n",
       " 'село Павлово',\n",
       " 'городской посёлок Павлово',\n",
       " 'посёлок городского типа Павлово',\n",
       " 'Павловск',\n",
       " 'посёлок Парголово',\n",
       " 'деревня Парицы',\n",
       " 'село Паша',\n",
       " 'деревня Пельгора',\n",
       " 'деревня Пеники',\n",
       " 'поселок Первомайское',\n",
       " 'поселок Перово',\n",
       " 'посёлок Перово',\n",
       " 'посёлок Песочный',\n",
       " 'Петергоф',\n",
       " 'посёлок Петро-Славянка',\n",
       " 'поселок Петровское',\n",
       " 'посёлок Петровское',\n",
       " 'Пикалёво',\n",
       " 'деревня Пикколово',\n",
       " 'посёлок Плодовое',\n",
       " 'посёлок Плоское',\n",
       " 'поселок Победа',\n",
       " 'Подпорожье',\n",
       " 'Лодейное Поле',\n",
       " 'садоводческое некоммерческое товарищество Лесная Поляна',\n",
       " 'поселок Поляны',\n",
       " 'посёлок Поляны',\n",
       " 'посёлок Понтонный',\n",
       " 'поселок Починок',\n",
       " 'поселок станции Приветнинское',\n",
       " 'посёлок Пригородный',\n",
       " 'поселок городского типа Приладожский',\n",
       " 'садовое товарищество Приладожский',\n",
       " 'Приморск',\n",
       " 'Приозерск',\n",
       " 'деревня Пудомяги',\n",
       " 'посёлок Пудость',\n",
       " 'деревня Большая Пустомержа',\n",
       " 'деревня Старая Пустошь',\n",
       " 'деревня Пустынка',\n",
       " 'село Путилово',\n",
       " 'Пушкин',\n",
       " 'поселок Пушное',\n",
       " 'поселок Пчевжа',\n",
       " 'деревня Рабитицы',\n",
       " 'деревня Разбегаево',\n",
       " 'деревня Разметелево',\n",
       " 'деревня Рапполово',\n",
       " 'садовое товарищество Рахья',\n",
       " 'поселок городского типа Рахья',\n",
       " 'деревня Реброво',\n",
       " 'деревня Большое Рейзино',\n",
       " 'посёлок Репино',\n",
       " 'село Рождествено',\n",
       " 'поселок Романовка',\n",
       " 'деревня Малая Романовка',\n",
       " 'поселок Ромашки',\n",
       " 'посёлок Ропша',\n",
       " 'поселок городского типа Рощино',\n",
       " 'посёлок городского типа Рощино',\n",
       " 'городской посёлок Рощино',\n",
       " 'деревня Русско',\n",
       " 'село Русско-Высоцкое',\n",
       " 'поселок Рябово',\n",
       " 'поселок городского типа Рябово',\n",
       " 'посёлок городского типа Рябово',\n",
       " 'садовое товарищество Садко',\n",
       " 'Санкт-Петербург',\n",
       " 'посёлок Сапёрное',\n",
       " 'посёлок Сапёрный',\n",
       " 'поселок городского типа имени Свердлова',\n",
       " 'посёлок городского типа имени Свердлова',\n",
       " 'посёлок Новый Свет',\n",
       " 'поселок Новый Свет',\n",
       " 'Светогорск',\n",
       " 'посёлок станции Свирь',\n",
       " 'городской посёлок Свирьстрой',\n",
       " 'поселок Севастьяново',\n",
       " 'коттеджный поселок Кивеннапа Север',\n",
       " 'поселок Селезнёво',\n",
       " 'Красное Село',\n",
       " 'поселок Сельцо',\n",
       " 'поселок Семиозерье',\n",
       " 'поселок Семрино',\n",
       " 'поселок Серебрянский',\n",
       " 'Сертолово',\n",
       " 'Сестрорецк',\n",
       " 'посёлок городского типа Сиверский',\n",
       " 'поселок городского типа Синявино',\n",
       " 'Сланцы',\n",
       " 'поселок городского типа Советский',\n",
       " 'поселок Совхозный',\n",
       " 'посёлок Сосново',\n",
       " 'деревня Старая',\n",
       " 'деревня Старополье',\n",
       " 'деревня Старосиверская',\n",
       " 'поселок Стеклянный',\n",
       " 'посёлок Стеклянный',\n",
       " 'посёлок Стрельна',\n",
       " 'посёлок Суйда',\n",
       " 'поселок Сумино',\n",
       " 'деревня Суоранда',\n",
       " 'поселок Суходолье',\n",
       " 'коттеджный поселок Счастье',\n",
       " 'деревня Сяськелево',\n",
       " 'Сясьстрой',\n",
       " 'посёлок городского типа Тайцы',\n",
       " 'деревня Тарасово',\n",
       " 'посёлок Тельмана',\n",
       " 'поселок Тельмана',\n",
       " 'поселок Терволово',\n",
       " 'посёлок Терволово',\n",
       " 'деревня Терпилицы',\n",
       " 'Тихвин',\n",
       " 'деревня Тихковицы',\n",
       " 'посёлок городского типа Токсово',\n",
       " 'поселок городского типа Токсово',\n",
       " 'поселок Торковичи',\n",
       " 'деревня Торосово',\n",
       " 'посёлок Торфяное',\n",
       " 'Тосно',\n",
       " 'поселок Тёсово-4',\n",
       " 'поселок Углово',\n",
       " 'посёлок городского типа Ульяновка',\n",
       " 'посёлок Усть-Ижора',\n",
       " 'посёлок Усть-Луга',\n",
       " 'поселок Усть-Луга',\n",
       " 'поселок Новый Учхоз',\n",
       " 'поселок Ушаки',\n",
       " 'деревня Фалилеево',\n",
       " 'поселок городского типа Форносово',\n",
       " 'посёлок городского типа Форносово',\n",
       " 'деревня Фёдоровское',\n",
       " 'городской посёлок Фёдоровское',\n",
       " 'деревня Хапо-Ое',\n",
       " 'деревня Старое Хинколово',\n",
       " 'деревня Хязельки',\n",
       " 'поселок Цвылёво',\n",
       " 'Шлиссельбург',\n",
       " 'деревня Шпаньково',\n",
       " 'село Шум',\n",
       " 'посёлок Шушары',\n",
       " 'посёлок Щеглово',\n",
       " 'деревня Щеглово',\n",
       " 'деревня Юкки',\n",
       " 'деревня Ялгино',\n",
       " 'деревня Яльгелево',\n",
       " 'деревня Ям-Тесово',\n",
       " 'городской посёлок Янино-1',\n",
       " 'городской поселок Янино-1',\n",
       " 'посёлок Платформа 69-й километр']"
      ]
     },
     "execution_count": 26,
     "metadata": {},
     "output_type": "execute_result"
    }
   ],
   "source": [
    "sorted(data['locality_name'].unique(), key=lambda x: x.split()[-1])"
   ]
  },
  {
   "cell_type": "code",
   "execution_count": 27,
   "metadata": {},
   "outputs": [
    {
     "data": {
      "text/plain": [
       "['not defined',\n",
       " 'поселок Агалатово',\n",
       " 'поселок Александровская',\n",
       " 'поселок Алексеевка',\n",
       " 'поселок Аннино',\n",
       " 'поселок Аро',\n",
       " 'поселок Барышево',\n",
       " 'поселок Батово',\n",
       " 'поселок Бегуницы',\n",
       " 'поселок Старые Бегуницы',\n",
       " 'поселок Белогорка',\n",
       " 'поселок Белоостров',\n",
       " 'Бокситогорск',\n",
       " 'поселок Красный Бор',\n",
       " 'Сосновый Бор',\n",
       " 'поселок Бор',\n",
       " 'поселок Трубников Бор',\n",
       " 'поселок Пансионат Зеленый Бор',\n",
       " 'поселок Бугры',\n",
       " 'поселок Будогощь',\n",
       " 'поселок Ваганово',\n",
       " 'поселок Важины',\n",
       " 'поселок Вартемяги',\n",
       " 'поселок Малое Верево',\n",
       " 'поселок Вещево',\n",
       " 'поселок Виллози',\n",
       " 'поселок Вознесенье',\n",
       " 'поселок Возрождение',\n",
       " 'поселок Войсковицы',\n",
       " 'поселок Войскорово',\n",
       " 'поселок Володарское',\n",
       " 'Волосово',\n",
       " 'Волхов',\n",
       " 'поселок Большая Вруда',\n",
       " 'Всеволожск',\n",
       " 'Выборг',\n",
       " 'поселок Вырица',\n",
       " 'поселок Выскатка',\n",
       " 'поселок Высокоключевой',\n",
       " 'Высоцк',\n",
       " 'поселок Гаврилово',\n",
       " 'поселок Гарболово',\n",
       " 'Гатчина',\n",
       " 'поселок Гладкое',\n",
       " 'поселок Глажево',\n",
       " 'поселок Глебычево',\n",
       " 'поселок Глинка',\n",
       " 'поселок Гончарово',\n",
       " 'поселок Горбунки',\n",
       " 'поселок Дружная Горка',\n",
       " 'поселок Гостилицы',\n",
       " 'поселок Борисова Грива',\n",
       " 'поселок Громово',\n",
       " 'поселок Новое Девяткино',\n",
       " 'поселок Красная Долина',\n",
       " 'поселок Дружноселье',\n",
       " 'поселок Дубровка',\n",
       " 'поселок Елизаветино',\n",
       " 'поселок Ефимовский',\n",
       " 'поселок Жилгородок',\n",
       " 'поселок Жилпоселок',\n",
       " 'поселок Житково',\n",
       " 'поселок Заводской',\n",
       " 'поселок Заклинье',\n",
       " 'поселок Заневка',\n",
       " 'поселок Запорожское',\n",
       " 'Зеленогорск',\n",
       " 'поселок Зимитицы',\n",
       " 'Ивангород',\n",
       " 'поселок Большая Ижора',\n",
       " 'поселок Извара',\n",
       " 'поселок Ильичево',\n",
       " 'поселок Иссад',\n",
       " 'поселок Калитино',\n",
       " 'поселок Каложицы',\n",
       " 'поселок Кальтино',\n",
       " 'Каменногорск',\n",
       " 'поселок Камышовка',\n",
       " 'поселок Вахнова Кара',\n",
       " 'поселок Малое Карлино',\n",
       " 'поселок Каськово',\n",
       " 'поселок Келози',\n",
       " 'поселок Кикерино',\n",
       " 'Кингисепп',\n",
       " 'поселок Кингисеппский',\n",
       " 'поселок Кипень',\n",
       " 'Кириши',\n",
       " 'Кировск',\n",
       " 'поселок Кисельня',\n",
       " 'поселок Кобралово',\n",
       " 'поселок Кобринское',\n",
       " 'поселок Большие Колпаны',\n",
       " 'поселок Малые Колпаны',\n",
       " 'Колпино',\n",
       " 'поселок Колтуши',\n",
       " 'Коммунар',\n",
       " 'поселок Коммунары',\n",
       " 'поселок Кондратьево',\n",
       " 'село Копорье',\n",
       " 'поселок Корнево',\n",
       " 'поселок Коробицыно',\n",
       " 'поселок Котельский',\n",
       " 'поселок Красносельское',\n",
       " 'Кронштадт',\n",
       " 'Кудрово',\n",
       " 'поселок Кузнечное',\n",
       " 'поселок Кузьмолово',\n",
       " 'поселок Кузьмоловский',\n",
       " 'поселок Куровицы',\n",
       " 'поселок Куттузи',\n",
       " 'поселок Лаврики',\n",
       " 'поселок Лаголово',\n",
       " 'Новая Ладога',\n",
       " 'село Старая Ладога',\n",
       " 'поселок Лампово',\n",
       " 'поселок Лебяжье',\n",
       " 'поселок Левашово',\n",
       " 'поселок Ленинское',\n",
       " 'поселок Лесколово',\n",
       " 'поселок Лесное',\n",
       " 'поселок Лесогорский',\n",
       " 'Ломоносов',\n",
       " 'поселок Лопухинка',\n",
       " 'Луга',\n",
       " 'поселок Лужайка',\n",
       " 'поселок Лупполово',\n",
       " 'Любань',\n",
       " 'поселок Старая Малукса',\n",
       " 'поселок Мануйлово',\n",
       " 'поселок Мга',\n",
       " 'поселок Мельниково',\n",
       " 'поселок Металлострой',\n",
       " 'поселок Мины',\n",
       " 'поселок Мистолово',\n",
       " 'поселок Мичуринское',\n",
       " 'поселок Молодежное',\n",
       " 'поселок Молодцово',\n",
       " 'поселок имени Морозова',\n",
       " 'Мурино',\n",
       " 'поселок Назия',\n",
       " 'поселок Ненимяки',\n",
       " 'поселок Нижняя',\n",
       " 'поселок Низино',\n",
       " 'поселок Никольский',\n",
       " 'Никольское',\n",
       " 'поселок Новогорелово',\n",
       " 'поселок Новоселье',\n",
       " 'поселок Лисий Нос',\n",
       " 'поселок Нурма',\n",
       " 'поселок Оредеж',\n",
       " 'поселок Оржицы',\n",
       " 'поселок Нижние Осельки',\n",
       " 'Отрадное',\n",
       " 'поселок Павлово',\n",
       " 'Павловск',\n",
       " 'поселок Парголово',\n",
       " 'поселок Парицы',\n",
       " 'село Паша',\n",
       " 'поселок Пельгора',\n",
       " 'поселок Пеники',\n",
       " 'поселок Первомайское',\n",
       " 'поселок Перово',\n",
       " 'поселок Песочный',\n",
       " 'Петергоф',\n",
       " 'поселок Петро-Славянка',\n",
       " 'поселок Петровское',\n",
       " 'Пикалево',\n",
       " 'поселок Пикколово',\n",
       " 'поселок Плодовое',\n",
       " 'поселок Плоское',\n",
       " 'поселок Победа',\n",
       " 'Подпорожье',\n",
       " 'Лодейное Поле',\n",
       " 'садоводческое некоммерческое товарищество Лесная Поляна',\n",
       " 'поселок Поляны',\n",
       " 'поселок Понтонный',\n",
       " 'поселок Починок',\n",
       " 'поселок Приветнинское',\n",
       " 'поселок Пригородный',\n",
       " 'поселок Приладожский',\n",
       " 'садовое товарищество Приладожский',\n",
       " 'Приморск',\n",
       " 'Приозерск',\n",
       " 'поселок Пудомяги',\n",
       " 'поселок Пудость',\n",
       " 'поселок Большая Пустомержа',\n",
       " 'поселок Старая Пустошь',\n",
       " 'поселок Пустынка',\n",
       " 'село Путилово',\n",
       " 'Пушкин',\n",
       " 'поселок Пушное',\n",
       " 'поселок Пчевжа',\n",
       " 'поселок Рабитицы',\n",
       " 'поселок Разбегаево',\n",
       " 'поселок Разметелево',\n",
       " 'поселок Рапполово',\n",
       " 'поселок Рахья',\n",
       " 'поселок Реброво',\n",
       " 'поселок Большое Рейзино',\n",
       " 'поселок Репино',\n",
       " 'село Рождествено',\n",
       " 'поселок Романовка',\n",
       " 'поселок Малая Романовка',\n",
       " 'поселок Ромашки',\n",
       " 'поселок Ропша',\n",
       " 'поселок Рощино',\n",
       " 'поселок Русско',\n",
       " 'село Русско-Высоцкое',\n",
       " 'поселок Рябово',\n",
       " 'садовое товарищество Садко',\n",
       " 'Санкт-Петербург',\n",
       " 'поселок Саперное',\n",
       " 'поселок Саперный',\n",
       " 'поселок имени Свердлова',\n",
       " 'поселок Новый Свет',\n",
       " 'Светогорск',\n",
       " 'поселок Свирь',\n",
       " 'поселок Свирьстрой',\n",
       " 'поселок Севастьяново',\n",
       " 'поселок Кивеннапа Север',\n",
       " 'поселок Селезнево',\n",
       " 'Красное Село',\n",
       " 'поселок Сельцо',\n",
       " 'поселок Семиозерье',\n",
       " 'поселок Семрино',\n",
       " 'поселок Серебрянский',\n",
       " 'Сертолово',\n",
       " 'Сестрорецк',\n",
       " 'поселок Сиверский',\n",
       " 'поселок Синявино',\n",
       " 'Сланцы',\n",
       " 'поселок Советский',\n",
       " 'поселок Совхозный',\n",
       " 'поселок Сосново',\n",
       " 'поселок Старая',\n",
       " 'поселок Старополье',\n",
       " 'поселок Старосиверская',\n",
       " 'поселок Стеклянный',\n",
       " 'поселок Стрельна',\n",
       " 'поселок Суйда',\n",
       " 'поселок Сумино',\n",
       " 'поселок Суоранда',\n",
       " 'поселок Суходолье',\n",
       " 'поселок Счастье',\n",
       " 'поселок Сяськелево',\n",
       " 'Сясьстрой',\n",
       " 'поселок Тайцы',\n",
       " 'поселок Тарасово',\n",
       " 'поселок Тельмана',\n",
       " 'поселок Терволово',\n",
       " 'поселок Терпилицы',\n",
       " 'поселок Тесово-4',\n",
       " 'Тихвин',\n",
       " 'поселок Тихковицы',\n",
       " 'поселок Токсово',\n",
       " 'поселок Торковичи',\n",
       " 'поселок Торосово',\n",
       " 'поселок Торфяное',\n",
       " 'Тосно',\n",
       " 'поселок Углово',\n",
       " 'поселок Ульяновка',\n",
       " 'поселок Усть-Ижора',\n",
       " 'поселок Усть-Луга',\n",
       " 'поселок Новый Учхоз',\n",
       " 'поселок Ушаки',\n",
       " 'поселок Фалилеево',\n",
       " 'поселок Федоровское',\n",
       " 'поселок Форносово',\n",
       " 'поселок Хапо-Ое',\n",
       " 'поселок Старое Хинколово',\n",
       " 'поселок Хязельки',\n",
       " 'поселок Цвылево',\n",
       " 'Шлиссельбург',\n",
       " 'поселок Шпаньково',\n",
       " 'село Шум',\n",
       " 'поселок Шушары',\n",
       " 'поселок Щеглово',\n",
       " 'поселок Юкки',\n",
       " 'поселок Ялгино',\n",
       " 'поселок Яльгелево',\n",
       " 'поселок Ям-Тесово',\n",
       " 'поселок Янино-1',\n",
       " 'поселок Платформа 69-й километр']"
      ]
     },
     "execution_count": 27,
     "metadata": {},
     "output_type": "execute_result"
    }
   ],
   "source": [
    "# устраним неявные дубликаты. чтобы сократить число повторов, заменим сначала в названиях букву ё на е. Затем пройдемся по остальным дубликатам \n",
    "data['locality_name'] = data['locality_name'].str.replace('ё', 'е')\n",
    "data['locality_name'] = data['locality_name'].str.replace('деревня', 'поселок')\n",
    "data['locality_name'] = data['locality_name'].str.replace('поселок городского типа', 'поселок')\n",
    "data['locality_name'] = data['locality_name'].str.replace('поселок станции', 'поселок')\n",
    "data['locality_name'] = data['locality_name'].str.replace('городской поселок', 'поселок')\n",
    "data['locality_name'] = data['locality_name'].str.replace('поселок Кудрово', 'Кудрово')\n",
    "data['locality_name'] = data['locality_name'].str.replace('коттеджный поселок', 'поселок')\n",
    "data['locality_name'] = data['locality_name'].str.replace('поселок Мурино', 'Мурино')\n",
    "data['locality_name'] = data['locality_name'].str.replace('село Никольское', 'Никольское')\n",
    "data['locality_name'] = data['locality_name'].str.replace('поселок при железнодорожной станции', 'поселок')\n",
    "data['locality_name'] = data['locality_name'].str.replace('поселок Любань', 'Любань')\n",
    "data['locality_name'] = data['locality_name'].str.replace('село Павлово', 'поселок Павлово')\n",
    "data['locality_name'] = data['locality_name'].str.replace('садовое товарищество Рахья', 'поселок Рахья')\n",
    "\n",
    "sorted(data['locality_name'].unique(), key=lambda x: x.split()[-1])"
   ]
  },
  {
   "cell_type": "markdown",
   "metadata": {},
   "source": [
    "Найдем и устраним редкие и выбивающиеся значения. Например, в столбце ceiling_height может быть указана высота потолков 25 м и 32 м. Логично предположить, что на самом деле это вещественные значения: 2.5 м и 3.2 м.  Обработаем аномалии в этом и других столбцах.\n",
    "Если природа аномалии понятна и данные действительно искажены, то восстановим корректное значение.\n",
    "В противном случае удалим редкие и выбивающиеся значения.\n"
   ]
  },
  {
   "cell_type": "code",
   "execution_count": 28,
   "metadata": {},
   "outputs": [
    {
     "data": {
      "image/png": "[encoded data removed]",
      "text/plain": [
       "<Figure size 1080x1440 with 20 Axes>"
      ]
     },
     "metadata": {
      "needs_background": "light"
     },
     "output_type": "display_data"
    }
   ],
   "source": [
    "#Построим общую гистограмму для всех столбцов таблицы, чтобы посмотреть редкие и выбивающиеся значения\n",
    "data.hist(figsize=(15, 20))\n",
    "plt.show()"
   ]
  },
  {
   "cell_type": "markdown",
   "metadata": {},
   "source": [
    "\n",
    "Из гистограмм видно,что у нас выбиваются значения в гистограммах по столбацам total_area,rooms,floors_total,living_area, kitchen_area, days_exposition\n",
    "Теперь пройдемся отдельно по каждому столбцу. \n"
   ]
  },
  {
   "cell_type": "code",
   "execution_count": 29,
   "metadata": {},
   "outputs": [
    {
     "data": {
      "text/plain": [
       "<AxesSubplot:>"
      ]
     },
     "execution_count": 29,
     "metadata": {},
     "output_type": "execute_result"
    },
    {
     "data": {
      "image/png": "[encoded data removed]",
      "text/plain": [
       "<Figure size 432x288 with 1 Axes>"
      ]
     },
     "metadata": {
      "needs_background": "light"
     },
     "output_type": "display_data"
    }
   ],
   "source": [
    "#построим гисторгамму для total_area\n",
    "data['total_area'].hist(bins = 100)"
   ]
  },
  {
   "cell_type": "markdown",
   "metadata": {},
   "source": [
    "\n",
    "Гисторгамма стала более информативной. Можно исключить слишком большие значения общей площади и посмoтреть на остальные.\n"
   ]
  },
  {
   "cell_type": "code",
   "execution_count": 30,
   "metadata": {
    "scrolled": false
   },
   "outputs": [
    {
     "data": {
      "image/png": "[encoded data removed]",
      "text/plain": [
       "<Figure size 432x288 with 1 Axes>"
      ]
     },
     "metadata": {
      "needs_background": "light"
     },
     "output_type": "display_data"
    }
   ],
   "source": [
    "#используя параметр range, изучим распределение общей площади в диапазоне 0 до 400\n",
    "data['total_area'].hist(bins = 100, range=(0,400))\n",
    "plt.show()"
   ]
  },
  {
   "cell_type": "code",
   "execution_count": 31,
   "metadata": {},
   "outputs": [
    {
     "data": {
      "image/png": "[encoded data removed]",
      "text/plain": [
       "<Figure size 432x288 with 1 Axes>"
      ]
     },
     "metadata": {
      "needs_background": "light"
     },
     "output_type": "display_data"
    }
   ],
   "source": [
    "#сократим range, чтобы увидеть пиковые значения\n",
    "data['total_area'].hist(bins = 100, range=(0,150))\n",
    "plt.show()"
   ]
  },
  {
   "cell_type": "code",
   "execution_count": 32,
   "metadata": {},
   "outputs": [
    {
     "data": {
      "text/plain": [
       "count    20518.000000\n",
       "mean        58.870830\n",
       "std         34.077046\n",
       "min         12.000000\n",
       "25%         39.500000\n",
       "50%         50.900000\n",
       "75%         67.900000\n",
       "max        900.000000\n",
       "Name: total_area, dtype: float64"
      ]
     },
     "execution_count": 32,
     "metadata": {},
     "output_type": "execute_result"
    }
   ],
   "source": [
    "#получим характеристики по выборке методом describe()\n",
    "data['total_area'].describe()"
   ]
  },
  {
   "cell_type": "markdown",
   "metadata": {},
   "source": [
    "Общая площадь в нашей выборке колеблется от 12до 900 м2, среднее значение 51 кв.м, а медиана 59 кв.м.\n"
   ]
  },
  {
   "cell_type": "code",
   "execution_count": 33,
   "metadata": {},
   "outputs": [
    {
     "data": {
      "image/png": "[encoded data removed]",
      "text/plain": [
       "<Figure size 432x288 with 1 Axes>"
      ]
     },
     "metadata": {
      "needs_background": "light"
     },
     "output_type": "display_data"
    }
   ],
   "source": [
    "data['living_area'].hist(bins = 100, range=(0,300))\n",
    "plt.show()"
   ]
  },
  {
   "cell_type": "code",
   "execution_count": 34,
   "metadata": {},
   "outputs": [
    {
     "data": {
      "text/plain": [
       "count    18820.000000\n",
       "mean        33.526907\n",
       "std         21.321220\n",
       "min          2.000000\n",
       "25%         18.300000\n",
       "50%         30.000000\n",
       "75%         41.600000\n",
       "max        409.700000\n",
       "Name: living_area, dtype: float64"
      ]
     },
     "execution_count": 34,
     "metadata": {},
     "output_type": "execute_result"
    }
   ],
   "source": [
    "#получим характеристики по выборке методом describe()\n",
    "data['living_area'].describe()"
   ]
  },
  {
   "cell_type": "markdown",
   "metadata": {},
   "source": [
    "Жилая площадь в нашей выборке колеблется от 2 до 409,7 м2, среднее значение 30 кв.м, а медиана 34 кв.м.  Аномальные значения более 180 кв.м"
   ]
  },
  {
   "cell_type": "code",
   "execution_count": 35,
   "metadata": {},
   "outputs": [
    {
     "data": {
      "image/png": "[encoded data removed]",
      "text/plain": [
       "<Figure size 432x288 with 1 Axes>"
      ]
     },
     "metadata": {
      "needs_background": "light"
     },
     "output_type": "display_data"
    }
   ],
   "source": [
    "data['kitchen_area'].hist(bins = 100, range=(0,100))\n",
    "plt.show()"
   ]
  },
  {
   "cell_type": "code",
   "execution_count": 36,
   "metadata": {},
   "outputs": [
    {
     "data": {
      "text/plain": [
       "count    18443.000000\n",
       "mean        10.436742\n",
       "std          5.682611\n",
       "min          2.000000\n",
       "25%          7.000000\n",
       "50%          9.100000\n",
       "75%         11.950000\n",
       "max        112.000000\n",
       "Name: kitchen_area, dtype: float64"
      ]
     },
     "execution_count": 36,
     "metadata": {},
     "output_type": "execute_result"
    }
   ],
   "source": [
    "#получим характеристики по выборке методом describe()\n",
    "data['kitchen_area'].describe()"
   ]
  },
  {
   "cell_type": "markdown",
   "metadata": {},
   "source": [
    "Площадь кухни в нашей выборке колеблется от 2 до 112 м2, среднее значение 9 кв.м, а медиана 10,4 кв.м.  Аномальные значения более 50 кв.м"
   ]
  },
  {
   "cell_type": "markdown",
   "metadata": {},
   "source": [
    "\n",
    "Для уточнения аномальных значений в стоблцах 'total_area','living_area','kitchen_area' построим диаграмму размаха. непопадание в  75% перцентиль + 1.5 мкр является достаточным основанием для отнесения наблюдений к выбросам\n"
   ]
  },
  {
   "cell_type": "code",
   "execution_count": 37,
   "metadata": {},
   "outputs": [
    {
     "data": {
      "image/png": "[encoded data removed]",
      "text/plain": [
       "<Figure size 432x288 with 1 Axes>"
      ]
     },
     "metadata": {
      "needs_background": "light"
     },
     "output_type": "display_data"
    }
   ],
   "source": [
    "data.boxplot(column=['total_area','living_area','kitchen_area'])\n",
    "plt.ylim(0,125)\n",
    "plt.show()"
   ]
  },
  {
   "cell_type": "code",
   "execution_count": 38,
   "metadata": {},
   "outputs": [
    {
     "data": {
      "image/png": "[encoded data removed]",
      "text/plain": [
       "<Figure size 432x288 with 1 Axes>"
      ]
     },
     "metadata": {
      "needs_background": "light"
     },
     "output_type": "display_data"
    }
   ],
   "source": [
    "data['rooms'].hist(bins = 20, range=(0,20))\n",
    "plt.show()"
   ]
  },
  {
   "cell_type": "code",
   "execution_count": 39,
   "metadata": {},
   "outputs": [
    {
     "data": {
      "text/plain": [
       "count    20518.000000\n",
       "mean         2.024564\n",
       "std          1.054808\n",
       "min          0.000000\n",
       "25%          1.000000\n",
       "50%          2.000000\n",
       "75%          3.000000\n",
       "max         19.000000\n",
       "Name: rooms, dtype: float64"
      ]
     },
     "execution_count": 39,
     "metadata": {},
     "output_type": "execute_result"
    }
   ],
   "source": [
    "#получим характеристики по выборке методом describe()\n",
    "data['rooms'].describe()"
   ]
  },
  {
   "cell_type": "markdown",
   "metadata": {},
   "source": [
    "Количество комнат колеблется от 1 до 19, среднее значение 2, а медиана 2.  Аномальные значения более 6"
   ]
  },
  {
   "cell_type": "code",
   "execution_count": 40,
   "metadata": {},
   "outputs": [
    {
     "data": {
      "image/png": "[encoded data removed]",
      "text/plain": [
       "<Figure size 432x288 with 1 Axes>"
      ]
     },
     "metadata": {
      "needs_background": "light"
     },
     "output_type": "display_data"
    }
   ],
   "source": [
    "\n",
    "data['floors_total'].hist(bins = 30, range=(0,70))\n",
    "plt.show()"
   ]
  },
  {
   "cell_type": "code",
   "execution_count": 41,
   "metadata": {},
   "outputs": [
    {
     "data": {
      "text/plain": [
       "count    20518.000000\n",
       "mean        10.856760\n",
       "std          6.650436\n",
       "min          1.000000\n",
       "25%          5.000000\n",
       "50%          9.000000\n",
       "75%         16.000000\n",
       "max         60.000000\n",
       "Name: floors_total, dtype: float64"
      ]
     },
     "execution_count": 41,
     "metadata": {},
     "output_type": "execute_result"
    }
   ],
   "source": [
    "#получим характеристики по выборке методом describe()\n",
    "data['floors_total'].describe()"
   ]
  },
  {
   "cell_type": "markdown",
   "metadata": {},
   "source": [
    "Количество этажей в доме колеблется от 1 до 60, среднее значение 9, а медиана 10,8.  Аномальные значения более 30"
   ]
  },
  {
   "cell_type": "code",
   "execution_count": 42,
   "metadata": {},
   "outputs": [
    {
     "data": {
      "image/png": "[encoded data removed]",
      "text/plain": [
       "<Figure size 432x288 with 1 Axes>"
      ]
     },
     "metadata": {
      "needs_background": "light"
     },
     "output_type": "display_data"
    }
   ],
   "source": [
    "data['days_exposition'].hist(bins = 50, range=(0,1500))\n",
    "plt.show()"
   ]
  },
  {
   "cell_type": "code",
   "execution_count": 43,
   "metadata": {},
   "outputs": [
    {
     "data": {
      "text/plain": [
       "count    20518.000000\n",
       "mean       180.888634\n",
       "std        219.727988\n",
       "min          1.000000\n",
       "25%         45.000000\n",
       "50%         95.000000\n",
       "75%        232.000000\n",
       "max       1580.000000\n",
       "Name: days_exposition, dtype: float64"
      ]
     },
     "execution_count": 43,
     "metadata": {},
     "output_type": "execute_result"
    }
   ],
   "source": [
    "data['days_exposition'].describe()"
   ]
  },
  {
   "cell_type": "markdown",
   "metadata": {},
   "source": [
    "Количество дней публикации объявления колеблется от 0 до 1580, среднее значение 95, а медиана 180.  Аномальные значения более 900"
   ]
  },
  {
   "cell_type": "code",
   "execution_count": 44,
   "metadata": {},
   "outputs": [
    {
     "data": {
      "image/png": "[encoded data removed]",
      "text/plain": [
       "<Figure size 432x288 with 1 Axes>"
      ]
     },
     "metadata": {
      "needs_background": "light"
     },
     "output_type": "display_data"
    }
   ],
   "source": [
    "data['floor'].hist(bins = 50, range=(0,50))\n",
    "plt.show()"
   ]
  },
  {
   "cell_type": "code",
   "execution_count": 45,
   "metadata": {},
   "outputs": [
    {
     "data": {
      "text/plain": [
       "count    20518.000000\n",
       "mean         5.987133\n",
       "std          4.943915\n",
       "min          1.000000\n",
       "25%          2.000000\n",
       "50%          4.000000\n",
       "75%          8.000000\n",
       "max         33.000000\n",
       "Name: floor, dtype: float64"
      ]
     },
     "execution_count": 45,
     "metadata": {},
     "output_type": "execute_result"
    }
   ],
   "source": [
    "data['floor'].describe()"
   ]
  },
  {
   "cell_type": "markdown",
   "metadata": {},
   "source": [
    "Значение в столбце \"Этаж квартиры\" колеблется от 1 до 33, среднее значение 4, а медиана 6.  Аномальные значения более 25"
   ]
  },
  {
   "cell_type": "code",
   "execution_count": 46,
   "metadata": {},
   "outputs": [],
   "source": [
    "#убираем аномальные значения в столбцах total_area,rooms,floors_total,living_area, kitchen_area, days_exposition\n",
    "data = data.query('total_area<=300 and living_area<=180 and kitchen_area<=50 and rooms<=6 and floors_total<=30 and days_exposition<=1000 and floor<=25')"
   ]
  },
  {
   "cell_type": "code",
   "execution_count": 47,
   "metadata": {},
   "outputs": [
    {
     "data": {
      "text/plain": [
       "count    17692.000000\n",
       "mean         2.708417\n",
       "std          0.959365\n",
       "min          1.000000\n",
       "25%          2.600000\n",
       "50%          2.650000\n",
       "75%          2.700000\n",
       "max        100.000000\n",
       "Name: ceiling_height, dtype: float64"
      ]
     },
     "execution_count": 47,
     "metadata": {},
     "output_type": "execute_result"
    }
   ],
   "source": [
    "#убираем аномальные значения в столбце высоты потолка, получим характеристики по выборке методом describe()\n",
    "data['ceiling_height'].describe()"
   ]
  },
  {
   "cell_type": "markdown",
   "metadata": {},
   "source": [
    "Видно, что максимальное значение аномальное(высота потолка 100 м). также есть значения с высотой менее 2 м,что также кажется неккоректным. заполним аномальные значения (менее 2 м и более 5 м) и значения Nan медианой. выведим отсортированный список"
   ]
  },
  {
   "cell_type": "code",
   "execution_count": 48,
   "metadata": {},
   "outputs": [
    {
     "data": {
      "text/plain": [
       "21923    4.9\n",
       "2802     4.8\n",
       "1300     4.7\n",
       "10159    4.5\n",
       "6802     4.5\n",
       "        ... \n",
       "19098    2.0\n",
       "16884    2.0\n",
       "20520    2.0\n",
       "11352    2.0\n",
       "552      2.0\n",
       "Name: ceiling_height, Length: 17692, dtype: float64"
      ]
     },
     "execution_count": 48,
     "metadata": {},
     "output_type": "execute_result"
    }
   ],
   "source": [
    "data['ceiling_height'] = data['ceiling_height'].fillna(data['ceiling_height'].median())\n",
    "data.loc[(data['ceiling_height']<2) | (data['ceiling_height']>5), 'ceiling_height'] =data['ceiling_height'].median()\n",
    "data['ceiling_height'].sort_values(ascending=False)\n"
   ]
  },
  {
   "cell_type": "code",
   "execution_count": 49,
   "metadata": {
    "scrolled": true
   },
   "outputs": [
    {
     "data": {
      "text/plain": [
       "count    17692.000000\n",
       "mean         2.686836\n",
       "std          0.200959\n",
       "min          2.000000\n",
       "25%          2.600000\n",
       "50%          2.650000\n",
       "75%          2.700000\n",
       "max          4.900000\n",
       "Name: ceiling_height, dtype: float64"
      ]
     },
     "execution_count": 49,
     "metadata": {},
     "output_type": "execute_result"
    }
   ],
   "source": [
    "data['ceiling_height'].describe()"
   ]
  },
  {
   "cell_type": "markdown",
   "metadata": {},
   "source": [
    "Добавим в таблицу новые столбцы со следующими параметрами:\n",
    "цена одного квадратного метра;\n",
    "день недели публикации объявления (0 — понедельник, 1 — вторник и так далее);\n",
    "месяц публикации объявления;\n",
    "год публикации объявления;\n",
    "тип этажа квартиры (значения — «‎первый», «последний», «другой»);\n",
    "расстояние до центра города в километрах (переведите из м в км и округлите до целых значений)."
   ]
  },
  {
   "cell_type": "code",
   "execution_count": 50,
   "metadata": {},
   "outputs": [
    {
     "data": {
      "text/html": [
       "<div>\n",
       "<style scoped>\n",
       "    .dataframe tbody tr th:only-of-type {\n",
       "        vertical-align: middle;\n",
       "    }\n",
       "\n",
       "    .dataframe tbody tr th {\n",
       "        vertical-align: top;\n",
       "    }\n",
       "\n",
       "    .dataframe thead th {\n",
       "        text-align: right;\n",
       "    }\n",
       "</style>\n",
       "<table border=\"1\" class=\"dataframe\">\n",
       "  <thead>\n",
       "    <tr style=\"text-align: right;\">\n",
       "      <th></th>\n",
       "      <th>total_images</th>\n",
       "      <th>last_price</th>\n",
       "      <th>total_area</th>\n",
       "      <th>first_day_exposition</th>\n",
       "      <th>rooms</th>\n",
       "      <th>ceiling_height</th>\n",
       "      <th>floors_total</th>\n",
       "      <th>living_area</th>\n",
       "      <th>floor</th>\n",
       "      <th>is_apartment</th>\n",
       "      <th>studio</th>\n",
       "      <th>open_plan</th>\n",
       "      <th>kitchen_area</th>\n",
       "      <th>balcony</th>\n",
       "      <th>locality_name</th>\n",
       "      <th>airports_nearest</th>\n",
       "      <th>cityCenters_nearest</th>\n",
       "      <th>parks_around3000</th>\n",
       "      <th>parks_nearest</th>\n",
       "      <th>ponds_around3000</th>\n",
       "      <th>ponds_nearest</th>\n",
       "      <th>days_exposition</th>\n",
       "      <th>price_square_meter</th>\n",
       "      <th>weekday</th>\n",
       "      <th>month</th>\n",
       "      <th>year</th>\n",
       "      <th>floor_type</th>\n",
       "      <th>cityCenters_nearest_km</th>\n",
       "    </tr>\n",
       "  </thead>\n",
       "  <tbody>\n",
       "    <tr>\n",
       "      <th>1</th>\n",
       "      <td>7</td>\n",
       "      <td>3350000</td>\n",
       "      <td>40.4</td>\n",
       "      <td>2018-12-04</td>\n",
       "      <td>1</td>\n",
       "      <td>2.65</td>\n",
       "      <td>11</td>\n",
       "      <td>18.6</td>\n",
       "      <td>1</td>\n",
       "      <td>False</td>\n",
       "      <td>False</td>\n",
       "      <td>False</td>\n",
       "      <td>11.0</td>\n",
       "      <td>2</td>\n",
       "      <td>поселок Шушары</td>\n",
       "      <td>12817.0</td>\n",
       "      <td>18603.0</td>\n",
       "      <td>0</td>\n",
       "      <td>NaN</td>\n",
       "      <td>0</td>\n",
       "      <td>NaN</td>\n",
       "      <td>81</td>\n",
       "      <td>83750.0</td>\n",
       "      <td>1</td>\n",
       "      <td>12</td>\n",
       "      <td>2018</td>\n",
       "      <td>Первый</td>\n",
       "      <td>19.0</td>\n",
       "    </tr>\n",
       "    <tr>\n",
       "      <th>2</th>\n",
       "      <td>10</td>\n",
       "      <td>5196000</td>\n",
       "      <td>56.0</td>\n",
       "      <td>2015-08-20</td>\n",
       "      <td>2</td>\n",
       "      <td>2.65</td>\n",
       "      <td>5</td>\n",
       "      <td>34.3</td>\n",
       "      <td>4</td>\n",
       "      <td>False</td>\n",
       "      <td>False</td>\n",
       "      <td>False</td>\n",
       "      <td>8.3</td>\n",
       "      <td>0</td>\n",
       "      <td>Санкт-Петербург</td>\n",
       "      <td>21741.0</td>\n",
       "      <td>13933.0</td>\n",
       "      <td>1</td>\n",
       "      <td>90.0</td>\n",
       "      <td>2</td>\n",
       "      <td>574.0</td>\n",
       "      <td>558</td>\n",
       "      <td>92786.0</td>\n",
       "      <td>3</td>\n",
       "      <td>8</td>\n",
       "      <td>2015</td>\n",
       "      <td>Другой</td>\n",
       "      <td>14.0</td>\n",
       "    </tr>\n",
       "    <tr>\n",
       "      <th>4</th>\n",
       "      <td>2</td>\n",
       "      <td>10000000</td>\n",
       "      <td>100.0</td>\n",
       "      <td>2018-06-19</td>\n",
       "      <td>2</td>\n",
       "      <td>3.03</td>\n",
       "      <td>14</td>\n",
       "      <td>32.0</td>\n",
       "      <td>13</td>\n",
       "      <td>False</td>\n",
       "      <td>False</td>\n",
       "      <td>False</td>\n",
       "      <td>41.0</td>\n",
       "      <td>0</td>\n",
       "      <td>Санкт-Петербург</td>\n",
       "      <td>31856.0</td>\n",
       "      <td>8098.0</td>\n",
       "      <td>2</td>\n",
       "      <td>112.0</td>\n",
       "      <td>1</td>\n",
       "      <td>48.0</td>\n",
       "      <td>121</td>\n",
       "      <td>100000.0</td>\n",
       "      <td>1</td>\n",
       "      <td>6</td>\n",
       "      <td>2018</td>\n",
       "      <td>Другой</td>\n",
       "      <td>8.0</td>\n",
       "    </tr>\n",
       "    <tr>\n",
       "      <th>5</th>\n",
       "      <td>10</td>\n",
       "      <td>2890000</td>\n",
       "      <td>30.4</td>\n",
       "      <td>2018-09-10</td>\n",
       "      <td>1</td>\n",
       "      <td>2.65</td>\n",
       "      <td>12</td>\n",
       "      <td>14.4</td>\n",
       "      <td>5</td>\n",
       "      <td>False</td>\n",
       "      <td>False</td>\n",
       "      <td>False</td>\n",
       "      <td>9.1</td>\n",
       "      <td>0</td>\n",
       "      <td>поселок Янино-1</td>\n",
       "      <td>NaN</td>\n",
       "      <td>NaN</td>\n",
       "      <td>0</td>\n",
       "      <td>NaN</td>\n",
       "      <td>0</td>\n",
       "      <td>NaN</td>\n",
       "      <td>55</td>\n",
       "      <td>96333.0</td>\n",
       "      <td>0</td>\n",
       "      <td>9</td>\n",
       "      <td>2018</td>\n",
       "      <td>Другой</td>\n",
       "      <td>NaN</td>\n",
       "    </tr>\n",
       "    <tr>\n",
       "      <th>6</th>\n",
       "      <td>6</td>\n",
       "      <td>3700000</td>\n",
       "      <td>37.3</td>\n",
       "      <td>2017-11-02</td>\n",
       "      <td>1</td>\n",
       "      <td>2.65</td>\n",
       "      <td>26</td>\n",
       "      <td>10.6</td>\n",
       "      <td>6</td>\n",
       "      <td>False</td>\n",
       "      <td>False</td>\n",
       "      <td>False</td>\n",
       "      <td>14.4</td>\n",
       "      <td>1</td>\n",
       "      <td>поселок Парголово</td>\n",
       "      <td>52996.0</td>\n",
       "      <td>19143.0</td>\n",
       "      <td>0</td>\n",
       "      <td>NaN</td>\n",
       "      <td>0</td>\n",
       "      <td>NaN</td>\n",
       "      <td>155</td>\n",
       "      <td>100000.0</td>\n",
       "      <td>3</td>\n",
       "      <td>11</td>\n",
       "      <td>2017</td>\n",
       "      <td>Другой</td>\n",
       "      <td>19.0</td>\n",
       "    </tr>\n",
       "  </tbody>\n",
       "</table>\n",
       "</div>"
      ],
      "text/plain": [
       "   total_images  last_price  total_area first_day_exposition  rooms  \\\n",
       "1             7     3350000        40.4           2018-12-04      1   \n",
       "2            10     5196000        56.0           2015-08-20      2   \n",
       "4             2    10000000       100.0           2018-06-19      2   \n",
       "5            10     2890000        30.4           2018-09-10      1   \n",
       "6             6     3700000        37.3           2017-11-02      1   \n",
       "\n",
       "   ceiling_height  floors_total  living_area  floor is_apartment  studio  \\\n",
       "1            2.65            11         18.6      1        False   False   \n",
       "2            2.65             5         34.3      4        False   False   \n",
       "4            3.03            14         32.0     13        False   False   \n",
       "5            2.65            12         14.4      5        False   False   \n",
       "6            2.65            26         10.6      6        False   False   \n",
       "\n",
       "   open_plan  kitchen_area  balcony      locality_name  airports_nearest  \\\n",
       "1      False          11.0        2     поселок Шушары           12817.0   \n",
       "2      False           8.3        0    Санкт-Петербург           21741.0   \n",
       "4      False          41.0        0    Санкт-Петербург           31856.0   \n",
       "5      False           9.1        0    поселок Янино-1               NaN   \n",
       "6      False          14.4        1  поселок Парголово           52996.0   \n",
       "\n",
       "   cityCenters_nearest  parks_around3000  parks_nearest  ponds_around3000  \\\n",
       "1              18603.0                 0            NaN                 0   \n",
       "2              13933.0                 1           90.0                 2   \n",
       "4               8098.0                 2          112.0                 1   \n",
       "5                  NaN                 0            NaN                 0   \n",
       "6              19143.0                 0            NaN                 0   \n",
       "\n",
       "   ponds_nearest  days_exposition  price_square_meter  weekday  month  year  \\\n",
       "1            NaN               81             83750.0        1     12  2018   \n",
       "2          574.0              558             92786.0        3      8  2015   \n",
       "4           48.0              121            100000.0        1      6  2018   \n",
       "5            NaN               55             96333.0        0      9  2018   \n",
       "6            NaN              155            100000.0        3     11  2017   \n",
       "\n",
       "  floor_type  cityCenters_nearest_km  \n",
       "1     Первый                    19.0  \n",
       "2     Другой                    14.0  \n",
       "4     Другой                     8.0  \n",
       "5     Другой                     NaN  \n",
       "6     Другой                    19.0  "
      ]
     },
     "execution_count": 50,
     "metadata": {},
     "output_type": "execute_result"
    }
   ],
   "source": [
    "#цена одного квадратного метра, приведем к типу int,округлим значения до целого\n",
    "data['price_square_meter'] = data['last_price']/data['total_area'].astype('int')\n",
    "data = data.round({'price_square_meter': 0})\n",
    "\n",
    "#день недели публикации\n",
    "data['weekday'] = data['first_day_exposition'].dt.weekday\n",
    "\n",
    "#месяц публикации объявления \n",
    "data['month'] = data['first_day_exposition'].dt.month\n",
    "\n",
    "# год публикации объявления\n",
    "data['year'] = data['first_day_exposition'].dt.year\n",
    "\n",
    "# тип этажа квартиры (значения — «первый», «последний», «другой»)\n",
    "def floor_type(floor):\n",
    "    if floor['floor'] == 1:\n",
    "        return 'Первый'\n",
    "    elif floor['floor'] == floor['floors_total']:\n",
    "        return 'Последний'\n",
    "    else:\n",
    "        return 'Другой'\n",
    "    \n",
    "data['floor_type'] = data.apply(floor_type, axis=1)\n",
    "\n",
    "#расстояние до центра города в километрах (перевем из м в км и округлим до целых значений)\n",
    "data['cityCenters_nearest_km'] = data['cityCenters_nearest'] / 1000\n",
    "data = data.round({'cityCenters_nearest_km': 0})\n",
    "\n",
    "#выводим первые 5 строк, чтобы убедиться,что новые столбцы добавлены\n",
    "\n",
    "data.head()\n",
    "\n",
    "\n",
    "     "
   ]
  },
  {
   "cell_type": "markdown",
   "metadata": {},
   "source": [
    "### Проведем исследовательский анализ данных"
   ]
  },
  {
   "cell_type": "markdown",
   "metadata": {},
   "source": [
    "# Изучение основных параметров: \n",
    "Общая площадь;\n",
    "жилая площадь;\n",
    "площадь кухни;\n",
    "цена объекта;\n",
    "количество комнат;\n",
    "высота потолков;\n",
    "этаж квартиры;\n",
    "тип этажа квартиры («первый», «последний», «другой»);\n",
    "общее количество этажей в доме;\n",
    "расстояние до центра города в метрах;\n",
    "расстояние до ближайшего аэропорта;\n",
    "расстояние до ближайшего парка;\n",
    "день и месяц публикации объявления."
   ]
  },
  {
   "cell_type": "code",
   "execution_count": 51,
   "metadata": {},
   "outputs": [
    {
     "data": {
      "image/png": "[encoded data removed]",
      "text/plain": [
       "<Figure size 432x288 with 1 Axes>"
      ]
     },
     "metadata": {
      "needs_background": "light"
     },
     "output_type": "display_data"
    }
   ],
   "source": [
    "#общая площадь\n",
    "plt.hist(data['total_area'], bins=30, range=(10,200))\n",
    "plt.title('Общая площадь')\n",
    "plt.xlabel('Квадратные метры')\n",
    "plt.ylabel('Количество квартир')\n",
    "plt.show()"
   ]
  },
  {
   "cell_type": "markdown",
   "metadata": {},
   "source": [
    "Большинство квартир - менее 75 кв.м, больше 150 кв.м площадь практически не встречается. "
   ]
  },
  {
   "cell_type": "code",
   "execution_count": 52,
   "metadata": {},
   "outputs": [
    {
     "data": {
      "image/png": "[encoded data removed]",
      "text/plain": [
       "<Figure size 432x288 with 1 Axes>"
      ]
     },
     "metadata": {
      "needs_background": "light"
     },
     "output_type": "display_data"
    }
   ],
   "source": [
    "#жилая площадь\n",
    "plt.hist(data['living_area'], bins=70, range=(10,80))\n",
    "plt.title('Жилая площадь')\n",
    "plt.xlabel('Квадратные метры')\n",
    "plt.ylabel('Количество квартир')\n",
    "plt.show()"
   ]
  },
  {
   "cell_type": "markdown",
   "metadata": {},
   "source": [
    "Самые распространённые варианты с жилой площадью от 15 до 50 метров. После 80 метров встречаются единичные случаи. Два пика графика вызваны, вероятно, тем, что это жилые площади для 1-комнатной, затем для 2-комнатной и после этого для 3-комнатной квартиры."
   ]
  },
  {
   "cell_type": "code",
   "execution_count": 53,
   "metadata": {},
   "outputs": [
    {
     "data": {
      "image/png": "[encoded data removed]",
      "text/plain": [
       "<Figure size 432x288 with 1 Axes>"
      ]
     },
     "metadata": {
      "needs_background": "light"
     },
     "output_type": "display_data"
    }
   ],
   "source": [
    "#площадь кухни\n",
    "plt.hist(data['kitchen_area'], bins=30, range=(0,30))\n",
    "plt.title('Площадь кухни')\n",
    "plt.xlabel('Квадратные метры')\n",
    "plt.ylabel('Количество квартир')\n",
    "plt.show()"
   ]
  },
  {
   "cell_type": "markdown",
   "metadata": {},
   "source": [
    "Самые распространённые кухни - от 5 до 15 метров. Больше 20 метров кухни практически не встречаются. "
   ]
  },
  {
   "cell_type": "code",
   "execution_count": 54,
   "metadata": {},
   "outputs": [
    {
     "data": {
      "image/png": "[encoded data removed]",
      "text/plain": [
       "<Figure size 432x288 with 1 Axes>"
      ]
     },
     "metadata": {
      "needs_background": "light"
     },
     "output_type": "display_data"
    },
    {
     "name": "stdout",
     "output_type": "stream",
     "text": [
      "Наибольшие по цене варианты:\n",
      "1436     330000000\n",
      "8900     190870000\n",
      "19155    160000000\n",
      "2536     159984000\n",
      "16495    159000000\n",
      "Name: last_price, dtype: int64\n"
     ]
    }
   ],
   "source": [
    "#Цена объекта\n",
    "plt.hist(data['last_price'], bins=30, range=(0,20000000))\n",
    "plt.title('Стоимость квартиры')\n",
    "plt.xlabel('Стоимость')\n",
    "plt.ylabel('Количество квартир')\n",
    "plt.show()\n",
    "print('Наибольшие по цене варианты:')\n",
    "print(data['last_price'].sort_values(ascending=False).head())"
   ]
  },
  {
   "cell_type": "markdown",
   "metadata": {},
   "source": [
    "В основном стоимость квартир - порядка 2,5-7,5 миллионов. Больше 20 миллионов вариантов мало, а некоторые - на порядок дороже(159-330 млн)."
   ]
  },
  {
   "cell_type": "code",
   "execution_count": 55,
   "metadata": {},
   "outputs": [
    {
     "data": {
      "image/png": "[encoded data removed]",
      "text/plain": [
       "<Figure size 432x288 with 1 Axes>"
      ]
     },
     "metadata": {
      "needs_background": "light"
     },
     "output_type": "display_data"
    }
   ],
   "source": [
    "#Количество комнат\n",
    "plt.hist(data['rooms'], bins=7, range=(1,7))\n",
    "plt.title('Комнаты')\n",
    "plt.xlabel('Количество комнат')\n",
    "plt.ylabel('Количество квартир')\n",
    "plt.show()"
   ]
  },
  {
   "cell_type": "markdown",
   "metadata": {},
   "source": [
    "В основном квартиры состоят из 1, 2 и 3 комнат. Есть небольшая доля 4-комнатных квартир."
   ]
  },
  {
   "cell_type": "code",
   "execution_count": 56,
   "metadata": {},
   "outputs": [
    {
     "data": {
      "image/png": "[encoded data removed]",
      "text/plain": [
       "<Figure size 432x288 with 1 Axes>"
      ]
     },
     "metadata": {
      "needs_background": "light"
     },
     "output_type": "display_data"
    }
   ],
   "source": [
    "#Высота потолков\n",
    "plt.hist(data['ceiling_height'], bins=20)\n",
    "plt.title('Высота потолков')\n",
    "plt.xlabel('Метры')\n",
    "plt.ylabel('Количество квартир')\n",
    "plt.show()"
   ]
  },
  {
   "cell_type": "markdown",
   "metadata": {},
   "source": [
    "Большинство вариантов имеют высоту потолков от 2,5 до 3 метров. "
   ]
  },
  {
   "cell_type": "code",
   "execution_count": 57,
   "metadata": {
    "scrolled": true
   },
   "outputs": [
    {
     "data": {
      "image/png": "[encoded data removed]",
      "text/plain": [
       "<Figure size 432x288 with 1 Axes>"
      ]
     },
     "metadata": {
      "needs_background": "light"
     },
     "output_type": "display_data"
    },
    {
     "data": {
      "image/png": "[encoded data removed]",
      "text/plain": [
       "<Figure size 432x288 with 1 Axes>"
      ]
     },
     "metadata": {
      "needs_background": "light"
     },
     "output_type": "display_data"
    },
    {
     "data": {
      "image/png": "[encoded data removed]",
      "text/plain": [
       "<Figure size 432x288 with 1 Axes>"
      ]
     },
     "metadata": {
      "needs_background": "light"
     },
     "output_type": "display_data"
    }
   ],
   "source": [
    "#Этаж квартиры, тип этажа квартиры\n",
    "plt.hist(data['floor'], bins=20)\n",
    "plt.title('Этаж квартиры')\n",
    "plt.xlabel('Метры')\n",
    "plt.ylabel('Количество этажей')\n",
    "plt.show()\n",
    "\n",
    "#тип этажа квартиры\n",
    "plt.hist(data['floor_type'], bins=5)\n",
    "plt.title('Тип этажа квартиры')\n",
    "plt.xlabel('Тип этажа')\n",
    "plt.ylabel('Количество квартир')\n",
    "plt.show()\n",
    "\n",
    "#общее количество этажей в доме\n",
    "plt.hist(data['floors_total'], bins=20)\n",
    "plt.title('Общее количество этажей в доме')\n",
    "plt.xlabel('Количество этажей')\n",
    "plt.ylabel('Количество квартир')\n",
    "plt.show()"
   ]
  },
  {
   "cell_type": "markdown",
   "metadata": {},
   "source": [
    "В основном преобладают квартиры ниже 5 этажа, скорее всего, скорее всего это связано с тем,что квартиры продаются в малоэтажных домах(4-5 этажные). Реже стречаются квартиры до 10 этажа.  Первый и последний этаж встречаются реже, чем другие.\n",
    "Гистограммой \"Общее количество этажей\" подтверждает наши выводы о том, что в наших данных преобладают 5-ти этажные дома"
   ]
  },
  {
   "cell_type": "code",
   "execution_count": 58,
   "metadata": {},
   "outputs": [
    {
     "data": {
      "image/png": "[encoded data removed]",
      "text/plain": [
       "<Figure size 432x288 with 1 Axes>"
      ]
     },
     "metadata": {
      "needs_background": "light"
     },
     "output_type": "display_data"
    },
    {
     "data": {
      "image/png": "[encoded data removed]",
      "text/plain": [
       "<Figure size 432x288 with 1 Axes>"
      ]
     },
     "metadata": {
      "needs_background": "light"
     },
     "output_type": "display_data"
    },
    {
     "data": {
      "image/png": "[encoded data removed]",
      "text/plain": [
       "<Figure size 432x288 with 1 Axes>"
      ]
     },
     "metadata": {
      "needs_background": "light"
     },
     "output_type": "display_data"
    }
   ],
   "source": [
    "#Расстояние до центра города в метрах\n",
    "plt.hist(data['cityCenters_nearest'], bins=(10))\n",
    "plt.title('Расстояние до центра города в метрах')\n",
    "plt.xlabel('Метры')\n",
    "plt.ylabel('Количество квартир')\n",
    "plt.show()\n",
    "\n",
    "#Расстояние до ближайшего аэропорта\n",
    "plt.hist(data['airports_nearest'], bins=(50))\n",
    "plt.title('Расстояние до ближайшего аэропорта')\n",
    "plt.xlabel('Метры')\n",
    "plt.ylabel('Количество квартир')\n",
    "plt.show()\n",
    "\n",
    "#Расстояние до ближайшего парка\n",
    "plt.hist(data['parks_nearest'], bins=(10))\n",
    "plt.title('Расстояние до ближайшего парка')\n",
    "plt.xlabel('Метры')\n",
    "plt.ylabel('Количество квартир')\n",
    "plt.show()"
   ]
  },
  {
   "cell_type": "markdown",
   "metadata": {},
   "source": [
    "Практически возле каждой квартиры есть парк на расстоянии до 1 км. \n",
    "Большая часть квартир удалены от центра до 10-20 км. Но и есть шанс найти квартиру в центе, таких объявлений около 2,7 тысяч.\n",
    "Аэропорт расположен в целом на расстоянии 15-40 км\n"
   ]
  },
  {
   "cell_type": "code",
   "execution_count": 59,
   "metadata": {},
   "outputs": [
    {
     "data": {
      "image/png": "[encoded data removed]",
      "text/plain": [
       "<Figure size 432x288 with 1 Axes>"
      ]
     },
     "metadata": {
      "needs_background": "light"
     },
     "output_type": "display_data"
    },
    {
     "data": {
      "image/png": "[encoded data removed]",
      "text/plain": [
       "<Figure size 432x288 with 1 Axes>"
      ]
     },
     "metadata": {
      "needs_background": "light"
     },
     "output_type": "display_data"
    }
   ],
   "source": [
    "#День публикации объявления\n",
    "plt.hist(data['weekday'], bins=(7))\n",
    "plt.title('День публикации объявления')\n",
    "plt.xlabel('День')\n",
    "plt.ylabel('Количество квартир')\n",
    "plt.show()\n",
    "\n",
    "# Месяц публикации объявления\n",
    "plt.hist(data['month'], bins=(10))\n",
    "plt.title('Месяц публикации объявления')\n",
    "plt.xlabel('Месяц')\n",
    "plt.ylabel('Количество квартир')\n",
    "plt.show()"
   ]
  },
  {
   "cell_type": "markdown",
   "metadata": {},
   "source": [
    "Квартиры выставляют на продажу круглогодично, но в январе и декабре продают в два раза чаще. В пятницу и в субботу объявления выклыдывают реже,чем в остальные дни недели"
   ]
  },
  {
   "cell_type": "markdown",
   "metadata": {},
   "source": [
    "# Изучим, как быстро продавались квартиры. "
   ]
  },
  {
   "cell_type": "markdown",
   "metadata": {},
   "source": [
    "Столбец days_exposition показывает, сколько дней было размещено каждое объявление.\n",
    "Построим гистограмму.Посчитаем среднее и медиану."
   ]
  },
  {
   "cell_type": "code",
   "execution_count": 60,
   "metadata": {},
   "outputs": [
    {
     "name": "stdout",
     "output_type": "stream",
     "text": [
      "Время продажи (медиана): 99.0\n",
      "Время продажи (среднее): 171.55087044992086\n"
     ]
    },
    {
     "data": {
      "image/png": "[encoded data removed]",
      "text/plain": [
       "<Figure size 432x288 with 1 Axes>"
      ]
     },
     "metadata": {
      "needs_background": "light"
     },
     "output_type": "display_data"
    },
    {
     "data": {
      "text/plain": [
       "count    17692.000000\n",
       "mean       171.550870\n",
       "std        189.506414\n",
       "min          1.000000\n",
       "25%         44.000000\n",
       "50%         99.000000\n",
       "75%        229.000000\n",
       "max       1000.000000\n",
       "Name: days_exposition, dtype: float64"
      ]
     },
     "execution_count": 60,
     "metadata": {},
     "output_type": "execute_result"
    }
   ],
   "source": [
    "# Посчитаем среднее и медиану\n",
    "print('Время продажи (медиана):', data['days_exposition'].median())\n",
    "print('Время продажи (среднее):', data['days_exposition'].mean())\n",
    "\n",
    "# Гистограма времени продажи\n",
    "plt.hist(data.query('days_exposition != 9999')['days_exposition'], bins=100, range=(0,250))\n",
    "plt.title('Время продажи')\n",
    "plt.xlabel('Дни')\n",
    "plt.ylabel('Количество квартир')\n",
    "plt.show()\n",
    "\n",
    "# Изучаем значения срока продажи\n",
    "data['days_exposition'].describe()"
   ]
  },
  {
   "cell_type": "markdown",
   "metadata": {},
   "source": [
    "Медианное время продажи - 76 дней. \n",
    "Среднее время продажи - 148 дней.\n",
    "В основном квартиры продаются за срок в 50-100 дней. Есть большое число квартир, проданных всего за несколько дней после публикации. \n",
    "\n",
    "Быстрой продажей можно назвать срок в 50дней и меньше. Долгой продажей - 150 дней (5 месяцев) и дольше."
   ]
  },
  {
   "cell_type": "markdown",
   "metadata": {},
   "source": [
    "\n",
    "Аномальные значения наблюдаем на 45 и 60 дне. Это очень похоже на техническую составляющую самой платформы (вероятнее всего, в эти дни платформа сама удаляет объявления, если пользователь его не продлил).\n"
   ]
  },
  {
   "cell_type": "markdown",
   "metadata": {},
   "source": [
    "# Факторы,которые больше всего влияют на общую (полную) стоимость объекта.\n",
    "Изучим, зависит ли цена от:\n",
    "общей площади;\n",
    "жилой площади;\n",
    "площади кухни;\n",
    "количества комнат;\n",
    "этажа, на котором расположена квартира (первый, последний, другой);\n",
    "даты размещения (день недели, месяц, год).\n"
   ]
  },
  {
   "cell_type": "code",
   "execution_count": 61,
   "metadata": {
    "scrolled": false
   },
   "outputs": [
    {
     "data": {
      "image/png": "[encoded data removed]",
      "text/plain": [
       "<Figure size 360x360 with 1 Axes>"
      ]
     },
     "metadata": {
      "needs_background": "light"
     },
     "output_type": "display_data"
    },
    {
     "name": "stdout",
     "output_type": "stream",
     "text": [
      "Корреляция цены и площади: \n",
      "\n",
      "            last_price  total_area\n",
      "last_price    1.000000    0.661697\n",
      "total_area    0.661697    1.000000 \n",
      "\n"
     ]
    },
    {
     "data": {
      "image/png": "[encoded data removed]",
      "text/plain": [
       "<Figure size 360x360 with 1 Axes>"
      ]
     },
     "metadata": {
      "needs_background": "light"
     },
     "output_type": "display_data"
    },
    {
     "name": "stdout",
     "output_type": "stream",
     "text": [
      "Корреляция цены от размера жилой площади: \n",
      "\n",
      "             last_price  living_area\n",
      "last_price     1.000000     0.080738\n",
      "living_area    0.080738     1.000000 \n",
      "\n"
     ]
    },
    {
     "data": {
      "image/png": "[encoded data removed]",
      "text/plain": [
       "<Figure size 360x360 with 1 Axes>"
      ]
     },
     "metadata": {
      "needs_background": "light"
     },
     "output_type": "display_data"
    },
    {
     "name": "stdout",
     "output_type": "stream",
     "text": [
      "Корреляция цены от размера кухни: \n",
      "\n",
      "              kitchen_area  last_price\n",
      "kitchen_area       1.00000     0.54621\n",
      "last_price         0.54621     1.00000 \n",
      "\n"
     ]
    },
    {
     "data": {
      "image/png": "[encoded data removed]",
      "text/plain": [
       "<Figure size 360x360 with 1 Axes>"
      ]
     },
     "metadata": {
      "needs_background": "light"
     },
     "output_type": "display_data"
    },
    {
     "name": "stdout",
     "output_type": "stream",
     "text": [
      "Корреляция цены и числа комнат: \n",
      "\n",
      "            last_price    rooms\n",
      "last_price     1.00000 -0.18271\n",
      "rooms         -0.18271  1.00000 \n",
      "\n"
     ]
    }
   ],
   "source": [
    "# Зависимость цены от площади\n",
    "(\n",
    "    data.pivot_table(index='total_area', values='last_price')\n",
    "    .plot(grid=True, style='o', figsize=(5, 5))\n",
    ")\n",
    "plt.show()\n",
    "print('Корреляция цены и площади:','\\n')\n",
    "print(data.pivot_table(index='floor', values=['total_area', 'last_price']).corr(),'\\n')\n",
    "\n",
    "# Зависимость цены от размера жилой площади\n",
    "(\n",
    "    data.pivot_table(index='living_area', values='last_price')\n",
    "    .plot(grid=True, style='o', figsize=(5, 5))\n",
    ")\n",
    "plt.show()\n",
    "print('Корреляция цены от размера жилой площади:','\\n')\n",
    "print(data.pivot_table(index='floor', values=['living_area', 'last_price']).corr(),'\\n')\n",
    "\n",
    "# Зависимость цены от размера кухни\n",
    "(\n",
    "    data.pivot_table(index='kitchen_area', values='last_price')\n",
    "    .plot(grid=True, style='o', figsize=(5, 5))\n",
    ")\n",
    "plt.show()\n",
    "print('Корреляция цены от размера кухни:','\\n')\n",
    "print(data.pivot_table(index='floor', values=['kitchen_area', 'last_price']).corr(),'\\n')\n",
    "\n",
    "# Зависимость цены от числа комнат\n",
    "(\n",
    "    data.query('rooms > 0').pivot_table(index='rooms', values='last_price')\n",
    "    .plot(grid=True, style='o-', figsize=(5, 5))\n",
    ")\n",
    "plt.show()\n",
    "print('Корреляция цены и числа комнат:','\\n')\n",
    "print(data.query('rooms > 0').pivot_table(index='floor', values=['rooms', 'last_price']).corr(),'\\n')\n",
    "\n"
   ]
  },
  {
   "cell_type": "markdown",
   "metadata": {},
   "source": [
    "\n",
    "\n",
    "Чем больше площадь, тем выше стоимость. Корреляция этих параметров крайне высокая. Число комнат влияет на цену (больше комнат - больше цена), однако зависимость ниже, чем у площади. Можно сделать два вывода: бывают квартиры с большими по площади комнатами; квартиры в центре состоят из малого числа комнат, но стоят достаточно высоко.\n",
    "\n",
    "\n"
   ]
  },
  {
   "cell_type": "code",
   "execution_count": 62,
   "metadata": {},
   "outputs": [
    {
     "data": {
      "image/png": "[encoded data removed]",
      "text/plain": [
       "<Figure size 360x360 with 1 Axes>"
      ]
     },
     "metadata": {
      "needs_background": "light"
     },
     "output_type": "display_data"
    }
   ],
   "source": [
    "# Зависимость цены от этажа\n",
    "(\n",
    "    data.pivot_table(index='floor_type', values='last_price', aggfunc='median')\n",
    "    .plot(grid=True, style='o-', figsize=(5, 5))\n",
    ")\n",
    "plt.show()"
   ]
  },
  {
   "cell_type": "markdown",
   "metadata": {},
   "source": [
    "\n",
    "\n",
    "Первый этаж непосредственно влияет на стоимость квартиры - в среднем квартиры на 1-м этаже значительно дешевле. Чуть дороже последний этаж. Наибольшая стоимость у квартир, расположенных не на 1-м и не на последнем этаже.\n"
   ]
  },
  {
   "cell_type": "markdown",
   "metadata": {},
   "source": [
    " Традиционно, квартиры на первом и последнем этажах считаются самыми неудобными для жизни и это отражается на их стоимости.\n"
   ]
  },
  {
   "cell_type": "code",
   "execution_count": 63,
   "metadata": {},
   "outputs": [
    {
     "data": {
      "image/png": "[encoded data removed]",
      "text/plain": [
       "<Figure size 360x360 with 1 Axes>"
      ]
     },
     "metadata": {
      "needs_background": "light"
     },
     "output_type": "display_data"
    },
    {
     "data": {
      "image/png": "[encoded data removed]",
      "text/plain": [
       "<Figure size 720x360 with 1 Axes>"
      ]
     },
     "metadata": {
      "needs_background": "light"
     },
     "output_type": "display_data"
    },
    {
     "data": {
      "image/png": "[encoded data removed]",
      "text/plain": [
       "<Figure size 360x360 with 1 Axes>"
      ]
     },
     "metadata": {
      "needs_background": "light"
     },
     "output_type": "display_data"
    }
   ],
   "source": [
    "# Зависимость от дня размещения\n",
    "(\n",
    "    data.pivot_table(index='weekday', values='last_price')\n",
    "    .plot(grid=True, style='o-', figsize=(5, 5))\n",
    ")\n",
    "plt.show()\n",
    "\n",
    "# Зависимость от месяца размещения\n",
    "(\n",
    "    data.pivot_table(index='month', values='last_price')\n",
    "    .plot(grid=True, style='o-', xlim=(1,12), figsize=(10, 5))\n",
    ")\n",
    "plt.show()\n",
    "\n",
    "# Зависимость от года размещения\n",
    "(\n",
    "    data.pivot_table(index='year', values='last_price')\n",
    "    .plot(grid=True, style='o-', figsize=(5, 5))\n",
    ")\n",
    "plt.show()"
   ]
  },
  {
   "cell_type": "markdown",
   "metadata": {},
   "source": [
    "\n",
    "\n",
    "День недели: дороже всего квартиры, опубликованные в среду, дешевле всего - в пятницу. Месяц: дороже всего квартиры, продающиеся в апреле, сентябре и ноябре, дешевле всего -в октябре. Год: квартиры очень сильно подешевели в 2016-2018 годах. В 2019 году цены снова стали повышаться.\n"
   ]
  },
  {
   "cell_type": "markdown",
   "metadata": {},
   "source": [
    "\n",
    "\n",
    "Рассмотрим динамику цены 1м2 и площади продаваемых квартир. И потом пересмотрим выводы, т.к., возможно, упала не столько цена, сколько площадь продаваемых квартир?\n"
   ]
  },
  {
   "cell_type": "code",
   "execution_count": 64,
   "metadata": {},
   "outputs": [
    {
     "data": {
      "image/png": "[encoded data removed]",
      "text/plain": [
       "<Figure size 360x360 with 1 Axes>"
      ]
     },
     "metadata": {
      "needs_background": "light"
     },
     "output_type": "display_data"
    },
    {
     "name": "stdout",
     "output_type": "stream",
     "text": [
      "Корреляция цены 1м2 и площади: \n",
      "\n",
      "                    last_price  price_square_meter\n",
      "last_price            1.000000            0.719319\n",
      "price_square_meter    0.719319            1.000000 \n",
      "\n"
     ]
    }
   ],
   "source": [
    "# Зависимость  цены 1м2  от площади\n",
    "(\n",
    "    data.pivot_table(index='price_square_meter', values='last_price')\n",
    "    .plot(grid=True, style='o', figsize=(5, 5))\n",
    ")\n",
    "plt.show()\n",
    "print('Корреляция цены 1м2 и площади:','\\n')\n",
    "print(data.pivot_table(index='floor', values=['price_square_meter', 'last_price']).corr(),'\\n')"
   ]
  },
  {
   "cell_type": "markdown",
   "metadata": {},
   "source": [
    "\n",
    "Корреляция между ценой за 1 квадратный метр и площади квартиры крайне высокая (0,7).\n"
   ]
  },
  {
   "cell_type": "markdown",
   "metadata": {},
   "source": [
    "#  Средняя цена одного квадратного метра в 10 населённых пунктах с наибольшим числом объявлений. \n",
    "Выделим населённые пункты с самой высокой и низской стоимостью квадратного метра. Эти данные можно найти по имени в столбце locality_name."
   ]
  },
  {
   "cell_type": "code",
   "execution_count": 65,
   "metadata": {},
   "outputs": [
    {
     "data": {
      "text/html": [
       "<div>\n",
       "<style scoped>\n",
       "    .dataframe tbody tr th:only-of-type {\n",
       "        vertical-align: middle;\n",
       "    }\n",
       "\n",
       "    .dataframe tbody tr th {\n",
       "        vertical-align: top;\n",
       "    }\n",
       "\n",
       "    .dataframe thead th {\n",
       "        text-align: right;\n",
       "    }\n",
       "</style>\n",
       "<table border=\"1\" class=\"dataframe\">\n",
       "  <thead>\n",
       "    <tr style=\"text-align: right;\">\n",
       "      <th></th>\n",
       "      <th>price_square_meter</th>\n",
       "    </tr>\n",
       "    <tr>\n",
       "      <th>locality_name</th>\n",
       "      <th></th>\n",
       "    </tr>\n",
       "  </thead>\n",
       "  <tbody>\n",
       "    <tr>\n",
       "      <th>Санкт-Петербург</th>\n",
       "      <td>111182</td>\n",
       "    </tr>\n",
       "    <tr>\n",
       "      <th>Пушкин</th>\n",
       "      <td>102721</td>\n",
       "    </tr>\n",
       "    <tr>\n",
       "      <th>Кудрово</th>\n",
       "      <td>94841</td>\n",
       "    </tr>\n",
       "    <tr>\n",
       "      <th>поселок Парголово</th>\n",
       "      <td>90432</td>\n",
       "    </tr>\n",
       "    <tr>\n",
       "      <th>Мурино</th>\n",
       "      <td>86161</td>\n",
       "    </tr>\n",
       "    <tr>\n",
       "      <th>Петергоф</th>\n",
       "      <td>83255</td>\n",
       "    </tr>\n",
       "    <tr>\n",
       "      <th>поселок Шушары</th>\n",
       "      <td>78233</td>\n",
       "    </tr>\n",
       "    <tr>\n",
       "      <th>Колпино</th>\n",
       "      <td>74747</td>\n",
       "    </tr>\n",
       "    <tr>\n",
       "      <th>Всеволожск</th>\n",
       "      <td>69364</td>\n",
       "    </tr>\n",
       "    <tr>\n",
       "      <th>Гатчина</th>\n",
       "      <td>68027</td>\n",
       "    </tr>\n",
       "  </tbody>\n",
       "</table>\n",
       "</div>"
      ],
      "text/plain": [
       "                   price_square_meter\n",
       "locality_name                        \n",
       "Санкт-Петербург                111182\n",
       "Пушкин                         102721\n",
       "Кудрово                         94841\n",
       "поселок Парголово               90432\n",
       "Мурино                          86161\n",
       "Петергоф                        83255\n",
       "поселок Шушары                  78233\n",
       "Колпино                         74747\n",
       "Всеволожск                      69364\n",
       "Гатчина                         68027"
      ]
     },
     "execution_count": 65,
     "metadata": {},
     "output_type": "execute_result"
    }
   ],
   "source": [
    "# Сравниваем среднюю стоимость квадратного метра в топ-10 городов по числу объявлений\n",
    "city_top_ten = data['locality_name'].value_counts().head(10)\n",
    "city_price = data.query('locality_name in (@city_top_ten.index)').pivot_table(values='price_square_meter', index='locality_name')\n",
    "city_price = city_price.astype(int)\n",
    "city_price.sort_values('price_square_meter', ascending=False)"
   ]
  },
  {
   "cell_type": "markdown",
   "metadata": {},
   "source": [
    "Наибольшая средняя стоимость квадратного метра  в Санкт-Петербурге. Из топ-10 наименьшая стоимость в Гатчине и Всеволожске, которые далеко расположены от Санкт-Петербурга"
   ]
  },
  {
   "cell_type": "markdown",
   "metadata": {},
   "source": [
    "# Средняя стоимость каждого киломента в Санкт-Петербурге\n"
   ]
  },
  {
   "cell_type": "code",
   "execution_count": 66,
   "metadata": {},
   "outputs": [
    {
     "data": {
      "text/html": [
       "<div>\n",
       "<style scoped>\n",
       "    .dataframe tbody tr th:only-of-type {\n",
       "        vertical-align: middle;\n",
       "    }\n",
       "\n",
       "    .dataframe tbody tr th {\n",
       "        vertical-align: top;\n",
       "    }\n",
       "\n",
       "    .dataframe thead th {\n",
       "        text-align: right;\n",
       "    }\n",
       "</style>\n",
       "<table border=\"1\" class=\"dataframe\">\n",
       "  <thead>\n",
       "    <tr style=\"text-align: right;\">\n",
       "      <th></th>\n",
       "      <th>price_square_meter</th>\n",
       "    </tr>\n",
       "    <tr>\n",
       "      <th>cityCenters_nearest_km</th>\n",
       "      <th></th>\n",
       "    </tr>\n",
       "  </thead>\n",
       "  <tbody>\n",
       "    <tr>\n",
       "      <th>0.0</th>\n",
       "      <td>191538.357143</td>\n",
       "    </tr>\n",
       "    <tr>\n",
       "      <th>1.0</th>\n",
       "      <td>161624.955224</td>\n",
       "    </tr>\n",
       "    <tr>\n",
       "      <th>2.0</th>\n",
       "      <td>155803.502326</td>\n",
       "    </tr>\n",
       "    <tr>\n",
       "      <th>3.0</th>\n",
       "      <td>116040.453390</td>\n",
       "    </tr>\n",
       "    <tr>\n",
       "      <th>4.0</th>\n",
       "      <td>126974.219262</td>\n",
       "    </tr>\n",
       "    <tr>\n",
       "      <th>5.0</th>\n",
       "      <td>134209.185243</td>\n",
       "    </tr>\n",
       "    <tr>\n",
       "      <th>6.0</th>\n",
       "      <td>142671.687651</td>\n",
       "    </tr>\n",
       "    <tr>\n",
       "      <th>7.0</th>\n",
       "      <td>147467.655738</td>\n",
       "    </tr>\n",
       "    <tr>\n",
       "      <th>8.0</th>\n",
       "      <td>122818.749436</td>\n",
       "    </tr>\n",
       "    <tr>\n",
       "      <th>9.0</th>\n",
       "      <td>110577.737885</td>\n",
       "    </tr>\n",
       "  </tbody>\n",
       "</table>\n",
       "</div>"
      ],
      "text/plain": [
       "                        price_square_meter\n",
       "cityCenters_nearest_km                    \n",
       "0.0                          191538.357143\n",
       "1.0                          161624.955224\n",
       "2.0                          155803.502326\n",
       "3.0                          116040.453390\n",
       "4.0                          126974.219262\n",
       "5.0                          134209.185243\n",
       "6.0                          142671.687651\n",
       "7.0                          147467.655738\n",
       "8.0                          122818.749436\n",
       "9.0                          110577.737885"
      ]
     },
     "execution_count": 66,
     "metadata": {},
     "output_type": "execute_result"
    }
   ],
   "source": [
    "#Выделим квартиры в Санкт-Петербурге и вычислим среднююцену каждого километра. \n",
    "spb_data = data.query('locality_name == \"Санкт-Петербург\"')\n",
    "spb_price = spb_data.pivot_table(index='cityCenters_nearest_km',values='price_square_meter')\n",
    "spb_price.head(10)"
   ]
  },
  {
   "cell_type": "code",
   "execution_count": 67,
   "metadata": {},
   "outputs": [
    {
     "data": {
      "image/png": "[encoded data removed]",
      "text/plain": [
       "<Figure size 360x360 with 1 Axes>"
      ]
     },
     "metadata": {
      "needs_background": "light"
     },
     "output_type": "display_data"
    }
   ],
   "source": [
    "(\n",
    "   spb_price.pivot_table(index='cityCenters_nearest_km', values='price_square_meter')\n",
    "    .plot(grid=True, style='o-', figsize=(5, 5))\n",
    ")\n",
    "plt.show()\n",
    "\n"
   ]
  },
  {
   "cell_type": "markdown",
   "metadata": {},
   "source": [
    "В целом, чем ближе к центру, тем дороже квартиры. При этом в радиусе 5-7 км эта корреляция не очевидна. "
   ]
  },
  {
   "cell_type": "markdown",
   "metadata": {},
   "source": [
    "### Общий вывод"
   ]
  },
  {
   "cell_type": "markdown",
   "metadata": {},
   "source": [
    "# Предобработка данных\n",
    "Мы обработали полученный архив данных - обработали пропущенные значения там, где это необходимо, заменили типы данных на необходимые для удобной работы. Посчитали и добавили в таблицу цену квадратного метра жилья, вывели из даты дни недели, месяцы и года размещения объявлений, добавили категории по этажам квартир. Изучили следующие параметры на наличие выбивающихся значений - площадь, цена, число комнат, высота потолков. Были определены аномалии в данных параметрах. \n",
    "\n",
    "# Исследовательский анализ данных\n",
    "*Особенности и зависимости, которые существуют на рынке недвижимости:*\n",
    "\n",
    "Стоимость квартир в Санкт-Петербурге и ближайших городах составляет 2,5-7,5 миллионов. Но есть и квартиры, стоимость которых на порядок дороже(159-330 млн). Средняя жилая площадь квартир порядка 75 кв.м.\n",
    "Чаще всего квартиры продаются за 76 дней. Быстрой продажей можно назвать срок в 50 дней и меньше. Долгой продажей - 150 дней (5 месяцев) и дольше.\n",
    "\n",
    "Мы выявили, что на стоимость квадратного метра квартиры больше всего влияют количество комнат, этаж квартиры, близость к центру. Незначительно на стоимость квадратного метра влияют день, месяц, год размещения и общая площадь.\n",
    "Чем больше площадь квартиры, тем выше стоимость. Корреляция этих параметров  высокая. Число комнат влияет на цену (больше комнат - больше цена), однако зависимость ниже, чем у площади. Можно сделать два вывода: бывают квартиры с большими по площади комнатами; квартиры в центре состоят из малого числа комнат, но стоят достаточно высоко.\n",
    "Самые дорогие варианты квартир находятся в центре города.\n",
    "Первый этаж непосредственно влияет на стоимость квартиры - в среднем квартиры на 1-м этаже значительно дешевле. Чуть дороже последний этаж. Наибольшая стоимость у квартир, расположенных не на 1-м и не на последнем этаже.\n",
    "\n",
    "Дороже всего квадратный метр в Санкт-Петербурге Дешевле всего квадратный метр в Гатчине и Всеволожске, которые достаточно удалены  от Санкт-Петербурга.\n",
    "\n"
   ]
  }
 ],
 "metadata": {
  "ExecuteTimeLog": [
   {
    "duration": 51,
    "start_time": "2022-07-24T15:47:15.743Z"
   },
   {
    "duration": 491,
    "start_time": "2022-07-24T15:47:19.620Z"
   },
   {
    "duration": 324,
    "start_time": "2022-07-24T15:47:20.134Z"
   },
   {
    "duration": 8,
    "start_time": "2022-07-24T15:47:20.665Z"
   },
   {
    "duration": 464,
    "start_time": "2022-07-24T15:48:08.583Z"
   },
   {
    "duration": 17,
    "start_time": "2022-07-24T15:50:13.582Z"
   },
   {
    "duration": 16,
    "start_time": "2022-07-24T15:52:41.082Z"
   },
   {
    "duration": 162,
    "start_time": "2022-07-24T15:56:31.514Z"
   },
   {
    "duration": 2007,
    "start_time": "2022-07-24T15:57:11.459Z"
   },
   {
    "duration": 163,
    "start_time": "2022-07-24T16:06:46.287Z"
   },
   {
    "duration": 2015,
    "start_time": "2022-07-24T16:11:40.096Z"
   },
   {
    "duration": 15,
    "start_time": "2022-07-24T16:13:57.451Z"
   },
   {
    "duration": 10,
    "start_time": "2022-07-24T16:45:58.575Z"
   },
   {
    "duration": 6,
    "start_time": "2022-07-24T16:58:45.098Z"
   },
   {
    "duration": 6,
    "start_time": "2022-07-24T17:01:50.125Z"
   },
   {
    "duration": 640,
    "start_time": "2022-07-24T17:02:26.764Z"
   },
   {
    "duration": 5,
    "start_time": "2022-07-24T17:10:32.602Z"
   },
   {
    "duration": 14,
    "start_time": "2022-07-24T17:11:21.541Z"
   },
   {
    "duration": 5,
    "start_time": "2022-07-24T17:12:43.637Z"
   },
   {
    "duration": 15,
    "start_time": "2022-07-24T17:20:29.546Z"
   },
   {
    "duration": 5,
    "start_time": "2022-07-24T17:20:48.962Z"
   },
   {
    "duration": 11,
    "start_time": "2022-07-24T17:32:52.399Z"
   },
   {
    "duration": 5,
    "start_time": "2022-07-24T17:33:08.706Z"
   },
   {
    "duration": 13,
    "start_time": "2022-07-24T17:34:59.174Z"
   },
   {
    "duration": 5,
    "start_time": "2022-07-24T17:35:13.638Z"
   },
   {
    "duration": 10,
    "start_time": "2022-07-24T17:35:57.139Z"
   },
   {
    "duration": 3,
    "start_time": "2022-07-24T17:36:14.539Z"
   },
   {
    "duration": 13,
    "start_time": "2022-07-24T17:36:45.194Z"
   },
   {
    "duration": 4,
    "start_time": "2022-07-24T17:38:12.075Z"
   },
   {
    "duration": 487,
    "start_time": "2022-07-24T17:38:59.268Z"
   },
   {
    "duration": 25,
    "start_time": "2022-07-24T17:55:56.178Z"
   },
   {
    "duration": 19,
    "start_time": "2022-07-24T18:02:35.490Z"
   },
   {
    "duration": 23,
    "start_time": "2022-07-24T18:02:43.982Z"
   },
   {
    "duration": 12,
    "start_time": "2022-07-24T18:03:09.011Z"
   },
   {
    "duration": 22,
    "start_time": "2022-07-24T18:07:21.152Z"
   },
   {
    "duration": 14,
    "start_time": "2022-07-24T18:31:45.244Z"
   },
   {
    "duration": 1733,
    "start_time": "2022-07-24T18:39:38.419Z"
   },
   {
    "duration": 1524,
    "start_time": "2022-07-24T18:41:51.479Z"
   },
   {
    "duration": 1461,
    "start_time": "2022-07-24T18:43:33.390Z"
   },
   {
    "duration": 3179,
    "start_time": "2022-07-24T18:48:44.077Z"
   },
   {
    "duration": 13,
    "start_time": "2022-07-24T19:08:08.136Z"
   },
   {
    "duration": 24,
    "start_time": "2022-07-24T19:08:24.381Z"
   },
   {
    "duration": 12,
    "start_time": "2022-07-24T19:14:19.495Z"
   },
   {
    "duration": 16,
    "start_time": "2022-07-24T19:14:23.986Z"
   },
   {
    "duration": 5,
    "start_time": "2022-07-24T19:15:19.317Z"
   },
   {
    "duration": 110,
    "start_time": "2022-07-24T19:15:19.882Z"
   },
   {
    "duration": 10,
    "start_time": "2022-07-24T19:15:20.423Z"
   },
   {
    "duration": 162,
    "start_time": "2022-07-24T19:15:22.045Z"
   },
   {
    "duration": 123,
    "start_time": "2022-07-24T19:15:23.445Z"
   },
   {
    "duration": 30,
    "start_time": "2022-07-24T19:15:24.413Z"
   },
   {
    "duration": 2764,
    "start_time": "2022-07-24T19:15:25.167Z"
   },
   {
    "duration": 15,
    "start_time": "2022-07-24T19:15:27.934Z"
   },
   {
    "duration": 8,
    "start_time": "2022-07-24T19:15:30.587Z"
   },
   {
    "duration": 5,
    "start_time": "2022-07-24T19:15:31.218Z"
   },
   {
    "duration": 7,
    "start_time": "2022-07-24T19:15:31.770Z"
   },
   {
    "duration": 5,
    "start_time": "2022-07-24T19:15:32.330Z"
   },
   {
    "duration": 6,
    "start_time": "2022-07-24T19:15:33.353Z"
   },
   {
    "duration": 6,
    "start_time": "2022-07-24T19:15:36.335Z"
   },
   {
    "duration": 1791,
    "start_time": "2022-07-24T19:15:38.489Z"
   },
   {
    "duration": 10,
    "start_time": "2022-07-24T19:15:40.283Z"
   },
   {
    "duration": 28,
    "start_time": "2022-07-24T19:15:40.297Z"
   },
   {
    "duration": 21,
    "start_time": "2022-07-24T19:15:43.042Z"
   },
   {
    "duration": 3459,
    "start_time": "2022-07-24T19:16:17.443Z"
   },
   {
    "duration": 3493,
    "start_time": "2022-07-24T19:16:44.416Z"
   },
   {
    "duration": 3482,
    "start_time": "2022-07-24T19:17:04.974Z"
   },
   {
    "duration": 18,
    "start_time": "2022-07-24T19:17:43.748Z"
   },
   {
    "duration": 493,
    "start_time": "2022-07-24T19:18:08.664Z"
   },
   {
    "duration": 18,
    "start_time": "2022-07-24T19:18:28.466Z"
   },
   {
    "duration": 4,
    "start_time": "2022-07-24T19:19:25.396Z"
   },
   {
    "duration": 3,
    "start_time": "2022-07-24T19:23:41.790Z"
   },
   {
    "duration": 77,
    "start_time": "2022-07-24T19:23:42.297Z"
   },
   {
    "duration": 9,
    "start_time": "2022-07-24T19:23:42.813Z"
   },
   {
    "duration": 128,
    "start_time": "2022-07-24T19:23:43.837Z"
   },
   {
    "duration": 123,
    "start_time": "2022-07-24T19:23:44.861Z"
   },
   {
    "duration": 19,
    "start_time": "2022-07-24T19:23:45.380Z"
   },
   {
    "duration": 2087,
    "start_time": "2022-07-24T19:23:45.947Z"
   },
   {
    "duration": 10,
    "start_time": "2022-07-24T19:23:48.335Z"
   },
   {
    "duration": 5,
    "start_time": "2022-07-24T19:23:49.835Z"
   },
   {
    "duration": 5,
    "start_time": "2022-07-24T19:23:50.489Z"
   },
   {
    "duration": 5,
    "start_time": "2022-07-24T19:23:51.192Z"
   },
   {
    "duration": 5,
    "start_time": "2022-07-24T19:23:51.714Z"
   },
   {
    "duration": 5,
    "start_time": "2022-07-24T19:23:52.234Z"
   },
   {
    "duration": 6,
    "start_time": "2022-07-24T19:23:52.838Z"
   },
   {
    "duration": 1412,
    "start_time": "2022-07-24T19:23:55.274Z"
   },
   {
    "duration": 7,
    "start_time": "2022-07-24T19:23:56.688Z"
   },
   {
    "duration": 14,
    "start_time": "2022-07-24T19:24:00.770Z"
   },
   {
    "duration": 25,
    "start_time": "2022-07-24T19:24:03.618Z"
   },
   {
    "duration": 51,
    "start_time": "2022-07-24T19:24:22.732Z"
   },
   {
    "duration": 3,
    "start_time": "2022-07-24T19:24:34.831Z"
   },
   {
    "duration": 4,
    "start_time": "2022-07-24T19:25:25.782Z"
   },
   {
    "duration": 6,
    "start_time": "2022-07-24T19:26:11.998Z"
   },
   {
    "duration": 5,
    "start_time": "2022-07-24T19:26:15.183Z"
   },
   {
    "duration": 22,
    "start_time": "2022-07-24T19:27:21.821Z"
   },
   {
    "duration": 25,
    "start_time": "2022-07-24T19:27:52.878Z"
   },
   {
    "duration": 26,
    "start_time": "2022-07-24T19:28:46.310Z"
   },
   {
    "duration": 15,
    "start_time": "2022-07-24T19:31:23.944Z"
   },
   {
    "duration": 18,
    "start_time": "2022-07-24T19:31:29.748Z"
   },
   {
    "duration": 3129,
    "start_time": "2022-07-24T19:38:54.814Z"
   },
   {
    "duration": 3267,
    "start_time": "2022-07-24T19:39:02.599Z"
   },
   {
    "duration": 26,
    "start_time": "2022-07-24T19:39:14.398Z"
   },
   {
    "duration": 19,
    "start_time": "2022-07-24T19:39:45.951Z"
   },
   {
    "duration": 3429,
    "start_time": "2022-07-24T19:39:57.758Z"
   },
   {
    "duration": 3,
    "start_time": "2022-07-24T19:40:07.001Z"
   },
   {
    "duration": 74,
    "start_time": "2022-07-24T19:40:07.450Z"
   },
   {
    "duration": 8,
    "start_time": "2022-07-24T19:40:07.872Z"
   },
   {
    "duration": 114,
    "start_time": "2022-07-24T19:40:08.734Z"
   },
   {
    "duration": 103,
    "start_time": "2022-07-24T19:40:09.546Z"
   },
   {
    "duration": 18,
    "start_time": "2022-07-24T19:40:10.070Z"
   },
   {
    "duration": 2045,
    "start_time": "2022-07-24T19:40:10.591Z"
   },
   {
    "duration": 10,
    "start_time": "2022-07-24T19:40:12.638Z"
   },
   {
    "duration": 5,
    "start_time": "2022-07-24T19:40:12.817Z"
   },
   {
    "duration": 4,
    "start_time": "2022-07-24T19:40:13.726Z"
   },
   {
    "duration": 6,
    "start_time": "2022-07-24T19:40:14.656Z"
   },
   {
    "duration": 6,
    "start_time": "2022-07-24T19:40:15.279Z"
   },
   {
    "duration": 6,
    "start_time": "2022-07-24T19:40:15.855Z"
   },
   {
    "duration": 6,
    "start_time": "2022-07-24T19:40:16.384Z"
   },
   {
    "duration": 1436,
    "start_time": "2022-07-24T19:40:16.950Z"
   },
   {
    "duration": 6,
    "start_time": "2022-07-24T19:40:18.387Z"
   },
   {
    "duration": 11,
    "start_time": "2022-07-24T19:40:20.193Z"
   },
   {
    "duration": 21,
    "start_time": "2022-07-24T19:40:21.846Z"
   },
   {
    "duration": 8,
    "start_time": "2022-07-24T19:40:23.140Z"
   },
   {
    "duration": 22,
    "start_time": "2022-07-24T19:40:25.119Z"
   },
   {
    "duration": 28,
    "start_time": "2022-07-24T19:40:25.975Z"
   },
   {
    "duration": 47,
    "start_time": "2022-07-25T17:34:31.664Z"
   },
   {
    "duration": 422,
    "start_time": "2022-07-25T17:34:42.054Z"
   },
   {
    "duration": 292,
    "start_time": "2022-07-25T17:34:42.499Z"
   },
   {
    "duration": 13,
    "start_time": "2022-07-25T17:34:42.984Z"
   },
   {
    "duration": 123,
    "start_time": "2022-07-25T17:34:43.846Z"
   },
   {
    "duration": 98,
    "start_time": "2022-07-25T17:34:44.681Z"
   },
   {
    "duration": 16,
    "start_time": "2022-07-25T17:34:45.066Z"
   },
   {
    "duration": 2562,
    "start_time": "2022-07-25T17:34:45.451Z"
   },
   {
    "duration": 10,
    "start_time": "2022-07-25T17:34:48.016Z"
   },
   {
    "duration": 20,
    "start_time": "2022-07-25T17:34:48.028Z"
   },
   {
    "duration": 10,
    "start_time": "2022-07-25T17:34:48.050Z"
   },
   {
    "duration": 6,
    "start_time": "2022-07-25T17:34:48.390Z"
   },
   {
    "duration": 6,
    "start_time": "2022-07-25T17:34:49.009Z"
   },
   {
    "duration": 4,
    "start_time": "2022-07-25T17:34:49.510Z"
   },
   {
    "duration": 6,
    "start_time": "2022-07-25T17:34:50.012Z"
   },
   {
    "duration": 1459,
    "start_time": "2022-07-25T17:34:50.534Z"
   },
   {
    "duration": 6,
    "start_time": "2022-07-25T17:34:51.995Z"
   },
   {
    "duration": 10,
    "start_time": "2022-07-25T17:34:52.481Z"
   },
   {
    "duration": 17,
    "start_time": "2022-07-25T17:34:53.962Z"
   },
   {
    "duration": 7,
    "start_time": "2022-07-25T17:34:55.409Z"
   },
   {
    "duration": 16,
    "start_time": "2022-07-25T17:34:56.693Z"
   },
   {
    "duration": 30,
    "start_time": "2022-07-25T17:34:57.622Z"
   },
   {
    "duration": 6,
    "start_time": "2022-07-25T17:34:59.142Z"
   },
   {
    "duration": 34,
    "start_time": "2022-07-25T17:39:35.558Z"
   },
   {
    "duration": 18,
    "start_time": "2022-07-25T17:39:47.983Z"
   },
   {
    "duration": 11,
    "start_time": "2022-07-25T17:53:44.038Z"
   },
   {
    "duration": 12,
    "start_time": "2022-07-25T17:54:06.738Z"
   },
   {
    "duration": 3,
    "start_time": "2022-07-25T17:54:30.251Z"
   },
   {
    "duration": 94,
    "start_time": "2022-07-25T17:54:30.805Z"
   },
   {
    "duration": 7,
    "start_time": "2022-07-25T17:54:31.352Z"
   },
   {
    "duration": 137,
    "start_time": "2022-07-25T17:54:32.501Z"
   },
   {
    "duration": 104,
    "start_time": "2022-07-25T17:54:33.440Z"
   },
   {
    "duration": 15,
    "start_time": "2022-07-25T17:54:33.743Z"
   },
   {
    "duration": 2064,
    "start_time": "2022-07-25T17:54:33.931Z"
   },
   {
    "duration": 11,
    "start_time": "2022-07-25T17:54:35.998Z"
   },
   {
    "duration": 14,
    "start_time": "2022-07-25T17:54:36.023Z"
   },
   {
    "duration": 12,
    "start_time": "2022-07-25T17:54:36.041Z"
   },
   {
    "duration": 11,
    "start_time": "2022-07-25T17:54:36.055Z"
   },
   {
    "duration": 11,
    "start_time": "2022-07-25T17:54:36.068Z"
   },
   {
    "duration": 5,
    "start_time": "2022-07-25T17:54:36.298Z"
   },
   {
    "duration": 5,
    "start_time": "2022-07-25T17:54:36.832Z"
   },
   {
    "duration": 1511,
    "start_time": "2022-07-25T17:54:37.529Z"
   },
   {
    "duration": 5,
    "start_time": "2022-07-25T17:54:39.042Z"
   },
   {
    "duration": 23,
    "start_time": "2022-07-25T17:54:39.048Z"
   },
   {
    "duration": 15,
    "start_time": "2022-07-25T17:54:39.901Z"
   },
   {
    "duration": 6,
    "start_time": "2022-07-25T17:54:40.901Z"
   },
   {
    "duration": 15,
    "start_time": "2022-07-25T17:54:41.493Z"
   },
   {
    "duration": 25,
    "start_time": "2022-07-25T17:54:42.139Z"
   },
   {
    "duration": 18,
    "start_time": "2022-07-25T17:54:43.338Z"
   },
   {
    "duration": 12,
    "start_time": "2022-07-25T17:54:45.438Z"
   },
   {
    "duration": 11,
    "start_time": "2022-07-25T17:56:02.473Z"
   },
   {
    "duration": 11,
    "start_time": "2022-07-25T17:56:13.230Z"
   },
   {
    "duration": 12,
    "start_time": "2022-07-25T17:56:39.590Z"
   },
   {
    "duration": 5,
    "start_time": "2022-07-25T18:00:22.571Z"
   },
   {
    "duration": 11,
    "start_time": "2022-07-25T18:00:36.357Z"
   },
   {
    "duration": 15,
    "start_time": "2022-07-25T18:01:11.552Z"
   },
   {
    "duration": 6,
    "start_time": "2022-07-25T18:01:15.695Z"
   },
   {
    "duration": 18,
    "start_time": "2022-07-25T18:01:16.105Z"
   },
   {
    "duration": 32,
    "start_time": "2022-07-25T18:01:16.557Z"
   },
   {
    "duration": 18,
    "start_time": "2022-07-25T18:01:17.739Z"
   },
   {
    "duration": 5,
    "start_time": "2022-07-25T18:01:20.262Z"
   },
   {
    "duration": 9,
    "start_time": "2022-07-25T18:01:27.183Z"
   },
   {
    "duration": 3,
    "start_time": "2022-07-25T18:02:02.354Z"
   },
   {
    "duration": 81,
    "start_time": "2022-07-25T18:02:02.542Z"
   },
   {
    "duration": 9,
    "start_time": "2022-07-25T18:02:02.760Z"
   },
   {
    "duration": 104,
    "start_time": "2022-07-25T18:02:03.073Z"
   },
   {
    "duration": 106,
    "start_time": "2022-07-25T18:02:03.461Z"
   },
   {
    "duration": 14,
    "start_time": "2022-07-25T18:02:03.640Z"
   },
   {
    "duration": 2055,
    "start_time": "2022-07-25T18:02:03.836Z"
   },
   {
    "duration": 10,
    "start_time": "2022-07-25T18:02:05.893Z"
   },
   {
    "duration": 28,
    "start_time": "2022-07-25T18:02:05.904Z"
   },
   {
    "duration": 11,
    "start_time": "2022-07-25T18:02:05.941Z"
   },
   {
    "duration": 7,
    "start_time": "2022-07-25T18:02:05.954Z"
   },
   {
    "duration": 9,
    "start_time": "2022-07-25T18:02:05.962Z"
   },
   {
    "duration": 14,
    "start_time": "2022-07-25T18:02:05.973Z"
   },
   {
    "duration": 7,
    "start_time": "2022-07-25T18:02:05.989Z"
   },
   {
    "duration": 1578,
    "start_time": "2022-07-25T18:02:05.997Z"
   },
   {
    "duration": 6,
    "start_time": "2022-07-25T18:02:07.577Z"
   },
   {
    "duration": 23,
    "start_time": "2022-07-25T18:02:07.586Z"
   },
   {
    "duration": 22,
    "start_time": "2022-07-25T18:02:07.611Z"
   },
   {
    "duration": 35,
    "start_time": "2022-07-25T18:02:07.635Z"
   },
   {
    "duration": 10,
    "start_time": "2022-07-25T18:02:07.673Z"
   },
   {
    "duration": 24,
    "start_time": "2022-07-25T18:02:09.688Z"
   },
   {
    "duration": 47,
    "start_time": "2022-07-25T18:02:10.195Z"
   },
   {
    "duration": 19,
    "start_time": "2022-07-25T18:02:11.137Z"
   },
   {
    "duration": 10,
    "start_time": "2022-07-25T18:02:12.096Z"
   },
   {
    "duration": 18,
    "start_time": "2022-07-25T18:13:30.565Z"
   },
   {
    "duration": 21,
    "start_time": "2022-07-25T18:14:03.334Z"
   },
   {
    "duration": 21,
    "start_time": "2022-07-25T18:14:54.393Z"
   },
   {
    "duration": 23,
    "start_time": "2022-07-25T18:20:06.374Z"
   },
   {
    "duration": 9,
    "start_time": "2022-07-25T18:20:29.547Z"
   },
   {
    "duration": 21,
    "start_time": "2022-07-25T18:20:43.845Z"
   },
   {
    "duration": 25,
    "start_time": "2022-07-25T18:20:59.955Z"
   },
   {
    "duration": 3,
    "start_time": "2022-07-25T18:23:16.048Z"
   },
   {
    "duration": 99,
    "start_time": "2022-07-25T18:23:16.241Z"
   },
   {
    "duration": 7,
    "start_time": "2022-07-25T18:23:16.464Z"
   },
   {
    "duration": 105,
    "start_time": "2022-07-25T18:23:16.875Z"
   },
   {
    "duration": 136,
    "start_time": "2022-07-25T18:23:17.341Z"
   },
   {
    "duration": 15,
    "start_time": "2022-07-25T18:23:17.493Z"
   },
   {
    "duration": 2035,
    "start_time": "2022-07-25T18:23:17.841Z"
   },
   {
    "duration": 10,
    "start_time": "2022-07-25T18:23:19.878Z"
   },
   {
    "duration": 7,
    "start_time": "2022-07-25T18:23:19.889Z"
   },
   {
    "duration": 9,
    "start_time": "2022-07-25T18:23:19.898Z"
   },
   {
    "duration": 11,
    "start_time": "2022-07-25T18:23:19.924Z"
   },
   {
    "duration": 23,
    "start_time": "2022-07-25T18:23:19.937Z"
   },
   {
    "duration": 6,
    "start_time": "2022-07-25T18:23:19.962Z"
   },
   {
    "duration": 5,
    "start_time": "2022-07-25T18:23:20.048Z"
   },
   {
    "duration": 1612,
    "start_time": "2022-07-25T18:23:20.288Z"
   },
   {
    "duration": 5,
    "start_time": "2022-07-25T18:23:21.902Z"
   },
   {
    "duration": 28,
    "start_time": "2022-07-25T18:23:21.908Z"
   },
   {
    "duration": 15,
    "start_time": "2022-07-25T18:23:21.942Z"
   },
   {
    "duration": 19,
    "start_time": "2022-07-25T18:23:21.959Z"
   },
   {
    "duration": 15,
    "start_time": "2022-07-25T18:23:22.334Z"
   },
   {
    "duration": 17,
    "start_time": "2022-07-25T18:23:22.847Z"
   },
   {
    "duration": 25,
    "start_time": "2022-07-25T18:23:23.148Z"
   },
   {
    "duration": 20,
    "start_time": "2022-07-25T18:23:23.944Z"
   },
   {
    "duration": 10,
    "start_time": "2022-07-25T18:23:26.207Z"
   },
   {
    "duration": 15,
    "start_time": "2022-07-25T18:23:30.549Z"
   },
   {
    "duration": 18,
    "start_time": "2022-07-25T18:26:08.071Z"
   },
   {
    "duration": 16,
    "start_time": "2022-07-25T18:27:26.287Z"
   },
   {
    "duration": 15,
    "start_time": "2022-07-25T18:27:34.973Z"
   },
   {
    "duration": 2,
    "start_time": "2022-07-25T18:27:45.391Z"
   },
   {
    "duration": 114,
    "start_time": "2022-07-25T18:27:45.557Z"
   },
   {
    "duration": 7,
    "start_time": "2022-07-25T18:27:45.767Z"
   },
   {
    "duration": 112,
    "start_time": "2022-07-25T18:27:46.089Z"
   },
   {
    "duration": 441,
    "start_time": "2022-07-25T18:27:46.555Z"
   },
   {
    "duration": 15,
    "start_time": "2022-07-25T18:27:46.998Z"
   },
   {
    "duration": 2388,
    "start_time": "2022-07-25T18:27:47.014Z"
   },
   {
    "duration": 10,
    "start_time": "2022-07-25T18:27:49.404Z"
   },
   {
    "duration": 7,
    "start_time": "2022-07-25T18:27:49.424Z"
   },
   {
    "duration": 41,
    "start_time": "2022-07-25T18:27:49.435Z"
   },
   {
    "duration": 6,
    "start_time": "2022-07-25T18:27:49.478Z"
   },
   {
    "duration": 6,
    "start_time": "2022-07-25T18:27:49.487Z"
   },
   {
    "duration": 9,
    "start_time": "2022-07-25T18:27:49.494Z"
   },
   {
    "duration": 7,
    "start_time": "2022-07-25T18:27:49.505Z"
   },
   {
    "duration": 1659,
    "start_time": "2022-07-25T18:27:49.513Z"
   },
   {
    "duration": 5,
    "start_time": "2022-07-25T18:27:51.174Z"
   },
   {
    "duration": 6,
    "start_time": "2022-07-25T18:27:51.181Z"
   },
   {
    "duration": 12,
    "start_time": "2022-07-25T18:27:51.189Z"
   },
   {
    "duration": 24,
    "start_time": "2022-07-25T18:27:51.227Z"
   },
   {
    "duration": 29,
    "start_time": "2022-07-25T18:27:51.253Z"
   },
   {
    "duration": 15,
    "start_time": "2022-07-25T18:27:51.284Z"
   },
   {
    "duration": 26,
    "start_time": "2022-07-25T18:27:51.301Z"
   },
   {
    "duration": 18,
    "start_time": "2022-07-25T18:27:51.570Z"
   },
   {
    "duration": 16,
    "start_time": "2022-07-25T18:27:54.053Z"
   },
   {
    "duration": 38,
    "start_time": "2022-07-25T18:27:55.013Z"
   },
   {
    "duration": 16,
    "start_time": "2022-07-25T18:30:24.568Z"
   },
   {
    "duration": 8,
    "start_time": "2022-07-25T18:31:16.351Z"
   },
   {
    "duration": 97,
    "start_time": "2022-07-25T18:31:16.581Z"
   },
   {
    "duration": 7,
    "start_time": "2022-07-25T18:31:16.813Z"
   },
   {
    "duration": 160,
    "start_time": "2022-07-25T18:31:17.187Z"
   },
   {
    "duration": 208,
    "start_time": "2022-07-25T18:31:17.549Z"
   },
   {
    "duration": 23,
    "start_time": "2022-07-25T18:31:17.765Z"
   },
   {
    "duration": 2509,
    "start_time": "2022-07-25T18:31:17.898Z"
   },
   {
    "duration": 35,
    "start_time": "2022-07-25T18:31:20.409Z"
   },
   {
    "duration": 29,
    "start_time": "2022-07-25T18:31:20.447Z"
   },
   {
    "duration": 16,
    "start_time": "2022-07-25T18:31:20.479Z"
   },
   {
    "duration": 10,
    "start_time": "2022-07-25T18:31:20.497Z"
   },
   {
    "duration": 7,
    "start_time": "2022-07-25T18:31:20.509Z"
   },
   {
    "duration": 44,
    "start_time": "2022-07-25T18:31:20.518Z"
   },
   {
    "duration": 27,
    "start_time": "2022-07-25T18:31:20.564Z"
   },
   {
    "duration": 1706,
    "start_time": "2022-07-25T18:31:20.592Z"
   },
   {
    "duration": 6,
    "start_time": "2022-07-25T18:31:22.300Z"
   },
   {
    "duration": 38,
    "start_time": "2022-07-25T18:31:22.308Z"
   },
   {
    "duration": 29,
    "start_time": "2022-07-25T18:31:22.354Z"
   },
   {
    "duration": 16,
    "start_time": "2022-07-25T18:31:22.385Z"
   },
   {
    "duration": 8,
    "start_time": "2022-07-25T18:31:22.709Z"
   },
   {
    "duration": 42,
    "start_time": "2022-07-25T18:31:23.613Z"
   },
   {
    "duration": 28,
    "start_time": "2022-07-25T18:31:24.051Z"
   },
   {
    "duration": 27,
    "start_time": "2022-07-25T18:31:25.208Z"
   },
   {
    "duration": 10,
    "start_time": "2022-07-25T18:31:26.872Z"
   },
   {
    "duration": 1209,
    "start_time": "2022-07-25T18:31:27.701Z"
   },
   {
    "duration": 11,
    "start_time": "2022-07-25T18:31:44.969Z"
   },
   {
    "duration": 19,
    "start_time": "2022-07-25T18:31:56.054Z"
   },
   {
    "duration": 13,
    "start_time": "2022-07-25T18:33:04.097Z"
   },
   {
    "duration": 20,
    "start_time": "2022-07-25T18:33:11.967Z"
   },
   {
    "duration": 45,
    "start_time": "2022-07-25T18:33:31.113Z"
   },
   {
    "duration": 58,
    "start_time": "2022-07-25T18:38:42.500Z"
   },
   {
    "duration": 88,
    "start_time": "2022-07-25T18:39:14.386Z"
   },
   {
    "duration": 85,
    "start_time": "2022-07-25T18:39:57.297Z"
   },
   {
    "duration": 98,
    "start_time": "2022-07-25T18:40:55.955Z"
   },
   {
    "duration": 135,
    "start_time": "2022-07-25T18:41:58.364Z"
   },
   {
    "duration": 142,
    "start_time": "2022-07-25T18:43:02.117Z"
   },
   {
    "duration": 190,
    "start_time": "2022-07-25T18:43:57.384Z"
   },
   {
    "duration": 137,
    "start_time": "2022-07-25T18:45:13.261Z"
   },
   {
    "duration": 180,
    "start_time": "2022-07-25T18:46:28.260Z"
   },
   {
    "duration": 196,
    "start_time": "2022-07-25T18:47:45.578Z"
   },
   {
    "duration": 163,
    "start_time": "2022-07-25T18:57:19.953Z"
   },
   {
    "duration": 196,
    "start_time": "2022-07-25T18:58:13.091Z"
   },
   {
    "duration": 261,
    "start_time": "2022-07-25T19:00:17.286Z"
   },
   {
    "duration": 8,
    "start_time": "2022-07-25T19:05:15.652Z"
   },
   {
    "duration": 6,
    "start_time": "2022-07-25T19:05:21.189Z"
   },
   {
    "duration": 2013,
    "start_time": "2022-07-25T19:17:08.272Z"
   },
   {
    "duration": 331,
    "start_time": "2022-07-26T10:21:21.604Z"
   },
   {
    "duration": 157,
    "start_time": "2022-07-26T10:21:21.937Z"
   },
   {
    "duration": 13,
    "start_time": "2022-07-26T10:21:22.292Z"
   },
   {
    "duration": 94,
    "start_time": "2022-07-26T10:21:22.733Z"
   },
   {
    "duration": 113,
    "start_time": "2022-07-26T10:21:23.099Z"
   },
   {
    "duration": 14,
    "start_time": "2022-07-26T10:21:23.287Z"
   },
   {
    "duration": 2350,
    "start_time": "2022-07-26T10:21:23.473Z"
   },
   {
    "duration": 10,
    "start_time": "2022-07-26T10:21:25.825Z"
   },
   {
    "duration": 4,
    "start_time": "2022-07-26T10:21:25.837Z"
   },
   {
    "duration": 4,
    "start_time": "2022-07-26T10:21:25.969Z"
   },
   {
    "duration": 11,
    "start_time": "2022-07-26T10:21:26.163Z"
   },
   {
    "duration": 7,
    "start_time": "2022-07-26T10:21:26.381Z"
   },
   {
    "duration": 10,
    "start_time": "2022-07-26T10:21:26.761Z"
   },
   {
    "duration": 4,
    "start_time": "2022-07-26T10:21:27.303Z"
   },
   {
    "duration": 1484,
    "start_time": "2022-07-26T10:21:27.947Z"
   },
   {
    "duration": 5,
    "start_time": "2022-07-26T10:21:29.432Z"
   },
   {
    "duration": 30,
    "start_time": "2022-07-26T10:21:29.438Z"
   },
   {
    "duration": 16,
    "start_time": "2022-07-26T10:21:29.470Z"
   },
   {
    "duration": 16,
    "start_time": "2022-07-26T10:21:29.813Z"
   },
   {
    "duration": 7,
    "start_time": "2022-07-26T10:21:31.271Z"
   },
   {
    "duration": 14,
    "start_time": "2022-07-26T10:21:31.899Z"
   },
   {
    "duration": 38,
    "start_time": "2022-07-26T10:21:32.427Z"
   },
   {
    "duration": 17,
    "start_time": "2022-07-26T10:21:33.581Z"
   },
   {
    "duration": 9,
    "start_time": "2022-07-26T10:21:34.579Z"
   },
   {
    "duration": 152,
    "start_time": "2022-07-26T10:21:35.231Z"
   },
   {
    "duration": 1841,
    "start_time": "2022-07-26T10:21:39.168Z"
   },
   {
    "duration": 3,
    "start_time": "2022-07-26T11:09:50.270Z"
   },
   {
    "duration": 76,
    "start_time": "2022-07-26T11:09:50.475Z"
   },
   {
    "duration": 8,
    "start_time": "2022-07-26T11:09:50.634Z"
   },
   {
    "duration": 91,
    "start_time": "2022-07-26T11:09:50.968Z"
   },
   {
    "duration": 89,
    "start_time": "2022-07-26T11:09:51.286Z"
   },
   {
    "duration": 14,
    "start_time": "2022-07-26T11:09:51.529Z"
   },
   {
    "duration": 1859,
    "start_time": "2022-07-26T11:09:51.630Z"
   },
   {
    "duration": 9,
    "start_time": "2022-07-26T11:09:53.491Z"
   },
   {
    "duration": 4,
    "start_time": "2022-07-26T11:09:53.501Z"
   },
   {
    "duration": 4,
    "start_time": "2022-07-26T11:09:53.507Z"
   },
   {
    "duration": 5,
    "start_time": "2022-07-26T11:09:53.513Z"
   },
   {
    "duration": 5,
    "start_time": "2022-07-26T11:09:53.520Z"
   },
   {
    "duration": 29,
    "start_time": "2022-07-26T11:09:53.526Z"
   },
   {
    "duration": 6,
    "start_time": "2022-07-26T11:09:53.621Z"
   },
   {
    "duration": 1383,
    "start_time": "2022-07-26T11:09:53.803Z"
   },
   {
    "duration": 4,
    "start_time": "2022-07-26T11:09:55.187Z"
   },
   {
    "duration": 6,
    "start_time": "2022-07-26T11:09:55.192Z"
   },
   {
    "duration": 10,
    "start_time": "2022-07-26T11:09:55.200Z"
   },
   {
    "duration": 13,
    "start_time": "2022-07-26T11:09:55.212Z"
   },
   {
    "duration": 8,
    "start_time": "2022-07-26T11:09:56.185Z"
   },
   {
    "duration": 13,
    "start_time": "2022-07-26T11:09:56.720Z"
   },
   {
    "duration": 20,
    "start_time": "2022-07-26T11:09:57.189Z"
   },
   {
    "duration": 17,
    "start_time": "2022-07-26T11:09:58.274Z"
   },
   {
    "duration": 13,
    "start_time": "2022-07-26T11:09:59.183Z"
   },
   {
    "duration": 143,
    "start_time": "2022-07-26T11:09:59.347Z"
   },
   {
    "duration": 1824,
    "start_time": "2022-07-26T11:09:59.872Z"
   },
   {
    "duration": 347,
    "start_time": "2022-07-26T11:10:01.699Z"
   },
   {
    "duration": 174,
    "start_time": "2022-07-26T11:10:33.999Z"
   },
   {
    "duration": 106,
    "start_time": "2022-07-26T11:10:44.226Z"
   },
   {
    "duration": 146,
    "start_time": "2022-07-26T11:11:01.124Z"
   },
   {
    "duration": 322,
    "start_time": "2022-07-26T11:11:43.758Z"
   },
   {
    "duration": 219,
    "start_time": "2022-07-26T11:11:58.232Z"
   },
   {
    "duration": 82,
    "start_time": "2022-07-26T11:15:29.165Z"
   },
   {
    "duration": 102,
    "start_time": "2022-07-26T11:15:49.747Z"
   },
   {
    "duration": 88,
    "start_time": "2022-07-26T11:16:06.158Z"
   },
   {
    "duration": 209,
    "start_time": "2022-07-26T11:16:17.144Z"
   },
   {
    "duration": 78,
    "start_time": "2022-07-26T11:16:18.030Z"
   },
   {
    "duration": 253,
    "start_time": "2022-07-26T11:16:33.085Z"
   },
   {
    "duration": 371,
    "start_time": "2022-07-26T11:16:43.808Z"
   },
   {
    "duration": 9,
    "start_time": "2022-07-26T11:20:35.827Z"
   },
   {
    "duration": 66,
    "start_time": "2022-07-26T11:25:11.327Z"
   },
   {
    "duration": 2,
    "start_time": "2022-07-26T11:25:29.504Z"
   },
   {
    "duration": 86,
    "start_time": "2022-07-26T11:25:29.649Z"
   },
   {
    "duration": 7,
    "start_time": "2022-07-26T11:25:29.810Z"
   },
   {
    "duration": 98,
    "start_time": "2022-07-26T11:25:30.235Z"
   },
   {
    "duration": 99,
    "start_time": "2022-07-26T11:25:30.566Z"
   },
   {
    "duration": 16,
    "start_time": "2022-07-26T11:25:30.802Z"
   },
   {
    "duration": 1887,
    "start_time": "2022-07-26T11:25:30.926Z"
   },
   {
    "duration": 8,
    "start_time": "2022-07-26T11:25:32.815Z"
   },
   {
    "duration": 4,
    "start_time": "2022-07-26T11:25:32.825Z"
   },
   {
    "duration": 4,
    "start_time": "2022-07-26T11:25:32.852Z"
   },
   {
    "duration": 8,
    "start_time": "2022-07-26T11:25:32.857Z"
   },
   {
    "duration": 6,
    "start_time": "2022-07-26T11:25:32.867Z"
   },
   {
    "duration": 5,
    "start_time": "2022-07-26T11:25:32.874Z"
   },
   {
    "duration": 7,
    "start_time": "2022-07-26T11:25:32.880Z"
   },
   {
    "duration": 1413,
    "start_time": "2022-07-26T11:25:32.889Z"
   },
   {
    "duration": 4,
    "start_time": "2022-07-26T11:25:34.304Z"
   },
   {
    "duration": 6,
    "start_time": "2022-07-26T11:25:34.309Z"
   },
   {
    "duration": 10,
    "start_time": "2022-07-26T11:25:34.317Z"
   },
   {
    "duration": 27,
    "start_time": "2022-07-26T11:25:34.329Z"
   },
   {
    "duration": 6,
    "start_time": "2022-07-26T11:25:34.651Z"
   },
   {
    "duration": 14,
    "start_time": "2022-07-26T11:25:35.127Z"
   },
   {
    "duration": 24,
    "start_time": "2022-07-26T11:25:35.591Z"
   },
   {
    "duration": 15,
    "start_time": "2022-07-26T11:25:36.550Z"
   },
   {
    "duration": 9,
    "start_time": "2022-07-26T11:25:37.462Z"
   },
   {
    "duration": 143,
    "start_time": "2022-07-26T11:25:37.923Z"
   },
   {
    "duration": 1953,
    "start_time": "2022-07-26T11:25:38.867Z"
   },
   {
    "duration": 210,
    "start_time": "2022-07-26T11:25:40.822Z"
   },
   {
    "duration": 234,
    "start_time": "2022-07-26T11:25:41.034Z"
   },
   {
    "duration": 8,
    "start_time": "2022-07-26T11:25:41.270Z"
   },
   {
    "duration": 8,
    "start_time": "2022-07-26T11:25:41.730Z"
   },
   {
    "duration": 202,
    "start_time": "2022-07-26T11:35:10.411Z"
   },
   {
    "duration": 224,
    "start_time": "2022-07-26T11:35:16.698Z"
   },
   {
    "duration": 249,
    "start_time": "2022-07-26T11:53:31.947Z"
   },
   {
    "duration": 204,
    "start_time": "2022-07-26T11:53:47.503Z"
   },
   {
    "duration": 9,
    "start_time": "2022-07-26T11:54:12.927Z"
   },
   {
    "duration": 332,
    "start_time": "2022-07-26T11:56:25.983Z"
   },
   {
    "duration": 411,
    "start_time": "2022-07-26T11:56:35.041Z"
   },
   {
    "duration": 12,
    "start_time": "2022-07-26T11:56:55.258Z"
   },
   {
    "duration": 236,
    "start_time": "2022-07-26T11:58:22.396Z"
   },
   {
    "duration": 218,
    "start_time": "2022-07-26T11:58:41.051Z"
   },
   {
    "duration": 9,
    "start_time": "2022-07-26T12:01:58.895Z"
   },
   {
    "duration": 15,
    "start_time": "2022-07-26T12:02:08.753Z"
   },
   {
    "duration": 13,
    "start_time": "2022-07-26T12:04:03.415Z"
   },
   {
    "duration": 9,
    "start_time": "2022-07-26T12:05:20.682Z"
   },
   {
    "duration": 235,
    "start_time": "2022-07-26T12:05:29.917Z"
   },
   {
    "duration": 199,
    "start_time": "2022-07-26T12:05:36.032Z"
   },
   {
    "duration": 9,
    "start_time": "2022-07-26T12:07:51.276Z"
   },
   {
    "duration": 14,
    "start_time": "2022-07-26T12:08:02.523Z"
   },
   {
    "duration": 9,
    "start_time": "2022-07-26T12:09:45.938Z"
   },
   {
    "duration": 153,
    "start_time": "2022-07-26T12:11:22.843Z"
   },
   {
    "duration": 14,
    "start_time": "2022-07-26T12:12:07.907Z"
   },
   {
    "duration": 15,
    "start_time": "2022-07-26T12:12:15.525Z"
   },
   {
    "duration": 9,
    "start_time": "2022-07-26T12:14:02.616Z"
   },
   {
    "duration": 149,
    "start_time": "2022-07-26T12:15:20.800Z"
   },
   {
    "duration": 275,
    "start_time": "2022-07-26T12:15:29.560Z"
   },
   {
    "duration": 14,
    "start_time": "2022-07-26T12:16:36.386Z"
   },
   {
    "duration": 9,
    "start_time": "2022-07-26T12:18:13.218Z"
   },
   {
    "duration": 181,
    "start_time": "2022-07-26T12:18:51.095Z"
   },
   {
    "duration": 21,
    "start_time": "2022-07-26T12:19:30.615Z"
   },
   {
    "duration": 10,
    "start_time": "2022-07-26T12:20:22.018Z"
   },
   {
    "duration": 8,
    "start_time": "2022-07-26T12:45:01.394Z"
   },
   {
    "duration": 191,
    "start_time": "2022-07-26T12:48:05.706Z"
   },
   {
    "duration": 127,
    "start_time": "2022-07-26T12:48:14.438Z"
   },
   {
    "duration": 181,
    "start_time": "2022-07-26T12:48:26.927Z"
   },
   {
    "duration": 132,
    "start_time": "2022-07-26T12:48:44.746Z"
   },
   {
    "duration": 136,
    "start_time": "2022-07-26T12:49:05.067Z"
   },
   {
    "duration": 120,
    "start_time": "2022-07-26T12:49:13.493Z"
   },
   {
    "duration": 126,
    "start_time": "2022-07-26T12:49:34.674Z"
   },
   {
    "duration": 9,
    "start_time": "2022-07-26T12:53:08.177Z"
   },
   {
    "duration": 12,
    "start_time": "2022-07-26T12:53:18.855Z"
   },
   {
    "duration": 41,
    "start_time": "2022-07-26T12:53:36.230Z"
   },
   {
    "duration": 43,
    "start_time": "2022-07-26T12:54:25.807Z"
   },
   {
    "duration": 34,
    "start_time": "2022-07-26T12:54:59.930Z"
   },
   {
    "duration": 41,
    "start_time": "2022-07-26T12:57:17.377Z"
   },
   {
    "duration": 47,
    "start_time": "2022-07-26T12:57:24.748Z"
   },
   {
    "duration": 3,
    "start_time": "2022-07-26T12:57:37.437Z"
   },
   {
    "duration": 81,
    "start_time": "2022-07-26T12:57:37.627Z"
   },
   {
    "duration": 7,
    "start_time": "2022-07-26T12:57:37.778Z"
   },
   {
    "duration": 87,
    "start_time": "2022-07-26T12:57:38.097Z"
   },
   {
    "duration": 88,
    "start_time": "2022-07-26T12:57:38.398Z"
   },
   {
    "duration": 19,
    "start_time": "2022-07-26T12:57:38.642Z"
   },
   {
    "duration": 2066,
    "start_time": "2022-07-26T12:57:38.741Z"
   },
   {
    "duration": 9,
    "start_time": "2022-07-26T12:57:40.808Z"
   },
   {
    "duration": 6,
    "start_time": "2022-07-26T12:57:40.818Z"
   },
   {
    "duration": 8,
    "start_time": "2022-07-26T12:57:40.826Z"
   },
   {
    "duration": 19,
    "start_time": "2022-07-26T12:57:40.835Z"
   },
   {
    "duration": 17,
    "start_time": "2022-07-26T12:57:40.855Z"
   },
   {
    "duration": 5,
    "start_time": "2022-07-26T12:57:40.873Z"
   },
   {
    "duration": 5,
    "start_time": "2022-07-26T12:57:40.879Z"
   },
   {
    "duration": 1454,
    "start_time": "2022-07-26T12:57:45.647Z"
   },
   {
    "duration": 5,
    "start_time": "2022-07-26T12:57:47.442Z"
   },
   {
    "duration": 5,
    "start_time": "2022-07-26T12:57:47.996Z"
   },
   {
    "duration": 9,
    "start_time": "2022-07-26T12:57:57.793Z"
   },
   {
    "duration": 17,
    "start_time": "2022-07-26T12:57:59.249Z"
   },
   {
    "duration": 6,
    "start_time": "2022-07-26T12:58:00.492Z"
   },
   {
    "duration": 14,
    "start_time": "2022-07-26T12:58:01.171Z"
   },
   {
    "duration": 31,
    "start_time": "2022-07-26T12:58:01.793Z"
   },
   {
    "duration": 15,
    "start_time": "2022-07-26T12:58:03.195Z"
   },
   {
    "duration": 9,
    "start_time": "2022-07-26T12:58:04.077Z"
   },
   {
    "duration": 180,
    "start_time": "2022-07-26T12:58:04.493Z"
   },
   {
    "duration": 2036,
    "start_time": "2022-07-26T12:58:05.539Z"
   },
   {
    "duration": 224,
    "start_time": "2022-07-26T12:58:07.577Z"
   },
   {
    "duration": 216,
    "start_time": "2022-07-26T12:58:07.803Z"
   },
   {
    "duration": 8,
    "start_time": "2022-07-26T12:58:09.211Z"
   },
   {
    "duration": 246,
    "start_time": "2022-07-26T12:58:10.741Z"
   },
   {
    "duration": 17,
    "start_time": "2022-07-26T12:58:11.243Z"
   },
   {
    "duration": 226,
    "start_time": "2022-07-26T12:58:12.317Z"
   },
   {
    "duration": 14,
    "start_time": "2022-07-26T12:58:12.809Z"
   },
   {
    "duration": 176,
    "start_time": "2022-07-26T12:58:13.749Z"
   },
   {
    "duration": 9,
    "start_time": "2022-07-26T12:58:14.183Z"
   },
   {
    "duration": 189,
    "start_time": "2022-07-26T12:58:15.131Z"
   },
   {
    "duration": 9,
    "start_time": "2022-07-26T12:58:15.568Z"
   },
   {
    "duration": 248,
    "start_time": "2022-07-26T12:58:16.526Z"
   },
   {
    "duration": 11,
    "start_time": "2022-07-26T12:58:17.038Z"
   },
   {
    "duration": 167,
    "start_time": "2022-07-26T12:58:17.939Z"
   },
   {
    "duration": 8,
    "start_time": "2022-07-26T12:58:18.170Z"
   },
   {
    "duration": 88,
    "start_time": "2022-07-26T12:58:18.407Z"
   },
   {
    "duration": 14,
    "start_time": "2022-07-26T12:58:18.663Z"
   },
   {
    "duration": 11,
    "start_time": "2022-07-26T12:58:18.928Z"
   },
   {
    "duration": 63,
    "start_time": "2022-07-26T12:58:19.623Z"
   },
   {
    "duration": 16,
    "start_time": "2022-07-26T13:03:42.888Z"
   },
   {
    "duration": 23,
    "start_time": "2022-07-26T13:04:07.610Z"
   },
   {
    "duration": 12,
    "start_time": "2022-07-26T13:08:11.327Z"
   },
   {
    "duration": 4,
    "start_time": "2022-07-26T13:12:27.417Z"
   },
   {
    "duration": 71,
    "start_time": "2022-07-26T13:12:40.622Z"
   },
   {
    "duration": 18,
    "start_time": "2022-07-26T13:13:22.779Z"
   },
   {
    "duration": 9,
    "start_time": "2022-07-26T13:13:43.298Z"
   },
   {
    "duration": 401,
    "start_time": "2022-07-26T15:45:09.565Z"
   },
   {
    "duration": 158,
    "start_time": "2022-07-26T15:45:10.186Z"
   },
   {
    "duration": 14,
    "start_time": "2022-07-26T15:45:10.889Z"
   },
   {
    "duration": 168,
    "start_time": "2022-07-26T15:45:14.757Z"
   },
   {
    "duration": 134,
    "start_time": "2022-07-26T15:45:16.060Z"
   },
   {
    "duration": 17,
    "start_time": "2022-07-26T15:45:16.737Z"
   },
   {
    "duration": 2853,
    "start_time": "2022-07-26T15:45:17.345Z"
   },
   {
    "duration": 18,
    "start_time": "2022-07-26T15:45:20.201Z"
   },
   {
    "duration": 6,
    "start_time": "2022-07-26T15:45:20.229Z"
   },
   {
    "duration": 4,
    "start_time": "2022-07-26T15:45:20.898Z"
   },
   {
    "duration": 8,
    "start_time": "2022-07-26T15:45:21.724Z"
   },
   {
    "duration": 7,
    "start_time": "2022-07-26T15:45:22.270Z"
   },
   {
    "duration": 8,
    "start_time": "2022-07-26T15:45:22.813Z"
   },
   {
    "duration": 5,
    "start_time": "2022-07-26T15:45:23.474Z"
   },
   {
    "duration": 1622,
    "start_time": "2022-07-26T15:45:24.052Z"
   },
   {
    "duration": 6,
    "start_time": "2022-07-26T15:45:25.676Z"
   },
   {
    "duration": 6,
    "start_time": "2022-07-26T15:45:25.684Z"
   },
   {
    "duration": 12,
    "start_time": "2022-07-26T15:45:26.073Z"
   },
   {
    "duration": 17,
    "start_time": "2022-07-26T15:45:27.658Z"
   },
   {
    "duration": 14,
    "start_time": "2022-07-26T15:45:29.090Z"
   },
   {
    "duration": 16,
    "start_time": "2022-07-26T15:45:29.736Z"
   },
   {
    "duration": 32,
    "start_time": "2022-07-26T15:45:30.371Z"
   },
   {
    "duration": 23,
    "start_time": "2022-07-26T15:45:31.495Z"
   },
   {
    "duration": 11,
    "start_time": "2022-07-26T15:45:32.671Z"
   },
   {
    "duration": 195,
    "start_time": "2022-07-26T15:45:33.305Z"
   },
   {
    "duration": 2577,
    "start_time": "2022-07-26T15:45:35.008Z"
   },
   {
    "duration": 288,
    "start_time": "2022-07-26T15:45:37.587Z"
   },
   {
    "duration": 281,
    "start_time": "2022-07-26T15:45:37.877Z"
   },
   {
    "duration": 10,
    "start_time": "2022-07-26T15:45:38.160Z"
   },
   {
    "duration": 278,
    "start_time": "2022-07-26T15:45:39.392Z"
   },
   {
    "duration": 11,
    "start_time": "2022-07-26T15:45:41.962Z"
   },
   {
    "duration": 368,
    "start_time": "2022-07-26T15:45:43.222Z"
   },
   {
    "duration": 10,
    "start_time": "2022-07-26T15:45:43.948Z"
   },
   {
    "duration": 180,
    "start_time": "2022-07-26T15:45:46.157Z"
   },
   {
    "duration": 10,
    "start_time": "2022-07-26T15:45:46.745Z"
   },
   {
    "duration": 186,
    "start_time": "2022-07-26T15:45:47.899Z"
   },
   {
    "duration": 13,
    "start_time": "2022-07-26T15:45:48.609Z"
   },
   {
    "duration": 263,
    "start_time": "2022-07-26T15:45:49.881Z"
   },
   {
    "duration": 10,
    "start_time": "2022-07-26T15:45:50.473Z"
   },
   {
    "duration": 202,
    "start_time": "2022-07-26T15:45:53.794Z"
   },
   {
    "duration": 9,
    "start_time": "2022-07-26T15:45:54.769Z"
   },
   {
    "duration": 79,
    "start_time": "2022-07-26T15:45:55.331Z"
   },
   {
    "duration": 19,
    "start_time": "2022-07-26T15:47:11.305Z"
   },
   {
    "duration": 11,
    "start_time": "2022-07-26T15:47:11.978Z"
   },
   {
    "duration": 78,
    "start_time": "2022-07-26T15:47:13.652Z"
   },
   {
    "duration": 9,
    "start_time": "2022-07-26T15:47:15.090Z"
   },
   {
    "duration": 82,
    "start_time": "2022-07-26T16:04:13.165Z"
   },
   {
    "duration": 10,
    "start_time": "2022-07-26T16:04:22.296Z"
   },
   {
    "duration": 12,
    "start_time": "2022-07-26T16:04:42.141Z"
   },
   {
    "duration": 10,
    "start_time": "2022-07-26T16:04:53.477Z"
   },
   {
    "duration": 3,
    "start_time": "2022-07-26T16:05:10.196Z"
   },
   {
    "duration": 97,
    "start_time": "2022-07-26T16:05:10.425Z"
   },
   {
    "duration": 10,
    "start_time": "2022-07-26T16:05:10.607Z"
   },
   {
    "duration": 114,
    "start_time": "2022-07-26T16:05:10.927Z"
   },
   {
    "duration": 118,
    "start_time": "2022-07-26T16:05:11.293Z"
   },
   {
    "duration": 16,
    "start_time": "2022-07-26T16:05:11.459Z"
   },
   {
    "duration": 2425,
    "start_time": "2022-07-26T16:05:11.625Z"
   },
   {
    "duration": 11,
    "start_time": "2022-07-26T16:05:14.052Z"
   },
   {
    "duration": 6,
    "start_time": "2022-07-26T16:05:14.064Z"
   },
   {
    "duration": 6,
    "start_time": "2022-07-26T16:05:14.072Z"
   },
   {
    "duration": 32,
    "start_time": "2022-07-26T16:05:14.080Z"
   },
   {
    "duration": 11,
    "start_time": "2022-07-26T16:05:14.113Z"
   },
   {
    "duration": 10,
    "start_time": "2022-07-26T16:05:14.126Z"
   },
   {
    "duration": 5,
    "start_time": "2022-07-26T16:05:14.171Z"
   },
   {
    "duration": 1672,
    "start_time": "2022-07-26T16:05:14.178Z"
   },
   {
    "duration": 6,
    "start_time": "2022-07-26T16:05:15.852Z"
   },
   {
    "duration": 6,
    "start_time": "2022-07-26T16:05:15.861Z"
   },
   {
    "duration": 14,
    "start_time": "2022-07-26T16:05:15.869Z"
   },
   {
    "duration": 47,
    "start_time": "2022-07-26T16:05:15.885Z"
   },
   {
    "duration": 12,
    "start_time": "2022-07-26T16:05:16.943Z"
   },
   {
    "duration": 28,
    "start_time": "2022-07-26T16:05:17.567Z"
   },
   {
    "duration": 40,
    "start_time": "2022-07-26T16:05:18.454Z"
   },
   {
    "duration": 21,
    "start_time": "2022-07-26T16:05:19.970Z"
   },
   {
    "duration": 10,
    "start_time": "2022-07-26T16:05:21.370Z"
   },
   {
    "duration": 252,
    "start_time": "2022-07-26T16:05:21.958Z"
   },
   {
    "duration": 2585,
    "start_time": "2022-07-26T16:05:22.691Z"
   },
   {
    "duration": 276,
    "start_time": "2022-07-26T16:05:25.278Z"
   },
   {
    "duration": 286,
    "start_time": "2022-07-26T16:05:25.555Z"
   },
   {
    "duration": 10,
    "start_time": "2022-07-26T16:05:25.843Z"
   },
   {
    "duration": 306,
    "start_time": "2022-07-26T16:05:25.855Z"
   },
   {
    "duration": 15,
    "start_time": "2022-07-26T16:05:26.422Z"
   },
   {
    "duration": 495,
    "start_time": "2022-07-26T16:05:27.574Z"
   },
   {
    "duration": 11,
    "start_time": "2022-07-26T16:05:28.071Z"
   },
   {
    "duration": 191,
    "start_time": "2022-07-26T16:05:28.237Z"
   },
   {
    "duration": 9,
    "start_time": "2022-07-26T16:05:28.463Z"
   },
   {
    "duration": 194,
    "start_time": "2022-07-26T16:05:28.979Z"
   },
   {
    "duration": 13,
    "start_time": "2022-07-26T16:05:29.216Z"
   },
   {
    "duration": 300,
    "start_time": "2022-07-26T16:05:29.997Z"
   },
   {
    "duration": 10,
    "start_time": "2022-07-26T16:05:30.426Z"
   },
   {
    "duration": 213,
    "start_time": "2022-07-26T16:05:30.773Z"
   },
   {
    "duration": 9,
    "start_time": "2022-07-26T16:05:31.187Z"
   },
   {
    "duration": 12,
    "start_time": "2022-07-26T16:05:31.556Z"
   },
   {
    "duration": 10,
    "start_time": "2022-07-26T16:05:31.763Z"
   },
   {
    "duration": 70,
    "start_time": "2022-07-26T16:05:32.229Z"
   },
   {
    "duration": 12,
    "start_time": "2022-07-26T16:05:32.618Z"
   },
   {
    "duration": 9,
    "start_time": "2022-07-26T16:05:34.493Z"
   },
   {
    "duration": 17,
    "start_time": "2022-07-26T16:05:49.260Z"
   },
   {
    "duration": 29,
    "start_time": "2022-07-26T16:06:06.126Z"
   },
   {
    "duration": 37,
    "start_time": "2022-07-26T16:06:50.689Z"
   },
   {
    "duration": 1122,
    "start_time": "2022-07-26T16:22:11.581Z"
   },
   {
    "duration": 4,
    "start_time": "2022-07-26T16:22:40.518Z"
   },
   {
    "duration": 91,
    "start_time": "2022-07-26T16:22:40.708Z"
   },
   {
    "duration": 8,
    "start_time": "2022-07-26T16:22:40.900Z"
   },
   {
    "duration": 119,
    "start_time": "2022-07-26T16:22:41.274Z"
   },
   {
    "duration": 110,
    "start_time": "2022-07-26T16:22:41.623Z"
   },
   {
    "duration": 23,
    "start_time": "2022-07-26T16:22:41.829Z"
   },
   {
    "duration": 2607,
    "start_time": "2022-07-26T16:22:41.970Z"
   },
   {
    "duration": 12,
    "start_time": "2022-07-26T16:22:44.579Z"
   },
   {
    "duration": 32,
    "start_time": "2022-07-26T16:22:44.593Z"
   },
   {
    "duration": 11,
    "start_time": "2022-07-26T16:22:44.628Z"
   },
   {
    "duration": 12,
    "start_time": "2022-07-26T16:22:44.642Z"
   },
   {
    "duration": 9,
    "start_time": "2022-07-26T16:22:44.656Z"
   },
   {
    "duration": 7,
    "start_time": "2022-07-26T16:22:44.667Z"
   },
   {
    "duration": 13,
    "start_time": "2022-07-26T16:22:44.676Z"
   },
   {
    "duration": 1607,
    "start_time": "2022-07-26T16:22:44.690Z"
   },
   {
    "duration": 22,
    "start_time": "2022-07-26T16:22:46.301Z"
   },
   {
    "duration": 13,
    "start_time": "2022-07-26T16:22:46.327Z"
   },
   {
    "duration": 32,
    "start_time": "2022-07-26T16:22:46.342Z"
   },
   {
    "duration": 24,
    "start_time": "2022-07-26T16:22:46.376Z"
   },
   {
    "duration": 17,
    "start_time": "2022-07-26T16:22:46.403Z"
   },
   {
    "duration": 31,
    "start_time": "2022-07-26T16:22:46.425Z"
   },
   {
    "duration": 28,
    "start_time": "2022-07-26T16:22:46.458Z"
   },
   {
    "duration": 28,
    "start_time": "2022-07-26T16:22:46.488Z"
   },
   {
    "duration": 12,
    "start_time": "2022-07-26T16:22:46.667Z"
   },
   {
    "duration": 196,
    "start_time": "2022-07-26T16:22:46.925Z"
   },
   {
    "duration": 2334,
    "start_time": "2022-07-26T16:22:47.738Z"
   },
   {
    "duration": 261,
    "start_time": "2022-07-26T16:22:50.074Z"
   },
   {
    "duration": 290,
    "start_time": "2022-07-26T16:22:50.337Z"
   },
   {
    "duration": 10,
    "start_time": "2022-07-26T16:22:50.629Z"
   },
   {
    "duration": 289,
    "start_time": "2022-07-26T16:22:50.640Z"
   },
   {
    "duration": 9,
    "start_time": "2022-07-26T16:22:50.931Z"
   },
   {
    "duration": 286,
    "start_time": "2022-07-26T16:22:50.942Z"
   },
   {
    "duration": 10,
    "start_time": "2022-07-26T16:22:51.230Z"
   },
   {
    "duration": 191,
    "start_time": "2022-07-26T16:22:51.242Z"
   },
   {
    "duration": 9,
    "start_time": "2022-07-26T16:22:51.435Z"
   },
   {
    "duration": 210,
    "start_time": "2022-07-26T16:22:51.447Z"
   },
   {
    "duration": 10,
    "start_time": "2022-07-26T16:22:51.660Z"
   },
   {
    "duration": 531,
    "start_time": "2022-07-26T16:22:52.162Z"
   },
   {
    "duration": 28,
    "start_time": "2022-07-26T16:22:52.695Z"
   },
   {
    "duration": 210,
    "start_time": "2022-07-26T16:22:52.725Z"
   },
   {
    "duration": 9,
    "start_time": "2022-07-26T16:22:52.938Z"
   },
   {
    "duration": 11,
    "start_time": "2022-07-26T16:22:53.272Z"
   },
   {
    "duration": 9,
    "start_time": "2022-07-26T16:22:53.479Z"
   },
   {
    "duration": 79,
    "start_time": "2022-07-26T16:22:54.078Z"
   },
   {
    "duration": 9,
    "start_time": "2022-07-26T16:22:54.543Z"
   },
   {
    "duration": 1030,
    "start_time": "2022-07-26T16:22:55.511Z"
   },
   {
    "duration": 43,
    "start_time": "2022-07-26T16:37:52.025Z"
   },
   {
    "duration": 1217,
    "start_time": "2022-07-26T16:41:48.944Z"
   },
   {
    "duration": 21,
    "start_time": "2022-07-26T16:49:53.651Z"
   },
   {
    "duration": 957,
    "start_time": "2022-07-26T17:06:00.092Z"
   },
   {
    "duration": 77,
    "start_time": "2022-07-26T17:11:25.987Z"
   },
   {
    "duration": 80,
    "start_time": "2022-07-26T17:11:43.538Z"
   },
   {
    "duration": 78,
    "start_time": "2022-07-26T17:13:13.132Z"
   },
   {
    "duration": 72,
    "start_time": "2022-07-26T17:13:48.133Z"
   },
   {
    "duration": 76,
    "start_time": "2022-07-26T17:13:56.850Z"
   },
   {
    "duration": 77,
    "start_time": "2022-07-26T17:14:08.841Z"
   },
   {
    "duration": 2,
    "start_time": "2022-07-26T17:14:48.602Z"
   },
   {
    "duration": 84,
    "start_time": "2022-07-26T17:14:48.779Z"
   },
   {
    "duration": 8,
    "start_time": "2022-07-26T17:14:49.133Z"
   },
   {
    "duration": 106,
    "start_time": "2022-07-26T17:14:49.330Z"
   },
   {
    "duration": 104,
    "start_time": "2022-07-26T17:14:49.675Z"
   },
   {
    "duration": 19,
    "start_time": "2022-07-26T17:14:49.846Z"
   },
   {
    "duration": 2264,
    "start_time": "2022-07-26T17:14:50.033Z"
   },
   {
    "duration": 12,
    "start_time": "2022-07-26T17:14:52.299Z"
   },
   {
    "duration": 16,
    "start_time": "2022-07-26T17:14:52.313Z"
   },
   {
    "duration": 16,
    "start_time": "2022-07-26T17:14:52.331Z"
   },
   {
    "duration": 19,
    "start_time": "2022-07-26T17:14:52.349Z"
   },
   {
    "duration": 26,
    "start_time": "2022-07-26T17:14:52.370Z"
   },
   {
    "duration": 14,
    "start_time": "2022-07-26T17:14:52.398Z"
   },
   {
    "duration": 14,
    "start_time": "2022-07-26T17:14:52.415Z"
   },
   {
    "duration": 1625,
    "start_time": "2022-07-26T17:14:52.432Z"
   },
   {
    "duration": 7,
    "start_time": "2022-07-26T17:14:54.060Z"
   },
   {
    "duration": 16,
    "start_time": "2022-07-26T17:14:54.069Z"
   },
   {
    "duration": 14,
    "start_time": "2022-07-26T17:14:54.087Z"
   },
   {
    "duration": 17,
    "start_time": "2022-07-26T17:14:54.111Z"
   },
   {
    "duration": 16,
    "start_time": "2022-07-26T17:14:54.130Z"
   },
   {
    "duration": 18,
    "start_time": "2022-07-26T17:14:54.148Z"
   },
   {
    "duration": 62,
    "start_time": "2022-07-26T17:14:54.168Z"
   },
   {
    "duration": 33,
    "start_time": "2022-07-26T17:14:54.233Z"
   },
   {
    "duration": 11,
    "start_time": "2022-07-26T17:14:54.530Z"
   },
   {
    "duration": 182,
    "start_time": "2022-07-26T17:14:54.720Z"
   },
   {
    "duration": 2351,
    "start_time": "2022-07-26T17:14:55.114Z"
   },
   {
    "duration": 579,
    "start_time": "2022-07-26T17:14:57.467Z"
   },
   {
    "duration": 267,
    "start_time": "2022-07-26T17:14:58.048Z"
   },
   {
    "duration": 11,
    "start_time": "2022-07-26T17:14:58.318Z"
   },
   {
    "duration": 289,
    "start_time": "2022-07-26T17:14:58.331Z"
   },
   {
    "duration": 10,
    "start_time": "2022-07-26T17:14:58.622Z"
   },
   {
    "duration": 272,
    "start_time": "2022-07-26T17:14:58.634Z"
   },
   {
    "duration": 10,
    "start_time": "2022-07-26T17:14:58.910Z"
   },
   {
    "duration": 198,
    "start_time": "2022-07-26T17:14:58.922Z"
   },
   {
    "duration": 10,
    "start_time": "2022-07-26T17:14:59.122Z"
   },
   {
    "duration": 211,
    "start_time": "2022-07-26T17:14:59.134Z"
   },
   {
    "duration": 12,
    "start_time": "2022-07-26T17:14:59.348Z"
   },
   {
    "duration": 270,
    "start_time": "2022-07-26T17:15:00.370Z"
   },
   {
    "duration": 10,
    "start_time": "2022-07-26T17:15:00.828Z"
   },
   {
    "duration": 258,
    "start_time": "2022-07-26T17:15:01.728Z"
   },
   {
    "duration": 14,
    "start_time": "2022-07-26T17:15:02.074Z"
   },
   {
    "duration": 12,
    "start_time": "2022-07-26T17:15:02.713Z"
   },
   {
    "duration": 10,
    "start_time": "2022-07-26T17:15:02.992Z"
   },
   {
    "duration": 95,
    "start_time": "2022-07-26T17:15:04.098Z"
   },
   {
    "duration": 11,
    "start_time": "2022-07-26T17:15:04.630Z"
   },
   {
    "duration": 79,
    "start_time": "2022-07-26T17:15:05.591Z"
   },
   {
    "duration": 955,
    "start_time": "2022-07-26T17:15:48.541Z"
   },
   {
    "duration": 22,
    "start_time": "2022-07-26T17:17:00.370Z"
   },
   {
    "duration": 1063,
    "start_time": "2022-07-26T17:17:15.207Z"
   },
   {
    "duration": 948,
    "start_time": "2022-07-26T17:24:13.140Z"
   },
   {
    "duration": 3,
    "start_time": "2022-07-26T17:24:44.110Z"
   },
   {
    "duration": 84,
    "start_time": "2022-07-26T17:24:44.666Z"
   },
   {
    "duration": 9,
    "start_time": "2022-07-26T17:24:45.229Z"
   },
   {
    "duration": 128,
    "start_time": "2022-07-26T17:24:46.582Z"
   },
   {
    "duration": 101,
    "start_time": "2022-07-26T17:24:47.476Z"
   },
   {
    "duration": 17,
    "start_time": "2022-07-26T17:24:48.165Z"
   },
   {
    "duration": 2054,
    "start_time": "2022-07-26T17:24:48.434Z"
   },
   {
    "duration": 10,
    "start_time": "2022-07-26T17:24:50.490Z"
   },
   {
    "duration": 5,
    "start_time": "2022-07-26T17:24:50.611Z"
   },
   {
    "duration": 5,
    "start_time": "2022-07-26T17:24:51.166Z"
   },
   {
    "duration": 5,
    "start_time": "2022-07-26T17:24:51.685Z"
   },
   {
    "duration": 5,
    "start_time": "2022-07-26T17:24:52.287Z"
   },
   {
    "duration": 6,
    "start_time": "2022-07-26T17:24:52.826Z"
   },
   {
    "duration": 6,
    "start_time": "2022-07-26T17:24:53.374Z"
   },
   {
    "duration": 1521,
    "start_time": "2022-07-26T17:24:54.011Z"
   },
   {
    "duration": 6,
    "start_time": "2022-07-26T17:24:55.536Z"
   },
   {
    "duration": 9,
    "start_time": "2022-07-26T17:24:55.543Z"
   },
   {
    "duration": 13,
    "start_time": "2022-07-26T17:24:55.831Z"
   },
   {
    "duration": 17,
    "start_time": "2022-07-26T17:24:56.899Z"
   },
   {
    "duration": 12,
    "start_time": "2022-07-26T17:24:57.917Z"
   },
   {
    "duration": 16,
    "start_time": "2022-07-26T17:25:00.165Z"
   },
   {
    "duration": 27,
    "start_time": "2022-07-26T17:25:01.134Z"
   },
   {
    "duration": 22,
    "start_time": "2022-07-26T17:25:02.618Z"
   },
   {
    "duration": 11,
    "start_time": "2022-07-26T17:25:03.505Z"
   },
   {
    "duration": 173,
    "start_time": "2022-07-26T17:25:03.887Z"
   },
   {
    "duration": 2696,
    "start_time": "2022-07-26T17:25:04.829Z"
   },
   {
    "duration": 260,
    "start_time": "2022-07-26T17:25:07.527Z"
   },
   {
    "duration": 283,
    "start_time": "2022-07-26T17:25:07.789Z"
   },
   {
    "duration": 10,
    "start_time": "2022-07-26T17:25:08.075Z"
   },
   {
    "duration": 293,
    "start_time": "2022-07-26T17:25:08.087Z"
   },
   {
    "duration": 11,
    "start_time": "2022-07-26T17:25:08.383Z"
   },
   {
    "duration": 255,
    "start_time": "2022-07-26T17:25:09.194Z"
   },
   {
    "duration": 11,
    "start_time": "2022-07-26T17:25:09.776Z"
   },
   {
    "duration": 183,
    "start_time": "2022-07-26T17:25:10.897Z"
   },
   {
    "duration": 10,
    "start_time": "2022-07-26T17:25:11.530Z"
   },
   {
    "duration": 182,
    "start_time": "2022-07-26T17:25:12.738Z"
   },
   {
    "duration": 9,
    "start_time": "2022-07-26T17:25:13.356Z"
   },
   {
    "duration": 286,
    "start_time": "2022-07-26T17:25:14.594Z"
   },
   {
    "duration": 11,
    "start_time": "2022-07-26T17:25:15.315Z"
   },
   {
    "duration": 202,
    "start_time": "2022-07-26T17:25:16.762Z"
   },
   {
    "duration": 10,
    "start_time": "2022-07-26T17:25:17.739Z"
   },
   {
    "duration": 14,
    "start_time": "2022-07-26T17:25:19.219Z"
   },
   {
    "duration": 11,
    "start_time": "2022-07-26T17:25:20.427Z"
   },
   {
    "duration": 89,
    "start_time": "2022-07-26T17:25:21.907Z"
   },
   {
    "duration": 11,
    "start_time": "2022-07-26T17:25:22.661Z"
   },
   {
    "duration": 940,
    "start_time": "2022-07-26T17:25:24.350Z"
   },
   {
    "duration": 34,
    "start_time": "2022-07-26T17:25:50.771Z"
   },
   {
    "duration": 955,
    "start_time": "2022-07-26T17:26:51.429Z"
   },
   {
    "duration": 927,
    "start_time": "2022-07-26T17:26:58.166Z"
   },
   {
    "duration": 2,
    "start_time": "2022-07-26T17:27:16.339Z"
   },
   {
    "duration": 89,
    "start_time": "2022-07-26T17:27:16.549Z"
   },
   {
    "duration": 7,
    "start_time": "2022-07-26T17:27:16.766Z"
   },
   {
    "duration": 104,
    "start_time": "2022-07-26T17:27:17.131Z"
   },
   {
    "duration": 127,
    "start_time": "2022-07-26T17:27:18.174Z"
   },
   {
    "duration": 16,
    "start_time": "2022-07-26T17:27:18.755Z"
   },
   {
    "duration": 2020,
    "start_time": "2022-07-26T17:27:19.466Z"
   },
   {
    "duration": 10,
    "start_time": "2022-07-26T17:27:21.488Z"
   },
   {
    "duration": 7,
    "start_time": "2022-07-26T17:27:22.011Z"
   },
   {
    "duration": 4,
    "start_time": "2022-07-26T17:27:23.252Z"
   },
   {
    "duration": 5,
    "start_time": "2022-07-26T17:27:23.874Z"
   },
   {
    "duration": 5,
    "start_time": "2022-07-26T17:27:24.523Z"
   },
   {
    "duration": 5,
    "start_time": "2022-07-26T17:27:25.166Z"
   },
   {
    "duration": 4,
    "start_time": "2022-07-26T17:27:25.818Z"
   },
   {
    "duration": 1623,
    "start_time": "2022-07-26T17:27:26.496Z"
   },
   {
    "duration": 6,
    "start_time": "2022-07-26T17:27:29.268Z"
   },
   {
    "duration": 6,
    "start_time": "2022-07-26T17:27:32.787Z"
   },
   {
    "duration": 11,
    "start_time": "2022-07-26T17:27:33.739Z"
   },
   {
    "duration": 16,
    "start_time": "2022-07-26T17:27:35.894Z"
   },
   {
    "duration": 13,
    "start_time": "2022-07-26T17:27:37.483Z"
   },
   {
    "duration": 19,
    "start_time": "2022-07-26T17:27:40.240Z"
   },
   {
    "duration": 28,
    "start_time": "2022-07-26T17:28:00.708Z"
   },
   {
    "duration": 21,
    "start_time": "2022-07-26T17:28:03.833Z"
   },
   {
    "duration": 10,
    "start_time": "2022-07-26T17:28:06.026Z"
   },
   {
    "duration": 175,
    "start_time": "2022-07-26T17:28:09.289Z"
   },
   {
    "duration": 2750,
    "start_time": "2022-07-26T17:28:10.664Z"
   },
   {
    "duration": 243,
    "start_time": "2022-07-26T17:28:14.051Z"
   },
   {
    "duration": 266,
    "start_time": "2022-07-26T17:28:14.723Z"
   },
   {
    "duration": 12,
    "start_time": "2022-07-26T17:28:15.443Z"
   },
   {
    "duration": 267,
    "start_time": "2022-07-26T17:28:17.301Z"
   },
   {
    "duration": 11,
    "start_time": "2022-07-26T17:28:20.730Z"
   },
   {
    "duration": 275,
    "start_time": "2022-07-26T17:28:22.842Z"
   },
   {
    "duration": 11,
    "start_time": "2022-07-26T17:28:24.326Z"
   },
   {
    "duration": 189,
    "start_time": "2022-07-26T17:28:26.058Z"
   },
   {
    "duration": 9,
    "start_time": "2022-07-26T17:28:26.586Z"
   },
   {
    "duration": 229,
    "start_time": "2022-07-26T17:28:27.716Z"
   },
   {
    "duration": 10,
    "start_time": "2022-07-26T17:28:28.355Z"
   },
   {
    "duration": 276,
    "start_time": "2022-07-26T17:28:29.609Z"
   },
   {
    "duration": 9,
    "start_time": "2022-07-26T17:28:30.217Z"
   },
   {
    "duration": 198,
    "start_time": "2022-07-26T17:28:31.465Z"
   },
   {
    "duration": 12,
    "start_time": "2022-07-26T17:28:32.049Z"
   },
   {
    "duration": 11,
    "start_time": "2022-07-26T17:28:33.438Z"
   },
   {
    "duration": 10,
    "start_time": "2022-07-26T17:28:34.973Z"
   },
   {
    "duration": 76,
    "start_time": "2022-07-26T17:28:36.528Z"
   },
   {
    "duration": 10,
    "start_time": "2022-07-26T17:28:37.370Z"
   },
   {
    "duration": 914,
    "start_time": "2022-07-26T17:42:26.120Z"
   },
   {
    "duration": 862,
    "start_time": "2022-07-26T17:55:57.167Z"
   },
   {
    "duration": 37,
    "start_time": "2022-07-26T18:04:40.105Z"
   },
   {
    "duration": 308,
    "start_time": "2022-07-26T18:06:25.275Z"
   },
   {
    "duration": 340,
    "start_time": "2022-07-26T18:10:02.398Z"
   },
   {
    "duration": 374,
    "start_time": "2022-07-26T18:10:35.447Z"
   },
   {
    "duration": 950,
    "start_time": "2022-07-26T19:01:15.601Z"
   },
   {
    "duration": 991,
    "start_time": "2022-07-26T19:03:59.701Z"
   },
   {
    "duration": 3,
    "start_time": "2022-07-26T19:05:47.859Z"
   },
   {
    "duration": 184,
    "start_time": "2022-07-26T19:05:48.067Z"
   },
   {
    "duration": 10,
    "start_time": "2022-07-26T19:05:48.253Z"
   },
   {
    "duration": 118,
    "start_time": "2022-07-26T19:05:48.527Z"
   },
   {
    "duration": 110,
    "start_time": "2022-07-26T19:05:48.871Z"
   },
   {
    "duration": 16,
    "start_time": "2022-07-26T19:05:49.051Z"
   },
   {
    "duration": 2218,
    "start_time": "2022-07-26T19:05:49.227Z"
   },
   {
    "duration": 11,
    "start_time": "2022-07-26T19:05:51.447Z"
   },
   {
    "duration": 4,
    "start_time": "2022-07-26T19:05:51.460Z"
   },
   {
    "duration": 4,
    "start_time": "2022-07-26T19:05:51.467Z"
   },
   {
    "duration": 6,
    "start_time": "2022-07-26T19:05:51.473Z"
   },
   {
    "duration": 14,
    "start_time": "2022-07-26T19:05:51.513Z"
   },
   {
    "duration": 8,
    "start_time": "2022-07-26T19:05:51.529Z"
   },
   {
    "duration": 7,
    "start_time": "2022-07-26T19:05:51.841Z"
   },
   {
    "duration": 1651,
    "start_time": "2022-07-26T19:05:52.174Z"
   },
   {
    "duration": 5,
    "start_time": "2022-07-26T19:05:53.828Z"
   },
   {
    "duration": 6,
    "start_time": "2022-07-26T19:05:53.835Z"
   },
   {
    "duration": 13,
    "start_time": "2022-07-26T19:05:53.844Z"
   },
   {
    "duration": 15,
    "start_time": "2022-07-26T19:05:53.859Z"
   },
   {
    "duration": 13,
    "start_time": "2022-07-26T19:05:54.137Z"
   },
   {
    "duration": 21,
    "start_time": "2022-07-26T19:05:54.405Z"
   },
   {
    "duration": 29,
    "start_time": "2022-07-26T19:05:54.675Z"
   },
   {
    "duration": 26,
    "start_time": "2022-07-26T19:05:55.393Z"
   },
   {
    "duration": 10,
    "start_time": "2022-07-26T19:05:56.142Z"
   },
   {
    "duration": 217,
    "start_time": "2022-07-26T19:05:56.544Z"
   },
   {
    "duration": 2413,
    "start_time": "2022-07-26T19:05:57.291Z"
   },
   {
    "duration": 268,
    "start_time": "2022-07-26T19:05:59.706Z"
   },
   {
    "duration": 293,
    "start_time": "2022-07-26T19:05:59.975Z"
   },
   {
    "duration": 10,
    "start_time": "2022-07-26T19:06:00.271Z"
   },
   {
    "duration": 351,
    "start_time": "2022-07-26T19:06:00.283Z"
   },
   {
    "duration": 12,
    "start_time": "2022-07-26T19:06:00.636Z"
   },
   {
    "duration": 264,
    "start_time": "2022-07-26T19:06:01.167Z"
   },
   {
    "duration": 10,
    "start_time": "2022-07-26T19:06:01.666Z"
   },
   {
    "duration": 713,
    "start_time": "2022-07-26T19:06:02.650Z"
   },
   {
    "duration": 9,
    "start_time": "2022-07-26T19:06:03.366Z"
   },
   {
    "duration": 197,
    "start_time": "2022-07-26T19:06:04.073Z"
   },
   {
    "duration": 9,
    "start_time": "2022-07-26T19:06:04.498Z"
   },
   {
    "duration": 295,
    "start_time": "2022-07-26T19:06:05.227Z"
   },
   {
    "duration": 8,
    "start_time": "2022-07-26T19:06:05.648Z"
   },
   {
    "duration": 202,
    "start_time": "2022-07-26T19:06:06.429Z"
   },
   {
    "duration": 11,
    "start_time": "2022-07-26T19:06:06.786Z"
   },
   {
    "duration": 14,
    "start_time": "2022-07-26T19:06:07.578Z"
   },
   {
    "duration": 11,
    "start_time": "2022-07-26T19:06:08.058Z"
   },
   {
    "duration": 78,
    "start_time": "2022-07-26T19:06:09.157Z"
   },
   {
    "duration": 8,
    "start_time": "2022-07-26T19:06:09.755Z"
   },
   {
    "duration": 962,
    "start_time": "2022-07-26T19:06:11.099Z"
   },
   {
    "duration": 3,
    "start_time": "2022-07-26T19:06:58.094Z"
   },
   {
    "duration": 102,
    "start_time": "2022-07-26T19:06:58.668Z"
   },
   {
    "duration": 8,
    "start_time": "2022-07-26T19:06:59.195Z"
   },
   {
    "duration": 145,
    "start_time": "2022-07-26T19:07:29.474Z"
   },
   {
    "duration": 107,
    "start_time": "2022-07-26T19:07:30.398Z"
   },
   {
    "duration": 23,
    "start_time": "2022-07-26T19:07:30.922Z"
   },
   {
    "duration": 2226,
    "start_time": "2022-07-26T19:07:31.445Z"
   },
   {
    "duration": 10,
    "start_time": "2022-07-26T19:07:33.674Z"
   },
   {
    "duration": 4,
    "start_time": "2022-07-26T19:07:33.686Z"
   },
   {
    "duration": 4,
    "start_time": "2022-07-26T19:07:34.176Z"
   },
   {
    "duration": 5,
    "start_time": "2022-07-26T19:07:34.689Z"
   },
   {
    "duration": 5,
    "start_time": "2022-07-26T19:07:35.250Z"
   },
   {
    "duration": 5,
    "start_time": "2022-07-26T19:07:35.771Z"
   },
   {
    "duration": 6,
    "start_time": "2022-07-26T19:07:36.287Z"
   },
   {
    "duration": 1683,
    "start_time": "2022-07-26T19:07:36.767Z"
   },
   {
    "duration": 6,
    "start_time": "2022-07-26T19:07:38.452Z"
   },
   {
    "duration": 7,
    "start_time": "2022-07-26T19:07:38.460Z"
   },
   {
    "duration": 13,
    "start_time": "2022-07-26T19:07:38.469Z"
   },
   {
    "duration": 17,
    "start_time": "2022-07-26T19:07:39.425Z"
   },
   {
    "duration": 13,
    "start_time": "2022-07-26T19:07:40.449Z"
   },
   {
    "duration": 16,
    "start_time": "2022-07-26T19:07:40.948Z"
   },
   {
    "duration": 26,
    "start_time": "2022-07-26T19:07:41.537Z"
   },
   {
    "duration": 28,
    "start_time": "2022-07-26T19:07:42.505Z"
   },
   {
    "duration": 10,
    "start_time": "2022-07-26T19:07:43.545Z"
   },
   {
    "duration": 200,
    "start_time": "2022-07-26T19:07:44.143Z"
   },
   {
    "duration": 2378,
    "start_time": "2022-07-26T19:07:45.087Z"
   },
   {
    "duration": 266,
    "start_time": "2022-07-26T19:07:47.467Z"
   },
   {
    "duration": 293,
    "start_time": "2022-07-26T19:07:47.735Z"
   },
   {
    "duration": 9,
    "start_time": "2022-07-26T19:07:48.030Z"
   },
   {
    "duration": 266,
    "start_time": "2022-07-26T19:07:48.076Z"
   },
   {
    "duration": 11,
    "start_time": "2022-07-26T19:07:48.697Z"
   },
   {
    "duration": 269,
    "start_time": "2022-07-26T19:07:49.766Z"
   },
   {
    "duration": 11,
    "start_time": "2022-07-26T19:07:50.393Z"
   },
   {
    "duration": 199,
    "start_time": "2022-07-26T19:07:51.404Z"
   },
   {
    "duration": 13,
    "start_time": "2022-07-26T19:07:51.944Z"
   },
   {
    "duration": 193,
    "start_time": "2022-07-26T19:07:52.890Z"
   },
   {
    "duration": 9,
    "start_time": "2022-07-26T19:07:53.465Z"
   },
   {
    "duration": 281,
    "start_time": "2022-07-26T19:07:54.467Z"
   },
   {
    "duration": 9,
    "start_time": "2022-07-26T19:07:55.143Z"
   },
   {
    "duration": 208,
    "start_time": "2022-07-26T19:07:55.994Z"
   },
   {
    "duration": 9,
    "start_time": "2022-07-26T19:07:56.537Z"
   },
   {
    "duration": 11,
    "start_time": "2022-07-26T19:07:57.523Z"
   },
   {
    "duration": 20,
    "start_time": "2022-07-26T19:07:58.202Z"
   },
   {
    "duration": 81,
    "start_time": "2022-07-26T19:07:59.253Z"
   },
   {
    "duration": 12,
    "start_time": "2022-07-26T19:08:00.817Z"
   },
   {
    "duration": 1054,
    "start_time": "2022-07-26T19:08:01.943Z"
   },
   {
    "duration": 390,
    "start_time": "2022-07-26T19:27:37.751Z"
   },
   {
    "duration": 423,
    "start_time": "2022-07-27T06:34:36.161Z"
   },
   {
    "duration": 282,
    "start_time": "2022-07-27T06:34:36.586Z"
   },
   {
    "duration": 12,
    "start_time": "2022-07-27T06:34:36.870Z"
   },
   {
    "duration": 101,
    "start_time": "2022-07-27T06:34:36.884Z"
   },
   {
    "duration": 91,
    "start_time": "2022-07-27T06:34:37.110Z"
   },
   {
    "duration": 16,
    "start_time": "2022-07-27T06:34:37.266Z"
   },
   {
    "duration": 2197,
    "start_time": "2022-07-27T06:34:37.419Z"
   },
   {
    "duration": 10,
    "start_time": "2022-07-27T06:34:39.619Z"
   },
   {
    "duration": 21,
    "start_time": "2022-07-27T06:34:39.631Z"
   },
   {
    "duration": 18,
    "start_time": "2022-07-27T06:34:39.654Z"
   },
   {
    "duration": 30,
    "start_time": "2022-07-27T06:34:39.674Z"
   },
   {
    "duration": 17,
    "start_time": "2022-07-27T06:34:39.705Z"
   },
   {
    "duration": 7,
    "start_time": "2022-07-27T06:34:39.724Z"
   },
   {
    "duration": 8,
    "start_time": "2022-07-27T06:34:39.733Z"
   },
   {
    "duration": 1368,
    "start_time": "2022-07-27T06:34:39.865Z"
   },
   {
    "duration": 4,
    "start_time": "2022-07-27T06:34:41.235Z"
   },
   {
    "duration": 20,
    "start_time": "2022-07-27T06:34:41.241Z"
   },
   {
    "duration": 10,
    "start_time": "2022-07-27T06:34:41.264Z"
   },
   {
    "duration": 16,
    "start_time": "2022-07-27T06:34:41.277Z"
   },
   {
    "duration": 13,
    "start_time": "2022-07-27T06:34:41.294Z"
   },
   {
    "duration": 16,
    "start_time": "2022-07-27T06:34:41.459Z"
   },
   {
    "duration": 24,
    "start_time": "2022-07-27T06:34:41.664Z"
   },
   {
    "duration": 22,
    "start_time": "2022-07-27T06:34:42.233Z"
   },
   {
    "duration": 9,
    "start_time": "2022-07-27T06:34:42.881Z"
   },
   {
    "duration": 145,
    "start_time": "2022-07-27T06:34:43.311Z"
   },
   {
    "duration": 2108,
    "start_time": "2022-07-27T06:34:44.239Z"
   },
   {
    "duration": 240,
    "start_time": "2022-07-27T06:34:46.349Z"
   },
   {
    "duration": 248,
    "start_time": "2022-07-27T06:34:46.591Z"
   },
   {
    "duration": 19,
    "start_time": "2022-07-27T06:34:46.842Z"
   },
   {
    "duration": 233,
    "start_time": "2022-07-27T06:34:48.324Z"
   },
   {
    "duration": 10,
    "start_time": "2022-07-27T06:34:48.942Z"
   },
   {
    "duration": 333,
    "start_time": "2022-07-27T06:34:49.631Z"
   },
   {
    "duration": 9,
    "start_time": "2022-07-27T06:34:50.181Z"
   },
   {
    "duration": 154,
    "start_time": "2022-07-27T06:34:51.189Z"
   },
   {
    "duration": 9,
    "start_time": "2022-07-27T06:34:51.631Z"
   },
   {
    "duration": 162,
    "start_time": "2022-07-27T06:34:52.546Z"
   },
   {
    "duration": 9,
    "start_time": "2022-07-27T06:34:52.977Z"
   },
   {
    "duration": 247,
    "start_time": "2022-07-27T06:34:53.879Z"
   },
   {
    "duration": 9,
    "start_time": "2022-07-27T06:34:54.424Z"
   },
   {
    "duration": 202,
    "start_time": "2022-07-27T06:34:56.242Z"
   },
   {
    "duration": 8,
    "start_time": "2022-07-27T06:34:56.991Z"
   },
   {
    "duration": 11,
    "start_time": "2022-07-27T06:34:57.922Z"
   },
   {
    "duration": 11,
    "start_time": "2022-07-27T06:34:58.435Z"
   },
   {
    "duration": 62,
    "start_time": "2022-07-27T06:34:59.484Z"
   },
   {
    "duration": 9,
    "start_time": "2022-07-27T06:34:59.909Z"
   },
   {
    "duration": 791,
    "start_time": "2022-07-27T06:35:07.550Z"
   },
   {
    "duration": 275,
    "start_time": "2022-07-27T06:42:52.717Z"
   },
   {
    "duration": 672,
    "start_time": "2022-07-27T06:45:30.717Z"
   },
   {
    "duration": 82,
    "start_time": "2022-07-27T11:21:41.492Z"
   },
   {
    "duration": 8,
    "start_time": "2022-07-27T11:21:41.577Z"
   },
   {
    "duration": 115,
    "start_time": "2022-07-27T11:21:41.586Z"
   },
   {
    "duration": 103,
    "start_time": "2022-07-27T11:21:41.702Z"
   },
   {
    "duration": 14,
    "start_time": "2022-07-27T11:21:41.807Z"
   },
   {
    "duration": 2059,
    "start_time": "2022-07-27T11:21:41.823Z"
   },
   {
    "duration": 9,
    "start_time": "2022-07-27T11:21:43.885Z"
   },
   {
    "duration": 22,
    "start_time": "2022-07-27T11:21:43.896Z"
   },
   {
    "duration": 14,
    "start_time": "2022-07-27T11:21:43.919Z"
   },
   {
    "duration": 20,
    "start_time": "2022-07-27T11:21:43.935Z"
   },
   {
    "duration": 15,
    "start_time": "2022-07-27T11:21:43.957Z"
   },
   {
    "duration": 26,
    "start_time": "2022-07-27T11:21:43.975Z"
   },
   {
    "duration": 23,
    "start_time": "2022-07-27T11:21:44.003Z"
   },
   {
    "duration": 1536,
    "start_time": "2022-07-27T11:21:44.028Z"
   },
   {
    "duration": 7,
    "start_time": "2022-07-27T11:21:45.566Z"
   },
   {
    "duration": 20,
    "start_time": "2022-07-27T11:21:45.577Z"
   },
   {
    "duration": 35,
    "start_time": "2022-07-27T11:21:45.599Z"
   },
   {
    "duration": 21,
    "start_time": "2022-07-27T11:21:45.635Z"
   },
   {
    "duration": 29,
    "start_time": "2022-07-27T11:21:45.657Z"
   },
   {
    "duration": 38,
    "start_time": "2022-07-27T11:21:45.688Z"
   },
   {
    "duration": 26,
    "start_time": "2022-07-27T11:21:45.974Z"
   },
   {
    "duration": 27,
    "start_time": "2022-07-27T11:21:46.760Z"
   },
   {
    "duration": 14,
    "start_time": "2022-07-27T11:21:47.664Z"
   },
   {
    "duration": 162,
    "start_time": "2022-07-27T11:21:48.084Z"
   },
   {
    "duration": 2219,
    "start_time": "2022-07-27T11:21:49.289Z"
   },
   {
    "duration": 228,
    "start_time": "2022-07-27T11:21:51.510Z"
   },
   {
    "duration": 252,
    "start_time": "2022-07-27T11:21:51.739Z"
   },
   {
    "duration": 8,
    "start_time": "2022-07-27T11:21:51.993Z"
   },
   {
    "duration": 247,
    "start_time": "2022-07-27T11:21:52.002Z"
   },
   {
    "duration": 17,
    "start_time": "2022-07-27T11:21:52.251Z"
   },
   {
    "duration": 233,
    "start_time": "2022-07-27T11:21:52.864Z"
   },
   {
    "duration": 8,
    "start_time": "2022-07-27T11:21:53.274Z"
   },
   {
    "duration": 166,
    "start_time": "2022-07-27T11:21:54.092Z"
   },
   {
    "duration": 9,
    "start_time": "2022-07-27T11:21:54.539Z"
   },
   {
    "duration": 157,
    "start_time": "2022-07-27T11:21:55.379Z"
   },
   {
    "duration": 8,
    "start_time": "2022-07-27T11:21:55.773Z"
   },
   {
    "duration": 466,
    "start_time": "2022-07-27T11:21:56.574Z"
   },
   {
    "duration": 9,
    "start_time": "2022-07-27T11:21:57.042Z"
   },
   {
    "duration": 183,
    "start_time": "2022-07-27T11:21:57.858Z"
   },
   {
    "duration": 8,
    "start_time": "2022-07-27T11:21:58.253Z"
   },
   {
    "duration": 10,
    "start_time": "2022-07-27T11:21:59.011Z"
   },
   {
    "duration": 9,
    "start_time": "2022-07-27T11:21:59.453Z"
   },
   {
    "duration": 63,
    "start_time": "2022-07-27T11:22:00.273Z"
   },
   {
    "duration": 10,
    "start_time": "2022-07-27T11:22:00.655Z"
   },
   {
    "duration": 868,
    "start_time": "2022-07-27T11:22:01.561Z"
   },
   {
    "duration": 307,
    "start_time": "2022-07-27T11:44:04.821Z"
   },
   {
    "duration": 2,
    "start_time": "2022-07-27T11:44:15.380Z"
   },
   {
    "duration": 79,
    "start_time": "2022-07-27T11:44:15.877Z"
   },
   {
    "duration": 13,
    "start_time": "2022-07-27T11:44:16.359Z"
   },
   {
    "duration": 126,
    "start_time": "2022-07-27T11:44:18.588Z"
   },
   {
    "duration": 139,
    "start_time": "2022-07-27T11:44:19.748Z"
   },
   {
    "duration": 21,
    "start_time": "2022-07-27T11:44:20.355Z"
   },
   {
    "duration": 2073,
    "start_time": "2022-07-27T11:44:21.088Z"
   },
   {
    "duration": 15,
    "start_time": "2022-07-27T11:44:23.164Z"
   },
   {
    "duration": 5,
    "start_time": "2022-07-27T11:44:24.043Z"
   },
   {
    "duration": 6,
    "start_time": "2022-07-27T11:44:24.620Z"
   },
   {
    "duration": 5,
    "start_time": "2022-07-27T11:44:25.183Z"
   },
   {
    "duration": 6,
    "start_time": "2022-07-27T11:44:25.752Z"
   },
   {
    "duration": 6,
    "start_time": "2022-07-27T11:44:26.222Z"
   },
   {
    "duration": 7,
    "start_time": "2022-07-27T11:44:26.401Z"
   },
   {
    "duration": 1703,
    "start_time": "2022-07-27T11:44:26.604Z"
   },
   {
    "duration": 4,
    "start_time": "2022-07-27T11:44:28.309Z"
   },
   {
    "duration": 15,
    "start_time": "2022-07-27T11:44:28.316Z"
   },
   {
    "duration": 30,
    "start_time": "2022-07-27T11:44:28.334Z"
   },
   {
    "duration": 24,
    "start_time": "2022-07-27T11:44:28.368Z"
   },
   {
    "duration": 16,
    "start_time": "2022-07-27T11:44:28.909Z"
   },
   {
    "duration": 22,
    "start_time": "2022-07-27T11:44:29.322Z"
   },
   {
    "duration": 25,
    "start_time": "2022-07-27T11:44:29.878Z"
   },
   {
    "duration": 27,
    "start_time": "2022-07-27T11:44:31.889Z"
   },
   {
    "duration": 10,
    "start_time": "2022-07-27T11:44:44.218Z"
   },
   {
    "duration": 185,
    "start_time": "2022-07-27T11:44:44.744Z"
   },
   {
    "duration": 2601,
    "start_time": "2022-07-27T11:44:45.577Z"
   },
   {
    "duration": 264,
    "start_time": "2022-07-27T11:44:48.181Z"
   },
   {
    "duration": 296,
    "start_time": "2022-07-27T11:44:48.447Z"
   },
   {
    "duration": 17,
    "start_time": "2022-07-27T11:44:48.745Z"
   },
   {
    "duration": 297,
    "start_time": "2022-07-27T11:44:49.927Z"
   },
   {
    "duration": 12,
    "start_time": "2022-07-27T11:44:50.348Z"
   },
   {
    "duration": 258,
    "start_time": "2022-07-27T11:44:51.379Z"
   },
   {
    "duration": 9,
    "start_time": "2022-07-27T11:44:51.829Z"
   },
   {
    "duration": 183,
    "start_time": "2022-07-27T11:44:52.924Z"
   },
   {
    "duration": 12,
    "start_time": "2022-07-27T11:44:53.606Z"
   },
   {
    "duration": 182,
    "start_time": "2022-07-27T11:44:55.012Z"
   },
   {
    "duration": 10,
    "start_time": "2022-07-27T11:44:55.520Z"
   },
   {
    "duration": 288,
    "start_time": "2022-07-27T11:44:56.522Z"
   },
   {
    "duration": 9,
    "start_time": "2022-07-27T11:44:57.011Z"
   },
   {
    "duration": 220,
    "start_time": "2022-07-27T11:44:58.098Z"
   },
   {
    "duration": 11,
    "start_time": "2022-07-27T11:44:58.320Z"
   },
   {
    "duration": 12,
    "start_time": "2022-07-27T11:44:58.699Z"
   },
   {
    "duration": 9,
    "start_time": "2022-07-27T11:44:58.893Z"
   },
   {
    "duration": 371,
    "start_time": "2022-07-27T11:44:59.380Z"
   },
   {
    "duration": 16,
    "start_time": "2022-07-27T11:44:59.753Z"
   },
   {
    "duration": 316,
    "start_time": "2022-07-27T11:45:00.844Z"
   },
   {
    "duration": 1477,
    "start_time": "2022-07-27T11:45:01.510Z"
   },
   {
    "duration": 444,
    "start_time": "2022-07-27T11:45:34.334Z"
   },
   {
    "duration": 94,
    "start_time": "2022-07-27T11:45:34.781Z"
   },
   {
    "duration": 15,
    "start_time": "2022-07-27T11:45:34.878Z"
   },
   {
    "duration": 136,
    "start_time": "2022-07-27T11:45:34.895Z"
   },
   {
    "duration": 111,
    "start_time": "2022-07-27T11:45:35.033Z"
   },
   {
    "duration": 30,
    "start_time": "2022-07-27T11:45:35.146Z"
   },
   {
    "duration": 2658,
    "start_time": "2022-07-27T11:45:35.178Z"
   },
   {
    "duration": 11,
    "start_time": "2022-07-27T11:45:37.839Z"
   },
   {
    "duration": 19,
    "start_time": "2022-07-27T11:45:37.852Z"
   },
   {
    "duration": 18,
    "start_time": "2022-07-27T11:45:37.876Z"
   },
   {
    "duration": 12,
    "start_time": "2022-07-27T11:45:37.896Z"
   },
   {
    "duration": 10,
    "start_time": "2022-07-27T11:45:37.910Z"
   },
   {
    "duration": 8,
    "start_time": "2022-07-27T11:45:37.922Z"
   },
   {
    "duration": 7,
    "start_time": "2022-07-27T11:45:37.932Z"
   },
   {
    "duration": 1716,
    "start_time": "2022-07-27T11:45:37.940Z"
   },
   {
    "duration": 6,
    "start_time": "2022-07-27T11:45:39.658Z"
   },
   {
    "duration": 24,
    "start_time": "2022-07-27T11:45:39.666Z"
   },
   {
    "duration": 14,
    "start_time": "2022-07-27T11:45:39.692Z"
   },
   {
    "duration": 17,
    "start_time": "2022-07-27T11:45:39.708Z"
   },
   {
    "duration": 13,
    "start_time": "2022-07-27T11:45:39.726Z"
   },
   {
    "duration": 35,
    "start_time": "2022-07-27T11:45:39.741Z"
   },
   {
    "duration": 33,
    "start_time": "2022-07-27T11:45:39.780Z"
   },
   {
    "duration": 23,
    "start_time": "2022-07-27T11:45:39.815Z"
   },
   {
    "duration": 27,
    "start_time": "2022-07-27T11:45:39.840Z"
   },
   {
    "duration": 247,
    "start_time": "2022-07-27T11:45:39.868Z"
   },
   {
    "duration": 2527,
    "start_time": "2022-07-27T11:45:40.116Z"
   },
   {
    "duration": 265,
    "start_time": "2022-07-27T11:45:42.645Z"
   },
   {
    "duration": 273,
    "start_time": "2022-07-27T11:45:42.913Z"
   },
   {
    "duration": 9,
    "start_time": "2022-07-27T11:45:43.188Z"
   },
   {
    "duration": 279,
    "start_time": "2022-07-27T11:45:43.199Z"
   },
   {
    "duration": 12,
    "start_time": "2022-07-27T11:45:43.480Z"
   },
   {
    "duration": 378,
    "start_time": "2022-07-27T11:45:43.494Z"
   },
   {
    "duration": 11,
    "start_time": "2022-07-27T11:45:43.874Z"
   },
   {
    "duration": 189,
    "start_time": "2022-07-27T11:45:43.887Z"
   },
   {
    "duration": 9,
    "start_time": "2022-07-27T11:45:44.078Z"
   },
   {
    "duration": 193,
    "start_time": "2022-07-27T11:45:44.088Z"
   },
   {
    "duration": 9,
    "start_time": "2022-07-27T11:45:44.284Z"
   },
   {
    "duration": 287,
    "start_time": "2022-07-27T11:45:44.294Z"
   },
   {
    "duration": 8,
    "start_time": "2022-07-27T11:45:44.584Z"
   },
   {
    "duration": 257,
    "start_time": "2022-07-27T11:45:44.594Z"
   },
   {
    "duration": 12,
    "start_time": "2022-07-27T11:45:44.853Z"
   },
   {
    "duration": 42,
    "start_time": "2022-07-27T11:45:44.867Z"
   },
   {
    "duration": 21,
    "start_time": "2022-07-27T11:45:44.911Z"
   },
   {
    "duration": 85,
    "start_time": "2022-07-27T11:45:44.933Z"
   },
   {
    "duration": 8,
    "start_time": "2022-07-27T11:45:45.020Z"
   },
   {
    "duration": 338,
    "start_time": "2022-07-27T11:45:45.030Z"
   },
   {
    "duration": 868,
    "start_time": "2022-07-27T11:45:45.370Z"
   },
   {
    "duration": 0,
    "start_time": "2022-07-27T11:45:46.240Z"
   },
   {
    "duration": 1036,
    "start_time": "2022-07-27T11:49:58.978Z"
   },
   {
    "duration": 1259,
    "start_time": "2022-07-27T11:50:29.187Z"
   },
   {
    "duration": 1009,
    "start_time": "2022-07-27T11:50:46.137Z"
   },
   {
    "duration": 3,
    "start_time": "2022-07-27T11:51:45.113Z"
   },
   {
    "duration": 112,
    "start_time": "2022-07-27T11:51:45.312Z"
   },
   {
    "duration": 11,
    "start_time": "2022-07-27T11:51:45.499Z"
   },
   {
    "duration": 167,
    "start_time": "2022-07-27T11:51:46.250Z"
   },
   {
    "duration": 193,
    "start_time": "2022-07-27T11:51:46.706Z"
   },
   {
    "duration": 22,
    "start_time": "2022-07-27T11:51:47.051Z"
   },
   {
    "duration": 2789,
    "start_time": "2022-07-27T11:51:47.489Z"
   },
   {
    "duration": 19,
    "start_time": "2022-07-27T11:51:50.280Z"
   },
   {
    "duration": 6,
    "start_time": "2022-07-27T11:51:52.304Z"
   },
   {
    "duration": 5,
    "start_time": "2022-07-27T11:51:53.555Z"
   },
   {
    "duration": 8,
    "start_time": "2022-07-27T11:51:55.178Z"
   },
   {
    "duration": 7,
    "start_time": "2022-07-27T11:51:56.012Z"
   },
   {
    "duration": 8,
    "start_time": "2022-07-27T11:51:56.878Z"
   },
   {
    "duration": 6,
    "start_time": "2022-07-27T11:51:57.905Z"
   },
   {
    "duration": 1916,
    "start_time": "2022-07-27T11:51:59.234Z"
   },
   {
    "duration": 8,
    "start_time": "2022-07-27T11:52:01.152Z"
   },
   {
    "duration": 7,
    "start_time": "2022-07-27T11:52:01.251Z"
   },
   {
    "duration": 19,
    "start_time": "2022-07-27T11:52:03.386Z"
   },
   {
    "duration": 20,
    "start_time": "2022-07-27T11:52:05.533Z"
   },
   {
    "duration": 17,
    "start_time": "2022-07-27T11:52:07.139Z"
   },
   {
    "duration": 19,
    "start_time": "2022-07-27T11:52:21.044Z"
   },
   {
    "duration": 29,
    "start_time": "2022-07-27T11:52:21.686Z"
   },
   {
    "duration": 25,
    "start_time": "2022-07-27T11:52:28.485Z"
   },
   {
    "duration": 9,
    "start_time": "2022-07-27T11:52:30.128Z"
   },
   {
    "duration": 269,
    "start_time": "2022-07-27T11:52:30.705Z"
   },
   {
    "duration": 2608,
    "start_time": "2022-07-27T11:52:32.341Z"
   },
   {
    "duration": 282,
    "start_time": "2022-07-27T11:52:34.951Z"
   },
   {
    "duration": 321,
    "start_time": "2022-07-27T11:52:35.235Z"
   },
   {
    "duration": 16,
    "start_time": "2022-07-27T11:52:35.558Z"
   },
   {
    "duration": 306,
    "start_time": "2022-07-27T11:52:35.839Z"
   },
   {
    "duration": 13,
    "start_time": "2022-07-27T11:52:36.885Z"
   },
   {
    "duration": 290,
    "start_time": "2022-07-27T11:52:38.209Z"
   },
   {
    "duration": 12,
    "start_time": "2022-07-27T11:52:38.852Z"
   },
   {
    "duration": 408,
    "start_time": "2022-07-27T11:52:40.186Z"
   },
   {
    "duration": 10,
    "start_time": "2022-07-27T11:52:41.090Z"
   },
   {
    "duration": 197,
    "start_time": "2022-07-27T11:52:43.048Z"
   },
   {
    "duration": 12,
    "start_time": "2022-07-27T11:52:43.981Z"
   },
   {
    "duration": 289,
    "start_time": "2022-07-27T11:52:46.935Z"
   },
   {
    "duration": 10,
    "start_time": "2022-07-27T11:52:48.135Z"
   },
   {
    "duration": 245,
    "start_time": "2022-07-27T11:52:49.991Z"
   },
   {
    "duration": 10,
    "start_time": "2022-07-27T11:52:51.625Z"
   },
   {
    "duration": 12,
    "start_time": "2022-07-27T11:52:53.126Z"
   },
   {
    "duration": 10,
    "start_time": "2022-07-27T11:52:54.017Z"
   },
   {
    "duration": 91,
    "start_time": "2022-07-27T11:52:55.249Z"
   },
   {
    "duration": 10,
    "start_time": "2022-07-27T11:52:55.951Z"
   },
   {
    "duration": 360,
    "start_time": "2022-07-27T11:52:58.354Z"
   },
   {
    "duration": 380,
    "start_time": "2022-07-27T11:52:59.677Z"
   },
   {
    "duration": 825,
    "start_time": "2022-07-27T11:55:38.595Z"
   },
   {
    "duration": 437,
    "start_time": "2022-07-27T11:57:32.481Z"
   },
   {
    "duration": 92,
    "start_time": "2022-07-27T11:57:32.920Z"
   },
   {
    "duration": 12,
    "start_time": "2022-07-27T11:57:33.014Z"
   },
   {
    "duration": 123,
    "start_time": "2022-07-27T11:57:33.028Z"
   },
   {
    "duration": 100,
    "start_time": "2022-07-27T11:57:33.152Z"
   },
   {
    "duration": 26,
    "start_time": "2022-07-27T11:57:33.253Z"
   },
   {
    "duration": 2347,
    "start_time": "2022-07-27T11:57:33.281Z"
   },
   {
    "duration": 8,
    "start_time": "2022-07-27T11:57:35.630Z"
   },
   {
    "duration": 6,
    "start_time": "2022-07-27T11:57:35.640Z"
   },
   {
    "duration": 5,
    "start_time": "2022-07-27T11:57:35.649Z"
   },
   {
    "duration": 28,
    "start_time": "2022-07-27T11:57:35.655Z"
   },
   {
    "duration": 6,
    "start_time": "2022-07-27T11:57:35.685Z"
   },
   {
    "duration": 5,
    "start_time": "2022-07-27T11:57:35.692Z"
   },
   {
    "duration": 7,
    "start_time": "2022-07-27T11:57:35.698Z"
   },
   {
    "duration": 1607,
    "start_time": "2022-07-27T11:57:35.707Z"
   },
   {
    "duration": 6,
    "start_time": "2022-07-27T11:57:37.316Z"
   },
   {
    "duration": 6,
    "start_time": "2022-07-27T11:57:37.323Z"
   },
   {
    "duration": 16,
    "start_time": "2022-07-27T11:57:37.331Z"
   },
   {
    "duration": 29,
    "start_time": "2022-07-27T11:57:37.349Z"
   },
   {
    "duration": 12,
    "start_time": "2022-07-27T11:57:37.380Z"
   },
   {
    "duration": 14,
    "start_time": "2022-07-27T11:57:37.394Z"
   },
   {
    "duration": 51,
    "start_time": "2022-07-27T11:57:37.410Z"
   },
   {
    "duration": 38,
    "start_time": "2022-07-27T11:57:37.463Z"
   },
   {
    "duration": 8,
    "start_time": "2022-07-27T11:57:37.503Z"
   },
   {
    "duration": 186,
    "start_time": "2022-07-27T11:57:37.513Z"
   },
   {
    "duration": 2292,
    "start_time": "2022-07-27T11:57:37.701Z"
   },
   {
    "duration": 245,
    "start_time": "2022-07-27T11:57:39.994Z"
   },
   {
    "duration": 265,
    "start_time": "2022-07-27T11:57:40.242Z"
   },
   {
    "duration": 8,
    "start_time": "2022-07-27T11:57:40.509Z"
   },
   {
    "duration": 281,
    "start_time": "2022-07-27T11:57:40.519Z"
   },
   {
    "duration": 10,
    "start_time": "2022-07-27T11:57:40.802Z"
   },
   {
    "duration": 375,
    "start_time": "2022-07-27T11:57:40.813Z"
   },
   {
    "duration": 9,
    "start_time": "2022-07-27T11:57:41.189Z"
   },
   {
    "duration": 185,
    "start_time": "2022-07-27T11:57:41.200Z"
   },
   {
    "duration": 8,
    "start_time": "2022-07-27T11:57:41.387Z"
   },
   {
    "duration": 203,
    "start_time": "2022-07-27T11:57:41.396Z"
   },
   {
    "duration": 7,
    "start_time": "2022-07-27T11:57:41.601Z"
   },
   {
    "duration": 279,
    "start_time": "2022-07-27T11:57:41.609Z"
   },
   {
    "duration": 8,
    "start_time": "2022-07-27T11:57:41.890Z"
   },
   {
    "duration": 207,
    "start_time": "2022-07-27T11:57:41.900Z"
   },
   {
    "duration": 8,
    "start_time": "2022-07-27T11:57:42.109Z"
   },
   {
    "duration": 10,
    "start_time": "2022-07-27T11:57:42.119Z"
   },
   {
    "duration": 9,
    "start_time": "2022-07-27T11:57:42.131Z"
   },
   {
    "duration": 70,
    "start_time": "2022-07-27T11:57:42.161Z"
   },
   {
    "duration": 8,
    "start_time": "2022-07-27T11:57:42.233Z"
   },
   {
    "duration": 325,
    "start_time": "2022-07-27T11:57:42.242Z"
   },
   {
    "duration": 766,
    "start_time": "2022-07-27T11:57:42.569Z"
   },
   {
    "duration": 0,
    "start_time": "2022-07-27T11:57:43.338Z"
   },
   {
    "duration": 854,
    "start_time": "2022-07-27T11:58:58.960Z"
   },
   {
    "duration": 326,
    "start_time": "2022-07-27T11:59:13.924Z"
   },
   {
    "duration": 907,
    "start_time": "2022-07-27T12:19:20.351Z"
   },
   {
    "duration": 3547,
    "start_time": "2022-07-27T12:20:53.700Z"
   },
   {
    "duration": 44,
    "start_time": "2022-07-27T12:23:06.840Z"
   },
   {
    "duration": 13,
    "start_time": "2022-07-27T12:23:15.839Z"
   },
   {
    "duration": 9,
    "start_time": "2022-07-27T12:23:44.238Z"
   },
   {
    "duration": 59,
    "start_time": "2022-07-27T12:27:51.755Z"
   },
   {
    "duration": 777,
    "start_time": "2022-07-27T12:35:42.183Z"
   },
   {
    "duration": 730,
    "start_time": "2022-07-27T12:35:52.882Z"
   },
   {
    "duration": 775,
    "start_time": "2022-07-27T12:37:11.123Z"
   },
   {
    "duration": 810,
    "start_time": "2022-07-27T12:37:37.799Z"
   },
   {
    "duration": 1183,
    "start_time": "2022-07-27T12:38:10.352Z"
   },
   {
    "duration": 1575,
    "start_time": "2022-07-27T12:38:41.763Z"
   },
   {
    "duration": 11,
    "start_time": "2022-07-27T12:43:57.861Z"
   },
   {
    "duration": 13,
    "start_time": "2022-07-27T12:44:02.713Z"
   },
   {
    "duration": 911,
    "start_time": "2022-07-27T12:44:19.448Z"
   },
   {
    "duration": 845,
    "start_time": "2022-07-27T12:45:31.418Z"
   },
   {
    "duration": 13,
    "start_time": "2022-07-27T12:45:47.725Z"
   },
   {
    "duration": 10,
    "start_time": "2022-07-27T12:46:03.682Z"
   },
   {
    "duration": 10,
    "start_time": "2022-07-27T12:46:10.858Z"
   },
   {
    "duration": 9,
    "start_time": "2022-07-27T13:09:20.475Z"
   },
   {
    "duration": 602,
    "start_time": "2022-07-27T13:13:19.730Z"
   },
   {
    "duration": 266,
    "start_time": "2022-07-27T13:13:20.334Z"
   },
   {
    "duration": 9,
    "start_time": "2022-07-27T13:13:20.601Z"
   },
   {
    "duration": 91,
    "start_time": "2022-07-27T13:13:20.612Z"
   },
   {
    "duration": 87,
    "start_time": "2022-07-27T13:13:20.727Z"
   },
   {
    "duration": 14,
    "start_time": "2022-07-27T13:13:20.891Z"
   },
   {
    "duration": 2217,
    "start_time": "2022-07-27T13:13:21.054Z"
   },
   {
    "duration": 10,
    "start_time": "2022-07-27T13:13:23.273Z"
   },
   {
    "duration": 9,
    "start_time": "2022-07-27T13:13:23.284Z"
   },
   {
    "duration": 7,
    "start_time": "2022-07-27T13:13:23.295Z"
   },
   {
    "duration": 13,
    "start_time": "2022-07-27T13:13:23.303Z"
   },
   {
    "duration": 14,
    "start_time": "2022-07-27T13:13:23.318Z"
   },
   {
    "duration": 27,
    "start_time": "2022-07-27T13:13:23.335Z"
   },
   {
    "duration": 6,
    "start_time": "2022-07-27T13:13:23.365Z"
   },
   {
    "duration": 1789,
    "start_time": "2022-07-27T13:13:23.373Z"
   },
   {
    "duration": 5,
    "start_time": "2022-07-27T13:13:25.165Z"
   },
   {
    "duration": 19,
    "start_time": "2022-07-27T13:13:25.172Z"
   },
   {
    "duration": 19,
    "start_time": "2022-07-27T13:13:25.194Z"
   },
   {
    "duration": 39,
    "start_time": "2022-07-27T13:13:25.215Z"
   },
   {
    "duration": 26,
    "start_time": "2022-07-27T13:13:25.261Z"
   },
   {
    "duration": 32,
    "start_time": "2022-07-27T13:13:25.289Z"
   },
   {
    "duration": 37,
    "start_time": "2022-07-27T13:13:25.323Z"
   },
   {
    "duration": 30,
    "start_time": "2022-07-27T13:13:25.676Z"
   },
   {
    "duration": 12,
    "start_time": "2022-07-27T13:13:26.249Z"
   },
   {
    "duration": 294,
    "start_time": "2022-07-27T13:13:26.521Z"
   },
   {
    "duration": 2570,
    "start_time": "2022-07-27T13:13:27.128Z"
   },
   {
    "duration": 310,
    "start_time": "2022-07-27T13:13:29.700Z"
   },
   {
    "duration": 310,
    "start_time": "2022-07-27T13:13:30.012Z"
   },
   {
    "duration": 10,
    "start_time": "2022-07-27T13:13:30.324Z"
   },
   {
    "duration": 567,
    "start_time": "2022-07-27T13:13:30.335Z"
   },
   {
    "duration": 10,
    "start_time": "2022-07-27T13:13:30.903Z"
   },
   {
    "duration": 342,
    "start_time": "2022-07-27T13:13:30.915Z"
   },
   {
    "duration": 13,
    "start_time": "2022-07-27T13:13:31.260Z"
   },
   {
    "duration": 281,
    "start_time": "2022-07-27T13:13:31.276Z"
   },
   {
    "duration": 12,
    "start_time": "2022-07-27T13:13:31.559Z"
   },
   {
    "duration": 294,
    "start_time": "2022-07-27T13:13:31.800Z"
   },
   {
    "duration": 11,
    "start_time": "2022-07-27T13:13:32.180Z"
   },
   {
    "duration": 390,
    "start_time": "2022-07-27T13:13:32.816Z"
   },
   {
    "duration": 12,
    "start_time": "2022-07-27T13:13:33.208Z"
   },
   {
    "duration": 328,
    "start_time": "2022-07-27T13:13:33.547Z"
   },
   {
    "duration": 9,
    "start_time": "2022-07-27T13:13:33.877Z"
   },
   {
    "duration": 15,
    "start_time": "2022-07-27T13:13:34.156Z"
   },
   {
    "duration": 12,
    "start_time": "2022-07-27T13:13:34.394Z"
   },
   {
    "duration": 114,
    "start_time": "2022-07-27T13:13:35.429Z"
   },
   {
    "duration": 10,
    "start_time": "2022-07-27T13:13:35.890Z"
   },
   {
    "duration": 284,
    "start_time": "2022-07-27T13:13:36.872Z"
   },
   {
    "duration": 36,
    "start_time": "2022-07-27T13:13:37.382Z"
   },
   {
    "duration": 12,
    "start_time": "2022-07-27T13:13:37.857Z"
   },
   {
    "duration": 10,
    "start_time": "2022-07-27T13:13:56.150Z"
   },
   {
    "duration": 1522,
    "start_time": "2022-07-27T18:33:10.351Z"
   },
   {
    "duration": 187,
    "start_time": "2022-07-27T18:33:11.876Z"
   },
   {
    "duration": 16,
    "start_time": "2022-07-27T18:33:12.065Z"
   },
   {
    "duration": 120,
    "start_time": "2022-07-27T18:33:12.084Z"
   },
   {
    "duration": 93,
    "start_time": "2022-07-27T18:33:12.206Z"
   },
   {
    "duration": 28,
    "start_time": "2022-07-27T18:33:12.301Z"
   },
   {
    "duration": 3314,
    "start_time": "2022-07-27T18:33:12.332Z"
   },
   {
    "duration": 11,
    "start_time": "2022-07-27T18:33:15.648Z"
   },
   {
    "duration": 17,
    "start_time": "2022-07-27T18:33:15.661Z"
   },
   {
    "duration": 14,
    "start_time": "2022-07-27T18:33:15.680Z"
   },
   {
    "duration": 35,
    "start_time": "2022-07-27T18:33:15.696Z"
   },
   {
    "duration": 11,
    "start_time": "2022-07-27T18:33:15.733Z"
   },
   {
    "duration": 29,
    "start_time": "2022-07-27T18:33:15.746Z"
   },
   {
    "duration": 9,
    "start_time": "2022-07-27T18:33:15.778Z"
   },
   {
    "duration": 1623,
    "start_time": "2022-07-27T18:33:15.789Z"
   },
   {
    "duration": 7,
    "start_time": "2022-07-27T18:33:17.415Z"
   },
   {
    "duration": 15,
    "start_time": "2022-07-27T18:33:17.424Z"
   },
   {
    "duration": 20,
    "start_time": "2022-07-27T18:33:17.441Z"
   },
   {
    "duration": 22,
    "start_time": "2022-07-27T18:33:17.463Z"
   },
   {
    "duration": 13,
    "start_time": "2022-07-27T18:33:17.486Z"
   },
   {
    "duration": 23,
    "start_time": "2022-07-27T18:33:17.511Z"
   },
   {
    "duration": 28,
    "start_time": "2022-07-27T18:33:17.536Z"
   },
   {
    "duration": 32,
    "start_time": "2022-07-27T18:33:17.566Z"
   },
   {
    "duration": 14,
    "start_time": "2022-07-27T18:33:17.610Z"
   },
   {
    "duration": 224,
    "start_time": "2022-07-27T18:33:17.628Z"
   },
   {
    "duration": 3616,
    "start_time": "2022-07-27T18:33:17.908Z"
   },
   {
    "duration": 374,
    "start_time": "2022-07-27T18:33:21.526Z"
   },
   {
    "duration": 404,
    "start_time": "2022-07-27T18:33:21.902Z"
   },
   {
    "duration": 12,
    "start_time": "2022-07-27T18:33:22.311Z"
   },
   {
    "duration": 377,
    "start_time": "2022-07-27T18:33:22.325Z"
   },
   {
    "duration": 16,
    "start_time": "2022-07-27T18:33:22.704Z"
   },
   {
    "duration": 342,
    "start_time": "2022-07-27T18:33:22.722Z"
   },
   {
    "duration": 10,
    "start_time": "2022-07-27T18:33:23.067Z"
   },
   {
    "duration": 244,
    "start_time": "2022-07-27T18:33:24.055Z"
   },
   {
    "duration": 10,
    "start_time": "2022-07-27T18:33:24.619Z"
   },
   {
    "duration": 260,
    "start_time": "2022-07-27T18:33:25.989Z"
   },
   {
    "duration": 9,
    "start_time": "2022-07-27T18:33:26.565Z"
   },
   {
    "duration": 508,
    "start_time": "2022-07-27T18:33:27.952Z"
   },
   {
    "duration": 11,
    "start_time": "2022-07-27T18:33:28.606Z"
   },
   {
    "duration": 289,
    "start_time": "2022-07-27T18:33:29.813Z"
   },
   {
    "duration": 11,
    "start_time": "2022-07-27T18:33:30.420Z"
   },
   {
    "duration": 13,
    "start_time": "2022-07-27T18:33:31.724Z"
   },
   {
    "duration": 10,
    "start_time": "2022-07-27T18:33:32.304Z"
   },
   {
    "duration": 70,
    "start_time": "2022-07-27T18:33:33.487Z"
   },
   {
    "duration": 14,
    "start_time": "2022-07-27T18:33:34.181Z"
   },
   {
    "duration": 307,
    "start_time": "2022-07-27T18:33:35.685Z"
   },
   {
    "duration": 127,
    "start_time": "2022-07-27T18:33:38.197Z"
   },
   {
    "duration": 23,
    "start_time": "2022-07-27T18:34:02.221Z"
   },
   {
    "duration": 883,
    "start_time": "2022-07-27T18:34:25.545Z"
   },
   {
    "duration": 1750,
    "start_time": "2022-07-27T18:46:46.304Z"
   },
   {
    "duration": 921,
    "start_time": "2022-07-27T18:48:11.677Z"
   },
   {
    "duration": 1257,
    "start_time": "2022-07-27T18:48:19.290Z"
   },
   {
    "duration": 88,
    "start_time": "2022-07-27T18:48:20.550Z"
   },
   {
    "duration": 13,
    "start_time": "2022-07-27T18:48:20.640Z"
   },
   {
    "duration": 114,
    "start_time": "2022-07-27T18:48:20.656Z"
   },
   {
    "duration": 104,
    "start_time": "2022-07-27T18:48:20.772Z"
   },
   {
    "duration": 17,
    "start_time": "2022-07-27T18:48:20.878Z"
   },
   {
    "duration": 3005,
    "start_time": "2022-07-27T18:48:20.909Z"
   },
   {
    "duration": 10,
    "start_time": "2022-07-27T18:48:23.916Z"
   },
   {
    "duration": 6,
    "start_time": "2022-07-27T18:48:23.928Z"
   },
   {
    "duration": 7,
    "start_time": "2022-07-27T18:48:23.936Z"
   },
   {
    "duration": 16,
    "start_time": "2022-07-27T18:48:23.944Z"
   },
   {
    "duration": 9,
    "start_time": "2022-07-27T18:48:23.962Z"
   },
   {
    "duration": 7,
    "start_time": "2022-07-27T18:48:23.973Z"
   },
   {
    "duration": 6,
    "start_time": "2022-07-27T18:48:23.981Z"
   },
   {
    "duration": 1537,
    "start_time": "2022-07-27T18:48:23.989Z"
   },
   {
    "duration": 5,
    "start_time": "2022-07-27T18:48:25.528Z"
   },
   {
    "duration": 8,
    "start_time": "2022-07-27T18:48:25.535Z"
   },
   {
    "duration": 38,
    "start_time": "2022-07-27T18:48:25.544Z"
   },
   {
    "duration": 25,
    "start_time": "2022-07-27T18:48:25.584Z"
   },
   {
    "duration": 13,
    "start_time": "2022-07-27T18:48:25.610Z"
   },
   {
    "duration": 18,
    "start_time": "2022-07-27T18:48:25.625Z"
   },
   {
    "duration": 20,
    "start_time": "2022-07-27T18:48:25.645Z"
   },
   {
    "duration": 45,
    "start_time": "2022-07-27T18:48:25.667Z"
   },
   {
    "duration": 17,
    "start_time": "2022-07-27T18:48:25.714Z"
   },
   {
    "duration": 187,
    "start_time": "2022-07-27T18:48:25.732Z"
   },
   {
    "duration": 3655,
    "start_time": "2022-07-27T18:48:25.921Z"
   },
   {
    "duration": 456,
    "start_time": "2022-07-27T18:48:29.578Z"
   },
   {
    "duration": 365,
    "start_time": "2022-07-27T18:48:30.039Z"
   },
   {
    "duration": 9,
    "start_time": "2022-07-27T18:48:30.410Z"
   },
   {
    "duration": 360,
    "start_time": "2022-07-27T18:48:30.421Z"
   },
   {
    "duration": 9,
    "start_time": "2022-07-27T18:48:30.783Z"
   },
   {
    "duration": 352,
    "start_time": "2022-07-27T18:48:30.794Z"
   },
   {
    "duration": 11,
    "start_time": "2022-07-27T18:48:31.148Z"
   },
   {
    "duration": 280,
    "start_time": "2022-07-27T18:48:31.161Z"
   },
   {
    "duration": 10,
    "start_time": "2022-07-27T18:48:31.444Z"
   },
   {
    "duration": 272,
    "start_time": "2022-07-27T18:48:31.456Z"
   },
   {
    "duration": 8,
    "start_time": "2022-07-27T18:48:31.730Z"
   },
   {
    "duration": 560,
    "start_time": "2022-07-27T18:48:31.740Z"
   },
   {
    "duration": 9,
    "start_time": "2022-07-27T18:48:32.310Z"
   },
   {
    "duration": 277,
    "start_time": "2022-07-27T18:48:32.321Z"
   },
   {
    "duration": 16,
    "start_time": "2022-07-27T18:48:32.600Z"
   },
   {
    "duration": 11,
    "start_time": "2022-07-27T18:48:32.618Z"
   },
   {
    "duration": 18,
    "start_time": "2022-07-27T18:48:32.631Z"
   },
   {
    "duration": 85,
    "start_time": "2022-07-27T18:48:32.651Z"
   },
   {
    "duration": 8,
    "start_time": "2022-07-27T18:48:32.738Z"
   },
   {
    "duration": 300,
    "start_time": "2022-07-27T18:48:32.748Z"
   },
   {
    "duration": 990,
    "start_time": "2022-07-27T18:48:33.050Z"
   },
   {
    "duration": 0,
    "start_time": "2022-07-27T18:48:34.042Z"
   },
   {
    "duration": 49,
    "start_time": "2022-07-28T08:31:21.418Z"
   },
   {
    "duration": 0,
    "start_time": "2022-07-28T08:31:21.469Z"
   },
   {
    "duration": 8,
    "start_time": "2022-07-28T08:31:22.163Z"
   },
   {
    "duration": 1381,
    "start_time": "2022-07-28T08:31:30.857Z"
   },
   {
    "duration": 814,
    "start_time": "2022-07-28T08:31:32.240Z"
   },
   {
    "duration": 14,
    "start_time": "2022-07-28T08:31:33.056Z"
   },
   {
    "duration": 115,
    "start_time": "2022-07-28T08:31:33.072Z"
   },
   {
    "duration": 120,
    "start_time": "2022-07-28T08:31:33.441Z"
   },
   {
    "duration": 23,
    "start_time": "2022-07-28T08:31:33.936Z"
   },
   {
    "duration": 2954,
    "start_time": "2022-07-28T08:31:34.402Z"
   },
   {
    "duration": 10,
    "start_time": "2022-07-28T08:31:37.359Z"
   },
   {
    "duration": 8,
    "start_time": "2022-07-28T08:31:37.371Z"
   },
   {
    "duration": 21,
    "start_time": "2022-07-28T08:31:37.382Z"
   },
   {
    "duration": 15,
    "start_time": "2022-07-28T08:31:37.405Z"
   },
   {
    "duration": 7,
    "start_time": "2022-07-28T08:31:37.587Z"
   },
   {
    "duration": 5,
    "start_time": "2022-07-28T08:31:38.123Z"
   },
   {
    "duration": 5,
    "start_time": "2022-07-28T08:31:38.557Z"
   },
   {
    "duration": 1618,
    "start_time": "2022-07-28T08:31:39.073Z"
   },
   {
    "duration": 5,
    "start_time": "2022-07-28T08:31:40.693Z"
   },
   {
    "duration": 13,
    "start_time": "2022-07-28T08:31:40.700Z"
   },
   {
    "duration": 36,
    "start_time": "2022-07-28T08:31:40.716Z"
   },
   {
    "duration": 25,
    "start_time": "2022-07-28T08:31:41.397Z"
   },
   {
    "duration": 19,
    "start_time": "2022-07-28T08:31:42.338Z"
   },
   {
    "duration": 23,
    "start_time": "2022-07-28T08:31:42.813Z"
   },
   {
    "duration": 32,
    "start_time": "2022-07-28T08:31:43.308Z"
   },
   {
    "duration": 22,
    "start_time": "2022-07-28T08:31:44.400Z"
   },
   {
    "duration": 10,
    "start_time": "2022-07-28T08:31:45.361Z"
   },
   {
    "duration": 184,
    "start_time": "2022-07-28T08:31:45.844Z"
   },
   {
    "duration": 3737,
    "start_time": "2022-07-28T08:31:46.820Z"
   },
   {
    "duration": 348,
    "start_time": "2022-07-28T08:31:50.559Z"
   },
   {
    "duration": 378,
    "start_time": "2022-07-28T08:31:50.909Z"
   },
   {
    "duration": 9,
    "start_time": "2022-07-28T08:31:51.289Z"
   },
   {
    "duration": 357,
    "start_time": "2022-07-28T08:31:51.300Z"
   },
   {
    "duration": 10,
    "start_time": "2022-07-28T08:31:51.660Z"
   },
   {
    "duration": 355,
    "start_time": "2022-07-28T08:31:52.984Z"
   },
   {
    "duration": 9,
    "start_time": "2022-07-28T08:31:53.592Z"
   },
   {
    "duration": 245,
    "start_time": "2022-07-28T08:31:55.252Z"
   },
   {
    "duration": 9,
    "start_time": "2022-07-28T08:31:55.769Z"
   },
   {
    "duration": 264,
    "start_time": "2022-07-28T08:31:56.838Z"
   },
   {
    "duration": 9,
    "start_time": "2022-07-28T08:31:57.396Z"
   },
   {
    "duration": 493,
    "start_time": "2022-07-28T08:31:58.501Z"
   },
   {
    "duration": 10,
    "start_time": "2022-07-28T08:31:59.086Z"
   },
   {
    "duration": 340,
    "start_time": "2022-07-28T08:32:00.870Z"
   },
   {
    "duration": 9,
    "start_time": "2022-07-28T08:32:01.573Z"
   },
   {
    "duration": 15,
    "start_time": "2022-07-28T08:32:04.015Z"
   },
   {
    "duration": 11,
    "start_time": "2022-07-28T08:32:04.860Z"
   },
   {
    "duration": 10,
    "start_time": "2022-07-28T08:32:05.861Z"
   },
   {
    "duration": 10,
    "start_time": "2022-07-28T08:32:06.302Z"
   },
   {
    "duration": 320,
    "start_time": "2022-07-28T08:32:07.282Z"
   },
   {
    "duration": 36,
    "start_time": "2022-07-28T08:32:07.839Z"
   },
   {
    "duration": 327,
    "start_time": "2022-07-28T08:32:21.626Z"
   },
   {
    "duration": 479,
    "start_time": "2022-07-28T08:32:47.686Z"
   },
   {
    "duration": 391,
    "start_time": "2022-07-28T08:33:20.872Z"
   },
   {
    "duration": 389,
    "start_time": "2022-07-28T10:14:46.584Z"
   },
   {
    "duration": 7,
    "start_time": "2022-07-28T15:15:08.357Z"
   },
   {
    "duration": 659,
    "start_time": "2022-07-28T15:15:08.848Z"
   },
   {
    "duration": 8,
    "start_time": "2022-07-28T15:15:09.655Z"
   },
   {
    "duration": 136,
    "start_time": "2022-07-28T15:15:10.659Z"
   },
   {
    "duration": 99,
    "start_time": "2022-07-28T15:15:11.495Z"
   },
   {
    "duration": 15,
    "start_time": "2022-07-28T15:15:11.889Z"
   },
   {
    "duration": 3438,
    "start_time": "2022-07-28T15:15:12.351Z"
   },
   {
    "duration": 11,
    "start_time": "2022-07-28T15:15:15.791Z"
   },
   {
    "duration": 32,
    "start_time": "2022-07-28T15:15:15.803Z"
   },
   {
    "duration": 21,
    "start_time": "2022-07-28T15:15:15.839Z"
   },
   {
    "duration": 5,
    "start_time": "2022-07-28T15:15:16.008Z"
   },
   {
    "duration": 22,
    "start_time": "2022-07-28T15:15:16.524Z"
   },
   {
    "duration": 5,
    "start_time": "2022-07-28T15:15:17.204Z"
   },
   {
    "duration": 5,
    "start_time": "2022-07-28T15:15:17.766Z"
   },
   {
    "duration": 1837,
    "start_time": "2022-07-28T15:15:18.260Z"
   },
   {
    "duration": 6,
    "start_time": "2022-07-28T15:15:20.099Z"
   },
   {
    "duration": 20,
    "start_time": "2022-07-28T15:15:20.107Z"
   },
   {
    "duration": 22,
    "start_time": "2022-07-28T15:15:20.131Z"
   },
   {
    "duration": 16,
    "start_time": "2022-07-28T15:15:21.188Z"
   },
   {
    "duration": 12,
    "start_time": "2022-07-28T15:15:22.558Z"
   },
   {
    "duration": 16,
    "start_time": "2022-07-28T15:15:23.166Z"
   },
   {
    "duration": 21,
    "start_time": "2022-07-28T15:15:23.801Z"
   },
   {
    "duration": 21,
    "start_time": "2022-07-28T15:15:24.967Z"
   },
   {
    "duration": 11,
    "start_time": "2022-07-28T15:15:26.011Z"
   },
   {
    "duration": 189,
    "start_time": "2022-07-28T15:15:26.651Z"
   },
   {
    "duration": 3992,
    "start_time": "2022-07-28T15:15:27.718Z"
   },
   {
    "duration": 567,
    "start_time": "2022-07-28T15:15:31.712Z"
   },
   {
    "duration": 430,
    "start_time": "2022-07-28T15:15:32.281Z"
   },
   {
    "duration": 23,
    "start_time": "2022-07-28T15:15:32.714Z"
   },
   {
    "duration": 414,
    "start_time": "2022-07-28T15:15:32.741Z"
   },
   {
    "duration": 12,
    "start_time": "2022-07-28T15:15:33.157Z"
   },
   {
    "duration": 375,
    "start_time": "2022-07-28T15:15:33.256Z"
   },
   {
    "duration": 11,
    "start_time": "2022-07-28T15:15:33.853Z"
   },
   {
    "duration": 288,
    "start_time": "2022-07-28T15:15:35.012Z"
   },
   {
    "duration": 10,
    "start_time": "2022-07-28T15:15:35.567Z"
   },
   {
    "duration": 303,
    "start_time": "2022-07-28T15:15:36.652Z"
   },
   {
    "duration": 8,
    "start_time": "2022-07-28T15:15:37.261Z"
   },
   {
    "duration": 375,
    "start_time": "2022-07-28T15:15:38.317Z"
   },
   {
    "duration": 12,
    "start_time": "2022-07-28T15:15:39.054Z"
   },
   {
    "duration": 279,
    "start_time": "2022-07-28T15:15:40.119Z"
   },
   {
    "duration": 9,
    "start_time": "2022-07-28T15:15:40.655Z"
   },
   {
    "duration": 11,
    "start_time": "2022-07-28T15:15:41.764Z"
   },
   {
    "duration": 12,
    "start_time": "2022-07-28T15:15:42.667Z"
   },
   {
    "duration": 13,
    "start_time": "2022-07-28T15:15:44.650Z"
   },
   {
    "duration": 11,
    "start_time": "2022-07-28T15:15:45.409Z"
   },
   {
    "duration": 401,
    "start_time": "2022-07-28T15:15:47.103Z"
   },
   {
    "duration": 227,
    "start_time": "2022-07-28T15:44:40.116Z"
   },
   {
    "duration": 249,
    "start_time": "2022-07-28T15:47:49.048Z"
   },
   {
    "duration": 263,
    "start_time": "2022-07-28T16:00:54.578Z"
   },
   {
    "duration": 6,
    "start_time": "2022-07-28T16:01:02.540Z"
   },
   {
    "duration": 82,
    "start_time": "2022-07-28T16:01:03.139Z"
   },
   {
    "duration": 7,
    "start_time": "2022-07-28T16:01:03.401Z"
   },
   {
    "duration": 85,
    "start_time": "2022-07-28T16:01:03.799Z"
   },
   {
    "duration": 103,
    "start_time": "2022-07-28T16:01:04.176Z"
   },
   {
    "duration": 14,
    "start_time": "2022-07-28T16:01:04.351Z"
   },
   {
    "duration": 3011,
    "start_time": "2022-07-28T16:01:04.595Z"
   },
   {
    "duration": 16,
    "start_time": "2022-07-28T16:01:07.608Z"
   },
   {
    "duration": 6,
    "start_time": "2022-07-28T16:01:07.625Z"
   },
   {
    "duration": 8,
    "start_time": "2022-07-28T16:01:07.633Z"
   },
   {
    "duration": 15,
    "start_time": "2022-07-28T16:01:07.643Z"
   },
   {
    "duration": 10,
    "start_time": "2022-07-28T16:01:07.660Z"
   },
   {
    "duration": 6,
    "start_time": "2022-07-28T16:01:07.672Z"
   },
   {
    "duration": 6,
    "start_time": "2022-07-28T16:01:07.680Z"
   },
   {
    "duration": 1672,
    "start_time": "2022-07-28T16:01:07.688Z"
   },
   {
    "duration": 5,
    "start_time": "2022-07-28T16:01:09.362Z"
   },
   {
    "duration": 6,
    "start_time": "2022-07-28T16:01:09.369Z"
   },
   {
    "duration": 13,
    "start_time": "2022-07-28T16:01:09.377Z"
   },
   {
    "duration": 38,
    "start_time": "2022-07-28T16:01:09.393Z"
   },
   {
    "duration": 10,
    "start_time": "2022-07-28T16:01:09.433Z"
   },
   {
    "duration": 17,
    "start_time": "2022-07-28T16:01:09.445Z"
   },
   {
    "duration": 23,
    "start_time": "2022-07-28T16:01:09.464Z"
   },
   {
    "duration": 46,
    "start_time": "2022-07-28T16:01:09.489Z"
   },
   {
    "duration": 10,
    "start_time": "2022-07-28T16:01:09.993Z"
   },
   {
    "duration": 162,
    "start_time": "2022-07-28T16:01:10.066Z"
   },
   {
    "duration": 3190,
    "start_time": "2022-07-28T16:01:10.505Z"
   },
   {
    "duration": 586,
    "start_time": "2022-07-28T16:01:13.698Z"
   },
   {
    "duration": 405,
    "start_time": "2022-07-28T16:01:14.286Z"
   },
   {
    "duration": 9,
    "start_time": "2022-07-28T16:01:14.694Z"
   },
   {
    "duration": 390,
    "start_time": "2022-07-28T16:01:14.705Z"
   },
   {
    "duration": 9,
    "start_time": "2022-07-28T16:01:15.097Z"
   },
   {
    "duration": 364,
    "start_time": "2022-07-28T16:01:15.107Z"
   },
   {
    "duration": 10,
    "start_time": "2022-07-28T16:01:15.473Z"
   },
   {
    "duration": 275,
    "start_time": "2022-07-28T16:01:15.485Z"
   },
   {
    "duration": 9,
    "start_time": "2022-07-28T16:01:15.762Z"
   },
   {
    "duration": 271,
    "start_time": "2022-07-28T16:01:15.772Z"
   },
   {
    "duration": 13,
    "start_time": "2022-07-28T16:01:16.045Z"
   },
   {
    "duration": 384,
    "start_time": "2022-07-28T16:01:16.059Z"
   },
   {
    "duration": 8,
    "start_time": "2022-07-28T16:01:16.445Z"
   },
   {
    "duration": 286,
    "start_time": "2022-07-28T16:01:16.456Z"
   },
   {
    "duration": 9,
    "start_time": "2022-07-28T16:01:16.744Z"
   },
   {
    "duration": 35,
    "start_time": "2022-07-28T16:01:16.754Z"
   },
   {
    "duration": 11,
    "start_time": "2022-07-28T16:01:17.033Z"
   },
   {
    "duration": 13,
    "start_time": "2022-07-28T16:01:17.578Z"
   },
   {
    "duration": 9,
    "start_time": "2022-07-28T16:01:18.185Z"
   },
   {
    "duration": 348,
    "start_time": "2022-07-28T16:01:19.436Z"
   },
   {
    "duration": 220,
    "start_time": "2022-07-28T16:01:21.774Z"
   },
   {
    "duration": 295,
    "start_time": "2022-07-28T16:01:24.190Z"
   },
   {
    "duration": 216,
    "start_time": "2022-07-28T16:02:52.109Z"
   },
   {
    "duration": 290,
    "start_time": "2022-07-28T16:05:48.822Z"
   },
   {
    "duration": 186,
    "start_time": "2022-07-28T16:13:24.001Z"
   },
   {
    "duration": 180,
    "start_time": "2022-07-28T16:13:56.233Z"
   },
   {
    "duration": 269,
    "start_time": "2022-07-28T16:15:21.129Z"
   },
   {
    "duration": 218,
    "start_time": "2022-07-28T16:15:26.027Z"
   },
   {
    "duration": 57,
    "start_time": "2022-07-28T16:18:00.788Z"
   },
   {
    "duration": 48,
    "start_time": "2022-07-28T16:18:18.732Z"
   },
   {
    "duration": 188,
    "start_time": "2022-07-28T16:18:24.572Z"
   },
   {
    "duration": 1057,
    "start_time": "2022-07-28T16:22:42.724Z"
   },
   {
    "duration": 180,
    "start_time": "2022-07-28T16:22:49.543Z"
   },
   {
    "duration": 628,
    "start_time": "2022-07-28T16:31:33.439Z"
   },
   {
    "duration": 388,
    "start_time": "2022-07-28T16:32:08.063Z"
   },
   {
    "duration": 334,
    "start_time": "2022-07-28T16:32:26.276Z"
   },
   {
    "duration": 361,
    "start_time": "2022-07-28T16:32:44.970Z"
   },
   {
    "duration": 520,
    "start_time": "2022-07-28T16:35:20.408Z"
   },
   {
    "duration": 535,
    "start_time": "2022-07-28T16:35:51.186Z"
   },
   {
    "duration": 635,
    "start_time": "2022-07-28T16:36:28.560Z"
   },
   {
    "duration": 102,
    "start_time": "2022-07-28T16:44:36.202Z"
   },
   {
    "duration": 224,
    "start_time": "2022-07-28T16:44:46.127Z"
   },
   {
    "duration": 239,
    "start_time": "2022-07-28T16:45:04.411Z"
   },
   {
    "duration": 159,
    "start_time": "2022-07-28T16:45:15.217Z"
   },
   {
    "duration": 194,
    "start_time": "2022-07-28T16:45:21.823Z"
   },
   {
    "duration": 190,
    "start_time": "2022-07-28T16:45:30.170Z"
   },
   {
    "duration": 363,
    "start_time": "2022-07-28T16:46:38.128Z"
   },
   {
    "duration": 387,
    "start_time": "2022-07-28T16:47:19.027Z"
   },
   {
    "duration": 608,
    "start_time": "2022-07-28T16:48:28.593Z"
   },
   {
    "duration": 734,
    "start_time": "2022-07-28T16:57:52.459Z"
   },
   {
    "duration": 571,
    "start_time": "2022-07-28T16:58:04.445Z"
   },
   {
    "duration": 397,
    "start_time": "2022-07-28T17:09:03.077Z"
   },
   {
    "duration": 390,
    "start_time": "2022-07-28T17:11:57.495Z"
   },
   {
    "duration": 418,
    "start_time": "2022-07-28T17:14:06.447Z"
   },
   {
    "duration": 463,
    "start_time": "2022-07-28T17:20:51.032Z"
   },
   {
    "duration": 817,
    "start_time": "2022-07-28T17:20:57.350Z"
   },
   {
    "duration": 424,
    "start_time": "2022-07-28T17:29:09.004Z"
   },
   {
    "duration": 338,
    "start_time": "2022-07-28T17:31:06.249Z"
   },
   {
    "duration": 119,
    "start_time": "2022-07-28T17:34:10.090Z"
   },
   {
    "duration": 376,
    "start_time": "2022-07-28T17:34:16.876Z"
   },
   {
    "duration": 369,
    "start_time": "2022-07-28T17:37:41.154Z"
   },
   {
    "duration": 349,
    "start_time": "2022-07-28T17:37:48.914Z"
   },
   {
    "duration": 275,
    "start_time": "2022-07-28T17:38:03.422Z"
   },
   {
    "duration": 5,
    "start_time": "2022-07-28T17:42:15.300Z"
   },
   {
    "duration": 78,
    "start_time": "2022-07-28T17:42:15.509Z"
   },
   {
    "duration": 8,
    "start_time": "2022-07-28T17:42:15.689Z"
   },
   {
    "duration": 113,
    "start_time": "2022-07-28T17:42:16.034Z"
   },
   {
    "duration": 85,
    "start_time": "2022-07-28T17:42:16.396Z"
   },
   {
    "duration": 19,
    "start_time": "2022-07-28T17:42:16.671Z"
   },
   {
    "duration": 3034,
    "start_time": "2022-07-28T17:42:16.891Z"
   },
   {
    "duration": 11,
    "start_time": "2022-07-28T17:42:19.927Z"
   },
   {
    "duration": 18,
    "start_time": "2022-07-28T17:42:19.940Z"
   },
   {
    "duration": 12,
    "start_time": "2022-07-28T17:42:19.961Z"
   },
   {
    "duration": 12,
    "start_time": "2022-07-28T17:42:19.975Z"
   },
   {
    "duration": 34,
    "start_time": "2022-07-28T17:42:19.990Z"
   },
   {
    "duration": 17,
    "start_time": "2022-07-28T17:42:20.026Z"
   },
   {
    "duration": 13,
    "start_time": "2022-07-28T17:42:20.045Z"
   },
   {
    "duration": 1627,
    "start_time": "2022-07-28T17:42:20.060Z"
   },
   {
    "duration": 6,
    "start_time": "2022-07-28T17:42:21.690Z"
   },
   {
    "duration": 8,
    "start_time": "2022-07-28T17:42:21.698Z"
   },
   {
    "duration": 16,
    "start_time": "2022-07-28T17:42:21.723Z"
   },
   {
    "duration": 23,
    "start_time": "2022-07-28T17:42:21.740Z"
   },
   {
    "duration": 13,
    "start_time": "2022-07-28T17:42:21.764Z"
   },
   {
    "duration": 53,
    "start_time": "2022-07-28T17:42:21.779Z"
   },
   {
    "duration": 21,
    "start_time": "2022-07-28T17:42:21.834Z"
   },
   {
    "duration": 20,
    "start_time": "2022-07-28T17:42:21.857Z"
   },
   {
    "duration": 49,
    "start_time": "2022-07-28T17:42:21.879Z"
   },
   {
    "duration": 215,
    "start_time": "2022-07-28T17:42:21.930Z"
   },
   {
    "duration": 3671,
    "start_time": "2022-07-28T17:42:22.148Z"
   },
   {
    "duration": 347,
    "start_time": "2022-07-28T17:42:25.823Z"
   },
   {
    "duration": 349,
    "start_time": "2022-07-28T17:42:26.171Z"
   },
   {
    "duration": 10,
    "start_time": "2022-07-28T17:42:26.522Z"
   },
   {
    "duration": 369,
    "start_time": "2022-07-28T17:42:26.534Z"
   },
   {
    "duration": 21,
    "start_time": "2022-07-28T17:42:26.906Z"
   },
   {
    "duration": 370,
    "start_time": "2022-07-28T17:42:26.929Z"
   },
   {
    "duration": 26,
    "start_time": "2022-07-28T17:42:27.300Z"
   },
   {
    "duration": 270,
    "start_time": "2022-07-28T17:42:27.328Z"
   },
   {
    "duration": 9,
    "start_time": "2022-07-28T17:42:27.600Z"
   },
   {
    "duration": 282,
    "start_time": "2022-07-28T17:42:27.624Z"
   },
   {
    "duration": 20,
    "start_time": "2022-07-28T17:42:27.907Z"
   },
   {
    "duration": 284,
    "start_time": "2022-07-28T17:42:27.929Z"
   },
   {
    "duration": 15,
    "start_time": "2022-07-28T17:42:28.215Z"
   },
   {
    "duration": 292,
    "start_time": "2022-07-28T17:42:28.233Z"
   },
   {
    "duration": 10,
    "start_time": "2022-07-28T17:42:28.526Z"
   },
   {
    "duration": 15,
    "start_time": "2022-07-28T17:42:28.538Z"
   },
   {
    "duration": 25,
    "start_time": "2022-07-28T17:42:28.555Z"
   },
   {
    "duration": 15,
    "start_time": "2022-07-28T17:42:28.739Z"
   },
   {
    "duration": 10,
    "start_time": "2022-07-28T17:42:29.198Z"
   },
   {
    "duration": 335,
    "start_time": "2022-07-28T17:42:30.062Z"
   },
   {
    "duration": 228,
    "start_time": "2022-07-28T17:42:32.184Z"
   },
   {
    "duration": 277,
    "start_time": "2022-07-28T17:42:33.129Z"
   },
   {
    "duration": 237,
    "start_time": "2022-07-28T17:42:34.266Z"
   },
   {
    "duration": 229,
    "start_time": "2022-07-28T17:42:35.698Z"
   },
   {
    "duration": 192,
    "start_time": "2022-07-28T17:42:37.012Z"
   },
   {
    "duration": 189,
    "start_time": "2022-07-28T17:42:38.467Z"
   },
   {
    "duration": 533,
    "start_time": "2022-07-28T17:42:39.578Z"
   },
   {
    "duration": 585,
    "start_time": "2022-07-28T17:42:40.297Z"
   },
   {
    "duration": 371,
    "start_time": "2022-07-28T17:42:40.885Z"
   },
   {
    "duration": 304,
    "start_time": "2022-07-28T17:42:41.329Z"
   },
   {
    "duration": 1297,
    "start_time": "2022-07-28T17:57:23.730Z"
   },
   {
    "duration": 90,
    "start_time": "2022-07-28T17:57:25.029Z"
   },
   {
    "duration": 24,
    "start_time": "2022-07-28T17:57:25.121Z"
   },
   {
    "duration": 112,
    "start_time": "2022-07-28T17:57:25.148Z"
   },
   {
    "duration": 105,
    "start_time": "2022-07-28T17:57:25.262Z"
   },
   {
    "duration": 24,
    "start_time": "2022-07-28T17:57:25.369Z"
   },
   {
    "duration": 3142,
    "start_time": "2022-07-28T17:57:25.395Z"
   },
   {
    "duration": 11,
    "start_time": "2022-07-28T17:57:28.539Z"
   },
   {
    "duration": 7,
    "start_time": "2022-07-28T17:57:28.552Z"
   },
   {
    "duration": 4,
    "start_time": "2022-07-28T17:57:28.563Z"
   },
   {
    "duration": 9,
    "start_time": "2022-07-28T17:57:28.569Z"
   },
   {
    "duration": 7,
    "start_time": "2022-07-28T17:57:28.579Z"
   },
   {
    "duration": 44,
    "start_time": "2022-07-28T17:57:28.587Z"
   },
   {
    "duration": 13,
    "start_time": "2022-07-28T17:57:28.638Z"
   },
   {
    "duration": 1559,
    "start_time": "2022-07-28T17:57:28.653Z"
   },
   {
    "duration": 16,
    "start_time": "2022-07-28T17:57:30.214Z"
   },
   {
    "duration": 20,
    "start_time": "2022-07-28T17:57:30.232Z"
   },
   {
    "duration": 18,
    "start_time": "2022-07-28T17:57:30.254Z"
   },
   {
    "duration": 17,
    "start_time": "2022-07-28T17:57:30.274Z"
   },
   {
    "duration": 12,
    "start_time": "2022-07-28T17:57:30.293Z"
   },
   {
    "duration": 36,
    "start_time": "2022-07-28T17:57:30.306Z"
   },
   {
    "duration": 24,
    "start_time": "2022-07-28T17:57:30.345Z"
   },
   {
    "duration": 31,
    "start_time": "2022-07-28T17:57:30.371Z"
   },
   {
    "duration": 36,
    "start_time": "2022-07-28T17:57:30.405Z"
   },
   {
    "duration": 175,
    "start_time": "2022-07-28T17:57:30.444Z"
   },
   {
    "duration": 3528,
    "start_time": "2022-07-28T17:57:30.621Z"
   },
   {
    "duration": 482,
    "start_time": "2022-07-28T17:57:34.151Z"
   },
   {
    "duration": 399,
    "start_time": "2022-07-28T17:57:34.638Z"
   },
   {
    "duration": 11,
    "start_time": "2022-07-28T17:57:35.044Z"
   },
   {
    "duration": 419,
    "start_time": "2022-07-28T17:57:35.058Z"
   },
   {
    "duration": 12,
    "start_time": "2022-07-28T17:57:35.479Z"
   },
   {
    "duration": 397,
    "start_time": "2022-07-28T17:57:35.494Z"
   },
   {
    "duration": 11,
    "start_time": "2022-07-28T17:57:35.894Z"
   },
   {
    "duration": 281,
    "start_time": "2022-07-28T17:57:35.922Z"
   },
   {
    "duration": 9,
    "start_time": "2022-07-28T17:57:36.205Z"
   },
   {
    "duration": 287,
    "start_time": "2022-07-28T17:57:36.215Z"
   },
   {
    "duration": 26,
    "start_time": "2022-07-28T17:57:36.504Z"
   },
   {
    "duration": 301,
    "start_time": "2022-07-28T17:57:36.532Z"
   },
   {
    "duration": 12,
    "start_time": "2022-07-28T17:57:36.840Z"
   },
   {
    "duration": 552,
    "start_time": "2022-07-28T17:57:36.854Z"
   },
   {
    "duration": 23,
    "start_time": "2022-07-28T17:57:37.408Z"
   },
   {
    "duration": 43,
    "start_time": "2022-07-28T17:57:37.433Z"
   },
   {
    "duration": 11,
    "start_time": "2022-07-28T17:57:37.478Z"
   },
   {
    "duration": 18,
    "start_time": "2022-07-28T17:57:37.490Z"
   },
   {
    "duration": 20,
    "start_time": "2022-07-28T17:57:37.511Z"
   },
   {
    "duration": 344,
    "start_time": "2022-07-28T17:57:37.541Z"
   },
   {
    "duration": 330,
    "start_time": "2022-07-28T17:57:37.888Z"
   },
   {
    "duration": 344,
    "start_time": "2022-07-28T17:57:38.221Z"
   },
   {
    "duration": 268,
    "start_time": "2022-07-28T17:57:38.568Z"
   },
   {
    "duration": 341,
    "start_time": "2022-07-28T17:57:38.838Z"
   },
   {
    "duration": 263,
    "start_time": "2022-07-28T17:57:39.182Z"
   },
   {
    "duration": 300,
    "start_time": "2022-07-28T17:57:39.451Z"
   },
   {
    "duration": 675,
    "start_time": "2022-07-28T17:57:39.754Z"
   },
   {
    "duration": 859,
    "start_time": "2022-07-28T17:57:40.431Z"
   },
   {
    "duration": 455,
    "start_time": "2022-07-28T17:57:41.293Z"
   },
   {
    "duration": 400,
    "start_time": "2022-07-28T17:57:41.751Z"
   },
   {
    "duration": 974,
    "start_time": "2022-07-28T18:10:01.018Z"
   },
   {
    "duration": 1471,
    "start_time": "2022-07-28T18:21:33.029Z"
   },
   {
    "duration": 108,
    "start_time": "2022-07-28T18:32:03.998Z"
   },
   {
    "duration": 13,
    "start_time": "2022-07-28T18:33:19.870Z"
   },
   {
    "duration": 1137,
    "start_time": "2022-07-30T09:23:30.259Z"
   },
   {
    "duration": 126,
    "start_time": "2022-07-30T09:23:31.398Z"
   },
   {
    "duration": 11,
    "start_time": "2022-07-30T09:23:31.525Z"
   },
   {
    "duration": 85,
    "start_time": "2022-07-30T09:23:31.538Z"
   },
   {
    "duration": 71,
    "start_time": "2022-07-30T09:23:31.625Z"
   },
   {
    "duration": 15,
    "start_time": "2022-07-30T09:23:31.711Z"
   },
   {
    "duration": 2344,
    "start_time": "2022-07-30T09:23:32.217Z"
   },
   {
    "duration": 8,
    "start_time": "2022-07-30T09:23:34.563Z"
   },
   {
    "duration": 20,
    "start_time": "2022-07-30T09:23:34.572Z"
   },
   {
    "duration": 11,
    "start_time": "2022-07-30T09:23:34.593Z"
   },
   {
    "duration": 23,
    "start_time": "2022-07-30T09:23:34.605Z"
   },
   {
    "duration": 12,
    "start_time": "2022-07-30T09:23:34.629Z"
   },
   {
    "duration": 4,
    "start_time": "2022-07-30T09:23:34.770Z"
   },
   {
    "duration": 9,
    "start_time": "2022-07-30T09:23:35.022Z"
   },
   {
    "duration": 1197,
    "start_time": "2022-07-30T09:23:35.358Z"
   },
   {
    "duration": 4,
    "start_time": "2022-07-30T09:23:36.557Z"
   },
   {
    "duration": 11,
    "start_time": "2022-07-30T09:23:36.563Z"
   },
   {
    "duration": 13,
    "start_time": "2022-07-30T09:23:36.577Z"
   },
   {
    "duration": 14,
    "start_time": "2022-07-30T09:23:37.415Z"
   },
   {
    "duration": 9,
    "start_time": "2022-07-30T09:23:38.546Z"
   },
   {
    "duration": 12,
    "start_time": "2022-07-30T09:23:39.118Z"
   },
   {
    "duration": 16,
    "start_time": "2022-07-30T09:23:39.723Z"
   },
   {
    "duration": 12,
    "start_time": "2022-07-30T09:23:41.429Z"
   },
   {
    "duration": 8,
    "start_time": "2022-07-30T09:23:42.997Z"
   },
   {
    "duration": 115,
    "start_time": "2022-07-30T09:23:44.039Z"
   },
   {
    "duration": 2627,
    "start_time": "2022-07-30T09:23:45.875Z"
   },
   {
    "duration": 335,
    "start_time": "2022-07-30T09:23:48.504Z"
   },
   {
    "duration": 297,
    "start_time": "2022-07-30T09:23:48.841Z"
   },
   {
    "duration": 8,
    "start_time": "2022-07-30T09:23:49.679Z"
   },
   {
    "duration": 5,
    "start_time": "2022-07-30T09:31:01.159Z"
   },
   {
    "duration": 74,
    "start_time": "2022-07-30T09:31:01.633Z"
   },
   {
    "duration": 7,
    "start_time": "2022-07-30T09:31:02.196Z"
   },
   {
    "duration": 100,
    "start_time": "2022-07-30T09:31:03.825Z"
   },
   {
    "duration": 97,
    "start_time": "2022-07-30T09:31:04.979Z"
   },
   {
    "duration": 16,
    "start_time": "2022-07-30T09:31:06.249Z"
   },
   {
    "duration": 2546,
    "start_time": "2022-07-30T09:31:07.016Z"
   },
   {
    "duration": 7,
    "start_time": "2022-07-30T09:31:09.564Z"
   },
   {
    "duration": 6,
    "start_time": "2022-07-30T09:31:10.731Z"
   },
   {
    "duration": 3,
    "start_time": "2022-07-30T09:31:11.568Z"
   },
   {
    "duration": 5,
    "start_time": "2022-07-30T09:31:12.215Z"
   },
   {
    "duration": 6,
    "start_time": "2022-07-30T09:31:12.632Z"
   },
   {
    "duration": 4,
    "start_time": "2022-07-30T09:31:12.870Z"
   },
   {
    "duration": 8,
    "start_time": "2022-07-30T09:31:13.060Z"
   },
   {
    "duration": 1203,
    "start_time": "2022-07-30T09:31:13.249Z"
   },
   {
    "duration": 4,
    "start_time": "2022-07-30T09:31:14.453Z"
   },
   {
    "duration": 5,
    "start_time": "2022-07-30T09:31:14.458Z"
   },
   {
    "duration": 9,
    "start_time": "2022-07-30T09:31:14.465Z"
   },
   {
    "duration": 14,
    "start_time": "2022-07-30T09:31:15.399Z"
   },
   {
    "duration": 10,
    "start_time": "2022-07-30T09:31:23.368Z"
   },
   {
    "duration": 13,
    "start_time": "2022-07-30T09:31:23.952Z"
   },
   {
    "duration": 17,
    "start_time": "2022-07-30T09:31:24.560Z"
   },
   {
    "duration": 13,
    "start_time": "2022-07-30T09:31:25.817Z"
   },
   {
    "duration": 9,
    "start_time": "2022-07-30T09:31:26.840Z"
   },
   {
    "duration": 157,
    "start_time": "2022-07-30T09:31:27.313Z"
   },
   {
    "duration": 2983,
    "start_time": "2022-07-30T09:31:28.269Z"
   },
   {
    "duration": 285,
    "start_time": "2022-07-30T09:31:31.254Z"
   },
   {
    "duration": 328,
    "start_time": "2022-07-30T09:31:36.942Z"
   },
   {
    "duration": 11,
    "start_time": "2022-07-30T09:31:38.068Z"
   },
   {
    "duration": 269,
    "start_time": "2022-07-30T09:31:39.513Z"
   },
   {
    "duration": 8,
    "start_time": "2022-07-30T09:33:00.929Z"
   },
   {
    "duration": 256,
    "start_time": "2022-07-30T09:33:01.744Z"
   },
   {
    "duration": 9,
    "start_time": "2022-07-30T09:33:02.002Z"
   },
   {
    "duration": 193,
    "start_time": "2022-07-30T09:33:02.542Z"
   },
   {
    "duration": 7,
    "start_time": "2022-07-30T09:33:02.774Z"
   },
   {
    "duration": 192,
    "start_time": "2022-07-30T09:33:03.145Z"
   },
   {
    "duration": 9,
    "start_time": "2022-07-30T09:33:03.342Z"
   },
   {
    "duration": 219,
    "start_time": "2022-07-30T09:33:03.768Z"
   },
   {
    "duration": 7,
    "start_time": "2022-07-30T09:33:04.003Z"
   },
   {
    "duration": 229,
    "start_time": "2022-07-30T09:33:04.440Z"
   },
   {
    "duration": 7,
    "start_time": "2022-07-30T09:33:04.674Z"
   },
   {
    "duration": 16,
    "start_time": "2022-07-30T09:33:05.149Z"
   },
   {
    "duration": 11,
    "start_time": "2022-07-30T09:33:05.431Z"
   },
   {
    "duration": 9,
    "start_time": "2022-07-30T09:33:05.913Z"
   },
   {
    "duration": 8,
    "start_time": "2022-07-30T09:33:06.174Z"
   },
   {
    "duration": 425,
    "start_time": "2022-07-30T09:33:06.894Z"
   },
   {
    "duration": 179,
    "start_time": "2022-07-30T09:33:11.341Z"
   },
   {
    "duration": 252,
    "start_time": "2022-07-30T09:33:12.831Z"
   },
   {
    "duration": 182,
    "start_time": "2022-07-30T09:33:14.350Z"
   },
   {
    "duration": 193,
    "start_time": "2022-07-30T09:33:15.781Z"
   },
   {
    "duration": 148,
    "start_time": "2022-07-30T09:33:17.257Z"
   },
   {
    "duration": 169,
    "start_time": "2022-07-30T09:33:19.005Z"
   },
   {
    "duration": 469,
    "start_time": "2022-07-30T09:33:20.728Z"
   },
   {
    "duration": 506,
    "start_time": "2022-07-30T09:33:22.898Z"
   },
   {
    "duration": 308,
    "start_time": "2022-07-30T09:33:24.727Z"
   },
   {
    "duration": 286,
    "start_time": "2022-07-30T09:33:31.000Z"
   },
   {
    "duration": 1377,
    "start_time": "2022-07-30T09:33:33.818Z"
   },
   {
    "duration": 113,
    "start_time": "2022-07-30T10:15:54.133Z"
   },
   {
    "duration": 12,
    "start_time": "2022-07-30T10:26:32.862Z"
   },
   {
    "duration": 21,
    "start_time": "2022-07-30T10:27:54.298Z"
   },
   {
    "duration": 22,
    "start_time": "2022-07-30T10:28:03.398Z"
   },
   {
    "duration": 19,
    "start_time": "2022-07-30T10:28:21.477Z"
   },
   {
    "duration": 7,
    "start_time": "2022-07-30T10:28:57.455Z"
   },
   {
    "duration": 8,
    "start_time": "2022-07-30T10:29:09.861Z"
   },
   {
    "duration": 7,
    "start_time": "2022-07-30T10:29:25.989Z"
   },
   {
    "duration": 14,
    "start_time": "2022-07-30T10:34:38.358Z"
   },
   {
    "duration": 22,
    "start_time": "2022-07-30T10:36:40.848Z"
   },
   {
    "duration": 24,
    "start_time": "2022-07-30T10:39:46.259Z"
   },
   {
    "duration": 18,
    "start_time": "2022-07-30T10:39:57.349Z"
   },
   {
    "duration": 15,
    "start_time": "2022-07-30T10:51:46.392Z"
   },
   {
    "duration": 9,
    "start_time": "2022-07-30T10:54:32.206Z"
   },
   {
    "duration": 317,
    "start_time": "2022-07-30T10:55:35.701Z"
   },
   {
    "duration": 1284,
    "start_time": "2022-07-30T11:06:20.779Z"
   },
   {
    "duration": 13,
    "start_time": "2022-07-30T11:07:01.364Z"
   },
   {
    "duration": 12,
    "start_time": "2022-07-30T11:07:10.611Z"
   },
   {
    "duration": 15,
    "start_time": "2022-07-30T11:07:45.882Z"
   },
   {
    "duration": 15,
    "start_time": "2022-07-30T11:08:08.273Z"
   },
   {
    "duration": 180,
    "start_time": "2022-07-30T11:11:39.899Z"
   },
   {
    "duration": 403,
    "start_time": "2022-07-30T11:12:30.310Z"
   },
   {
    "duration": 159,
    "start_time": "2022-07-30T11:13:15.718Z"
   },
   {
    "duration": 156,
    "start_time": "2022-07-30T11:13:39.451Z"
   },
   {
    "duration": 15,
    "start_time": "2022-07-30T11:22:11.599Z"
   },
   {
    "duration": 15,
    "start_time": "2022-07-30T11:22:46.488Z"
   },
   {
    "duration": 5,
    "start_time": "2022-07-30T13:10:58.828Z"
   },
   {
    "duration": 74,
    "start_time": "2022-07-30T13:10:59.404Z"
   },
   {
    "duration": 7,
    "start_time": "2022-07-30T13:10:59.850Z"
   },
   {
    "duration": 127,
    "start_time": "2022-07-30T13:11:00.886Z"
   },
   {
    "duration": 87,
    "start_time": "2022-07-30T13:11:02.038Z"
   },
   {
    "duration": 12,
    "start_time": "2022-07-30T13:11:02.562Z"
   },
   {
    "duration": 2289,
    "start_time": "2022-07-30T13:11:02.908Z"
   },
   {
    "duration": 8,
    "start_time": "2022-07-30T13:11:05.199Z"
   },
   {
    "duration": 22,
    "start_time": "2022-07-30T13:11:05.209Z"
   },
   {
    "duration": 3,
    "start_time": "2022-07-30T13:11:05.233Z"
   },
   {
    "duration": 5,
    "start_time": "2022-07-30T13:11:05.238Z"
   },
   {
    "duration": 5,
    "start_time": "2022-07-30T13:11:05.244Z"
   },
   {
    "duration": 5,
    "start_time": "2022-07-30T13:11:05.250Z"
   },
   {
    "duration": 8,
    "start_time": "2022-07-30T13:11:05.257Z"
   },
   {
    "duration": 1150,
    "start_time": "2022-07-30T13:11:05.514Z"
   },
   {
    "duration": 4,
    "start_time": "2022-07-30T13:11:06.665Z"
   },
   {
    "duration": 6,
    "start_time": "2022-07-30T13:11:06.670Z"
   },
   {
    "duration": 8,
    "start_time": "2022-07-30T13:11:06.678Z"
   },
   {
    "duration": 14,
    "start_time": "2022-07-30T13:11:07.408Z"
   },
   {
    "duration": 12,
    "start_time": "2022-07-30T13:11:08.522Z"
   },
   {
    "duration": 14,
    "start_time": "2022-07-30T13:11:09.075Z"
   },
   {
    "duration": 17,
    "start_time": "2022-07-30T13:11:09.771Z"
   },
   {
    "duration": 14,
    "start_time": "2022-07-30T13:11:10.886Z"
   },
   {
    "duration": 7,
    "start_time": "2022-07-30T13:11:11.929Z"
   },
   {
    "duration": 116,
    "start_time": "2022-07-30T13:11:12.750Z"
   },
   {
    "duration": 2828,
    "start_time": "2022-07-30T13:11:13.890Z"
   },
   {
    "duration": 259,
    "start_time": "2022-07-30T13:11:16.730Z"
   },
   {
    "duration": 297,
    "start_time": "2022-07-30T13:11:16.990Z"
   },
   {
    "duration": 7,
    "start_time": "2022-07-30T13:11:17.288Z"
   },
   {
    "duration": 279,
    "start_time": "2022-07-30T13:11:17.297Z"
   },
   {
    "duration": 9,
    "start_time": "2022-07-30T13:11:17.577Z"
   },
   {
    "duration": 338,
    "start_time": "2022-07-30T13:11:17.587Z"
   },
   {
    "duration": 12,
    "start_time": "2022-07-30T13:11:17.927Z"
   },
   {
    "duration": 186,
    "start_time": "2022-07-30T13:11:18.570Z"
   },
   {
    "duration": 7,
    "start_time": "2022-07-30T13:11:19.170Z"
   },
   {
    "duration": 192,
    "start_time": "2022-07-30T13:11:20.389Z"
   },
   {
    "duration": 8,
    "start_time": "2022-07-30T13:11:21.050Z"
   },
   {
    "duration": 207,
    "start_time": "2022-07-30T13:11:22.241Z"
   },
   {
    "duration": 8,
    "start_time": "2022-07-30T13:11:23.179Z"
   },
   {
    "duration": 209,
    "start_time": "2022-07-30T13:11:24.289Z"
   },
   {
    "duration": 8,
    "start_time": "2022-07-30T13:11:25.042Z"
   },
   {
    "duration": 9,
    "start_time": "2022-07-30T13:11:26.648Z"
   },
   {
    "duration": 7,
    "start_time": "2022-07-30T13:11:27.460Z"
   },
   {
    "duration": 9,
    "start_time": "2022-07-30T13:11:29.017Z"
   },
   {
    "duration": 9,
    "start_time": "2022-07-30T13:11:29.771Z"
   },
   {
    "duration": 261,
    "start_time": "2022-07-30T13:11:30.986Z"
   },
   {
    "duration": 171,
    "start_time": "2022-07-30T13:11:31.590Z"
   },
   {
    "duration": 213,
    "start_time": "2022-07-30T13:11:31.986Z"
   },
   {
    "duration": 161,
    "start_time": "2022-07-30T13:11:32.602Z"
   },
   {
    "duration": 411,
    "start_time": "2022-07-30T13:11:33.088Z"
   },
   {
    "duration": 170,
    "start_time": "2022-07-30T13:11:33.501Z"
   },
   {
    "duration": 165,
    "start_time": "2022-07-30T13:11:34.233Z"
   },
   {
    "duration": 429,
    "start_time": "2022-07-30T13:11:34.954Z"
   },
   {
    "duration": 499,
    "start_time": "2022-07-30T13:11:35.491Z"
   },
   {
    "duration": 313,
    "start_time": "2022-07-30T13:11:35.991Z"
   },
   {
    "duration": 253,
    "start_time": "2022-07-30T13:11:36.449Z"
   },
   {
    "duration": 1295,
    "start_time": "2022-07-30T13:11:37.120Z"
   },
   {
    "duration": 30,
    "start_time": "2022-07-30T13:11:38.416Z"
   },
   {
    "duration": 17,
    "start_time": "2022-07-30T13:11:41.226Z"
   },
   {
    "duration": 156,
    "start_time": "2022-07-30T13:11:42.163Z"
   },
   {
    "duration": 3,
    "start_time": "2022-07-30T13:19:06.699Z"
   },
   {
    "duration": 70,
    "start_time": "2022-07-30T13:19:09.286Z"
   },
   {
    "duration": 8,
    "start_time": "2022-07-30T13:19:10.910Z"
   },
   {
    "duration": 98,
    "start_time": "2022-07-30T13:19:39.479Z"
   },
   {
    "duration": 89,
    "start_time": "2022-07-30T13:19:45.838Z"
   },
   {
    "duration": 15,
    "start_time": "2022-07-30T13:19:51.000Z"
   },
   {
    "duration": 2330,
    "start_time": "2022-07-30T13:19:55.884Z"
   },
   {
    "duration": 2684,
    "start_time": "2022-07-30T13:20:15.750Z"
   },
   {
    "duration": 8,
    "start_time": "2022-07-30T13:20:33.851Z"
   },
   {
    "duration": 4,
    "start_time": "2022-07-30T13:20:35.031Z"
   },
   {
    "duration": 3,
    "start_time": "2022-07-30T13:20:35.655Z"
   },
   {
    "duration": 4,
    "start_time": "2022-07-30T13:20:36.211Z"
   },
   {
    "duration": 5,
    "start_time": "2022-07-30T13:20:36.820Z"
   },
   {
    "duration": 4,
    "start_time": "2022-07-30T13:20:37.356Z"
   },
   {
    "duration": 7,
    "start_time": "2022-07-30T13:20:37.940Z"
   },
   {
    "duration": 1208,
    "start_time": "2022-07-30T13:20:38.766Z"
   },
   {
    "duration": 4,
    "start_time": "2022-07-30T13:20:39.976Z"
   },
   {
    "duration": 3,
    "start_time": "2022-07-30T13:20:40.120Z"
   },
   {
    "duration": 9,
    "start_time": "2022-07-30T13:20:43.965Z"
   },
   {
    "duration": 21,
    "start_time": "2022-07-30T13:20:47.693Z"
   },
   {
    "duration": 10,
    "start_time": "2022-07-30T13:20:58.518Z"
   },
   {
    "duration": 17,
    "start_time": "2022-07-30T13:21:03.218Z"
   },
   {
    "duration": 15,
    "start_time": "2022-07-30T13:21:13.652Z"
   },
   {
    "duration": 8,
    "start_time": "2022-07-30T13:21:24.479Z"
   },
   {
    "duration": 117,
    "start_time": "2022-07-30T13:21:25.684Z"
   },
   {
    "duration": 2731,
    "start_time": "2022-07-30T13:21:36.069Z"
   },
   {
    "duration": 252,
    "start_time": "2022-07-30T13:21:38.801Z"
   },
   {
    "duration": 287,
    "start_time": "2022-07-30T13:21:39.055Z"
   },
   {
    "duration": 7,
    "start_time": "2022-07-30T13:21:39.344Z"
   },
   {
    "duration": 181,
    "start_time": "2022-07-30T13:24:22.800Z"
   },
   {
    "duration": 209,
    "start_time": "2022-07-30T13:27:38.899Z"
   },
   {
    "duration": 218,
    "start_time": "2022-07-30T13:27:50.328Z"
   },
   {
    "duration": 10,
    "start_time": "2022-07-30T13:28:45.824Z"
   },
   {
    "duration": 7,
    "start_time": "2022-07-30T13:28:46.520Z"
   },
   {
    "duration": 9,
    "start_time": "2022-07-30T13:28:48.683Z"
   },
   {
    "duration": 8,
    "start_time": "2022-07-30T13:28:49.453Z"
   },
   {
    "duration": 537,
    "start_time": "2022-07-30T13:28:53.504Z"
   },
   {
    "duration": 179,
    "start_time": "2022-07-30T13:29:00.413Z"
   },
   {
    "duration": 215,
    "start_time": "2022-07-30T13:29:02.147Z"
   },
   {
    "duration": 161,
    "start_time": "2022-07-30T13:29:03.724Z"
   },
   {
    "duration": 177,
    "start_time": "2022-07-30T13:29:04.117Z"
   },
   {
    "duration": 140,
    "start_time": "2022-07-30T13:29:04.448Z"
   },
   {
    "duration": 152,
    "start_time": "2022-07-30T13:29:04.789Z"
   },
   {
    "duration": 410,
    "start_time": "2022-07-30T13:29:05.257Z"
   },
   {
    "duration": 522,
    "start_time": "2022-07-30T13:29:05.669Z"
   },
   {
    "duration": 293,
    "start_time": "2022-07-30T13:29:06.193Z"
   },
   {
    "duration": 246,
    "start_time": "2022-07-30T13:29:06.642Z"
   },
   {
    "duration": 1293,
    "start_time": "2022-07-30T13:29:07.357Z"
   },
   {
    "duration": 22,
    "start_time": "2022-07-30T13:29:08.824Z"
   },
   {
    "duration": 16,
    "start_time": "2022-07-30T13:29:11.188Z"
   },
   {
    "duration": 149,
    "start_time": "2022-07-30T13:29:12.078Z"
   },
   {
    "duration": 389,
    "start_time": "2022-07-30T17:48:44.971Z"
   },
   {
    "duration": 84,
    "start_time": "2022-07-30T17:48:45.361Z"
   },
   {
    "duration": 14,
    "start_time": "2022-07-30T17:48:45.447Z"
   },
   {
    "duration": 106,
    "start_time": "2022-07-30T17:48:45.463Z"
   },
   {
    "duration": 99,
    "start_time": "2022-07-30T17:48:45.571Z"
   },
   {
    "duration": 16,
    "start_time": "2022-07-30T17:48:45.671Z"
   },
   {
    "duration": 1998,
    "start_time": "2022-07-30T17:48:45.688Z"
   },
   {
    "duration": 9,
    "start_time": "2022-07-30T17:48:47.688Z"
   },
   {
    "duration": 6,
    "start_time": "2022-07-30T17:48:47.698Z"
   },
   {
    "duration": 14,
    "start_time": "2022-07-30T17:48:47.707Z"
   },
   {
    "duration": 21,
    "start_time": "2022-07-30T17:48:47.722Z"
   },
   {
    "duration": 5,
    "start_time": "2022-07-30T17:48:47.745Z"
   },
   {
    "duration": 4,
    "start_time": "2022-07-30T17:48:47.752Z"
   },
   {
    "duration": 11,
    "start_time": "2022-07-30T17:48:47.757Z"
   },
   {
    "duration": 1018,
    "start_time": "2022-07-30T17:48:47.770Z"
   },
   {
    "duration": 4,
    "start_time": "2022-07-30T17:48:48.790Z"
   },
   {
    "duration": 15,
    "start_time": "2022-07-30T17:48:48.796Z"
   },
   {
    "duration": 34,
    "start_time": "2022-07-30T17:48:48.813Z"
   },
   {
    "duration": 18,
    "start_time": "2022-07-30T17:48:48.849Z"
   },
   {
    "duration": 10,
    "start_time": "2022-07-30T17:48:48.869Z"
   },
   {
    "duration": 13,
    "start_time": "2022-07-30T17:48:48.881Z"
   },
   {
    "duration": 38,
    "start_time": "2022-07-30T17:48:48.896Z"
   },
   {
    "duration": 17,
    "start_time": "2022-07-30T17:48:48.935Z"
   },
   {
    "duration": 9,
    "start_time": "2022-07-30T17:48:48.953Z"
   },
   {
    "duration": 190,
    "start_time": "2022-07-30T17:48:48.964Z"
   },
   {
    "duration": 2084,
    "start_time": "2022-07-30T17:48:49.156Z"
   },
   {
    "duration": 215,
    "start_time": "2022-07-30T17:48:51.242Z"
   },
   {
    "duration": 243,
    "start_time": "2022-07-30T17:48:51.462Z"
   },
   {
    "duration": 7,
    "start_time": "2022-07-30T17:48:51.707Z"
   },
   {
    "duration": 230,
    "start_time": "2022-07-30T17:48:51.716Z"
   },
   {
    "duration": 10,
    "start_time": "2022-07-30T17:48:51.948Z"
   },
   {
    "duration": 304,
    "start_time": "2022-07-30T17:48:51.959Z"
   },
   {
    "duration": 8,
    "start_time": "2022-07-30T17:48:52.265Z"
   },
   {
    "duration": 165,
    "start_time": "2022-07-30T17:48:52.274Z"
   },
   {
    "duration": 8,
    "start_time": "2022-07-30T17:48:52.440Z"
   },
   {
    "duration": 192,
    "start_time": "2022-07-30T17:48:52.449Z"
   },
   {
    "duration": 9,
    "start_time": "2022-07-30T17:48:52.643Z"
   },
   {
    "duration": 239,
    "start_time": "2022-07-30T17:48:52.655Z"
   },
   {
    "duration": 9,
    "start_time": "2022-07-30T17:48:52.896Z"
   },
   {
    "duration": 181,
    "start_time": "2022-07-30T17:48:52.906Z"
   },
   {
    "duration": 8,
    "start_time": "2022-07-30T17:48:53.089Z"
   },
   {
    "duration": 11,
    "start_time": "2022-07-30T17:48:53.099Z"
   },
   {
    "duration": 27,
    "start_time": "2022-07-30T17:48:53.112Z"
   },
   {
    "duration": 10,
    "start_time": "2022-07-30T17:48:53.140Z"
   },
   {
    "duration": 7,
    "start_time": "2022-07-30T17:48:53.152Z"
   },
   {
    "duration": 297,
    "start_time": "2022-07-30T17:48:53.161Z"
   },
   {
    "duration": 85,
    "start_time": "2022-07-30T17:48:53.461Z"
   },
   {
    "duration": 0,
    "start_time": "2022-07-30T17:48:53.549Z"
   },
   {
    "duration": 0,
    "start_time": "2022-07-30T17:48:53.550Z"
   },
   {
    "duration": 0,
    "start_time": "2022-07-30T17:48:53.551Z"
   },
   {
    "duration": 0,
    "start_time": "2022-07-30T17:48:53.553Z"
   },
   {
    "duration": 0,
    "start_time": "2022-07-30T17:48:53.554Z"
   },
   {
    "duration": 0,
    "start_time": "2022-07-30T17:48:53.556Z"
   },
   {
    "duration": 0,
    "start_time": "2022-07-30T17:48:53.557Z"
   },
   {
    "duration": 0,
    "start_time": "2022-07-30T17:48:53.558Z"
   },
   {
    "duration": 0,
    "start_time": "2022-07-30T17:48:53.560Z"
   },
   {
    "duration": 0,
    "start_time": "2022-07-30T17:48:53.561Z"
   },
   {
    "duration": 0,
    "start_time": "2022-07-30T17:48:53.563Z"
   },
   {
    "duration": 0,
    "start_time": "2022-07-30T17:48:53.564Z"
   },
   {
    "duration": 0,
    "start_time": "2022-07-30T17:48:53.565Z"
   },
   {
    "duration": 8,
    "start_time": "2022-07-30T17:49:52.863Z"
   },
   {
    "duration": 209,
    "start_time": "2022-07-30T17:51:27.816Z"
   },
   {
    "duration": 154,
    "start_time": "2022-07-30T17:51:40.880Z"
   },
   {
    "duration": 426,
    "start_time": "2022-07-30T17:51:50.122Z"
   },
   {
    "duration": 89,
    "start_time": "2022-07-30T17:51:50.551Z"
   },
   {
    "duration": 14,
    "start_time": "2022-07-30T17:51:50.642Z"
   },
   {
    "duration": 140,
    "start_time": "2022-07-30T17:51:50.658Z"
   },
   {
    "duration": 93,
    "start_time": "2022-07-30T17:51:50.801Z"
   },
   {
    "duration": 13,
    "start_time": "2022-07-30T17:51:50.896Z"
   },
   {
    "duration": 2249,
    "start_time": "2022-07-30T17:51:50.911Z"
   },
   {
    "duration": 9,
    "start_time": "2022-07-30T17:51:53.161Z"
   },
   {
    "duration": 6,
    "start_time": "2022-07-30T17:51:53.172Z"
   },
   {
    "duration": 5,
    "start_time": "2022-07-30T17:51:53.180Z"
   },
   {
    "duration": 8,
    "start_time": "2022-07-30T17:51:53.186Z"
   },
   {
    "duration": 18,
    "start_time": "2022-07-30T17:51:53.196Z"
   },
   {
    "duration": 18,
    "start_time": "2022-07-30T17:51:53.216Z"
   },
   {
    "duration": 9,
    "start_time": "2022-07-30T17:51:53.237Z"
   },
   {
    "duration": 1040,
    "start_time": "2022-07-30T17:51:53.247Z"
   },
   {
    "duration": 6,
    "start_time": "2022-07-30T17:51:54.288Z"
   },
   {
    "duration": 8,
    "start_time": "2022-07-30T17:51:54.295Z"
   },
   {
    "duration": 16,
    "start_time": "2022-07-30T17:51:54.305Z"
   },
   {
    "duration": 22,
    "start_time": "2022-07-30T17:51:54.323Z"
   },
   {
    "duration": 11,
    "start_time": "2022-07-30T17:51:54.347Z"
   },
   {
    "duration": 14,
    "start_time": "2022-07-30T17:51:54.359Z"
   },
   {
    "duration": 24,
    "start_time": "2022-07-30T17:51:54.375Z"
   },
   {
    "duration": 40,
    "start_time": "2022-07-30T17:51:54.400Z"
   },
   {
    "duration": 9,
    "start_time": "2022-07-30T17:51:54.442Z"
   },
   {
    "duration": 199,
    "start_time": "2022-07-30T17:51:54.453Z"
   },
   {
    "duration": 2060,
    "start_time": "2022-07-30T17:51:54.653Z"
   },
   {
    "duration": 218,
    "start_time": "2022-07-30T17:51:56.715Z"
   },
   {
    "duration": 243,
    "start_time": "2022-07-30T17:51:56.935Z"
   },
   {
    "duration": 8,
    "start_time": "2022-07-30T17:51:57.179Z"
   },
   {
    "duration": 238,
    "start_time": "2022-07-30T17:51:57.189Z"
   },
   {
    "duration": 8,
    "start_time": "2022-07-30T17:51:57.433Z"
   },
   {
    "duration": 348,
    "start_time": "2022-07-30T17:51:57.443Z"
   },
   {
    "duration": 9,
    "start_time": "2022-07-30T17:51:57.792Z"
   },
   {
    "duration": 203,
    "start_time": "2022-07-30T17:51:57.802Z"
   },
   {
    "duration": 8,
    "start_time": "2022-07-30T17:51:58.007Z"
   },
   {
    "duration": 197,
    "start_time": "2022-07-30T17:51:58.017Z"
   },
   {
    "duration": 17,
    "start_time": "2022-07-30T17:51:58.216Z"
   },
   {
    "duration": 182,
    "start_time": "2022-07-30T17:51:58.235Z"
   },
   {
    "duration": 19,
    "start_time": "2022-07-30T17:51:58.418Z"
   },
   {
    "duration": 169,
    "start_time": "2022-07-30T17:51:58.439Z"
   },
   {
    "duration": 8,
    "start_time": "2022-07-30T17:51:58.612Z"
   },
   {
    "duration": 11,
    "start_time": "2022-07-30T17:51:58.634Z"
   },
   {
    "duration": 10,
    "start_time": "2022-07-30T17:51:58.646Z"
   },
   {
    "duration": 11,
    "start_time": "2022-07-30T17:51:58.658Z"
   },
   {
    "duration": 9,
    "start_time": "2022-07-30T17:51:58.671Z"
   },
   {
    "duration": 372,
    "start_time": "2022-07-30T17:51:58.682Z"
   },
   {
    "duration": 95,
    "start_time": "2022-07-30T17:51:59.056Z"
   },
   {
    "duration": 0,
    "start_time": "2022-07-30T17:51:59.152Z"
   },
   {
    "duration": 0,
    "start_time": "2022-07-30T17:51:59.154Z"
   },
   {
    "duration": 0,
    "start_time": "2022-07-30T17:51:59.155Z"
   },
   {
    "duration": 0,
    "start_time": "2022-07-30T17:51:59.156Z"
   },
   {
    "duration": 0,
    "start_time": "2022-07-30T17:51:59.157Z"
   },
   {
    "duration": 0,
    "start_time": "2022-07-30T17:51:59.159Z"
   },
   {
    "duration": 0,
    "start_time": "2022-07-30T17:51:59.160Z"
   },
   {
    "duration": 0,
    "start_time": "2022-07-30T17:51:59.162Z"
   },
   {
    "duration": 0,
    "start_time": "2022-07-30T17:51:59.163Z"
   },
   {
    "duration": 0,
    "start_time": "2022-07-30T17:51:59.164Z"
   },
   {
    "duration": 0,
    "start_time": "2022-07-30T17:51:59.166Z"
   },
   {
    "duration": 0,
    "start_time": "2022-07-30T17:51:59.167Z"
   },
   {
    "duration": 0,
    "start_time": "2022-07-30T17:51:59.168Z"
   },
   {
    "duration": 166,
    "start_time": "2022-07-30T17:52:45.832Z"
   },
   {
    "duration": 438,
    "start_time": "2022-07-30T17:52:50.782Z"
   },
   {
    "duration": 86,
    "start_time": "2022-07-30T17:52:51.222Z"
   },
   {
    "duration": 17,
    "start_time": "2022-07-30T17:52:51.310Z"
   },
   {
    "duration": 115,
    "start_time": "2022-07-30T17:52:51.330Z"
   },
   {
    "duration": 102,
    "start_time": "2022-07-30T17:52:51.447Z"
   },
   {
    "duration": 14,
    "start_time": "2022-07-30T17:52:51.550Z"
   },
   {
    "duration": 2080,
    "start_time": "2022-07-30T17:52:51.566Z"
   },
   {
    "duration": 10,
    "start_time": "2022-07-30T17:52:53.648Z"
   },
   {
    "duration": 21,
    "start_time": "2022-07-30T17:52:53.659Z"
   },
   {
    "duration": 20,
    "start_time": "2022-07-30T17:52:53.683Z"
   },
   {
    "duration": 17,
    "start_time": "2022-07-30T17:52:53.705Z"
   },
   {
    "duration": 16,
    "start_time": "2022-07-30T17:52:53.724Z"
   },
   {
    "duration": 18,
    "start_time": "2022-07-30T17:52:53.742Z"
   },
   {
    "duration": 12,
    "start_time": "2022-07-30T17:52:53.762Z"
   },
   {
    "duration": 992,
    "start_time": "2022-07-30T17:52:53.776Z"
   },
   {
    "duration": 5,
    "start_time": "2022-07-30T17:52:54.770Z"
   },
   {
    "duration": 21,
    "start_time": "2022-07-30T17:52:54.776Z"
   },
   {
    "duration": 45,
    "start_time": "2022-07-30T17:52:54.799Z"
   },
   {
    "duration": 24,
    "start_time": "2022-07-30T17:52:54.846Z"
   },
   {
    "duration": 26,
    "start_time": "2022-07-30T17:52:54.872Z"
   },
   {
    "duration": 44,
    "start_time": "2022-07-30T17:52:54.899Z"
   },
   {
    "duration": 45,
    "start_time": "2022-07-30T17:52:54.945Z"
   },
   {
    "duration": 40,
    "start_time": "2022-07-30T17:52:54.991Z"
   },
   {
    "duration": 33,
    "start_time": "2022-07-30T17:52:55.033Z"
   },
   {
    "duration": 172,
    "start_time": "2022-07-30T17:52:55.068Z"
   },
   {
    "duration": 2076,
    "start_time": "2022-07-30T17:52:55.241Z"
   },
   {
    "duration": 215,
    "start_time": "2022-07-30T17:52:57.319Z"
   },
   {
    "duration": 252,
    "start_time": "2022-07-30T17:52:57.538Z"
   },
   {
    "duration": 8,
    "start_time": "2022-07-30T17:52:57.791Z"
   },
   {
    "duration": 232,
    "start_time": "2022-07-30T17:52:57.801Z"
   },
   {
    "duration": 9,
    "start_time": "2022-07-30T17:52:58.035Z"
   },
   {
    "duration": 313,
    "start_time": "2022-07-30T17:52:58.046Z"
   },
   {
    "duration": 9,
    "start_time": "2022-07-30T17:52:58.361Z"
   },
   {
    "duration": 157,
    "start_time": "2022-07-30T17:52:58.371Z"
   },
   {
    "duration": 8,
    "start_time": "2022-07-30T17:52:58.533Z"
   },
   {
    "duration": 154,
    "start_time": "2022-07-30T17:52:58.543Z"
   },
   {
    "duration": 8,
    "start_time": "2022-07-30T17:52:58.707Z"
   },
   {
    "duration": 182,
    "start_time": "2022-07-30T17:52:58.716Z"
   },
   {
    "duration": 9,
    "start_time": "2022-07-30T17:52:58.900Z"
   },
   {
    "duration": 191,
    "start_time": "2022-07-30T17:52:58.911Z"
   },
   {
    "duration": 8,
    "start_time": "2022-07-30T17:52:59.104Z"
   },
   {
    "duration": 24,
    "start_time": "2022-07-30T17:52:59.113Z"
   },
   {
    "duration": 8,
    "start_time": "2022-07-30T17:52:59.138Z"
   },
   {
    "duration": 11,
    "start_time": "2022-07-30T17:52:59.147Z"
   },
   {
    "duration": 9,
    "start_time": "2022-07-30T17:52:59.159Z"
   },
   {
    "duration": 310,
    "start_time": "2022-07-30T17:52:59.169Z"
   },
   {
    "duration": 157,
    "start_time": "2022-07-30T17:52:59.480Z"
   },
   {
    "duration": 208,
    "start_time": "2022-07-30T17:52:59.639Z"
   },
   {
    "duration": 276,
    "start_time": "2022-07-30T17:52:59.848Z"
   },
   {
    "duration": 172,
    "start_time": "2022-07-30T17:53:00.125Z"
   },
   {
    "duration": 136,
    "start_time": "2022-07-30T17:53:00.299Z"
   },
   {
    "duration": 143,
    "start_time": "2022-07-30T17:53:00.437Z"
   },
   {
    "duration": 387,
    "start_time": "2022-07-30T17:53:00.581Z"
   },
   {
    "duration": 481,
    "start_time": "2022-07-30T17:53:00.970Z"
   },
   {
    "duration": 262,
    "start_time": "2022-07-30T17:53:01.453Z"
   },
   {
    "duration": 246,
    "start_time": "2022-07-30T17:53:01.717Z"
   },
   {
    "duration": 1355,
    "start_time": "2022-07-30T17:53:01.965Z"
   },
   {
    "duration": 24,
    "start_time": "2022-07-30T17:53:03.322Z"
   },
   {
    "duration": 15,
    "start_time": "2022-07-30T17:53:03.347Z"
   },
   {
    "duration": 146,
    "start_time": "2022-07-30T17:53:03.364Z"
   },
   {
    "duration": 77,
    "start_time": "2022-08-01T11:38:12.477Z"
   },
   {
    "duration": 6,
    "start_time": "2022-08-01T11:38:13.056Z"
   },
   {
    "duration": 8,
    "start_time": "2022-08-01T11:38:17.662Z"
   },
   {
    "duration": 854,
    "start_time": "2022-08-01T11:38:26.617Z"
   },
   {
    "duration": 301,
    "start_time": "2022-08-01T11:38:27.706Z"
   },
   {
    "duration": 11,
    "start_time": "2022-08-01T11:38:28.470Z"
   },
   {
    "duration": 132,
    "start_time": "2022-08-01T11:38:30.286Z"
   },
   {
    "duration": 116,
    "start_time": "2022-08-01T11:38:31.897Z"
   },
   {
    "duration": 24,
    "start_time": "2022-08-01T11:38:32.384Z"
   },
   {
    "duration": 2481,
    "start_time": "2022-08-01T11:38:33.158Z"
   },
   {
    "duration": 12,
    "start_time": "2022-08-01T11:38:35.641Z"
   },
   {
    "duration": 5,
    "start_time": "2022-08-01T11:38:35.864Z"
   },
   {
    "duration": 4,
    "start_time": "2022-08-01T11:38:36.490Z"
   },
   {
    "duration": 1975,
    "start_time": "2022-08-01T11:38:49.269Z"
   },
   {
    "duration": 2,
    "start_time": "2022-08-01T11:43:00.909Z"
   },
   {
    "duration": 86,
    "start_time": "2022-08-01T11:43:01.896Z"
   },
   {
    "duration": 7,
    "start_time": "2022-08-01T11:43:02.568Z"
   },
   {
    "duration": 115,
    "start_time": "2022-08-01T11:43:03.971Z"
   },
   {
    "duration": 96,
    "start_time": "2022-08-01T11:43:04.712Z"
   },
   {
    "duration": 14,
    "start_time": "2022-08-01T11:43:05.242Z"
   },
   {
    "duration": 2127,
    "start_time": "2022-08-01T11:43:06.759Z"
   },
   {
    "duration": 2125,
    "start_time": "2022-08-01T11:43:59.464Z"
   },
   {
    "duration": 22,
    "start_time": "2022-08-01T11:52:43.353Z"
   },
   {
    "duration": 3,
    "start_time": "2022-08-01T11:52:53.175Z"
   },
   {
    "duration": 80,
    "start_time": "2022-08-01T11:52:53.343Z"
   },
   {
    "duration": 9,
    "start_time": "2022-08-01T11:52:53.551Z"
   },
   {
    "duration": 108,
    "start_time": "2022-08-01T11:52:53.859Z"
   },
   {
    "duration": 137,
    "start_time": "2022-08-01T11:52:54.195Z"
   },
   {
    "duration": 18,
    "start_time": "2022-08-01T11:52:54.412Z"
   },
   {
    "duration": 2171,
    "start_time": "2022-08-01T11:52:54.744Z"
   },
   {
    "duration": 16,
    "start_time": "2022-08-01T11:52:56.917Z"
   },
   {
    "duration": 23,
    "start_time": "2022-08-01T11:52:56.936Z"
   },
   {
    "duration": 6,
    "start_time": "2022-08-01T11:52:56.962Z"
   },
   {
    "duration": 7,
    "start_time": "2022-08-01T11:52:56.969Z"
   },
   {
    "duration": 6,
    "start_time": "2022-08-01T11:52:56.978Z"
   },
   {
    "duration": 6,
    "start_time": "2022-08-01T11:52:57.081Z"
   },
   {
    "duration": 10,
    "start_time": "2022-08-01T11:52:57.265Z"
   },
   {
    "duration": 1523,
    "start_time": "2022-08-01T11:52:57.604Z"
   },
   {
    "duration": 7,
    "start_time": "2022-08-01T11:52:59.134Z"
   },
   {
    "duration": 23,
    "start_time": "2022-08-01T11:52:59.142Z"
   },
   {
    "duration": 10,
    "start_time": "2022-08-01T11:53:00.291Z"
   },
   {
    "duration": 15,
    "start_time": "2022-08-01T11:53:02.052Z"
   },
   {
    "duration": 10,
    "start_time": "2022-08-01T11:53:03.269Z"
   },
   {
    "duration": 16,
    "start_time": "2022-08-01T11:53:03.868Z"
   },
   {
    "duration": 28,
    "start_time": "2022-08-01T11:53:04.468Z"
   },
   {
    "duration": 27,
    "start_time": "2022-08-01T11:53:06.210Z"
   },
   {
    "duration": 18,
    "start_time": "2022-08-01T11:53:07.651Z"
   },
   {
    "duration": 2569,
    "start_time": "2022-08-01T11:58:47.040Z"
   },
   {
    "duration": 67,
    "start_time": "2022-08-01T12:02:10.800Z"
   },
   {
    "duration": 87,
    "start_time": "2022-08-01T12:03:01.386Z"
   },
   {
    "duration": 27,
    "start_time": "2022-08-01T12:03:43.685Z"
   },
   {
    "duration": 13,
    "start_time": "2022-08-01T12:03:44.047Z"
   },
   {
    "duration": 171,
    "start_time": "2022-08-01T12:03:44.208Z"
   },
   {
    "duration": 2402,
    "start_time": "2022-08-01T12:03:44.746Z"
   },
   {
    "duration": 347,
    "start_time": "2022-08-01T12:03:47.154Z"
   },
   {
    "duration": 78,
    "start_time": "2022-08-01T12:03:47.503Z"
   },
   {
    "duration": 423,
    "start_time": "2022-08-01T12:03:51.242Z"
   },
   {
    "duration": 10,
    "start_time": "2022-08-01T12:03:53.236Z"
   },
   {
    "duration": 51,
    "start_time": "2022-08-01T12:04:09.757Z"
   },
   {
    "duration": 324,
    "start_time": "2022-08-01T12:06:49.802Z"
   },
   {
    "duration": 293,
    "start_time": "2022-08-01T12:07:07.408Z"
   },
   {
    "duration": 270,
    "start_time": "2022-08-01T12:14:20.101Z"
   },
   {
    "duration": 238,
    "start_time": "2022-08-01T12:14:28.954Z"
   },
   {
    "duration": 241,
    "start_time": "2022-08-01T12:15:25.012Z"
   },
   {
    "duration": 320,
    "start_time": "2022-08-01T12:15:32.862Z"
   },
   {
    "duration": 166,
    "start_time": "2022-08-01T12:15:40.599Z"
   },
   {
    "duration": 152,
    "start_time": "2022-08-01T12:15:48.902Z"
   },
   {
    "duration": 223,
    "start_time": "2022-08-01T12:15:57.243Z"
   },
   {
    "duration": 175,
    "start_time": "2022-08-01T12:16:04.645Z"
   },
   {
    "duration": 661,
    "start_time": "2022-08-01T12:29:59.748Z"
   },
   {
    "duration": 39,
    "start_time": "2022-08-01T12:30:14.860Z"
   },
   {
    "duration": 8,
    "start_time": "2022-08-01T12:30:19.646Z"
   },
   {
    "duration": 741,
    "start_time": "2022-08-01T12:32:13.178Z"
   },
   {
    "duration": 8,
    "start_time": "2022-08-01T12:42:18.149Z"
   },
   {
    "duration": 238,
    "start_time": "2022-08-01T12:42:30.195Z"
   },
   {
    "duration": 167,
    "start_time": "2022-08-01T12:42:54.831Z"
   },
   {
    "duration": 161,
    "start_time": "2022-08-01T12:51:30.552Z"
   },
   {
    "duration": 102,
    "start_time": "2022-08-01T13:05:30.220Z"
   },
   {
    "duration": 204,
    "start_time": "2022-08-01T13:09:24.447Z"
   },
   {
    "duration": 164,
    "start_time": "2022-08-01T13:10:23.939Z"
   },
   {
    "duration": 748,
    "start_time": "2022-08-01T15:31:50.513Z"
   },
   {
    "duration": 130,
    "start_time": "2022-08-01T15:31:51.262Z"
   },
   {
    "duration": 9,
    "start_time": "2022-08-01T15:31:51.394Z"
   },
   {
    "duration": 90,
    "start_time": "2022-08-01T15:31:51.405Z"
   },
   {
    "duration": 80,
    "start_time": "2022-08-01T15:31:51.502Z"
   },
   {
    "duration": 24,
    "start_time": "2022-08-01T15:31:51.584Z"
   },
   {
    "duration": 1707,
    "start_time": "2022-08-01T15:31:51.609Z"
   },
   {
    "duration": 8,
    "start_time": "2022-08-01T15:31:53.317Z"
   },
   {
    "duration": 45,
    "start_time": "2022-08-01T15:31:53.327Z"
   },
   {
    "duration": 4,
    "start_time": "2022-08-01T15:31:53.374Z"
   },
   {
    "duration": 5,
    "start_time": "2022-08-01T15:31:53.379Z"
   },
   {
    "duration": 7,
    "start_time": "2022-08-01T15:31:53.385Z"
   },
   {
    "duration": 9,
    "start_time": "2022-08-01T15:31:53.393Z"
   },
   {
    "duration": 9,
    "start_time": "2022-08-01T15:31:53.403Z"
   },
   {
    "duration": 7,
    "start_time": "2022-08-01T15:31:53.414Z"
   },
   {
    "duration": 1100,
    "start_time": "2022-08-01T15:31:53.422Z"
   },
   {
    "duration": 4,
    "start_time": "2022-08-01T15:31:54.523Z"
   },
   {
    "duration": 5,
    "start_time": "2022-08-01T15:31:54.528Z"
   },
   {
    "duration": 9,
    "start_time": "2022-08-01T15:31:54.534Z"
   },
   {
    "duration": 12,
    "start_time": "2022-08-01T15:31:54.544Z"
   },
   {
    "duration": 8,
    "start_time": "2022-08-01T15:31:54.557Z"
   },
   {
    "duration": 35,
    "start_time": "2022-08-01T15:31:54.567Z"
   },
   {
    "duration": 23,
    "start_time": "2022-08-01T15:31:54.603Z"
   },
   {
    "duration": 19,
    "start_time": "2022-08-01T15:31:54.627Z"
   },
   {
    "duration": 18,
    "start_time": "2022-08-01T15:31:54.648Z"
   },
   {
    "duration": 7,
    "start_time": "2022-08-01T15:31:54.667Z"
   },
   {
    "duration": 148,
    "start_time": "2022-08-01T15:31:54.676Z"
   },
   {
    "duration": 1920,
    "start_time": "2022-08-01T15:31:54.827Z"
   },
   {
    "duration": 203,
    "start_time": "2022-08-01T15:31:56.748Z"
   },
   {
    "duration": 228,
    "start_time": "2022-08-01T15:31:56.953Z"
   },
   {
    "duration": 224,
    "start_time": "2022-08-01T15:31:57.182Z"
   },
   {
    "duration": 10,
    "start_time": "2022-08-01T15:31:57.408Z"
   },
   {
    "duration": 364,
    "start_time": "2022-08-01T15:31:57.419Z"
   },
   {
    "duration": 18,
    "start_time": "2022-08-01T15:31:57.784Z"
   },
   {
    "duration": 215,
    "start_time": "2022-08-01T15:31:57.804Z"
   },
   {
    "duration": 8,
    "start_time": "2022-08-01T15:31:58.020Z"
   },
   {
    "duration": 149,
    "start_time": "2022-08-01T15:31:58.030Z"
   },
   {
    "duration": 142,
    "start_time": "2022-08-01T15:31:58.181Z"
   },
   {
    "duration": 9,
    "start_time": "2022-08-01T15:31:58.324Z"
   },
   {
    "duration": 148,
    "start_time": "2022-08-01T15:31:58.334Z"
   },
   {
    "duration": 8,
    "start_time": "2022-08-01T15:31:58.483Z"
   },
   {
    "duration": 167,
    "start_time": "2022-08-01T15:31:58.502Z"
   },
   {
    "duration": 7,
    "start_time": "2022-08-01T15:31:58.671Z"
   },
   {
    "duration": 155,
    "start_time": "2022-08-01T15:31:58.680Z"
   },
   {
    "duration": 8,
    "start_time": "2022-08-01T15:31:58.837Z"
   },
   {
    "duration": 12,
    "start_time": "2022-08-01T15:31:58.846Z"
   },
   {
    "duration": 7,
    "start_time": "2022-08-01T15:31:58.860Z"
   },
   {
    "duration": 9,
    "start_time": "2022-08-01T15:31:58.868Z"
   },
   {
    "duration": 29,
    "start_time": "2022-08-01T15:31:58.878Z"
   },
   {
    "duration": 325,
    "start_time": "2022-08-01T15:31:58.908Z"
   },
   {
    "duration": 147,
    "start_time": "2022-08-01T15:31:59.234Z"
   },
   {
    "duration": 194,
    "start_time": "2022-08-01T15:31:59.382Z"
   },
   {
    "duration": 145,
    "start_time": "2022-08-01T15:31:59.577Z"
   },
   {
    "duration": 155,
    "start_time": "2022-08-01T15:31:59.724Z"
   },
   {
    "duration": 125,
    "start_time": "2022-08-01T15:31:59.881Z"
   },
   {
    "duration": 137,
    "start_time": "2022-08-01T15:32:00.007Z"
   },
   {
    "duration": 354,
    "start_time": "2022-08-01T15:32:00.146Z"
   },
   {
    "duration": 483,
    "start_time": "2022-08-01T15:32:00.502Z"
   },
   {
    "duration": 243,
    "start_time": "2022-08-01T15:32:00.986Z"
   },
   {
    "duration": 234,
    "start_time": "2022-08-01T15:32:01.230Z"
   },
   {
    "duration": 1140,
    "start_time": "2022-08-01T15:32:01.466Z"
   },
   {
    "duration": 18,
    "start_time": "2022-08-01T15:32:02.607Z"
   },
   {
    "duration": 14,
    "start_time": "2022-08-01T15:32:02.626Z"
   },
   {
    "duration": 144,
    "start_time": "2022-08-01T15:32:02.642Z"
   },
   {
    "duration": 402,
    "start_time": "2022-08-01T15:47:03.664Z"
   },
   {
    "duration": 132,
    "start_time": "2022-08-01T15:48:41.316Z"
   },
   {
    "duration": 736,
    "start_time": "2022-08-01T15:48:56.986Z"
   },
   {
    "duration": 169,
    "start_time": "2022-08-01T15:56:06.961Z"
   },
   {
    "duration": 129,
    "start_time": "2022-08-01T16:21:41.187Z"
   },
   {
    "duration": 860,
    "start_time": "2022-08-01T18:07:41.045Z"
   },
   {
    "duration": 340,
    "start_time": "2022-08-01T18:07:41.907Z"
   },
   {
    "duration": 11,
    "start_time": "2022-08-01T18:07:42.248Z"
   },
   {
    "duration": 125,
    "start_time": "2022-08-01T18:07:42.261Z"
   },
   {
    "duration": 104,
    "start_time": "2022-08-01T18:07:42.388Z"
   },
   {
    "duration": 15,
    "start_time": "2022-08-01T18:07:42.494Z"
   },
   {
    "duration": 2301,
    "start_time": "2022-08-01T18:07:42.511Z"
   },
   {
    "duration": 14,
    "start_time": "2022-08-01T18:07:44.815Z"
   },
   {
    "duration": 60,
    "start_time": "2022-08-01T18:07:44.831Z"
   },
   {
    "duration": 5,
    "start_time": "2022-08-01T18:07:44.894Z"
   },
   {
    "duration": 9,
    "start_time": "2022-08-01T18:07:44.901Z"
   },
   {
    "duration": 10,
    "start_time": "2022-08-01T18:07:44.912Z"
   },
   {
    "duration": 8,
    "start_time": "2022-08-01T18:07:44.924Z"
   },
   {
    "duration": 7,
    "start_time": "2022-08-01T18:07:44.934Z"
   },
   {
    "duration": 22,
    "start_time": "2022-08-01T18:07:44.943Z"
   },
   {
    "duration": 1411,
    "start_time": "2022-08-01T18:07:44.966Z"
   },
   {
    "duration": 6,
    "start_time": "2022-08-01T18:07:46.380Z"
   },
   {
    "duration": 17,
    "start_time": "2022-08-01T18:07:46.388Z"
   },
   {
    "duration": 21,
    "start_time": "2022-08-01T18:07:46.408Z"
   },
   {
    "duration": 30,
    "start_time": "2022-08-01T18:07:46.431Z"
   },
   {
    "duration": 13,
    "start_time": "2022-08-01T18:07:46.463Z"
   },
   {
    "duration": 36,
    "start_time": "2022-08-01T18:07:46.479Z"
   },
   {
    "duration": 34,
    "start_time": "2022-08-01T18:07:46.517Z"
   },
   {
    "duration": 54,
    "start_time": "2022-08-01T18:07:46.552Z"
   },
   {
    "duration": 25,
    "start_time": "2022-08-01T18:07:46.608Z"
   },
   {
    "duration": 43,
    "start_time": "2022-08-01T18:07:46.635Z"
   },
   {
    "duration": 173,
    "start_time": "2022-08-01T18:07:46.681Z"
   },
   {
    "duration": 2258,
    "start_time": "2022-08-01T18:07:46.860Z"
   },
   {
    "duration": 232,
    "start_time": "2022-08-01T18:07:49.120Z"
   },
   {
    "duration": 289,
    "start_time": "2022-08-01T18:07:49.354Z"
   },
   {
    "duration": 260,
    "start_time": "2022-08-01T18:07:49.645Z"
   },
   {
    "duration": 9,
    "start_time": "2022-08-01T18:07:49.907Z"
   },
   {
    "duration": 368,
    "start_time": "2022-08-01T18:07:49.918Z"
   },
   {
    "duration": 10,
    "start_time": "2022-08-01T18:07:50.287Z"
   },
   {
    "duration": 247,
    "start_time": "2022-08-01T18:07:50.299Z"
   },
   {
    "duration": 15,
    "start_time": "2022-08-01T18:07:50.548Z"
   },
   {
    "duration": 195,
    "start_time": "2022-08-01T18:07:50.565Z"
   },
   {
    "duration": 168,
    "start_time": "2022-08-01T18:07:50.763Z"
   },
   {
    "duration": 9,
    "start_time": "2022-08-01T18:07:50.932Z"
   },
   {
    "duration": 170,
    "start_time": "2022-08-01T18:07:50.943Z"
   },
   {
    "duration": 10,
    "start_time": "2022-08-01T18:07:51.115Z"
   },
   {
    "duration": 225,
    "start_time": "2022-08-01T18:07:51.127Z"
   },
   {
    "duration": 14,
    "start_time": "2022-08-01T18:07:51.354Z"
   },
   {
    "duration": 208,
    "start_time": "2022-08-01T18:07:51.370Z"
   },
   {
    "duration": 9,
    "start_time": "2022-08-01T18:07:51.580Z"
   },
   {
    "duration": 11,
    "start_time": "2022-08-01T18:07:51.591Z"
   },
   {
    "duration": 9,
    "start_time": "2022-08-01T18:07:51.603Z"
   },
   {
    "duration": 12,
    "start_time": "2022-08-01T18:07:51.613Z"
   },
   {
    "duration": 40,
    "start_time": "2022-08-01T18:07:51.627Z"
   },
   {
    "duration": 392,
    "start_time": "2022-08-01T18:07:51.669Z"
   },
   {
    "duration": 170,
    "start_time": "2022-08-01T18:07:52.063Z"
   },
   {
    "duration": 226,
    "start_time": "2022-08-01T18:07:52.235Z"
   },
   {
    "duration": 176,
    "start_time": "2022-08-01T18:07:52.462Z"
   },
   {
    "duration": 213,
    "start_time": "2022-08-01T18:07:52.640Z"
   },
   {
    "duration": 181,
    "start_time": "2022-08-01T18:07:52.860Z"
   },
   {
    "duration": 162,
    "start_time": "2022-08-01T18:07:53.043Z"
   },
   {
    "duration": 434,
    "start_time": "2022-08-01T18:07:53.207Z"
   },
   {
    "duration": 580,
    "start_time": "2022-08-01T18:07:53.642Z"
   },
   {
    "duration": 280,
    "start_time": "2022-08-01T18:07:54.223Z"
   },
   {
    "duration": 273,
    "start_time": "2022-08-01T18:07:54.504Z"
   },
   {
    "duration": 717,
    "start_time": "2022-08-01T18:07:54.778Z"
   },
   {
    "duration": 232,
    "start_time": "2022-08-01T18:07:55.497Z"
   },
   {
    "duration": 436,
    "start_time": "2022-08-01T18:07:55.731Z"
   },
   {
    "duration": 258,
    "start_time": "2022-08-01T18:07:56.168Z"
   },
   {
    "duration": 34,
    "start_time": "2022-08-01T18:07:56.428Z"
   },
   {
    "duration": 23,
    "start_time": "2022-08-01T18:07:56.464Z"
   },
   {
    "duration": 183,
    "start_time": "2022-08-01T18:07:56.489Z"
   },
   {
    "duration": 662,
    "start_time": "2022-08-01T18:10:42.171Z"
   },
   {
    "duration": 83,
    "start_time": "2022-08-01T18:10:42.835Z"
   },
   {
    "duration": 10,
    "start_time": "2022-08-01T18:10:42.920Z"
   },
   {
    "duration": 129,
    "start_time": "2022-08-01T18:10:42.932Z"
   },
   {
    "duration": 108,
    "start_time": "2022-08-01T18:10:43.064Z"
   },
   {
    "duration": 21,
    "start_time": "2022-08-01T18:10:43.174Z"
   },
   {
    "duration": 1903,
    "start_time": "2022-08-01T18:10:43.197Z"
   },
   {
    "duration": 10,
    "start_time": "2022-08-01T18:10:45.102Z"
   },
   {
    "duration": 52,
    "start_time": "2022-08-01T18:10:45.113Z"
   },
   {
    "duration": 5,
    "start_time": "2022-08-01T18:10:45.167Z"
   },
   {
    "duration": 7,
    "start_time": "2022-08-01T18:10:45.173Z"
   },
   {
    "duration": 8,
    "start_time": "2022-08-01T18:10:45.182Z"
   },
   {
    "duration": 7,
    "start_time": "2022-08-01T18:10:45.192Z"
   },
   {
    "duration": 7,
    "start_time": "2022-08-01T18:10:45.201Z"
   },
   {
    "duration": 12,
    "start_time": "2022-08-01T18:10:45.210Z"
   },
   {
    "duration": 1382,
    "start_time": "2022-08-01T18:10:45.224Z"
   },
   {
    "duration": 7,
    "start_time": "2022-08-01T18:10:46.608Z"
   },
   {
    "duration": 12,
    "start_time": "2022-08-01T18:10:46.617Z"
   },
   {
    "duration": 11,
    "start_time": "2022-08-01T18:10:46.631Z"
   },
   {
    "duration": 23,
    "start_time": "2022-08-01T18:10:46.644Z"
   },
   {
    "duration": 11,
    "start_time": "2022-08-01T18:10:46.668Z"
   },
   {
    "duration": 16,
    "start_time": "2022-08-01T18:10:46.681Z"
   },
   {
    "duration": 34,
    "start_time": "2022-08-01T18:10:46.699Z"
   },
   {
    "duration": 36,
    "start_time": "2022-08-01T18:10:46.734Z"
   },
   {
    "duration": 17,
    "start_time": "2022-08-01T18:10:46.772Z"
   },
   {
    "duration": 9,
    "start_time": "2022-08-01T18:10:46.791Z"
   },
   {
    "duration": 170,
    "start_time": "2022-08-01T18:10:46.801Z"
   },
   {
    "duration": 2144,
    "start_time": "2022-08-01T18:10:46.975Z"
   },
   {
    "duration": 226,
    "start_time": "2022-08-01T18:10:49.120Z"
   },
   {
    "duration": 259,
    "start_time": "2022-08-01T18:10:49.347Z"
   },
   {
    "duration": 240,
    "start_time": "2022-08-01T18:10:49.608Z"
   },
   {
    "duration": 17,
    "start_time": "2022-08-01T18:10:49.849Z"
   },
   {
    "duration": 365,
    "start_time": "2022-08-01T18:10:49.867Z"
   },
   {
    "duration": 9,
    "start_time": "2022-08-01T18:10:50.234Z"
   },
   {
    "duration": 244,
    "start_time": "2022-08-01T18:10:50.244Z"
   },
   {
    "duration": 9,
    "start_time": "2022-08-01T18:10:50.491Z"
   },
   {
    "duration": 160,
    "start_time": "2022-08-01T18:10:50.502Z"
   },
   {
    "duration": 173,
    "start_time": "2022-08-01T18:10:50.664Z"
   },
   {
    "duration": 9,
    "start_time": "2022-08-01T18:10:50.839Z"
   },
   {
    "duration": 145,
    "start_time": "2022-08-01T18:10:50.859Z"
   },
   {
    "duration": 8,
    "start_time": "2022-08-01T18:10:51.005Z"
   },
   {
    "duration": 187,
    "start_time": "2022-08-01T18:10:51.015Z"
   },
   {
    "duration": 10,
    "start_time": "2022-08-01T18:10:51.204Z"
   },
   {
    "duration": 178,
    "start_time": "2022-08-01T18:10:51.215Z"
   },
   {
    "duration": 9,
    "start_time": "2022-08-01T18:10:51.395Z"
   },
   {
    "duration": 11,
    "start_time": "2022-08-01T18:10:51.406Z"
   },
   {
    "duration": 10,
    "start_time": "2022-08-01T18:10:51.418Z"
   },
   {
    "duration": 35,
    "start_time": "2022-08-01T18:10:51.429Z"
   },
   {
    "duration": 8,
    "start_time": "2022-08-01T18:10:51.466Z"
   },
   {
    "duration": 386,
    "start_time": "2022-08-01T18:10:51.476Z"
   },
   {
    "duration": 170,
    "start_time": "2022-08-01T18:10:51.864Z"
   },
   {
    "duration": 214,
    "start_time": "2022-08-01T18:10:52.036Z"
   },
   {
    "duration": 158,
    "start_time": "2022-08-01T18:10:52.252Z"
   },
   {
    "duration": 173,
    "start_time": "2022-08-01T18:10:52.412Z"
   },
   {
    "duration": 146,
    "start_time": "2022-08-01T18:10:52.586Z"
   },
   {
    "duration": 168,
    "start_time": "2022-08-01T18:10:52.734Z"
   },
   {
    "duration": 378,
    "start_time": "2022-08-01T18:10:52.903Z"
   },
   {
    "duration": 555,
    "start_time": "2022-08-01T18:10:53.283Z"
   },
   {
    "duration": 276,
    "start_time": "2022-08-01T18:10:53.840Z"
   },
   {
    "duration": 270,
    "start_time": "2022-08-01T18:10:54.118Z"
   },
   {
    "duration": 642,
    "start_time": "2022-08-01T18:10:54.390Z"
   },
   {
    "duration": 265,
    "start_time": "2022-08-01T18:10:55.034Z"
   },
   {
    "duration": 428,
    "start_time": "2022-08-01T18:10:55.302Z"
   },
   {
    "duration": 199,
    "start_time": "2022-08-01T18:10:55.732Z"
   },
   {
    "duration": 29,
    "start_time": "2022-08-01T18:10:55.933Z"
   },
   {
    "duration": 19,
    "start_time": "2022-08-01T18:10:55.964Z"
   },
   {
    "duration": 167,
    "start_time": "2022-08-01T18:10:55.985Z"
   },
   {
    "duration": 2712,
    "start_time": "2022-08-01T18:10:56.163Z"
   },
   {
    "duration": 660,
    "start_time": "2022-08-01T18:11:02.512Z"
   },
   {
    "duration": 86,
    "start_time": "2022-08-01T18:11:03.173Z"
   },
   {
    "duration": 10,
    "start_time": "2022-08-01T18:11:03.261Z"
   },
   {
    "duration": 115,
    "start_time": "2022-08-01T18:11:03.274Z"
   },
   {
    "duration": 103,
    "start_time": "2022-08-01T18:11:03.390Z"
   },
   {
    "duration": 15,
    "start_time": "2022-08-01T18:11:03.494Z"
   },
   {
    "duration": 2017,
    "start_time": "2022-08-01T18:11:03.511Z"
   },
   {
    "duration": 12,
    "start_time": "2022-08-01T18:11:05.529Z"
   },
   {
    "duration": 54,
    "start_time": "2022-08-01T18:11:05.543Z"
   },
   {
    "duration": 4,
    "start_time": "2022-08-01T18:11:05.600Z"
   },
   {
    "duration": 7,
    "start_time": "2022-08-01T18:11:05.606Z"
   },
   {
    "duration": 10,
    "start_time": "2022-08-01T18:11:05.615Z"
   },
   {
    "duration": 7,
    "start_time": "2022-08-01T18:11:05.627Z"
   },
   {
    "duration": 8,
    "start_time": "2022-08-01T18:11:05.636Z"
   },
   {
    "duration": 23,
    "start_time": "2022-08-01T18:11:05.645Z"
   },
   {
    "duration": 1485,
    "start_time": "2022-08-01T18:11:05.670Z"
   },
   {
    "duration": 4,
    "start_time": "2022-08-01T18:11:07.157Z"
   },
   {
    "duration": 11,
    "start_time": "2022-08-01T18:11:07.163Z"
   },
   {
    "duration": 11,
    "start_time": "2022-08-01T18:11:07.175Z"
   },
   {
    "duration": 21,
    "start_time": "2022-08-01T18:11:07.188Z"
   },
   {
    "duration": 10,
    "start_time": "2022-08-01T18:11:07.211Z"
   },
   {
    "duration": 17,
    "start_time": "2022-08-01T18:11:07.223Z"
   },
   {
    "duration": 25,
    "start_time": "2022-08-01T18:11:07.261Z"
   },
   {
    "duration": 20,
    "start_time": "2022-08-01T18:11:07.288Z"
   },
   {
    "duration": 17,
    "start_time": "2022-08-01T18:11:07.310Z"
   },
   {
    "duration": 37,
    "start_time": "2022-08-01T18:11:07.329Z"
   },
   {
    "duration": 152,
    "start_time": "2022-08-01T18:11:07.367Z"
   },
   {
    "duration": 2204,
    "start_time": "2022-08-01T18:11:07.523Z"
   },
   {
    "duration": 227,
    "start_time": "2022-08-01T18:11:09.729Z"
   },
   {
    "duration": 261,
    "start_time": "2022-08-01T18:11:09.957Z"
   },
   {
    "duration": 237,
    "start_time": "2022-08-01T18:11:10.220Z"
   },
   {
    "duration": 10,
    "start_time": "2022-08-01T18:11:10.458Z"
   },
   {
    "duration": 367,
    "start_time": "2022-08-01T18:11:10.470Z"
   },
   {
    "duration": 9,
    "start_time": "2022-08-01T18:11:10.839Z"
   },
   {
    "duration": 227,
    "start_time": "2022-08-01T18:11:10.862Z"
   },
   {
    "duration": 8,
    "start_time": "2022-08-01T18:11:11.091Z"
   },
   {
    "duration": 162,
    "start_time": "2022-08-01T18:11:11.101Z"
   },
   {
    "duration": 161,
    "start_time": "2022-08-01T18:11:11.265Z"
   },
   {
    "duration": 8,
    "start_time": "2022-08-01T18:11:11.428Z"
   },
   {
    "duration": 164,
    "start_time": "2022-08-01T18:11:11.437Z"
   },
   {
    "duration": 8,
    "start_time": "2022-08-01T18:11:11.602Z"
   },
   {
    "duration": 211,
    "start_time": "2022-08-01T18:11:11.612Z"
   },
   {
    "duration": 9,
    "start_time": "2022-08-01T18:11:11.825Z"
   },
   {
    "duration": 181,
    "start_time": "2022-08-01T18:11:11.835Z"
   },
   {
    "duration": 9,
    "start_time": "2022-08-01T18:11:12.018Z"
   },
   {
    "duration": 11,
    "start_time": "2022-08-01T18:11:12.028Z"
   },
   {
    "duration": 27,
    "start_time": "2022-08-01T18:11:12.041Z"
   },
   {
    "duration": 13,
    "start_time": "2022-08-01T18:11:12.069Z"
   },
   {
    "duration": 27,
    "start_time": "2022-08-01T18:11:12.084Z"
   },
   {
    "duration": 374,
    "start_time": "2022-08-01T18:11:12.113Z"
   },
   {
    "duration": 171,
    "start_time": "2022-08-01T18:11:12.489Z"
   },
   {
    "duration": 228,
    "start_time": "2022-08-01T18:11:12.662Z"
   },
   {
    "duration": 158,
    "start_time": "2022-08-01T18:11:12.892Z"
   },
   {
    "duration": 177,
    "start_time": "2022-08-01T18:11:13.052Z"
   },
   {
    "duration": 143,
    "start_time": "2022-08-01T18:11:13.230Z"
   },
   {
    "duration": 148,
    "start_time": "2022-08-01T18:11:13.374Z"
   },
   {
    "duration": 396,
    "start_time": "2022-08-01T18:11:13.524Z"
   },
   {
    "duration": 556,
    "start_time": "2022-08-01T18:11:13.922Z"
   },
   {
    "duration": 289,
    "start_time": "2022-08-01T18:11:14.480Z"
   },
   {
    "duration": 265,
    "start_time": "2022-08-01T18:11:14.771Z"
   },
   {
    "duration": 668,
    "start_time": "2022-08-01T18:11:15.038Z"
   },
   {
    "duration": 226,
    "start_time": "2022-08-01T18:11:15.708Z"
   },
   {
    "duration": 491,
    "start_time": "2022-08-01T18:11:15.935Z"
   },
   {
    "duration": 219,
    "start_time": "2022-08-01T18:11:16.428Z"
   },
   {
    "duration": 25,
    "start_time": "2022-08-01T18:11:16.649Z"
   },
   {
    "duration": 18,
    "start_time": "2022-08-01T18:11:16.675Z"
   },
   {
    "duration": 167,
    "start_time": "2022-08-01T18:11:16.695Z"
   },
   {
    "duration": 738,
    "start_time": "2023-02-05T18:51:33.484Z"
   },
   {
    "duration": 107,
    "start_time": "2023-02-05T18:51:34.224Z"
   },
   {
    "duration": 14,
    "start_time": "2023-02-05T18:51:34.333Z"
   },
   {
    "duration": 155,
    "start_time": "2023-02-05T18:51:34.351Z"
   },
   {
    "duration": 163,
    "start_time": "2023-02-05T18:51:34.509Z"
   },
   {
    "duration": 18,
    "start_time": "2023-02-05T18:51:34.674Z"
   },
   {
    "duration": 2297,
    "start_time": "2023-02-05T18:51:34.695Z"
   },
   {
    "duration": 10,
    "start_time": "2023-02-05T18:51:36.994Z"
   },
   {
    "duration": 66,
    "start_time": "2023-02-05T18:51:37.005Z"
   },
   {
    "duration": 5,
    "start_time": "2023-02-05T18:51:37.074Z"
   },
   {
    "duration": 8,
    "start_time": "2023-02-05T18:51:37.080Z"
   },
   {
    "duration": 10,
    "start_time": "2023-02-05T18:51:37.089Z"
   },
   {
    "duration": 20,
    "start_time": "2023-02-05T18:51:37.101Z"
   },
   {
    "duration": 6,
    "start_time": "2023-02-05T18:51:37.129Z"
   },
   {
    "duration": 22,
    "start_time": "2023-02-05T18:51:37.137Z"
   },
   {
    "duration": 1357,
    "start_time": "2023-02-05T18:51:37.161Z"
   },
   {
    "duration": 7,
    "start_time": "2023-02-05T18:51:38.520Z"
   },
   {
    "duration": 19,
    "start_time": "2023-02-05T18:51:38.529Z"
   },
   {
    "duration": 11,
    "start_time": "2023-02-05T18:51:38.549Z"
   },
   {
    "duration": 14,
    "start_time": "2023-02-05T18:51:38.562Z"
   },
   {
    "duration": 11,
    "start_time": "2023-02-05T18:51:38.578Z"
   },
   {
    "duration": 44,
    "start_time": "2023-02-05T18:51:38.591Z"
   },
   {
    "duration": 25,
    "start_time": "2023-02-05T18:51:38.637Z"
   },
   {
    "duration": 22,
    "start_time": "2023-02-05T18:51:38.664Z"
   },
   {
    "duration": 16,
    "start_time": "2023-02-05T18:51:38.687Z"
   },
   {
    "duration": 30,
    "start_time": "2023-02-05T18:51:38.705Z"
   },
   {
    "duration": 153,
    "start_time": "2023-02-05T18:51:38.737Z"
   },
   {
    "duration": 2338,
    "start_time": "2023-02-05T18:51:38.894Z"
   },
   {
    "duration": 255,
    "start_time": "2023-02-05T18:51:41.234Z"
   },
   {
    "duration": 285,
    "start_time": "2023-02-05T18:51:41.490Z"
   },
   {
    "duration": 260,
    "start_time": "2023-02-05T18:51:41.777Z"
   },
   {
    "duration": 8,
    "start_time": "2023-02-05T18:51:42.040Z"
   },
   {
    "duration": 388,
    "start_time": "2023-02-05T18:51:42.050Z"
   },
   {
    "duration": 9,
    "start_time": "2023-02-05T18:51:42.440Z"
   },
   {
    "duration": 259,
    "start_time": "2023-02-05T18:51:42.451Z"
   },
   {
    "duration": 21,
    "start_time": "2023-02-05T18:51:42.712Z"
   },
   {
    "duration": 200,
    "start_time": "2023-02-05T18:51:42.735Z"
   },
   {
    "duration": 196,
    "start_time": "2023-02-05T18:51:42.938Z"
   },
   {
    "duration": 9,
    "start_time": "2023-02-05T18:51:43.136Z"
   },
   {
    "duration": 186,
    "start_time": "2023-02-05T18:51:43.147Z"
   },
   {
    "duration": 11,
    "start_time": "2023-02-05T18:51:43.335Z"
   },
   {
    "duration": 241,
    "start_time": "2023-02-05T18:51:43.348Z"
   },
   {
    "duration": 11,
    "start_time": "2023-02-05T18:51:43.591Z"
   },
   {
    "duration": 205,
    "start_time": "2023-02-05T18:51:43.604Z"
   },
   {
    "duration": 24,
    "start_time": "2023-02-05T18:51:43.811Z"
   },
   {
    "duration": 12,
    "start_time": "2023-02-05T18:51:43.837Z"
   },
   {
    "duration": 8,
    "start_time": "2023-02-05T18:51:43.851Z"
   },
   {
    "duration": 12,
    "start_time": "2023-02-05T18:51:43.861Z"
   },
   {
    "duration": 9,
    "start_time": "2023-02-05T18:51:43.875Z"
   },
   {
    "duration": 424,
    "start_time": "2023-02-05T18:51:43.886Z"
   },
   {
    "duration": 206,
    "start_time": "2023-02-05T18:51:44.313Z"
   },
   {
    "duration": 277,
    "start_time": "2023-02-05T18:51:44.520Z"
   },
   {
    "duration": 248,
    "start_time": "2023-02-05T18:51:44.799Z"
   },
   {
    "duration": 221,
    "start_time": "2023-02-05T18:51:45.049Z"
   },
   {
    "duration": 171,
    "start_time": "2023-02-05T18:51:45.272Z"
   },
   {
    "duration": 164,
    "start_time": "2023-02-05T18:51:45.444Z"
   },
   {
    "duration": 421,
    "start_time": "2023-02-05T18:51:45.610Z"
   },
   {
    "duration": 591,
    "start_time": "2023-02-05T18:51:46.034Z"
   },
   {
    "duration": 275,
    "start_time": "2023-02-05T18:51:46.635Z"
   },
   {
    "duration": 279,
    "start_time": "2023-02-05T18:51:46.921Z"
   },
   {
    "duration": 706,
    "start_time": "2023-02-05T18:51:47.202Z"
   },
   {
    "duration": 223,
    "start_time": "2023-02-05T18:51:47.912Z"
   },
   {
    "duration": 440,
    "start_time": "2023-02-05T18:51:48.138Z"
   },
   {
    "duration": 201,
    "start_time": "2023-02-05T18:51:48.580Z"
   },
   {
    "duration": 20,
    "start_time": "2023-02-05T18:51:48.783Z"
   },
   {
    "duration": 35,
    "start_time": "2023-02-05T18:51:48.805Z"
   },
   {
    "duration": 161,
    "start_time": "2023-02-05T18:51:48.842Z"
   },
   {
    "duration": 662,
    "start_time": "2023-02-05T19:06:52.796Z"
   },
   {
    "duration": 94,
    "start_time": "2023-02-05T19:06:53.460Z"
   },
   {
    "duration": 10,
    "start_time": "2023-02-05T19:06:53.556Z"
   },
   {
    "duration": 111,
    "start_time": "2023-02-05T19:06:53.569Z"
   },
   {
    "duration": 102,
    "start_time": "2023-02-05T19:06:53.681Z"
   },
   {
    "duration": 15,
    "start_time": "2023-02-05T19:06:53.784Z"
   },
   {
    "duration": 2115,
    "start_time": "2023-02-05T19:06:53.801Z"
   },
   {
    "duration": 16,
    "start_time": "2023-02-05T19:06:55.918Z"
   },
   {
    "duration": 50,
    "start_time": "2023-02-05T19:06:55.936Z"
   },
   {
    "duration": 5,
    "start_time": "2023-02-05T19:06:55.988Z"
   },
   {
    "duration": 6,
    "start_time": "2023-02-05T19:06:55.994Z"
   },
   {
    "duration": 32,
    "start_time": "2023-02-05T19:06:56.002Z"
   },
   {
    "duration": 6,
    "start_time": "2023-02-05T19:06:56.037Z"
   },
   {
    "duration": 5,
    "start_time": "2023-02-05T19:06:56.045Z"
   },
   {
    "duration": 11,
    "start_time": "2023-02-05T19:06:56.052Z"
   },
   {
    "duration": 1344,
    "start_time": "2023-02-05T19:06:56.065Z"
   },
   {
    "duration": 4,
    "start_time": "2023-02-05T19:06:57.411Z"
   },
   {
    "duration": 15,
    "start_time": "2023-02-05T19:06:57.416Z"
   },
   {
    "duration": 12,
    "start_time": "2023-02-05T19:06:57.433Z"
   },
   {
    "duration": 13,
    "start_time": "2023-02-05T19:06:57.447Z"
   },
   {
    "duration": 9,
    "start_time": "2023-02-05T19:06:57.463Z"
   },
   {
    "duration": 12,
    "start_time": "2023-02-05T19:06:57.474Z"
   },
   {
    "duration": 49,
    "start_time": "2023-02-05T19:06:57.487Z"
   },
   {
    "duration": 18,
    "start_time": "2023-02-05T19:06:57.538Z"
   },
   {
    "duration": 17,
    "start_time": "2023-02-05T19:06:57.558Z"
   },
   {
    "duration": 8,
    "start_time": "2023-02-05T19:06:57.576Z"
   },
   {
    "duration": 187,
    "start_time": "2023-02-05T19:06:57.586Z"
   },
   {
    "duration": 2315,
    "start_time": "2023-02-05T19:06:57.776Z"
   },
   {
    "duration": 274,
    "start_time": "2023-02-05T19:07:00.093Z"
   },
   {
    "duration": 349,
    "start_time": "2023-02-05T19:07:00.369Z"
   },
   {
    "duration": 266,
    "start_time": "2023-02-05T19:07:00.731Z"
   },
   {
    "duration": 37,
    "start_time": "2023-02-05T19:07:00.999Z"
   },
   {
    "duration": 440,
    "start_time": "2023-02-05T19:07:01.038Z"
   },
   {
    "duration": 8,
    "start_time": "2023-02-05T19:07:01.480Z"
   },
   {
    "duration": 252,
    "start_time": "2023-02-05T19:07:01.490Z"
   },
   {
    "duration": 9,
    "start_time": "2023-02-05T19:07:01.743Z"
   },
   {
    "duration": 179,
    "start_time": "2023-02-05T19:07:01.754Z"
   },
   {
    "duration": 168,
    "start_time": "2023-02-05T19:07:01.935Z"
   },
   {
    "duration": 8,
    "start_time": "2023-02-05T19:07:02.105Z"
   },
   {
    "duration": 171,
    "start_time": "2023-02-05T19:07:02.132Z"
   },
   {
    "duration": 9,
    "start_time": "2023-02-05T19:07:02.305Z"
   },
   {
    "duration": 281,
    "start_time": "2023-02-05T19:07:02.315Z"
   },
   {
    "duration": 10,
    "start_time": "2023-02-05T19:07:02.597Z"
   },
   {
    "duration": 228,
    "start_time": "2023-02-05T19:07:02.609Z"
   },
   {
    "duration": 8,
    "start_time": "2023-02-05T19:07:02.839Z"
   },
   {
    "duration": 17,
    "start_time": "2023-02-05T19:07:02.849Z"
   },
   {
    "duration": 15,
    "start_time": "2023-02-05T19:07:02.868Z"
   },
   {
    "duration": 25,
    "start_time": "2023-02-05T19:07:02.884Z"
   },
   {
    "duration": 29,
    "start_time": "2023-02-05T19:07:02.911Z"
   },
   {
    "duration": 391,
    "start_time": "2023-02-05T19:07:02.942Z"
   },
   {
    "duration": 173,
    "start_time": "2023-02-05T19:07:03.334Z"
   },
   {
    "duration": 240,
    "start_time": "2023-02-05T19:07:03.509Z"
   },
   {
    "duration": 158,
    "start_time": "2023-02-05T19:07:03.751Z"
   },
   {
    "duration": 202,
    "start_time": "2023-02-05T19:07:03.912Z"
   },
   {
    "duration": 136,
    "start_time": "2023-02-05T19:07:04.121Z"
   },
   {
    "duration": 179,
    "start_time": "2023-02-05T19:07:04.259Z"
   },
   {
    "duration": 510,
    "start_time": "2023-02-05T19:07:04.440Z"
   },
   {
    "duration": 626,
    "start_time": "2023-02-05T19:07:04.952Z"
   },
   {
    "duration": 278,
    "start_time": "2023-02-05T19:07:05.581Z"
   },
   {
    "duration": 281,
    "start_time": "2023-02-05T19:07:05.861Z"
   },
   {
    "duration": 672,
    "start_time": "2023-02-05T19:07:06.144Z"
   },
   {
    "duration": 225,
    "start_time": "2023-02-05T19:07:06.821Z"
   },
   {
    "duration": 404,
    "start_time": "2023-02-05T19:07:07.048Z"
   },
   {
    "duration": 187,
    "start_time": "2023-02-05T19:07:07.454Z"
   },
   {
    "duration": 19,
    "start_time": "2023-02-05T19:07:07.643Z"
   },
   {
    "duration": 16,
    "start_time": "2023-02-05T19:07:07.663Z"
   },
   {
    "duration": 173,
    "start_time": "2023-02-05T19:07:07.681Z"
   }
  ],
  "kernelspec": {
   "display_name": "Python 3 (ipykernel)",
   "language": "python",
   "name": "python3"
  },
  "language_info": {
   "codemirror_mode": {
    "name": "ipython",
    "version": 3
   },
   "file_extension": ".py",
   "mimetype": "text/x-python",
   "name": "python",
   "nbconvert_exporter": "python",
   "pygments_lexer": "ipython3",
   "version": "3.9.5"
  },
  "toc": {
   "base_numbering": 1,
   "nav_menu": {},
   "number_sections": true,
   "sideBar": true,
   "skip_h1_title": true,
   "title_cell": "Table of Contents",
   "title_sidebar": "Contents",
   "toc_cell": false,
   "toc_position": {
    "height": "calc(100% - 180px)",
    "left": "10px",
    "top": "150px",
    "width": "165px"
   },
   "toc_section_display": true,
   "toc_window_display": true
  }
 },
 "nbformat": 4,
 "nbformat_minor": 2
}
