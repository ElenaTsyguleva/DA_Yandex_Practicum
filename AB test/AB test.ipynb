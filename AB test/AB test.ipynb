{
 "cells": [
  {
   "cell_type": "markdown",
   "metadata": {},
   "source": [
    "**Анализ в online-магазине - приоритизация гипотез и A/B тест**\n",
    "\n",
    "\n",
    "**Описание проекта**\n",
    "\n",
    "Я — аналитик крупного интернет-магазина. Вместе с отделом маркетинга мы подготовили список гипотез для увеличения выручки.\n",
    "Приоритизируем гипотезы, запустим A/B-тест и проанализируем результаты. \n",
    "\n",
    "Данные для первой части\n",
    "Файл /datasets/hypothesis.csv. \n",
    "\n",
    "    Hypothesis — краткое описание гипотезы;\n",
    "    Reach — охват пользователей по 10-балльной шкале;\n",
    "    Impact — влияние на пользователей по 10-балльной шкале;\n",
    "    Confidence — уверенность в гипотезе по 10-балльной шкале;\n",
    "    Efforts — затраты ресурсов на проверку гипотезы по 10-балльной шкале. Чем больше значение Efforts, тем дороже проверка гипотезы.\n",
    "\n",
    "Данные для второй части\n",
    "Файл /datasets/orders.csv. \n",
    "\n",
    "    transactionId — идентификатор заказа;\n",
    "    visitorId — идентификатор пользователя, совершившего заказ;\n",
    "    date — дата, когда был совершён заказ;\n",
    "    revenue — выручка заказа;\n",
    "    group — группа A/B-теста, в которую попал заказ.\n",
    "\n",
    "Файл /datasets/visitors.csv. \n",
    "\n",
    "    date — дата;\n",
    "    group — группа A/B-теста;\n",
    "    visitors — количество пользователей в указанную дату в указанной группе A/B-теста"
   ]
  },
  {
   "cell_type": "code",
   "execution_count": 1,
   "metadata": {},
   "outputs": [],
   "source": [
    "#импорт библиотек\n",
    "import pandas as pd\n",
    "import scipy.stats as stats\n",
    "import datetime as dt\n",
    "import numpy as np\n",
    "import matplotlib.pyplot as plt"
   ]
  },
  {
   "cell_type": "code",
   "execution_count": 2,
   "metadata": {},
   "outputs": [],
   "source": [
    "#формируем датасеты\n",
    "\n",
    "hypothesis = pd.read_csv('/datasets/hypothesis.csv')\n",
    "orders = pd.read_csv('/datasets/orders.csv')\n",
    "visitors = pd.read_csv('/datasets/visitors.csv')"
   ]
  },
  {
   "cell_type": "markdown",
   "metadata": {},
   "source": [
    "### ИЗУЧИМ ДАННЫЕ И ВЫПОЛНИМ ПРЕДОБРАБОТКУ.\n"
   ]
  },
  {
   "cell_type": "code",
   "execution_count": 3,
   "metadata": {},
   "outputs": [
    {
     "data": {
      "text/html": [
       "<div>\n",
       "<style scoped>\n",
       "    .dataframe tbody tr th:only-of-type {\n",
       "        vertical-align: middle;\n",
       "    }\n",
       "\n",
       "    .dataframe tbody tr th {\n",
       "        vertical-align: top;\n",
       "    }\n",
       "\n",
       "    .dataframe thead th {\n",
       "        text-align: right;\n",
       "    }\n",
       "</style>\n",
       "<table border=\"1\" class=\"dataframe\">\n",
       "  <thead>\n",
       "    <tr style=\"text-align: right;\">\n",
       "      <th></th>\n",
       "      <th>Hypothesis</th>\n",
       "      <th>Reach</th>\n",
       "      <th>Impact</th>\n",
       "      <th>Confidence</th>\n",
       "      <th>Efforts</th>\n",
       "    </tr>\n",
       "  </thead>\n",
       "  <tbody>\n",
       "    <tr>\n",
       "      <th>0</th>\n",
       "      <td>Добавить два новых канала привлечения трафика,...</td>\n",
       "      <td>3</td>\n",
       "      <td>10</td>\n",
       "      <td>8</td>\n",
       "      <td>6</td>\n",
       "    </tr>\n",
       "    <tr>\n",
       "      <th>1</th>\n",
       "      <td>Запустить собственную службу доставки, что сок...</td>\n",
       "      <td>2</td>\n",
       "      <td>5</td>\n",
       "      <td>4</td>\n",
       "      <td>10</td>\n",
       "    </tr>\n",
       "    <tr>\n",
       "      <th>2</th>\n",
       "      <td>Добавить блоки рекомендаций товаров на сайт ин...</td>\n",
       "      <td>8</td>\n",
       "      <td>3</td>\n",
       "      <td>7</td>\n",
       "      <td>3</td>\n",
       "    </tr>\n",
       "    <tr>\n",
       "      <th>3</th>\n",
       "      <td>Изменить структура категорий, что увеличит кон...</td>\n",
       "      <td>8</td>\n",
       "      <td>3</td>\n",
       "      <td>3</td>\n",
       "      <td>8</td>\n",
       "    </tr>\n",
       "    <tr>\n",
       "      <th>4</th>\n",
       "      <td>Изменить цвет фона главной страницы, чтобы уве...</td>\n",
       "      <td>3</td>\n",
       "      <td>1</td>\n",
       "      <td>1</td>\n",
       "      <td>1</td>\n",
       "    </tr>\n",
       "    <tr>\n",
       "      <th>5</th>\n",
       "      <td>Добавить страницу отзывов клиентов о магазине,...</td>\n",
       "      <td>3</td>\n",
       "      <td>2</td>\n",
       "      <td>2</td>\n",
       "      <td>3</td>\n",
       "    </tr>\n",
       "    <tr>\n",
       "      <th>6</th>\n",
       "      <td>Показать на главной странице баннеры с актуаль...</td>\n",
       "      <td>5</td>\n",
       "      <td>3</td>\n",
       "      <td>8</td>\n",
       "      <td>3</td>\n",
       "    </tr>\n",
       "    <tr>\n",
       "      <th>7</th>\n",
       "      <td>Добавить форму подписки на все основные страни...</td>\n",
       "      <td>10</td>\n",
       "      <td>7</td>\n",
       "      <td>8</td>\n",
       "      <td>5</td>\n",
       "    </tr>\n",
       "    <tr>\n",
       "      <th>8</th>\n",
       "      <td>Запустить акцию, дающую скидку на товар в день...</td>\n",
       "      <td>1</td>\n",
       "      <td>9</td>\n",
       "      <td>9</td>\n",
       "      <td>5</td>\n",
       "    </tr>\n",
       "  </tbody>\n",
       "</table>\n",
       "</div>"
      ],
      "text/plain": [
       "                                          Hypothesis  Reach  Impact  \\\n",
       "0  Добавить два новых канала привлечения трафика,...      3      10   \n",
       "1  Запустить собственную службу доставки, что сок...      2       5   \n",
       "2  Добавить блоки рекомендаций товаров на сайт ин...      8       3   \n",
       "3  Изменить структура категорий, что увеличит кон...      8       3   \n",
       "4  Изменить цвет фона главной страницы, чтобы уве...      3       1   \n",
       "5  Добавить страницу отзывов клиентов о магазине,...      3       2   \n",
       "6  Показать на главной странице баннеры с актуаль...      5       3   \n",
       "7  Добавить форму подписки на все основные страни...     10       7   \n",
       "8  Запустить акцию, дающую скидку на товар в день...      1       9   \n",
       "\n",
       "   Confidence  Efforts  \n",
       "0           8        6  \n",
       "1           4       10  \n",
       "2           7        3  \n",
       "3           3        8  \n",
       "4           1        1  \n",
       "5           2        3  \n",
       "6           8        3  \n",
       "7           8        5  \n",
       "8           9        5  "
      ]
     },
     "metadata": {},
     "output_type": "display_data"
    }
   ],
   "source": [
    "display(hypothesis)"
   ]
  },
  {
   "cell_type": "code",
   "execution_count": 4,
   "metadata": {},
   "outputs": [
    {
     "name": "stdout",
     "output_type": "stream",
     "text": [
      "<class 'pandas.core.frame.DataFrame'>\n",
      "RangeIndex: 9 entries, 0 to 8\n",
      "Data columns (total 5 columns):\n",
      " #   Column      Non-Null Count  Dtype \n",
      "---  ------      --------------  ----- \n",
      " 0   Hypothesis  9 non-null      object\n",
      " 1   Reach       9 non-null      int64 \n",
      " 2   Impact      9 non-null      int64 \n",
      " 3   Confidence  9 non-null      int64 \n",
      " 4   Efforts     9 non-null      int64 \n",
      "dtypes: int64(4), object(1)\n",
      "memory usage: 488.0+ bytes\n"
     ]
    }
   ],
   "source": [
    "hypothesis.info()"
   ]
  },
  {
   "cell_type": "code",
   "execution_count": 5,
   "metadata": {},
   "outputs": [
    {
     "data": {
      "text/plain": [
       "0"
      ]
     },
     "execution_count": 5,
     "metadata": {},
     "output_type": "execute_result"
    }
   ],
   "source": [
    "#проверка дубликатов\n",
    "hypothesis.duplicated().sum()"
   ]
  },
  {
   "cell_type": "markdown",
   "metadata": {},
   "source": [
    "В таблице hypothesis представлены 9 гипотез с оценками по 10-ти балльной шкале охватов, влияния на пользователей, уверенности в гипотезе, затратов на ресурсы. С таблицей hypothesis все в порядке(типы данных верные,дубликатов нет)"
   ]
  },
  {
   "cell_type": "code",
   "execution_count": 6,
   "metadata": {},
   "outputs": [
    {
     "data": {
      "text/html": [
       "<div>\n",
       "<style scoped>\n",
       "    .dataframe tbody tr th:only-of-type {\n",
       "        vertical-align: middle;\n",
       "    }\n",
       "\n",
       "    .dataframe tbody tr th {\n",
       "        vertical-align: top;\n",
       "    }\n",
       "\n",
       "    .dataframe thead th {\n",
       "        text-align: right;\n",
       "    }\n",
       "</style>\n",
       "<table border=\"1\" class=\"dataframe\">\n",
       "  <thead>\n",
       "    <tr style=\"text-align: right;\">\n",
       "      <th></th>\n",
       "      <th>transactionId</th>\n",
       "      <th>visitorId</th>\n",
       "      <th>date</th>\n",
       "      <th>revenue</th>\n",
       "      <th>group</th>\n",
       "    </tr>\n",
       "  </thead>\n",
       "  <tbody>\n",
       "    <tr>\n",
       "      <th>0</th>\n",
       "      <td>3667963787</td>\n",
       "      <td>3312258926</td>\n",
       "      <td>2019-08-15</td>\n",
       "      <td>1650</td>\n",
       "      <td>B</td>\n",
       "    </tr>\n",
       "    <tr>\n",
       "      <th>1</th>\n",
       "      <td>2804400009</td>\n",
       "      <td>3642806036</td>\n",
       "      <td>2019-08-15</td>\n",
       "      <td>730</td>\n",
       "      <td>B</td>\n",
       "    </tr>\n",
       "    <tr>\n",
       "      <th>2</th>\n",
       "      <td>2961555356</td>\n",
       "      <td>4069496402</td>\n",
       "      <td>2019-08-15</td>\n",
       "      <td>400</td>\n",
       "      <td>A</td>\n",
       "    </tr>\n",
       "    <tr>\n",
       "      <th>3</th>\n",
       "      <td>3797467345</td>\n",
       "      <td>1196621759</td>\n",
       "      <td>2019-08-15</td>\n",
       "      <td>9759</td>\n",
       "      <td>B</td>\n",
       "    </tr>\n",
       "    <tr>\n",
       "      <th>4</th>\n",
       "      <td>2282983706</td>\n",
       "      <td>2322279887</td>\n",
       "      <td>2019-08-15</td>\n",
       "      <td>2308</td>\n",
       "      <td>B</td>\n",
       "    </tr>\n",
       "    <tr>\n",
       "      <th>...</th>\n",
       "      <td>...</td>\n",
       "      <td>...</td>\n",
       "      <td>...</td>\n",
       "      <td>...</td>\n",
       "      <td>...</td>\n",
       "    </tr>\n",
       "    <tr>\n",
       "      <th>1192</th>\n",
       "      <td>2662137336</td>\n",
       "      <td>3733762160</td>\n",
       "      <td>2019-08-14</td>\n",
       "      <td>6490</td>\n",
       "      <td>B</td>\n",
       "    </tr>\n",
       "    <tr>\n",
       "      <th>1193</th>\n",
       "      <td>2203539145</td>\n",
       "      <td>370388673</td>\n",
       "      <td>2019-08-14</td>\n",
       "      <td>3190</td>\n",
       "      <td>A</td>\n",
       "    </tr>\n",
       "    <tr>\n",
       "      <th>1194</th>\n",
       "      <td>1807773912</td>\n",
       "      <td>573423106</td>\n",
       "      <td>2019-08-14</td>\n",
       "      <td>10550</td>\n",
       "      <td>A</td>\n",
       "    </tr>\n",
       "    <tr>\n",
       "      <th>1195</th>\n",
       "      <td>1947021204</td>\n",
       "      <td>1614305549</td>\n",
       "      <td>2019-08-14</td>\n",
       "      <td>100</td>\n",
       "      <td>A</td>\n",
       "    </tr>\n",
       "    <tr>\n",
       "      <th>1196</th>\n",
       "      <td>3936777065</td>\n",
       "      <td>2108080724</td>\n",
       "      <td>2019-08-15</td>\n",
       "      <td>202740</td>\n",
       "      <td>B</td>\n",
       "    </tr>\n",
       "  </tbody>\n",
       "</table>\n",
       "<p>1197 rows × 5 columns</p>\n",
       "</div>"
      ],
      "text/plain": [
       "      transactionId   visitorId        date  revenue group\n",
       "0        3667963787  3312258926  2019-08-15     1650     B\n",
       "1        2804400009  3642806036  2019-08-15      730     B\n",
       "2        2961555356  4069496402  2019-08-15      400     A\n",
       "3        3797467345  1196621759  2019-08-15     9759     B\n",
       "4        2282983706  2322279887  2019-08-15     2308     B\n",
       "...             ...         ...         ...      ...   ...\n",
       "1192     2662137336  3733762160  2019-08-14     6490     B\n",
       "1193     2203539145   370388673  2019-08-14     3190     A\n",
       "1194     1807773912   573423106  2019-08-14    10550     A\n",
       "1195     1947021204  1614305549  2019-08-14      100     A\n",
       "1196     3936777065  2108080724  2019-08-15   202740     B\n",
       "\n",
       "[1197 rows x 5 columns]"
      ]
     },
     "metadata": {},
     "output_type": "display_data"
    }
   ],
   "source": [
    "display(orders)"
   ]
  },
  {
   "cell_type": "code",
   "execution_count": 7,
   "metadata": {},
   "outputs": [
    {
     "name": "stdout",
     "output_type": "stream",
     "text": [
      "<class 'pandas.core.frame.DataFrame'>\n",
      "RangeIndex: 1197 entries, 0 to 1196\n",
      "Data columns (total 5 columns):\n",
      " #   Column         Non-Null Count  Dtype \n",
      "---  ------         --------------  ----- \n",
      " 0   transactionId  1197 non-null   int64 \n",
      " 1   visitorId      1197 non-null   int64 \n",
      " 2   date           1197 non-null   object\n",
      " 3   revenue        1197 non-null   int64 \n",
      " 4   group          1197 non-null   object\n",
      "dtypes: int64(3), object(2)\n",
      "memory usage: 46.9+ KB\n"
     ]
    }
   ],
   "source": [
    "orders.info()"
   ]
  },
  {
   "cell_type": "code",
   "execution_count": 8,
   "metadata": {},
   "outputs": [
    {
     "data": {
      "text/plain": [
       "0"
      ]
     },
     "execution_count": 8,
     "metadata": {},
     "output_type": "execute_result"
    }
   ],
   "source": [
    "#проверка дубликатов\n",
    "orders.duplicated().sum()"
   ]
  },
  {
   "cell_type": "code",
   "execution_count": 9,
   "metadata": {},
   "outputs": [
    {
     "data": {
      "text/plain": [
       "transactionId    0\n",
       "visitorId        0\n",
       "date             0\n",
       "revenue          0\n",
       "group            0\n",
       "dtype: int64"
      ]
     },
     "execution_count": 9,
     "metadata": {},
     "output_type": "execute_result"
    }
   ],
   "source": [
    "# подсчёт пропусков\n",
    "orders.isna().sum()"
   ]
  },
  {
   "cell_type": "code",
   "execution_count": 10,
   "metadata": {},
   "outputs": [],
   "source": [
    "# поменяем тип данных\n",
    "orders['date'] = pd.to_datetime(orders['date'])\n"
   ]
  },
  {
   "cell_type": "markdown",
   "metadata": {},
   "source": [
    "В таблице orders представлена информация о заказах. С таблицей orders в целом тоже все в порядке(пропусков и дубликатов нет). Поменяли тип данных с столбце 'date'"
   ]
  },
  {
   "cell_type": "code",
   "execution_count": 11,
   "metadata": {},
   "outputs": [
    {
     "data": {
      "text/html": [
       "<div>\n",
       "<style scoped>\n",
       "    .dataframe tbody tr th:only-of-type {\n",
       "        vertical-align: middle;\n",
       "    }\n",
       "\n",
       "    .dataframe tbody tr th {\n",
       "        vertical-align: top;\n",
       "    }\n",
       "\n",
       "    .dataframe thead th {\n",
       "        text-align: right;\n",
       "    }\n",
       "</style>\n",
       "<table border=\"1\" class=\"dataframe\">\n",
       "  <thead>\n",
       "    <tr style=\"text-align: right;\">\n",
       "      <th></th>\n",
       "      <th>date</th>\n",
       "      <th>group</th>\n",
       "      <th>visitors</th>\n",
       "    </tr>\n",
       "  </thead>\n",
       "  <tbody>\n",
       "    <tr>\n",
       "      <th>0</th>\n",
       "      <td>2019-08-01</td>\n",
       "      <td>A</td>\n",
       "      <td>719</td>\n",
       "    </tr>\n",
       "    <tr>\n",
       "      <th>1</th>\n",
       "      <td>2019-08-02</td>\n",
       "      <td>A</td>\n",
       "      <td>619</td>\n",
       "    </tr>\n",
       "    <tr>\n",
       "      <th>2</th>\n",
       "      <td>2019-08-03</td>\n",
       "      <td>A</td>\n",
       "      <td>507</td>\n",
       "    </tr>\n",
       "    <tr>\n",
       "      <th>3</th>\n",
       "      <td>2019-08-04</td>\n",
       "      <td>A</td>\n",
       "      <td>717</td>\n",
       "    </tr>\n",
       "    <tr>\n",
       "      <th>4</th>\n",
       "      <td>2019-08-05</td>\n",
       "      <td>A</td>\n",
       "      <td>756</td>\n",
       "    </tr>\n",
       "    <tr>\n",
       "      <th>...</th>\n",
       "      <td>...</td>\n",
       "      <td>...</td>\n",
       "      <td>...</td>\n",
       "    </tr>\n",
       "    <tr>\n",
       "      <th>57</th>\n",
       "      <td>2019-08-27</td>\n",
       "      <td>B</td>\n",
       "      <td>720</td>\n",
       "    </tr>\n",
       "    <tr>\n",
       "      <th>58</th>\n",
       "      <td>2019-08-28</td>\n",
       "      <td>B</td>\n",
       "      <td>654</td>\n",
       "    </tr>\n",
       "    <tr>\n",
       "      <th>59</th>\n",
       "      <td>2019-08-29</td>\n",
       "      <td>B</td>\n",
       "      <td>531</td>\n",
       "    </tr>\n",
       "    <tr>\n",
       "      <th>60</th>\n",
       "      <td>2019-08-30</td>\n",
       "      <td>B</td>\n",
       "      <td>490</td>\n",
       "    </tr>\n",
       "    <tr>\n",
       "      <th>61</th>\n",
       "      <td>2019-08-31</td>\n",
       "      <td>B</td>\n",
       "      <td>718</td>\n",
       "    </tr>\n",
       "  </tbody>\n",
       "</table>\n",
       "<p>62 rows × 3 columns</p>\n",
       "</div>"
      ],
      "text/plain": [
       "          date group  visitors\n",
       "0   2019-08-01     A       719\n",
       "1   2019-08-02     A       619\n",
       "2   2019-08-03     A       507\n",
       "3   2019-08-04     A       717\n",
       "4   2019-08-05     A       756\n",
       "..         ...   ...       ...\n",
       "57  2019-08-27     B       720\n",
       "58  2019-08-28     B       654\n",
       "59  2019-08-29     B       531\n",
       "60  2019-08-30     B       490\n",
       "61  2019-08-31     B       718\n",
       "\n",
       "[62 rows x 3 columns]"
      ]
     },
     "metadata": {},
     "output_type": "display_data"
    }
   ],
   "source": [
    "display(visitors)"
   ]
  },
  {
   "cell_type": "code",
   "execution_count": 12,
   "metadata": {},
   "outputs": [
    {
     "name": "stdout",
     "output_type": "stream",
     "text": [
      "<class 'pandas.core.frame.DataFrame'>\n",
      "RangeIndex: 62 entries, 0 to 61\n",
      "Data columns (total 3 columns):\n",
      " #   Column    Non-Null Count  Dtype \n",
      "---  ------    --------------  ----- \n",
      " 0   date      62 non-null     object\n",
      " 1   group     62 non-null     object\n",
      " 2   visitors  62 non-null     int64 \n",
      "dtypes: int64(1), object(2)\n",
      "memory usage: 1.6+ KB\n"
     ]
    }
   ],
   "source": [
    "visitors.info()"
   ]
  },
  {
   "cell_type": "code",
   "execution_count": 13,
   "metadata": {},
   "outputs": [
    {
     "data": {
      "text/plain": [
       "0"
      ]
     },
     "execution_count": 13,
     "metadata": {},
     "output_type": "execute_result"
    }
   ],
   "source": [
    "#проверка дубликатов\n",
    "visitors.duplicated().sum()"
   ]
  },
  {
   "cell_type": "code",
   "execution_count": 14,
   "metadata": {},
   "outputs": [
    {
     "data": {
      "text/plain": [
       "date        0\n",
       "group       0\n",
       "visitors    0\n",
       "dtype: int64"
      ]
     },
     "execution_count": 14,
     "metadata": {},
     "output_type": "execute_result"
    }
   ],
   "source": [
    "# подсчёт пропусков\n",
    "visitors.isna().sum()"
   ]
  },
  {
   "cell_type": "code",
   "execution_count": 15,
   "metadata": {},
   "outputs": [],
   "source": [
    "# поменяем тип данных\n",
    "visitors['date'] = pd.to_datetime(visitors['date'])"
   ]
  },
  {
   "cell_type": "markdown",
   "metadata": {},
   "source": [
    "В таблице visitors представлена информация о пользователях и информация о группе пользователя (А или В). С таблицей visitors пропусков и дубликатов нет. Поменяли тип данных с столбце 'date'"
   ]
  },
  {
   "cell_type": "markdown",
   "metadata": {},
   "source": [
    "**Вывод** : пропуски и дубликаты в данных отсутствуют. Мы подготовили данные для анализа:  заменили тип данных в столбцах. "
   ]
  },
  {
   "cell_type": "code",
   "execution_count": 16,
   "metadata": {},
   "outputs": [
    {
     "data": {
      "text/plain": [
       "A    31\n",
       "B    31\n",
       "Name: group, dtype: int64"
      ]
     },
     "execution_count": 16,
     "metadata": {},
     "output_type": "execute_result"
    }
   ],
   "source": [
    "#количество групп в А/Б тесте\n",
    "visitors['group'].value_counts()"
   ]
  },
  {
   "cell_type": "markdown",
   "metadata": {},
   "source": [
    "Найдем уникальные id пользователей группы А и группы В, и посмотрим, если пересечение у этих двух множеств"
   ]
  },
  {
   "cell_type": "code",
   "execution_count": 17,
   "metadata": {},
   "outputs": [
    {
     "data": {
      "text/plain": [
       "58"
      ]
     },
     "execution_count": 17,
     "metadata": {},
     "output_type": "execute_result"
    }
   ],
   "source": [
    "#проверим не попадают ли у нас пользователи в обе группы:\n",
    "len(np.intersect1d(orders.query('group == \"A\"')['visitorId'].unique(), orders.query('group == \"B\"')['visitorId'].unique()))"
   ]
  },
  {
   "cell_type": "markdown",
   "metadata": {},
   "source": [
    "58 значений, встречающихся в обеих группах.  Удаляем тех пользователей, которые входят в список пересекающихся, чтобы не было дополнительных искажений при проведении тестирования."
   ]
  },
  {
   "cell_type": "code",
   "execution_count": 18,
   "metadata": {},
   "outputs": [],
   "source": [
    "#создаем массив с пользователями, которые входят в список пересекающихся\n",
    "list_id = np.intersect1d(orders.query('group == \"A\"')['visitorId'].unique(), orders.query('group == \"B\"')['visitorId'].unique())\n",
    "\n",
    "#переведем массив в список\n",
    "list_id = list_id.tolist()\n",
    "\n",
    "#удаляем тех пользователей, которые входят в список пересекающихся\n",
    "orders = orders[~orders.visitorId.isin(list_id)]"
   ]
  },
  {
   "cell_type": "code",
   "execution_count": 19,
   "metadata": {},
   "outputs": [
    {
     "data": {
      "text/plain": [
       "0"
      ]
     },
     "execution_count": 19,
     "metadata": {},
     "output_type": "execute_result"
    }
   ],
   "source": [
    "#проверяем пользователей, которые входят в список пересекающихся\n",
    "len(np.intersect1d(orders.query('group == \"A\"')['visitorId'].unique(), orders.query('group == \"B\"')['visitorId'].unique()))"
   ]
  },
  {
   "cell_type": "code",
   "execution_count": 20,
   "metadata": {},
   "outputs": [
    {
     "data": {
      "text/html": [
       "<div>\n",
       "<style scoped>\n",
       "    .dataframe tbody tr th:only-of-type {\n",
       "        vertical-align: middle;\n",
       "    }\n",
       "\n",
       "    .dataframe tbody tr th {\n",
       "        vertical-align: top;\n",
       "    }\n",
       "\n",
       "    .dataframe thead th {\n",
       "        text-align: right;\n",
       "    }\n",
       "</style>\n",
       "<table border=\"1\" class=\"dataframe\">\n",
       "  <thead>\n",
       "    <tr style=\"text-align: right;\">\n",
       "      <th></th>\n",
       "      <th>date</th>\n",
       "      <th>group</th>\n",
       "      <th>visitors</th>\n",
       "    </tr>\n",
       "  </thead>\n",
       "  <tbody>\n",
       "    <tr>\n",
       "      <th>0</th>\n",
       "      <td>2019-08-01</td>\n",
       "      <td>A</td>\n",
       "      <td>719</td>\n",
       "    </tr>\n",
       "    <tr>\n",
       "      <th>1</th>\n",
       "      <td>2019-08-02</td>\n",
       "      <td>A</td>\n",
       "      <td>619</td>\n",
       "    </tr>\n",
       "    <tr>\n",
       "      <th>2</th>\n",
       "      <td>2019-08-03</td>\n",
       "      <td>A</td>\n",
       "      <td>507</td>\n",
       "    </tr>\n",
       "  </tbody>\n",
       "</table>\n",
       "</div>"
      ],
      "text/plain": [
       "        date group  visitors\n",
       "0 2019-08-01     A       719\n",
       "1 2019-08-02     A       619\n",
       "2 2019-08-03     A       507"
      ]
     },
     "execution_count": 20,
     "metadata": {},
     "output_type": "execute_result"
    }
   ],
   "source": [
    "#За какой период  доступны данные (даты начала и окончания теста)\n",
    "visitors.head(3)"
   ]
  },
  {
   "cell_type": "code",
   "execution_count": 21,
   "metadata": {},
   "outputs": [
    {
     "data": {
      "text/html": [
       "<div>\n",
       "<style scoped>\n",
       "    .dataframe tbody tr th:only-of-type {\n",
       "        vertical-align: middle;\n",
       "    }\n",
       "\n",
       "    .dataframe tbody tr th {\n",
       "        vertical-align: top;\n",
       "    }\n",
       "\n",
       "    .dataframe thead th {\n",
       "        text-align: right;\n",
       "    }\n",
       "</style>\n",
       "<table border=\"1\" class=\"dataframe\">\n",
       "  <thead>\n",
       "    <tr style=\"text-align: right;\">\n",
       "      <th></th>\n",
       "      <th>date</th>\n",
       "      <th>group</th>\n",
       "      <th>visitors</th>\n",
       "    </tr>\n",
       "  </thead>\n",
       "  <tbody>\n",
       "    <tr>\n",
       "      <th>59</th>\n",
       "      <td>2019-08-29</td>\n",
       "      <td>B</td>\n",
       "      <td>531</td>\n",
       "    </tr>\n",
       "    <tr>\n",
       "      <th>60</th>\n",
       "      <td>2019-08-30</td>\n",
       "      <td>B</td>\n",
       "      <td>490</td>\n",
       "    </tr>\n",
       "    <tr>\n",
       "      <th>61</th>\n",
       "      <td>2019-08-31</td>\n",
       "      <td>B</td>\n",
       "      <td>718</td>\n",
       "    </tr>\n",
       "  </tbody>\n",
       "</table>\n",
       "</div>"
      ],
      "text/plain": [
       "         date group  visitors\n",
       "59 2019-08-29     B       531\n",
       "60 2019-08-30     B       490\n",
       "61 2019-08-31     B       718"
      ]
     },
     "execution_count": 21,
     "metadata": {},
     "output_type": "execute_result"
    }
   ],
   "source": [
    "visitors.tail(3)"
   ]
  },
  {
   "cell_type": "markdown",
   "metadata": {},
   "source": [
    "Дата начала теста 01 августа 2019 г\n",
    "\n",
    "Дата окончания теста 31 августа 2019 г"
   ]
  },
  {
   "cell_type": "markdown",
   "metadata": {},
   "source": [
    "### ПРИОРИТЕЗАЦИЯ ГИПОТЕЗ.\n",
    "\n",
    "В файле /datasets/hypothesis.csv 9 гипотез по увеличению выручки интернет-магазина с указанными параметрами Reach, Impact, Confidence, Effort.\n",
    "\n",
    "**Задача**\n",
    "    \n",
    "Примените фреймворк ICE для приоритизации гипотез. Отсортируйте их по убыванию приоритета.\n",
    "\n",
    "Примените фреймворк RICE для приоритизации гипотез. Отсортируйте их по убыванию приоритета.\n",
    "\n",
    "Укажите, как изменилась приоритизация гипотез при применении RICE вместо ICE. Объясните, почему так произошло.\n",
    "\n"
   ]
  },
  {
   "cell_type": "code",
   "execution_count": 22,
   "metadata": {},
   "outputs": [
    {
     "data": {
      "text/html": [
       "<div>\n",
       "<style scoped>\n",
       "    .dataframe tbody tr th:only-of-type {\n",
       "        vertical-align: middle;\n",
       "    }\n",
       "\n",
       "    .dataframe tbody tr th {\n",
       "        vertical-align: top;\n",
       "    }\n",
       "\n",
       "    .dataframe thead th {\n",
       "        text-align: right;\n",
       "    }\n",
       "</style>\n",
       "<table border=\"1\" class=\"dataframe\">\n",
       "  <thead>\n",
       "    <tr style=\"text-align: right;\">\n",
       "      <th></th>\n",
       "      <th>Hypothesis</th>\n",
       "      <th>ICE</th>\n",
       "    </tr>\n",
       "  </thead>\n",
       "  <tbody>\n",
       "    <tr>\n",
       "      <th>8</th>\n",
       "      <td>Запустить акцию, дающую скидку на товар в день рождения</td>\n",
       "      <td>16.2</td>\n",
       "    </tr>\n",
       "    <tr>\n",
       "      <th>0</th>\n",
       "      <td>Добавить два новых канала привлечения трафика, что позволит привлекать на 30% больше пользователей</td>\n",
       "      <td>13.3</td>\n",
       "    </tr>\n",
       "    <tr>\n",
       "      <th>7</th>\n",
       "      <td>Добавить форму подписки на все основные страницы, чтобы собрать базу клиентов для email-рассылок</td>\n",
       "      <td>11.2</td>\n",
       "    </tr>\n",
       "    <tr>\n",
       "      <th>6</th>\n",
       "      <td>Показать на главной странице баннеры с актуальными акциями и распродажами, чтобы увеличить конверсию</td>\n",
       "      <td>8.0</td>\n",
       "    </tr>\n",
       "    <tr>\n",
       "      <th>2</th>\n",
       "      <td>Добавить блоки рекомендаций товаров на сайт интернет магазина, чтобы повысить конверсию и средний чек заказа</td>\n",
       "      <td>7.0</td>\n",
       "    </tr>\n",
       "    <tr>\n",
       "      <th>1</th>\n",
       "      <td>Запустить собственную службу доставки, что сократит срок доставки заказов</td>\n",
       "      <td>2.0</td>\n",
       "    </tr>\n",
       "    <tr>\n",
       "      <th>5</th>\n",
       "      <td>Добавить страницу отзывов клиентов о магазине, что позволит увеличить количество заказов</td>\n",
       "      <td>1.3</td>\n",
       "    </tr>\n",
       "    <tr>\n",
       "      <th>3</th>\n",
       "      <td>Изменить структура категорий, что увеличит конверсию, т.к. пользователи быстрее найдут нужный товар</td>\n",
       "      <td>1.1</td>\n",
       "    </tr>\n",
       "    <tr>\n",
       "      <th>4</th>\n",
       "      <td>Изменить цвет фона главной страницы, чтобы увеличить вовлеченность пользователей</td>\n",
       "      <td>1.0</td>\n",
       "    </tr>\n",
       "  </tbody>\n",
       "</table>\n",
       "</div>"
      ],
      "text/plain": [
       "                                                                                                     Hypothesis  \\\n",
       "8                                                       Запустить акцию, дающую скидку на товар в день рождения   \n",
       "0            Добавить два новых канала привлечения трафика, что позволит привлекать на 30% больше пользователей   \n",
       "7              Добавить форму подписки на все основные страницы, чтобы собрать базу клиентов для email-рассылок   \n",
       "6          Показать на главной странице баннеры с актуальными акциями и распродажами, чтобы увеличить конверсию   \n",
       "2  Добавить блоки рекомендаций товаров на сайт интернет магазина, чтобы повысить конверсию и средний чек заказа   \n",
       "1                                     Запустить собственную службу доставки, что сократит срок доставки заказов   \n",
       "5                      Добавить страницу отзывов клиентов о магазине, что позволит увеличить количество заказов   \n",
       "3           Изменить структура категорий, что увеличит конверсию, т.к. пользователи быстрее найдут нужный товар   \n",
       "4                              Изменить цвет фона главной страницы, чтобы увеличить вовлеченность пользователей   \n",
       "\n",
       "    ICE  \n",
       "8  16.2  \n",
       "0  13.3  \n",
       "7  11.2  \n",
       "6   8.0  \n",
       "2   7.0  \n",
       "1   2.0  \n",
       "5   1.3  \n",
       "3   1.1  \n",
       "4   1.0  "
      ]
     },
     "execution_count": 22,
     "metadata": {},
     "output_type": "execute_result"
    }
   ],
   "source": [
    "# код, чтобы отобразить название гипотезы полностью в таблицах\n",
    "pd.options.display.max_colwidth = 210\n",
    "# приоритизации задач ICE\n",
    "hypothesis['ICE'] = ((hypothesis['Impact'] * hypothesis['Confidence']) / hypothesis['Efforts']).round(1)\n",
    "hypothesis[['Hypothesis', 'ICE']].sort_values('ICE', ascending=False)"
   ]
  },
  {
   "cell_type": "code",
   "execution_count": 23,
   "metadata": {},
   "outputs": [
    {
     "data": {
      "text/html": [
       "<div>\n",
       "<style scoped>\n",
       "    .dataframe tbody tr th:only-of-type {\n",
       "        vertical-align: middle;\n",
       "    }\n",
       "\n",
       "    .dataframe tbody tr th {\n",
       "        vertical-align: top;\n",
       "    }\n",
       "\n",
       "    .dataframe thead th {\n",
       "        text-align: right;\n",
       "    }\n",
       "</style>\n",
       "<table border=\"1\" class=\"dataframe\">\n",
       "  <thead>\n",
       "    <tr style=\"text-align: right;\">\n",
       "      <th></th>\n",
       "      <th>Hypothesis</th>\n",
       "      <th>RICE</th>\n",
       "    </tr>\n",
       "  </thead>\n",
       "  <tbody>\n",
       "    <tr>\n",
       "      <th>7</th>\n",
       "      <td>Добавить форму подписки на все основные страницы, чтобы собрать базу клиентов для email-рассылок</td>\n",
       "      <td>112.0</td>\n",
       "    </tr>\n",
       "    <tr>\n",
       "      <th>2</th>\n",
       "      <td>Добавить блоки рекомендаций товаров на сайт интернет магазина, чтобы повысить конверсию и средний чек заказа</td>\n",
       "      <td>56.0</td>\n",
       "    </tr>\n",
       "    <tr>\n",
       "      <th>0</th>\n",
       "      <td>Добавить два новых канала привлечения трафика, что позволит привлекать на 30% больше пользователей</td>\n",
       "      <td>40.0</td>\n",
       "    </tr>\n",
       "    <tr>\n",
       "      <th>6</th>\n",
       "      <td>Показать на главной странице баннеры с актуальными акциями и распродажами, чтобы увеличить конверсию</td>\n",
       "      <td>40.0</td>\n",
       "    </tr>\n",
       "    <tr>\n",
       "      <th>8</th>\n",
       "      <td>Запустить акцию, дающую скидку на товар в день рождения</td>\n",
       "      <td>16.2</td>\n",
       "    </tr>\n",
       "    <tr>\n",
       "      <th>3</th>\n",
       "      <td>Изменить структура категорий, что увеличит конверсию, т.к. пользователи быстрее найдут нужный товар</td>\n",
       "      <td>9.0</td>\n",
       "    </tr>\n",
       "    <tr>\n",
       "      <th>1</th>\n",
       "      <td>Запустить собственную службу доставки, что сократит срок доставки заказов</td>\n",
       "      <td>4.0</td>\n",
       "    </tr>\n",
       "    <tr>\n",
       "      <th>5</th>\n",
       "      <td>Добавить страницу отзывов клиентов о магазине, что позволит увеличить количество заказов</td>\n",
       "      <td>4.0</td>\n",
       "    </tr>\n",
       "    <tr>\n",
       "      <th>4</th>\n",
       "      <td>Изменить цвет фона главной страницы, чтобы увеличить вовлеченность пользователей</td>\n",
       "      <td>3.0</td>\n",
       "    </tr>\n",
       "  </tbody>\n",
       "</table>\n",
       "</div>"
      ],
      "text/plain": [
       "                                                                                                     Hypothesis  \\\n",
       "7              Добавить форму подписки на все основные страницы, чтобы собрать базу клиентов для email-рассылок   \n",
       "2  Добавить блоки рекомендаций товаров на сайт интернет магазина, чтобы повысить конверсию и средний чек заказа   \n",
       "0            Добавить два новых канала привлечения трафика, что позволит привлекать на 30% больше пользователей   \n",
       "6          Показать на главной странице баннеры с актуальными акциями и распродажами, чтобы увеличить конверсию   \n",
       "8                                                       Запустить акцию, дающую скидку на товар в день рождения   \n",
       "3           Изменить структура категорий, что увеличит конверсию, т.к. пользователи быстрее найдут нужный товар   \n",
       "1                                     Запустить собственную службу доставки, что сократит срок доставки заказов   \n",
       "5                      Добавить страницу отзывов клиентов о магазине, что позволит увеличить количество заказов   \n",
       "4                              Изменить цвет фона главной страницы, чтобы увеличить вовлеченность пользователей   \n",
       "\n",
       "    RICE  \n",
       "7  112.0  \n",
       "2   56.0  \n",
       "0   40.0  \n",
       "6   40.0  \n",
       "8   16.2  \n",
       "3    9.0  \n",
       "1    4.0  \n",
       "5    4.0  \n",
       "4    3.0  "
      ]
     },
     "execution_count": 23,
     "metadata": {},
     "output_type": "execute_result"
    }
   ],
   "source": [
    "# приоритизации задач RICE\n",
    "hypothesis['RICE'] = (hypothesis['Reach']  *hypothesis['Impact'] * hypothesis['Confidence']) / hypothesis['Efforts']\n",
    "hypothesis[['Hypothesis', 'RICE']].sort_values('RICE', ascending=False)\n"
   ]
  },
  {
   "cell_type": "markdown",
   "metadata": {},
   "source": [
    "**Вывод** Результаты преоритизации задач ICE и RICE отличаются друг от друга тк RICE учитывает скольких пользователей затронет изменение.\n",
    "\n",
    "В ICE лидируют гипотезы 8,0,7\n",
    "\n",
    "В RICE лидируют гипотезы 7,2,0\n",
    "\n",
    "*Потенциально удачная гипотеза 7 \"Добавить форму подписки на все основные страницы\"*\n"
   ]
  },
  {
   "cell_type": "markdown",
   "metadata": {},
   "source": [
    "### АНАЛИЗ A/B-теста\n",
    "\n",
    "Мы провели A/B-тест и получили результаты, которые описаны в файлах /datasets/orders.csv и /datasets/visitors.csv.\n",
    "\n",
    "**Задача**\n",
    "\n",
    "Проанализируйте A/B-тест:\n",
    "\n",
    "1.Постройте график кумулятивной выручки по группам. Сделайте выводы и предположения.\n",
    "\n",
    "2.Постройте график кумулятивного среднего чека по группам. Сделайте выводы и предположения.\n",
    "\n",
    "3.Постройте график относительного изменения кумулятивного среднего чека группы B к группе A. Сделайте выводы и предположения.\n",
    "\n",
    "4.Постройте график кумулятивного среднего количества заказов по группам. Сделайте выводы и предположения.\n",
    "\n",
    "5.Постройте график относительного изменения кумулятивного среднего количества заказов группы B к группе A. Сделайте выводы и предположения.\n",
    "\n",
    "6.Постройте точечный график количества заказов по пользователям. Сделайте выводы и предположения.\n",
    "\n",
    "7.Посчитайте 95-й и 99-й перцентили количества заказов на пользователя. Выберите границу для определения аномальных пользователей.\n",
    "\n",
    "8.Постройте точечный график стоимостей заказов. Сделайте выводы и предположения.\n",
    "\n",
    "9.Посчитайте 95-й и 99-й перцентили стоимости заказов. Выберите границу для определения аномальных заказов.\n",
    "\n",
    "10.Посчитайте статистическую значимость различий в среднем количестве заказов между группами по «сырым» данным. Сделайте выводы и предположения.\n",
    "\n",
    "11.Посчитайте статистическую значимость различий в среднем чеке заказа между группами по «сырым» данным. Сделайте выводы и предположения.\n",
    "\n",
    "12.Посчитайте статистическую значимость различий в среднем количестве заказов между группами по «очищенным» данным. Сделайте выводы и предположения.\n",
    "\n",
    "13.Посчитайте статистическую значимость различий в среднем чеке заказа между группами по «очищенным» данным. Сделайте выводы и предположения.\n",
    "\n",
    "14.Примите решение по результатам теста и объясните его. Варианты решений: 1. Остановить тест, зафиксировать победу одной из групп. 2. Остановить тест, зафиксировать отсутствие различий между группами. 3. Продолжить тест."
   ]
  },
  {
   "cell_type": "markdown",
   "metadata": {},
   "source": [
    "1.Построим график кумулятивной выручки по группам.Создадим массив уникальных пар значений дат и групп теста методом drop_duplicates().Соберём агрегированные кумулятивные по дням данные о заказах в несколько действий.Агрегируем значения. Вычислим максимальную дату. Для группы тоже рассчитаем максимум, и хотя она будет определённой, сделаем это, чтобы столбец 'group' не пропал из итогового вывода. Найдём число уникальных ID заказов и пользователей. Подсчитаем сумму средних чеков\n"
   ]
  },
  {
   "cell_type": "code",
   "execution_count": 24,
   "metadata": {},
   "outputs": [
    {
     "data": {
      "text/html": [
       "<div>\n",
       "<style scoped>\n",
       "    .dataframe tbody tr th:only-of-type {\n",
       "        vertical-align: middle;\n",
       "    }\n",
       "\n",
       "    .dataframe tbody tr th {\n",
       "        vertical-align: top;\n",
       "    }\n",
       "\n",
       "    .dataframe thead th {\n",
       "        text-align: right;\n",
       "    }\n",
       "</style>\n",
       "<table border=\"1\" class=\"dataframe\">\n",
       "  <thead>\n",
       "    <tr style=\"text-align: right;\">\n",
       "      <th></th>\n",
       "      <th>date</th>\n",
       "      <th>group</th>\n",
       "      <th>orders</th>\n",
       "      <th>buyers</th>\n",
       "      <th>revenue</th>\n",
       "      <th>visitors</th>\n",
       "    </tr>\n",
       "  </thead>\n",
       "  <tbody>\n",
       "    <tr>\n",
       "      <th>0</th>\n",
       "      <td>2019-08-01</td>\n",
       "      <td>A</td>\n",
       "      <td>23</td>\n",
       "      <td>19</td>\n",
       "      <td>142779</td>\n",
       "      <td>719</td>\n",
       "    </tr>\n",
       "    <tr>\n",
       "      <th>1</th>\n",
       "      <td>2019-08-01</td>\n",
       "      <td>B</td>\n",
       "      <td>17</td>\n",
       "      <td>17</td>\n",
       "      <td>59758</td>\n",
       "      <td>713</td>\n",
       "    </tr>\n",
       "    <tr>\n",
       "      <th>2</th>\n",
       "      <td>2019-08-02</td>\n",
       "      <td>A</td>\n",
       "      <td>42</td>\n",
       "      <td>36</td>\n",
       "      <td>234381</td>\n",
       "      <td>1338</td>\n",
       "    </tr>\n",
       "    <tr>\n",
       "      <th>3</th>\n",
       "      <td>2019-08-02</td>\n",
       "      <td>B</td>\n",
       "      <td>40</td>\n",
       "      <td>39</td>\n",
       "      <td>221801</td>\n",
       "      <td>1294</td>\n",
       "    </tr>\n",
       "    <tr>\n",
       "      <th>4</th>\n",
       "      <td>2019-08-03</td>\n",
       "      <td>A</td>\n",
       "      <td>66</td>\n",
       "      <td>60</td>\n",
       "      <td>346854</td>\n",
       "      <td>1845</td>\n",
       "    </tr>\n",
       "  </tbody>\n",
       "</table>\n",
       "</div>"
      ],
      "text/plain": [
       "        date group  orders  buyers  revenue  visitors\n",
       "0 2019-08-01     A      23      19   142779       719\n",
       "1 2019-08-01     B      17      17    59758       713\n",
       "2 2019-08-02     A      42      36   234381      1338\n",
       "3 2019-08-02     B      40      39   221801      1294\n",
       "4 2019-08-03     A      66      60   346854      1845"
      ]
     },
     "metadata": {},
     "output_type": "display_data"
    }
   ],
   "source": [
    "datesGroups = orders[['date', 'group']].drop_duplicates()\n",
    "\n",
    "ordersAggregated = datesGroups.apply(lambda x: orders[np.logical_and(orders['date'] <= x['date'], orders['group'] == x['group'])].agg({'date': 'max', 'group': 'max', 'transactionId': 'nunique', 'visitorId': 'nunique', 'revenue': 'sum',}),axis=1,).sort_values(by=['date', 'group'])\n",
    "\n",
    "#Аналогично получим агрегированные кумулятивные по дням данные о посетителях интернет-магазина:\n",
    "visitorsAggregated = datesGroups.apply(lambda x: visitors[np.logical_and(visitors['date'] <= x['date'], visitors['group'] == x['group'])].agg({'date': 'max', 'group': 'max', 'visitors': 'sum'}),axis=1,).sort_values(by=['date', 'group'])\n",
    "\n",
    "# объединяем кумулятивные данные в одной таблице и присваиваем ее столбцам понятные названия\n",
    "cumulativeData = ordersAggregated.merge(visitorsAggregated, left_on=['date', 'group'], right_on=['date', 'group'])\n",
    "cumulativeData.columns = ['date', 'group', 'orders', 'buyers', 'revenue', 'visitors']\n",
    "\n",
    "display(cumulativeData.head(5))"
   ]
  },
  {
   "cell_type": "markdown",
   "metadata": {},
   "source": [
    "Построим графики кумулятивной выручки по дням и группам A/B-тестирования"
   ]
  },
  {
   "cell_type": "code",
   "execution_count": 25,
   "metadata": {},
   "outputs": [
    {
     "data": {
      "image/png": "[encoded data removed]",
      "text/plain": [
       "<Figure size 1080x360 with 1 Axes>"
      ]
     },
     "metadata": {
      "needs_background": "light"
     },
     "output_type": "display_data"
    }
   ],
   "source": [
    "# датафрейм с кумулятивным количеством заказов и кумулятивной выручкой по дням в группе А\n",
    "cumulativeRevenueA = cumulativeData[cumulativeData['group']=='A'][['date','revenue', 'orders']]\n",
    "\n",
    "# датафрейм с кумулятивным количеством заказов и кумулятивной выручкой по дням в группе B\n",
    "cumulativeRevenueB = cumulativeData[cumulativeData['group']=='B'][['date','revenue', 'orders']]\n",
    "plt.figure(figsize=(15,5))\n",
    "# Строим график выручки группы А\n",
    "plt.plot(cumulativeRevenueA['date'], cumulativeRevenueA['revenue'], label='A')\n",
    "\n",
    "# Строим график выручки группы B\n",
    "plt.plot(cumulativeRevenueB['date'], cumulativeRevenueB['revenue'], label='B')\n",
    "plt.xticks(rotation=20)\n",
    "plt.title('График кумулятивной выручки по группам')\n",
    "plt.ylabel(\"Выручка\")\n",
    "plt.xlabel(\"Дата заказа\")\n",
    "plt.legend() \n",
    "plt.show()"
   ]
  },
  {
   "cell_type": "markdown",
   "metadata": {},
   "source": [
    "Выручка почти равномерно увеличивается до 13 августа. \n",
    "Однако график выручки группы В  резко растутпосле 13 и 19 августа. Это может сигнализировать о всплесках числа заказов, либо о появлении очень дорогих заказов в выборке. \n"
   ]
  },
  {
   "cell_type": "markdown",
   "metadata": {},
   "source": [
    "2.Построим график кумулятивного среднего чека по группам. "
   ]
  },
  {
   "cell_type": "code",
   "execution_count": 26,
   "metadata": {},
   "outputs": [
    {
     "data": {
      "image/png": "[encoded data removed]",
      "text/plain": [
       "<Figure size 1080x360 with 1 Axes>"
      ]
     },
     "metadata": {
      "needs_background": "light"
     },
     "output_type": "display_data"
    }
   ],
   "source": [
    "#Построим графики среднего чека по группам — разделим кумулятивную выручку на кумулятивное число заказов\n",
    "plt.figure(figsize=(15,5))\n",
    "plt.plot(cumulativeRevenueA['date'], cumulativeRevenueA['revenue']/cumulativeRevenueA['orders'], label='A')\n",
    "plt.plot(cumulativeRevenueB['date'], cumulativeRevenueB['revenue']/cumulativeRevenueB['orders'], label='B')\n",
    "plt.xticks(rotation=20)\n",
    "plt.title('График кумулятивного среднего чека по группам')\n",
    "plt.ylabel(\"Выручка\")\n",
    "plt.xlabel(\"Дата заказа\")\n",
    "plt.legend() \n",
    "plt.show()\n"
   ]
  },
  {
   "cell_type": "markdown",
   "metadata": {},
   "source": [
    "Средний чек тоже в группе В как правило выше, за исключением чека за 13 августа, где виден скачок."
   ]
  },
  {
   "cell_type": "markdown",
   "metadata": {},
   "source": [
    "3.Построим график относительного изменения кумулятивного среднего чека группы B к группе A."
   ]
  },
  {
   "cell_type": "code",
   "execution_count": 27,
   "metadata": {},
   "outputs": [
    {
     "data": {
      "image/png": "[encoded data removed]",
      "text/plain": [
       "<Figure size 1080x360 with 1 Axes>"
      ]
     },
     "metadata": {
      "needs_background": "light"
     },
     "output_type": "display_data"
    }
   ],
   "source": [
    "# собираем данные в одном датафрейме\n",
    "mergedCumulativeRevenue = cumulativeRevenueA.merge(cumulativeRevenueB, left_on='date', right_on='date', how='left', suffixes=['A', 'B'])\n",
    "\n",
    "# cтроим отношение средних чеков\n",
    "plt.figure(figsize=(15,5))\n",
    "plt.plot(mergedCumulativeRevenue['date'], (mergedCumulativeRevenue['revenueB']/mergedCumulativeRevenue['ordersB'])/(mergedCumulativeRevenue['revenueA']/mergedCumulativeRevenue['ordersA'])-1)\n",
    "\n",
    "# добавляем ось X\n",
    "plt.axhline(y=0, color='black', linestyle='--') \n",
    "plt.xticks(rotation=20)\n",
    "plt.title('График относительного изменения кумулятивного среднего чека группы B к группе A') \n",
    "plt.show()"
   ]
  },
  {
   "cell_type": "markdown",
   "metadata": {},
   "source": [
    "В нескольких точках график различия между сегментами резко «скачет», видимо, из-за крупных заказов и выбросов"
   ]
  },
  {
   "cell_type": "markdown",
   "metadata": {},
   "source": [
    "4.Построим график кумулятивного среднего количества заказов по группам."
   ]
  },
  {
   "cell_type": "code",
   "execution_count": 28,
   "metadata": {},
   "outputs": [
    {
     "data": {
      "image/png": "[encoded data removed]",
      "text/plain": [
       "<Figure size 1080x360 with 1 Axes>"
      ]
     },
     "metadata": {
      "needs_background": "light"
     },
     "output_type": "display_data"
    }
   ],
   "source": [
    "# считаем кумулятивную конверсию\n",
    "cumulativeData['conversion'] = cumulativeData['orders']/cumulativeData['visitors']\n",
    "\n",
    "# отделяем данные по группе A\n",
    "cumulativeDataA = cumulativeData[cumulativeData['group']=='A']\n",
    "\n",
    "# отделяем данные по группе B\n",
    "cumulativeDataB = cumulativeData[cumulativeData['group']=='B']\n",
    "\n",
    "# строим графики\n",
    "plt.figure(figsize=(15,5))\n",
    "plt.plot(cumulativeDataA['date'], cumulativeDataA['conversion'], label='A')\n",
    "plt.plot(cumulativeDataB['date'], cumulativeDataB['conversion'], label='B')\n",
    "\n",
    "plt.xticks(rotation=20)\n",
    "plt.legend()\n",
    "plt.title('График кумулятивного среднего количества заказов по группам')\n",
    "plt.ylabel('Conversion')\n",
    "plt.xlabel(\"Дата заказа\")\n",
    "plt.show()"
   ]
  },
  {
   "cell_type": "markdown",
   "metadata": {},
   "source": [
    "Конверсия группы B  значительно выше конверсии группы A "
   ]
  },
  {
   "cell_type": "markdown",
   "metadata": {},
   "source": [
    "5.Построим график относительного изменения кумулятивного среднего количества заказов группы B к группе A. "
   ]
  },
  {
   "cell_type": "code",
   "execution_count": 29,
   "metadata": {},
   "outputs": [
    {
     "data": {
      "image/png": "[encoded data removed]",
      "text/plain": [
       "<Figure size 1080x360 with 1 Axes>"
      ]
     },
     "metadata": {
      "needs_background": "light"
     },
     "output_type": "display_data"
    }
   ],
   "source": [
    "mergedCumulativeConversions = cumulativeDataA[['date','conversion']].merge(\n",
    "    cumulativeDataB[['date','conversion']], left_on='date', right_on='date', how='left', suffixes=['A', 'B']\n",
    ")\n",
    "plt.figure(figsize=(15,5))\n",
    "plt.plot(\n",
    "    mergedCumulativeConversions['date'], mergedCumulativeConversions['conversionB']/\n",
    "    mergedCumulativeConversions['conversionA']-1, label=\"Относительный прирост конверсии группы B относительно группы A\")\n",
    "\n",
    "plt.legend()\n",
    "plt.axhline(y=0, color='black', linestyle='--')\n",
    "plt.axhline(y=-0.1, color='grey', linestyle='--')\n",
    "plt.title('График относительного изменения кумулятивного среднего количества заказов группы B к группе A')\n",
    "plt.xticks(rotation=20)\n",
    "plt.show()"
   ]
  },
  {
   "cell_type": "markdown",
   "metadata": {},
   "source": [
    "В начале теста группа B значительно проигрывала группе A, затем вырвалась вперёд. Относительный прирост конверсии группы В увеличился до 10-20%."
   ]
  },
  {
   "cell_type": "markdown",
   "metadata": {},
   "source": [
    "6.Построим точечный график количества заказов по пользователям"
   ]
  },
  {
   "cell_type": "code",
   "execution_count": 30,
   "metadata": {},
   "outputs": [
    {
     "data": {
      "text/html": [
       "<div>\n",
       "<style scoped>\n",
       "    .dataframe tbody tr th:only-of-type {\n",
       "        vertical-align: middle;\n",
       "    }\n",
       "\n",
       "    .dataframe tbody tr th {\n",
       "        vertical-align: top;\n",
       "    }\n",
       "\n",
       "    .dataframe thead th {\n",
       "        text-align: right;\n",
       "    }\n",
       "</style>\n",
       "<table border=\"1\" class=\"dataframe\">\n",
       "  <thead>\n",
       "    <tr style=\"text-align: right;\">\n",
       "      <th></th>\n",
       "      <th>user_id</th>\n",
       "      <th>orders</th>\n",
       "    </tr>\n",
       "  </thead>\n",
       "  <tbody>\n",
       "    <tr>\n",
       "      <th>908</th>\n",
       "      <td>3967698036</td>\n",
       "      <td>3</td>\n",
       "    </tr>\n",
       "    <tr>\n",
       "      <th>55</th>\n",
       "      <td>249864742</td>\n",
       "      <td>3</td>\n",
       "    </tr>\n",
       "    <tr>\n",
       "      <th>478</th>\n",
       "      <td>2108163459</td>\n",
       "      <td>3</td>\n",
       "    </tr>\n",
       "    <tr>\n",
       "      <th>687</th>\n",
       "      <td>2988190573</td>\n",
       "      <td>3</td>\n",
       "    </tr>\n",
       "    <tr>\n",
       "      <th>890</th>\n",
       "      <td>3908431265</td>\n",
       "      <td>3</td>\n",
       "    </tr>\n",
       "    <tr>\n",
       "      <th>138</th>\n",
       "      <td>611059232</td>\n",
       "      <td>3</td>\n",
       "    </tr>\n",
       "    <tr>\n",
       "      <th>632</th>\n",
       "      <td>2742574263</td>\n",
       "      <td>3</td>\n",
       "    </tr>\n",
       "    <tr>\n",
       "      <th>157</th>\n",
       "      <td>678354126</td>\n",
       "      <td>2</td>\n",
       "    </tr>\n",
       "    <tr>\n",
       "      <th>323</th>\n",
       "      <td>1404560065</td>\n",
       "      <td>2</td>\n",
       "    </tr>\n",
       "    <tr>\n",
       "      <th>452</th>\n",
       "      <td>1985475298</td>\n",
       "      <td>2</td>\n",
       "    </tr>\n",
       "  </tbody>\n",
       "</table>\n",
       "</div>"
      ],
      "text/plain": [
       "        user_id  orders\n",
       "908  3967698036       3\n",
       "55    249864742       3\n",
       "478  2108163459       3\n",
       "687  2988190573       3\n",
       "890  3908431265       3\n",
       "138   611059232       3\n",
       "632  2742574263       3\n",
       "157   678354126       2\n",
       "323  1404560065       2\n",
       "452  1985475298       2"
      ]
     },
     "execution_count": 30,
     "metadata": {},
     "output_type": "execute_result"
    }
   ],
   "source": [
    "ordersByUsers = orders.drop(['group', 'revenue', 'date'], axis=1).groupby('visitorId', as_index=False).agg({'transactionId' : pd.Series.nunique})\n",
    "\n",
    "ordersByUsers.columns = ['user_id','orders']\n",
    "\n",
    "ordersByUsers.sort_values(by='orders',ascending=False).head(10)"
   ]
  },
  {
   "cell_type": "code",
   "execution_count": 31,
   "metadata": {},
   "outputs": [
    {
     "data": {
      "image/png": "[encoded data removed]",
      "text/plain": [
       "<Figure size 1080x360 with 1 Axes>"
      ]
     },
     "metadata": {
      "needs_background": "light"
     },
     "output_type": "display_data"
    }
   ],
   "source": [
    "x_values = pd.Series(range(0,len(ordersByUsers)))\n",
    "\n",
    "plt.figure(figsize=(15,5))\n",
    "plt.grid()\n",
    "plt.scatter(x_values, ordersByUsers['orders'], alpha=0.5)\n",
    "plt.title('Точечный график количества заказов по пользователям')\n",
    "plt.show()"
   ]
  },
  {
   "cell_type": "markdown",
   "metadata": {},
   "source": [
    "Больше всего пользователей которые совершили 1 заказ. Меньшее количество пользователей, которые совершили 2 заказа.  Количество пользователей, которые совершили 3 заказа и более меньше, их точная доля не ясна — непонятно, считать их аномалиями или нет. \n",
    "Посчитаем выборочные перцентили количества заказов на одного пользователя\n"
   ]
  },
  {
   "cell_type": "markdown",
   "metadata": {},
   "source": [
    "7.Посчитаем 95-й и 99-й перцентили количества заказов на пользователя"
   ]
  },
  {
   "cell_type": "code",
   "execution_count": 32,
   "metadata": {},
   "outputs": [
    {
     "name": "stdout",
     "output_type": "stream",
     "text": [
      "[1. 2.]\n"
     ]
    }
   ],
   "source": [
    "print(np.percentile(ordersByUsers['orders'], [95, 99]))"
   ]
  },
  {
   "cell_type": "markdown",
   "metadata": {},
   "source": [
    "Большинство пользователей делают 1 или 2 заказа. Всё что выше - это аномалия"
   ]
  },
  {
   "cell_type": "markdown",
   "metadata": {},
   "source": [
    "8.Построим точечный график стоимостей заказов."
   ]
  },
  {
   "cell_type": "code",
   "execution_count": 33,
   "metadata": {},
   "outputs": [
    {
     "data": {
      "image/png": "[encoded data removed]",
      "text/plain": [
       "<Figure size 1080x360 with 1 Axes>"
      ]
     },
     "metadata": {
      "needs_background": "light"
     },
     "output_type": "display_data"
    }
   ],
   "source": [
    "x_values = pd.Series(range(0,len(orders['revenue'])))\n",
    "plt.figure(figsize=(15,5))\n",
    "plt.grid()\n",
    "plt.scatter(x_values, orders['revenue'], alpha=0.5)\n",
    "plt.title('Точечный график стоимостей заказов')\n",
    "plt.show()"
   ]
  },
  {
   "cell_type": "markdown",
   "metadata": {},
   "source": [
    "Стоимость заказов варьируют до 100 000. Есть выброс в районе 200 000 и в районе 1 300 000 рублей. Найдем выборочные перцентили. \n"
   ]
  },
  {
   "cell_type": "markdown",
   "metadata": {},
   "source": [
    "9. Посчитаем 95-й и 99-й перцентили стоимости заказов. Определим границу для определения аномальных заказов."
   ]
  },
  {
   "cell_type": "code",
   "execution_count": 34,
   "metadata": {},
   "outputs": [
    {
     "name": "stdout",
     "output_type": "stream",
     "text": [
      "[26785. 53904.]\n"
     ]
    }
   ],
   "source": [
    "print(np.percentile(orders['revenue'], [95, 99])) "
   ]
  },
  {
   "cell_type": "markdown",
   "metadata": {},
   "source": [
    "Не больше, чем  1% заказов  дороже 53904. Это и будет границей для определения аномальных заказов"
   ]
  },
  {
   "cell_type": "markdown",
   "metadata": {},
   "source": [
    "10.Посчитаем статистическую значимость различий в среднем количестве заказов между группами по «сырым» данным.\n",
    "\n",
    "Соберем все данные по заказам и визитам, их кумулятивные показатели в одну таблицу. Для этого создадим несколько таблиц и затем объединим их"
   ]
  },
  {
   "cell_type": "code",
   "execution_count": 35,
   "metadata": {},
   "outputs": [
    {
     "data": {
      "text/html": [
       "<div>\n",
       "<style scoped>\n",
       "    .dataframe tbody tr th:only-of-type {\n",
       "        vertical-align: middle;\n",
       "    }\n",
       "\n",
       "    .dataframe tbody tr th {\n",
       "        vertical-align: top;\n",
       "    }\n",
       "\n",
       "    .dataframe thead th {\n",
       "        text-align: right;\n",
       "    }\n",
       "</style>\n",
       "<table border=\"1\" class=\"dataframe\">\n",
       "  <thead>\n",
       "    <tr style=\"text-align: right;\">\n",
       "      <th></th>\n",
       "      <th>date</th>\n",
       "      <th>ordersPerDateA</th>\n",
       "      <th>revenuePerDateA</th>\n",
       "      <th>ordersPerDateB</th>\n",
       "      <th>revenuePerDateB</th>\n",
       "      <th>ordersCummulativeA</th>\n",
       "      <th>revenueCummulativeA</th>\n",
       "      <th>ordersCummulativeB</th>\n",
       "      <th>revenueCummulativeB</th>\n",
       "      <th>visitorsPerDateA</th>\n",
       "      <th>visitorsPerDateB</th>\n",
       "      <th>visitorsCummulativeA</th>\n",
       "      <th>visitorsCummulativeB</th>\n",
       "    </tr>\n",
       "  </thead>\n",
       "  <tbody>\n",
       "    <tr>\n",
       "      <th>0</th>\n",
       "      <td>2019-08-01</td>\n",
       "      <td>23</td>\n",
       "      <td>142779</td>\n",
       "      <td>17</td>\n",
       "      <td>59758</td>\n",
       "      <td>23</td>\n",
       "      <td>142779</td>\n",
       "      <td>17</td>\n",
       "      <td>59758</td>\n",
       "      <td>719</td>\n",
       "      <td>713</td>\n",
       "      <td>719</td>\n",
       "      <td>713</td>\n",
       "    </tr>\n",
       "    <tr>\n",
       "      <th>1</th>\n",
       "      <td>2019-08-02</td>\n",
       "      <td>19</td>\n",
       "      <td>91602</td>\n",
       "      <td>23</td>\n",
       "      <td>162043</td>\n",
       "      <td>42</td>\n",
       "      <td>234381</td>\n",
       "      <td>40</td>\n",
       "      <td>221801</td>\n",
       "      <td>619</td>\n",
       "      <td>581</td>\n",
       "      <td>1338</td>\n",
       "      <td>1294</td>\n",
       "    </tr>\n",
       "    <tr>\n",
       "      <th>2</th>\n",
       "      <td>2019-08-03</td>\n",
       "      <td>24</td>\n",
       "      <td>112473</td>\n",
       "      <td>14</td>\n",
       "      <td>67049</td>\n",
       "      <td>66</td>\n",
       "      <td>346854</td>\n",
       "      <td>54</td>\n",
       "      <td>288850</td>\n",
       "      <td>507</td>\n",
       "      <td>509</td>\n",
       "      <td>1845</td>\n",
       "      <td>1803</td>\n",
       "    </tr>\n",
       "    <tr>\n",
       "      <th>3</th>\n",
       "      <td>2019-08-04</td>\n",
       "      <td>11</td>\n",
       "      <td>41176</td>\n",
       "      <td>14</td>\n",
       "      <td>96890</td>\n",
       "      <td>77</td>\n",
       "      <td>388030</td>\n",
       "      <td>68</td>\n",
       "      <td>385740</td>\n",
       "      <td>717</td>\n",
       "      <td>770</td>\n",
       "      <td>2562</td>\n",
       "      <td>2573</td>\n",
       "    </tr>\n",
       "    <tr>\n",
       "      <th>4</th>\n",
       "      <td>2019-08-05</td>\n",
       "      <td>22</td>\n",
       "      <td>86383</td>\n",
       "      <td>21</td>\n",
       "      <td>89908</td>\n",
       "      <td>99</td>\n",
       "      <td>474413</td>\n",
       "      <td>89</td>\n",
       "      <td>475648</td>\n",
       "      <td>756</td>\n",
       "      <td>707</td>\n",
       "      <td>3318</td>\n",
       "      <td>3280</td>\n",
       "    </tr>\n",
       "  </tbody>\n",
       "</table>\n",
       "</div>"
      ],
      "text/plain": [
       "        date  ordersPerDateA  revenuePerDateA  ordersPerDateB  \\\n",
       "0 2019-08-01              23           142779              17   \n",
       "1 2019-08-02              19            91602              23   \n",
       "2 2019-08-03              24           112473              14   \n",
       "3 2019-08-04              11            41176              14   \n",
       "4 2019-08-05              22            86383              21   \n",
       "\n",
       "   revenuePerDateB  ordersCummulativeA  revenueCummulativeA  \\\n",
       "0            59758                  23               142779   \n",
       "1           162043                  42               234381   \n",
       "2            67049                  66               346854   \n",
       "3            96890                  77               388030   \n",
       "4            89908                  99               474413   \n",
       "\n",
       "   ordersCummulativeB  revenueCummulativeB  visitorsPerDateA  \\\n",
       "0                  17                59758               719   \n",
       "1                  40               221801               619   \n",
       "2                  54               288850               507   \n",
       "3                  68               385740               717   \n",
       "4                  89               475648               756   \n",
       "\n",
       "   visitorsPerDateB  visitorsCummulativeA  visitorsCummulativeB  \n",
       "0               713                   719                   713  \n",
       "1               581                  1338                  1294  \n",
       "2               509                  1845                  1803  \n",
       "3               770                  2562                  2573  \n",
       "4               707                  3318                  3280  "
      ]
     },
     "metadata": {},
     "output_type": "display_data"
    }
   ],
   "source": [
    "visitorsADaily = visitors[visitors['group']=='A'][['date', 'visitors']]\n",
    "visitorsADaily.columns = ['date', 'visitorsPerDateA']\n",
    "\n",
    "visitorsACummulative = visitorsADaily.apply(lambda x: visitorsADaily[visitorsADaily['date'] <= x['date']]. \\\n",
    "                                            agg({'date' : 'max', 'visitorsPerDateA' : 'sum'}), axis=1)\n",
    "visitorsACummulative.columns = ['date', 'visitorsCummulativeA']\n",
    "\n",
    "visitorsBDaily = visitors[visitors['group']=='B'][['date', 'visitors']]\n",
    "visitorsBDaily.columns = ['date', 'visitorsPerDateB']\n",
    "\n",
    "visitorsBCummulative = visitorsBDaily.apply(lambda x: visitorsBDaily[visitorsBDaily['date'] <= x['date']]. \\\n",
    "                                            agg({'date' : 'max', 'visitorsPerDateB' : 'sum'}), axis=1)\n",
    "visitorsBCummulative.columns = ['date', 'visitorsCummulativeB']\n",
    "\n",
    "\n",
    "ordersADaily = orders[orders['group']=='A'][['date', 'transactionId', 'visitorId', 'revenue']]\\\n",
    "    .groupby('date', as_index=False)\\\n",
    "    .agg({'transactionId' : pd.Series.nunique, 'revenue' : 'sum'})\n",
    "ordersADaily.columns = ['date', 'ordersPerDateA', 'revenuePerDateA']\n",
    "\n",
    "ordersACummulative = ordersADaily.apply(\n",
    "    lambda x: \\\n",
    "        ordersADaily[ordersADaily['date'] <= x['date']]\\\n",
    "            .agg({\n",
    "                'date' : 'max',\n",
    "                'ordersPerDateA' : 'sum',\n",
    "                'revenuePerDateA' : 'sum'}), axis=1).sort_values(by=['date'])\n",
    "ordersACummulative.columns = ['date', 'ordersCummulativeA', 'revenueCummulativeA']\n",
    "\n",
    "ordersBDaily = orders[orders['group']=='B'][['date', 'transactionId', 'visitorId', 'revenue']]\\\n",
    "    .groupby('date', as_index=False)\\\n",
    "    .agg({'transactionId' : pd.Series.nunique, 'revenue' : 'sum'})\n",
    "ordersBDaily.columns = ['date', 'ordersPerDateB', 'revenuePerDateB']\n",
    "\n",
    "ordersBCummulative = ordersBDaily.apply(\n",
    "    lambda x: \\\n",
    "        ordersBDaily[ordersBDaily['date'] <= x['date']]\\\n",
    "            .agg({\n",
    "                'date' : 'max',\n",
    "                'ordersPerDateB' : 'sum',\n",
    "                'revenuePerDateB' : 'sum'}), axis=1).sort_values(by=['date'])\n",
    "ordersBCummulative.columns = ['date', 'ordersCummulativeB', 'revenueCummulativeB']\n",
    "\n",
    "data = ordersADaily.merge(ordersBDaily, left_on='date', right_on='date', how='left')\\\n",
    "    .merge(ordersACummulative, left_on='date', right_on='date', how='left')\\\n",
    "    .merge(ordersBCummulative, left_on='date', right_on='date', how='left')\\\n",
    "    .merge(visitorsADaily, left_on='date', right_on='date', how='left')\\\n",
    "    .merge(visitorsBDaily, left_on='date', right_on='date', how='left')\\\n",
    "    .merge(visitorsACummulative, left_on='date', right_on='date', how='left')\\\n",
    "    .merge(visitorsBCummulative, left_on='date', right_on='date', how='left')\n",
    "display(data.head(5))"
   ]
  },
  {
   "cell_type": "markdown",
   "metadata": {},
   "source": [
    "Посчитаем статистическую значимость различия в среднем количестве заказов между группами.\n",
    "Создадим переменные ordersByUsersA и ordersByUsersB со столбцами ['userId', 'orders']. В них для пользователей, которые заказывали хотя бы 1 раз, укажем число совершённых заказов. Объявим переменные sampleA и sampleB, в которых пользователям из разных групп будет соответствовать количество заказов. Тем, кто ничего не заказал, будут соответствовать нули. Это нужно, чтобы подготовить выборки к проверке критерием Манна-Уитни.Применим критерий и отформатируем p-value, округлив его до трёх знаков после запятой.\n",
    "\n",
    "Нулевая гипотеза: статистически значимых различий в конверсии между группами нет.\n",
    "Альтернативная гипотеза: статистически значимые различия есть."
   ]
  },
  {
   "cell_type": "code",
   "execution_count": 36,
   "metadata": {},
   "outputs": [
    {
     "name": "stdout",
     "output_type": "stream",
     "text": [
      "p-value = 0.011\n",
      "Относительный показатель группы B к группе A = 0.160\n"
     ]
    }
   ],
   "source": [
    "ordersByUsersA = orders[orders['group']=='A'].groupby('visitorId', as_index=False).agg({'transactionId' : pd.Series.nunique})\n",
    "ordersByUsersA.columns = ['userId', 'orders']\n",
    "\n",
    "ordersByUsersB = orders[orders['group']=='B'].groupby('visitorId', as_index=False).agg({'transactionId' : pd.Series.nunique})\n",
    "ordersByUsersB.columns = ['userId', 'orders']\n",
    "\n",
    "sampleA = pd.concat([ordersByUsersA['orders'],pd.Series(0, index=np.arange(data['visitorsPerDateA'].sum() - len(ordersByUsersA['orders'])), name='orders')],axis=0)\n",
    "\n",
    "sampleB = pd.concat([ordersByUsersB['orders'],pd.Series(0, index=np.arange(data['visitorsPerDateB'].sum() - len(ordersByUsersB['orders'])), name='orders')],axis=0)\n",
    "\n",
    "print(\"p-value = {0:.3f}\".format(stats.mannwhitneyu(sampleA, sampleB, alternative = 'two-sided')[1]))\n",
    "print(\"Относительный показатель группы B к группе A = {0:.3f}\".format(sampleB.mean()/sampleA.mean()-1)) "
   ]
  },
  {
   "cell_type": "markdown",
   "metadata": {},
   "source": [
    "p-value = 0.011, что меньше альфа 0.05. Значит, нулевую гипотезу о том, что статистически значимых различий в конверсии между группами нет, - отвергаем.  \n",
    "По «сырым» данным различия в конверсии групп A и B есть. А относительный выигрыш группы B над A равен 16% ."
   ]
  },
  {
   "cell_type": "markdown",
   "metadata": {},
   "source": [
    "11. Посчитаем статистическую значимость различий в среднем чеке заказа между группами по «сырым» данным. \n",
    "\n",
    "Нулевая гипотеза: статистически значимых различий в средних чеках между группами нет. \n",
    "Альтернативная гипотеза: статистически значимые различия есть."
   ]
  },
  {
   "cell_type": "code",
   "execution_count": 37,
   "metadata": {},
   "outputs": [
    {
     "name": "stdout",
     "output_type": "stream",
     "text": [
      "p-value = 0.829\n",
      "Относительный показатель группы B к группе A = 0.287\n"
     ]
    }
   ],
   "source": [
    "print('p-value = {0:.3f}'.format(stats.mannwhitneyu(orders[orders['group']=='A']['revenue'], orders[orders['group']=='B']['revenue'])[1]))\n",
    "print('Относительный показатель группы B к группе A = {0:.3f}'.format(orders[orders['group']=='B']['revenue'].mean()/orders[orders['group']=='A']['revenue'].mean()-1)) \n"
   ]
  },
  {
   "cell_type": "markdown",
   "metadata": {},
   "source": [
    "P-value значительно больше 0.05 и равно 0,829. Значит, причин отвергать нулевую гипотезу и считать, что в среднем чеке есть различия, нет. При этом, средний чек группы B значительно выше среднего чека группы A на 28,7%."
   ]
  },
  {
   "cell_type": "markdown",
   "metadata": {},
   "source": [
    "12.Посчитаем статистическую значимость различий в среднем количестве заказов между группами по «очищенным» данным. \n",
    "\n",
    "Аномальное количество заказов 3 и больше заказов , аномальная сумма заказза более  53904. Сделаем срезы пользователей с числом заказов больше 2 — usersWithManyOrders и пользователей, совершивших заказы дороже 53904 — usersWithExpensiveOrders. Объединим их в таблице abnormalUsers. Узнаем, сколько всего аномальных пользователей методом shape."
   ]
  },
  {
   "cell_type": "code",
   "execution_count": 38,
   "metadata": {},
   "outputs": [
    {
     "data": {
      "text/plain": [
       "1099    148427295\n",
       "33      249864742\n",
       "58      611059232\n",
       "949     887908475\n",
       "744     888512513\n",
       "dtype: int64"
      ]
     },
     "metadata": {},
     "output_type": "display_data"
    },
    {
     "data": {
      "text/plain": [
       "16"
      ]
     },
     "metadata": {},
     "output_type": "display_data"
    }
   ],
   "source": [
    "usersWithManyOrders = pd.concat([ordersByUsersA[ordersByUsersA['orders'] > 2]['userId'], ordersByUsersB[ordersByUsersB['orders'] > 2]['userId']], axis = 0)\n",
    "usersWithExpensiveOrders = orders[orders['revenue'] > 53904]['visitorId']\n",
    "abnormalUsers = pd.concat([usersWithManyOrders, usersWithExpensiveOrders], axis = 0).drop_duplicates().sort_values()\n",
    "display(abnormalUsers.head(5))\n",
    "display(abnormalUsers.shape[0]) "
   ]
  },
  {
   "cell_type": "markdown",
   "metadata": {},
   "source": [
    "Всего 16 аномальных пользователей. \n",
    "Узнаем, как их действия повлияли на результаты теста. Посчитаем статистическую значимость различий в среднем количестве заказов между группами теста по очищенным данным.\n",
    "\n",
    "Сначала подготовим выборки количества заказов по пользователям по группам теста.Применим статистический критерий Манна-Уитни к полученным выборкам.\n",
    "\n",
    "Нулевая гипотеза: статистически значимых различий в конверсии между группами нет. \n",
    "Альтернативная гипотеза: статистически значимые различия есть."
   ]
  },
  {
   "cell_type": "code",
   "execution_count": 39,
   "metadata": {},
   "outputs": [
    {
     "name": "stdout",
     "output_type": "stream",
     "text": [
      "p-value = 0.007\n",
      "Относительный показатель группы B к группе A =0.189\n"
     ]
    }
   ],
   "source": [
    "sampleAFiltered = pd.concat([ordersByUsersA[np.logical_not(ordersByUsersA['userId'].isin(abnormalUsers))]['orders'], pd.Series(0, index=np.arange(data['visitorsPerDateA'].sum() - len(ordersByUsersA['orders'])), name='orders')],axis=0)\n",
    "\n",
    "sampleBFiltered = pd.concat([ordersByUsersB[np.logical_not(ordersByUsersB['userId'].isin(abnormalUsers))]['orders'], pd.Series(0, index=np.arange(data['visitorsPerDateB'].sum() - len(ordersByUsersB['orders'])), name='orders')],axis=0) \n",
    "\n",
    "print(\"p-value = {0:.3f}\".format(stats.mannwhitneyu(sampleAFiltered, sampleBFiltered, alternative = 'two-sided')[1]))\n",
    "print(\"Относительный показатель группы B к группе A ={0:.3f}\".format(sampleBFiltered.mean()/sampleAFiltered.mean()-1)) "
   ]
  },
  {
   "cell_type": "markdown",
   "metadata": {},
   "source": [
    "p-value = 0.007 (меньше 0.05). Значит, нулевую гипотезу  отвергаем. Это значит, что и по «очищенным» данным различия в конверсии групп A и B есть. А относительный выигрыш группы B над A равен 18,9% "
   ]
  },
  {
   "cell_type": "markdown",
   "metadata": {},
   "source": [
    "13. Посчитаем статистическую значимость различий в среднем чеке заказа между группами по «очищенным» данным.\n",
    "\n",
    "Нулевая гипотеза: статистически значимых различий в средних чеках между группами нет. \n",
    "Альтернативная гипотеза: статистически значимые различия есть."
   ]
  },
  {
   "cell_type": "code",
   "execution_count": 40,
   "metadata": {},
   "outputs": [
    {
     "name": "stdout",
     "output_type": "stream",
     "text": [
      "p-value = 0.788\n",
      "Относительный показатель группы B к группе A =-0.032\n"
     ]
    }
   ],
   "source": [
    "print(\"p-value = {0:.3f}\".format(stats.mannwhitneyu(orders[np.logical_and(orders['group']=='A', np.logical_not(orders['visitorId'].isin(abnormalUsers)))]['revenue'], orders[np.logical_and(orders['group']=='B', np.logical_not(orders['visitorId'].isin(abnormalUsers)))]['revenue'], alternative = 'two-sided')[1]))\n",
    "\n",
    "print(\"Относительный показатель группы B к группе A ={0:.3f}\".format(orders[np.logical_and(orders['group']=='B',np.logical_not(orders['visitorId'].isin(abnormalUsers)))]['revenue'].mean()/orders[np.logical_and(orders['group']=='A', np.logical_not(orders['visitorId'].isin(abnormalUsers)))]['revenue'].mean() - 1)) "
   ]
  },
  {
   "cell_type": "markdown",
   "metadata": {},
   "source": [
    "р-value = 0.788 (больше 0.05). Значит,  нулевую гипотезу не отвергаем. Статистически значимых различий в средних чеках между группами нет.При этом средний чек группы B оказался незначительно (на 3,2%) ниже среднего чека группы A, в то время как по \"сырым\" данным, он был больше  на 28,7% по причине наличия аномального заказа "
   ]
  },
  {
   "cell_type": "markdown",
   "metadata": {},
   "source": [
    "\n",
    "    \n",
    "Также хочу добавить, что критерий Манна-Уитни ранговый поэтому он устойчив к выбросам. \n",
    "Это означает, что данные ранжируются, выброс будет просто распознаваться как случай, который ранжируется на единицу выше (или ниже) следующего наблюдения, поэтому сильного влияния на p-value выбросы не оказывают."
   ]
  },
  {
   "cell_type": "markdown",
   "metadata": {},
   "source": [
    "14.Примите решение по результатам теста и объясните его (в выводе). \n",
    "\n",
    "Варианты решений: 1. Остановить тест, зафиксировать победу одной из групп. 2. Остановить тест, зафиксировать отсутствие различий между группами. 3. Продолжить тест."
   ]
  },
  {
   "cell_type": "markdown",
   "metadata": {},
   "source": [
    "**Вывод**"
   ]
  },
  {
   "cell_type": "markdown",
   "metadata": {},
   "source": [
    "•\tЕсть статистически значимое различие по конверсии между группами как по сырым данным, так и после фильтрации аномалий.\n",
    "\n",
    "•\tПо сырым данным и после фильтрации аномалий нет статистически значимого различия по среднему чеку между группами. \n",
    "\n",
    "Проведен расчет статистической  значимости различий в среднем количестве заказов между группами по «сырым» данным. Нулевая гипотеза: статистически значимых различий в конверсии между группами нет. Альтернативная гипотеза: статистически значимые различия есть. p-value = 0.011, что меньше альфа 0.05. Значит, нулевую гипотезу о том, что статистически значимых различий в конверсии между группами нет, - отвергаем. По «сырым» данным различия в конверсии групп A и B есть. А относительный выигрыш группы B над A равен 16% .\n",
    "\n",
    "Проведен расчет статистической значимости различий в среднем чеке заказа между группами по «сырым» данным. Нулевая гипотеза: статистически значимых различий в средних чеках между группами нет. Альтернативная гипотеза: статистически значимые различия есть. P-value значительно больше 0.05 и равно 0,829. Значит, причин отвергать нулевую гипотезу и считать, что в среднем чеке есть различия, нет. При этом, средний чек группы B значительно выше среднего чека группы A на 28,7%.\n",
    "\n",
    "Проведен расчет статистической  значимости различий в среднем количестве заказов между группами по «очищенным» данным. Нулевая гипотеза: статистически значимых различий в конверсии между группами нет. Альтернативная гипотеза: статистически значимые различия есть. p-value = 0.007 (меньше 0.05). Значит, нулевую гипотезу  отвергаем. Это значит, что и по «очищенным» данным различия в конверсии групп A и B есть. А относительный выигрыш группы B над A равен 18,9%\n",
    "\n",
    "Проведен расчет статистической различий в среднем чеке заказа между группами по «очищенным» данным. Нулевая гипотеза: статистически значимых различий в средних чеках между группами нет. Альтернативная гипотеза: статистически значимые различия есть. р-value = 0.788 (больше 0.05). Значит, нулевую гипотезу не отвергаем. Статистически значимых различий в средних чеках между группами нет.При этом средний чек группы B оказался незначительно (на 3,2%) ниже среднего чека группы A, в то время как по \"сырым\" данным, он был больше на 28,7% по причине наличия аномального заказа\n",
    "\n",
    "\n",
    "•\tРекомендуется В версию страницы А/Б  отправлить на главную страницу сайта. График различия конверсии между группами сообщает, что результаты группы B лучше группы A: имеют тенденцию к росту, либо зафиксировались около среднего значения.\n",
    "\n",
    "Можно остановить тест, признать его успешным.\n"
   ]
  }
 ],
 "metadata": {
  "ExecuteTimeLog": [
   {
    "duration": 831,
    "start_time": "2022-10-20T18:58:35.505Z"
   },
   {
    "duration": 237,
    "start_time": "2022-10-20T19:08:05.786Z"
   },
   {
    "duration": 14,
    "start_time": "2022-10-20T19:13:40.154Z"
   },
   {
    "duration": 11,
    "start_time": "2022-10-20T19:15:25.601Z"
   },
   {
    "duration": 12,
    "start_time": "2022-10-20T19:18:36.810Z"
   },
   {
    "duration": 9,
    "start_time": "2022-10-20T19:19:13.482Z"
   },
   {
    "duration": 5,
    "start_time": "2022-10-20T19:21:20.434Z"
   },
   {
    "duration": 5,
    "start_time": "2022-10-20T19:21:26.460Z"
   },
   {
    "duration": 5,
    "start_time": "2022-10-20T19:22:54.132Z"
   },
   {
    "duration": 11,
    "start_time": "2022-10-20T19:24:48.296Z"
   },
   {
    "duration": 10,
    "start_time": "2022-10-20T19:24:57.084Z"
   },
   {
    "duration": 5,
    "start_time": "2022-10-20T19:25:36.047Z"
   },
   {
    "duration": 4,
    "start_time": "2022-10-20T19:27:53.027Z"
   },
   {
    "duration": 10,
    "start_time": "2022-10-20T19:28:04.497Z"
   },
   {
    "duration": 9,
    "start_time": "2022-10-20T19:31:46.553Z"
   },
   {
    "duration": 9,
    "start_time": "2022-10-20T19:32:02.510Z"
   },
   {
    "duration": 5,
    "start_time": "2022-10-20T19:32:26.331Z"
   },
   {
    "duration": 7,
    "start_time": "2022-10-20T19:32:37.437Z"
   },
   {
    "duration": 5,
    "start_time": "2022-10-20T19:34:33.906Z"
   },
   {
    "duration": 4,
    "start_time": "2022-10-20T19:34:50.173Z"
   },
   {
    "duration": 10,
    "start_time": "2022-10-20T19:35:00.397Z"
   },
   {
    "duration": 7,
    "start_time": "2022-10-20T19:45:29.766Z"
   },
   {
    "duration": 77,
    "start_time": "2022-10-20T19:49:11.343Z"
   },
   {
    "duration": 13,
    "start_time": "2022-10-20T19:49:21.378Z"
   },
   {
    "duration": 15,
    "start_time": "2022-10-20T19:49:27.341Z"
   },
   {
    "duration": 7,
    "start_time": "2022-10-20T19:50:11.219Z"
   },
   {
    "duration": 13,
    "start_time": "2022-10-20T19:51:42.970Z"
   },
   {
    "duration": 10,
    "start_time": "2022-10-20T19:51:54.543Z"
   },
   {
    "duration": 9,
    "start_time": "2022-10-20T19:52:43.788Z"
   },
   {
    "duration": 8,
    "start_time": "2022-10-20T19:52:59.603Z"
   },
   {
    "duration": 75,
    "start_time": "2022-10-20T19:59:21.816Z"
   },
   {
    "duration": 74,
    "start_time": "2022-10-20T19:59:30.074Z"
   },
   {
    "duration": 9,
    "start_time": "2022-10-20T20:18:30.885Z"
   },
   {
    "duration": 12,
    "start_time": "2022-10-20T20:18:44.218Z"
   },
   {
    "duration": 12,
    "start_time": "2022-10-20T20:18:47.588Z"
   },
   {
    "duration": 7,
    "start_time": "2022-10-20T20:18:50.956Z"
   },
   {
    "duration": 7,
    "start_time": "2022-10-20T20:18:51.491Z"
   },
   {
    "duration": 5,
    "start_time": "2022-10-20T20:18:51.972Z"
   },
   {
    "duration": 10,
    "start_time": "2022-10-20T20:18:52.552Z"
   },
   {
    "duration": 9,
    "start_time": "2022-10-20T20:18:53.117Z"
   },
   {
    "duration": 6,
    "start_time": "2022-10-20T20:18:53.612Z"
   },
   {
    "duration": 6,
    "start_time": "2022-10-20T20:18:54.132Z"
   },
   {
    "duration": 4,
    "start_time": "2022-10-20T20:18:54.669Z"
   },
   {
    "duration": 10,
    "start_time": "2022-10-20T20:18:56.625Z"
   },
   {
    "duration": 8,
    "start_time": "2022-10-20T20:18:57.145Z"
   },
   {
    "duration": 48,
    "start_time": "2022-10-22T18:26:16.948Z"
   },
   {
    "duration": 1174,
    "start_time": "2022-10-22T18:26:31.838Z"
   },
   {
    "duration": 163,
    "start_time": "2022-10-22T18:26:33.014Z"
   },
   {
    "duration": 12,
    "start_time": "2022-10-22T18:26:33.178Z"
   },
   {
    "duration": 11,
    "start_time": "2022-10-22T18:26:33.191Z"
   },
   {
    "duration": 7,
    "start_time": "2022-10-22T18:26:33.203Z"
   },
   {
    "duration": 15,
    "start_time": "2022-10-22T18:26:33.212Z"
   },
   {
    "duration": 13,
    "start_time": "2022-10-22T18:26:33.228Z"
   },
   {
    "duration": 7,
    "start_time": "2022-10-22T18:26:33.426Z"
   },
   {
    "duration": 6,
    "start_time": "2022-10-22T18:26:33.596Z"
   },
   {
    "duration": 5,
    "start_time": "2022-10-22T18:26:33.777Z"
   },
   {
    "duration": 10,
    "start_time": "2022-10-22T18:26:34.275Z"
   },
   {
    "duration": 10,
    "start_time": "2022-10-22T18:26:34.432Z"
   },
   {
    "duration": 5,
    "start_time": "2022-10-22T18:26:34.611Z"
   },
   {
    "duration": 6,
    "start_time": "2022-10-22T18:26:34.805Z"
   },
   {
    "duration": 4,
    "start_time": "2022-10-22T18:26:34.989Z"
   },
   {
    "duration": 10,
    "start_time": "2022-10-22T18:26:35.804Z"
   },
   {
    "duration": 8,
    "start_time": "2022-10-22T18:26:36.028Z"
   },
   {
    "duration": 78,
    "start_time": "2022-10-22T18:26:36.912Z"
   },
   {
    "duration": 28,
    "start_time": "2022-10-22T18:27:02.099Z"
   },
   {
    "duration": 36,
    "start_time": "2022-10-22T18:28:06.383Z"
   },
   {
    "duration": 25,
    "start_time": "2022-10-22T18:30:00.507Z"
   },
   {
    "duration": 27,
    "start_time": "2022-10-22T18:30:03.002Z"
   },
   {
    "duration": 4,
    "start_time": "2022-10-22T18:32:19.103Z"
   },
   {
    "duration": 46,
    "start_time": "2022-10-22T18:32:19.847Z"
   },
   {
    "duration": 8,
    "start_time": "2022-10-22T18:32:21.060Z"
   },
   {
    "duration": 11,
    "start_time": "2022-10-22T18:32:21.740Z"
   },
   {
    "duration": 6,
    "start_time": "2022-10-22T18:32:22.381Z"
   },
   {
    "duration": 13,
    "start_time": "2022-10-22T18:32:24.250Z"
   },
   {
    "duration": 11,
    "start_time": "2022-10-22T18:32:25.180Z"
   },
   {
    "duration": 6,
    "start_time": "2022-10-22T18:32:25.783Z"
   },
   {
    "duration": 8,
    "start_time": "2022-10-22T18:32:26.413Z"
   },
   {
    "duration": 6,
    "start_time": "2022-10-22T18:32:27.020Z"
   },
   {
    "duration": 10,
    "start_time": "2022-10-22T18:32:28.182Z"
   },
   {
    "duration": 12,
    "start_time": "2022-10-22T18:32:28.957Z"
   },
   {
    "duration": 7,
    "start_time": "2022-10-22T18:32:29.580Z"
   },
   {
    "duration": 6,
    "start_time": "2022-10-22T18:32:30.226Z"
   },
   {
    "duration": 4,
    "start_time": "2022-10-22T18:32:30.963Z"
   },
   {
    "duration": 7,
    "start_time": "2022-10-22T18:32:33.627Z"
   },
   {
    "duration": 8,
    "start_time": "2022-10-22T18:32:34.748Z"
   },
   {
    "duration": 27,
    "start_time": "2022-10-22T18:32:38.357Z"
   },
   {
    "duration": 28,
    "start_time": "2022-10-22T18:32:40.371Z"
   },
   {
    "duration": 277,
    "start_time": "2022-10-22T18:35:58.576Z"
   },
   {
    "duration": 26,
    "start_time": "2022-10-22T18:36:10.385Z"
   },
   {
    "duration": 27,
    "start_time": "2022-10-22T18:36:13.804Z"
   },
   {
    "duration": 277,
    "start_time": "2022-10-22T18:36:43.412Z"
   },
   {
    "duration": 64,
    "start_time": "2022-10-22T18:37:57.972Z"
   },
   {
    "duration": 248,
    "start_time": "2022-10-22T18:38:52.330Z"
   },
   {
    "duration": 169,
    "start_time": "2022-10-22T18:39:14.139Z"
   },
   {
    "duration": 182,
    "start_time": "2022-10-22T18:43:51.561Z"
   },
   {
    "duration": 175,
    "start_time": "2022-10-22T18:44:02.852Z"
   },
   {
    "duration": 184,
    "start_time": "2022-10-22T18:44:10.337Z"
   },
   {
    "duration": 181,
    "start_time": "2022-10-22T18:44:20.072Z"
   },
   {
    "duration": 178,
    "start_time": "2022-10-22T18:44:25.787Z"
   },
   {
    "duration": 175,
    "start_time": "2022-10-22T18:50:58.353Z"
   },
   {
    "duration": 179,
    "start_time": "2022-10-22T18:51:11.348Z"
   },
   {
    "duration": 368,
    "start_time": "2022-10-22T19:13:53.481Z"
   },
   {
    "duration": 262,
    "start_time": "2022-10-22T19:14:20.549Z"
   },
   {
    "duration": 262,
    "start_time": "2022-10-22T19:14:27.548Z"
   },
   {
    "duration": 189,
    "start_time": "2022-10-22T19:18:46.423Z"
   },
   {
    "duration": 327,
    "start_time": "2022-10-22T19:23:14.127Z"
   },
   {
    "duration": 119,
    "start_time": "2022-10-22T19:33:15.257Z"
   },
   {
    "duration": 136,
    "start_time": "2022-10-22T19:33:55.265Z"
   },
   {
    "duration": 140,
    "start_time": "2022-10-22T19:34:26.457Z"
   },
   {
    "duration": 6,
    "start_time": "2022-10-22T19:44:18.159Z"
   },
   {
    "duration": 4,
    "start_time": "2022-10-22T19:46:35.877Z"
   },
   {
    "duration": 163,
    "start_time": "2022-10-22T19:51:26.045Z"
   },
   {
    "duration": 152,
    "start_time": "2022-10-22T19:51:37.020Z"
   },
   {
    "duration": 5,
    "start_time": "2022-10-22T19:57:29.277Z"
   },
   {
    "duration": 217,
    "start_time": "2022-10-22T20:04:14.021Z"
   },
   {
    "duration": 203,
    "start_time": "2022-10-22T20:05:01.869Z"
   },
   {
    "duration": 213,
    "start_time": "2022-10-22T20:05:48.537Z"
   },
   {
    "duration": 156,
    "start_time": "2022-10-22T20:09:23.652Z"
   },
   {
    "duration": 161,
    "start_time": "2022-10-22T20:12:08.291Z"
   },
   {
    "duration": 171,
    "start_time": "2022-10-22T20:13:44.349Z"
   },
   {
    "duration": 11,
    "start_time": "2022-10-22T20:18:10.922Z"
   },
   {
    "duration": 11,
    "start_time": "2022-10-22T20:26:20.520Z"
   },
   {
    "duration": 33,
    "start_time": "2022-10-22T20:31:07.513Z"
   },
   {
    "duration": 20,
    "start_time": "2022-10-22T20:37:00.356Z"
   },
   {
    "duration": 1038,
    "start_time": "2022-10-23T11:02:37.725Z"
   },
   {
    "duration": 82,
    "start_time": "2022-10-23T11:02:38.765Z"
   },
   {
    "duration": 13,
    "start_time": "2022-10-23T11:02:38.848Z"
   },
   {
    "duration": 56,
    "start_time": "2022-10-23T11:02:38.863Z"
   },
   {
    "duration": 36,
    "start_time": "2022-10-23T11:02:38.922Z"
   },
   {
    "duration": 67,
    "start_time": "2022-10-23T11:02:38.959Z"
   },
   {
    "duration": 54,
    "start_time": "2022-10-23T11:02:39.028Z"
   },
   {
    "duration": 61,
    "start_time": "2022-10-23T11:02:39.084Z"
   },
   {
    "duration": 30,
    "start_time": "2022-10-23T11:02:39.146Z"
   },
   {
    "duration": 40,
    "start_time": "2022-10-23T11:02:39.178Z"
   },
   {
    "duration": 41,
    "start_time": "2022-10-23T11:02:39.220Z"
   },
   {
    "duration": 27,
    "start_time": "2022-10-23T11:02:39.263Z"
   },
   {
    "duration": 37,
    "start_time": "2022-10-23T11:02:39.291Z"
   },
   {
    "duration": 24,
    "start_time": "2022-10-23T11:02:39.330Z"
   },
   {
    "duration": 29,
    "start_time": "2022-10-23T11:02:39.355Z"
   },
   {
    "duration": 55,
    "start_time": "2022-10-23T11:02:39.385Z"
   },
   {
    "duration": 31,
    "start_time": "2022-10-23T11:02:39.441Z"
   },
   {
    "duration": 316,
    "start_time": "2022-10-23T11:02:39.474Z"
   },
   {
    "duration": 284,
    "start_time": "2022-10-23T11:02:39.792Z"
   },
   {
    "duration": 184,
    "start_time": "2022-10-23T11:02:40.077Z"
   },
   {
    "duration": 268,
    "start_time": "2022-10-23T11:02:40.262Z"
   },
   {
    "duration": 207,
    "start_time": "2022-10-23T11:02:40.531Z"
   },
   {
    "duration": 289,
    "start_time": "2022-10-23T11:02:40.740Z"
   },
   {
    "duration": 155,
    "start_time": "2022-10-23T11:02:41.030Z"
   },
   {
    "duration": 192,
    "start_time": "2022-10-23T11:02:41.186Z"
   },
   {
    "duration": 4,
    "start_time": "2022-10-23T11:02:41.380Z"
   },
   {
    "duration": 199,
    "start_time": "2022-10-23T11:02:41.386Z"
   },
   {
    "duration": 4,
    "start_time": "2022-10-23T11:02:41.589Z"
   },
   {
    "duration": 253,
    "start_time": "2022-10-23T11:02:41.596Z"
   },
   {
    "duration": 183,
    "start_time": "2022-10-23T11:02:41.850Z"
   },
   {
    "duration": 11,
    "start_time": "2022-10-23T11:02:42.034Z"
   },
   {
    "duration": 20,
    "start_time": "2022-10-23T11:02:42.046Z"
   },
   {
    "duration": 63,
    "start_time": "2022-10-23T11:02:42.068Z"
   },
   {
    "duration": 41,
    "start_time": "2022-10-23T11:02:42.133Z"
   },
   {
    "duration": 49,
    "start_time": "2022-10-23T11:06:04.626Z"
   },
   {
    "duration": 43,
    "start_time": "2022-10-23T12:48:31.582Z"
   },
   {
    "duration": 1160,
    "start_time": "2022-10-23T12:48:40.478Z"
   },
   {
    "duration": 148,
    "start_time": "2022-10-23T12:48:41.640Z"
   },
   {
    "duration": 12,
    "start_time": "2022-10-23T12:48:44.242Z"
   },
   {
    "duration": 11,
    "start_time": "2022-10-23T12:48:44.852Z"
   },
   {
    "duration": 5,
    "start_time": "2022-10-23T12:48:45.389Z"
   },
   {
    "duration": 12,
    "start_time": "2022-10-23T12:48:46.454Z"
   },
   {
    "duration": 11,
    "start_time": "2022-10-23T12:48:47.028Z"
   },
   {
    "duration": 6,
    "start_time": "2022-10-23T12:48:52.362Z"
   },
   {
    "duration": 6,
    "start_time": "2022-10-23T12:48:53.238Z"
   },
   {
    "duration": 5,
    "start_time": "2022-10-23T12:48:54.091Z"
   },
   {
    "duration": 10,
    "start_time": "2022-10-23T12:48:55.518Z"
   },
   {
    "duration": 10,
    "start_time": "2022-10-23T12:48:56.269Z"
   },
   {
    "duration": 4,
    "start_time": "2022-10-23T12:48:57.003Z"
   },
   {
    "duration": 7,
    "start_time": "2022-10-23T12:48:58.058Z"
   },
   {
    "duration": 4,
    "start_time": "2022-10-23T12:49:00.046Z"
   },
   {
    "duration": 5,
    "start_time": "2022-10-23T12:49:06.762Z"
   },
   {
    "duration": 10,
    "start_time": "2022-10-23T13:01:37.126Z"
   },
   {
    "duration": 5,
    "start_time": "2022-10-23T13:01:47.092Z"
   },
   {
    "duration": 855,
    "start_time": "2022-10-23T13:03:14.060Z"
   },
   {
    "duration": 7,
    "start_time": "2022-10-23T13:04:07.306Z"
   },
   {
    "duration": 10,
    "start_time": "2022-10-23T13:05:03.366Z"
   },
   {
    "duration": 14,
    "start_time": "2022-10-23T13:05:13.803Z"
   },
   {
    "duration": 10,
    "start_time": "2022-10-23T13:05:26.136Z"
   },
   {
    "duration": 6,
    "start_time": "2022-10-23T13:09:38.011Z"
   },
   {
    "duration": 9,
    "start_time": "2022-10-23T13:09:38.789Z"
   },
   {
    "duration": 9,
    "start_time": "2022-10-23T13:09:47.629Z"
   },
   {
    "duration": 9,
    "start_time": "2022-10-23T13:09:49.371Z"
   },
   {
    "duration": 10,
    "start_time": "2022-10-23T13:12:13.752Z"
   },
   {
    "duration": 3,
    "start_time": "2022-10-23T13:12:33.817Z"
   },
   {
    "duration": 39,
    "start_time": "2022-10-23T13:12:34.505Z"
   },
   {
    "duration": 7,
    "start_time": "2022-10-23T13:12:36.174Z"
   },
   {
    "duration": 11,
    "start_time": "2022-10-23T13:12:37.191Z"
   },
   {
    "duration": 5,
    "start_time": "2022-10-23T13:12:37.983Z"
   },
   {
    "duration": 12,
    "start_time": "2022-10-23T13:12:39.362Z"
   },
   {
    "duration": 10,
    "start_time": "2022-10-23T13:12:40.160Z"
   },
   {
    "duration": 6,
    "start_time": "2022-10-23T13:12:40.865Z"
   },
   {
    "duration": 6,
    "start_time": "2022-10-23T13:12:45.709Z"
   },
   {
    "duration": 4,
    "start_time": "2022-10-23T13:12:46.466Z"
   },
   {
    "duration": 8,
    "start_time": "2022-10-23T13:12:56.988Z"
   },
   {
    "duration": 10,
    "start_time": "2022-10-23T13:14:45.471Z"
   },
   {
    "duration": 12,
    "start_time": "2022-10-23T13:20:28.151Z"
   },
   {
    "duration": 10,
    "start_time": "2022-10-23T13:21:08.076Z"
   },
   {
    "duration": 11,
    "start_time": "2022-10-23T13:21:26.329Z"
   },
   {
    "duration": 9,
    "start_time": "2022-10-23T13:21:41.582Z"
   },
   {
    "duration": 8,
    "start_time": "2022-10-23T13:21:43.553Z"
   },
   {
    "duration": 14,
    "start_time": "2022-10-23T13:26:12.888Z"
   },
   {
    "duration": 8,
    "start_time": "2022-10-23T13:26:32.256Z"
   },
   {
    "duration": 8,
    "start_time": "2022-10-23T13:26:33.729Z"
   },
   {
    "duration": 5,
    "start_time": "2022-10-23T13:50:18.423Z"
   },
   {
    "duration": 7,
    "start_time": "2022-10-23T14:04:30.836Z"
   },
   {
    "duration": 7,
    "start_time": "2022-10-23T14:04:48.816Z"
   },
   {
    "duration": 8,
    "start_time": "2022-10-23T14:05:09.532Z"
   },
   {
    "duration": 3,
    "start_time": "2022-10-23T14:07:55.343Z"
   },
   {
    "duration": 12,
    "start_time": "2022-10-23T14:07:59.919Z"
   },
   {
    "duration": 11,
    "start_time": "2022-10-23T14:08:11.220Z"
   },
   {
    "duration": 11,
    "start_time": "2022-10-23T14:11:44.084Z"
   },
   {
    "duration": 10,
    "start_time": "2022-10-23T14:16:51.281Z"
   },
   {
    "duration": 3,
    "start_time": "2022-10-23T14:17:08.667Z"
   },
   {
    "duration": 37,
    "start_time": "2022-10-23T14:17:08.919Z"
   },
   {
    "duration": 8,
    "start_time": "2022-10-23T14:17:09.393Z"
   },
   {
    "duration": 9,
    "start_time": "2022-10-23T14:17:09.754Z"
   },
   {
    "duration": 5,
    "start_time": "2022-10-23T14:17:10.005Z"
   },
   {
    "duration": 11,
    "start_time": "2022-10-23T14:17:10.325Z"
   },
   {
    "duration": 10,
    "start_time": "2022-10-23T14:17:10.568Z"
   },
   {
    "duration": 5,
    "start_time": "2022-10-23T14:17:10.793Z"
   },
   {
    "duration": 5,
    "start_time": "2022-10-23T14:17:10.996Z"
   },
   {
    "duration": 4,
    "start_time": "2022-10-23T14:17:11.209Z"
   },
   {
    "duration": 10,
    "start_time": "2022-10-23T14:17:11.507Z"
   },
   {
    "duration": 10,
    "start_time": "2022-10-23T14:17:11.713Z"
   },
   {
    "duration": 5,
    "start_time": "2022-10-23T14:17:11.955Z"
   },
   {
    "duration": 5,
    "start_time": "2022-10-23T14:17:12.174Z"
   },
   {
    "duration": 4,
    "start_time": "2022-10-23T14:17:12.390Z"
   },
   {
    "duration": 5,
    "start_time": "2022-10-23T14:17:13.528Z"
   },
   {
    "duration": 9,
    "start_time": "2022-10-23T14:17:14.124Z"
   },
   {
    "duration": 8,
    "start_time": "2022-10-23T14:17:14.897Z"
   },
   {
    "duration": 13,
    "start_time": "2022-10-23T14:17:15.079Z"
   },
   {
    "duration": 8,
    "start_time": "2022-10-23T14:17:15.313Z"
   },
   {
    "duration": 7,
    "start_time": "2022-10-23T14:17:15.501Z"
   },
   {
    "duration": 10,
    "start_time": "2022-10-23T14:17:16.241Z"
   },
   {
    "duration": 10,
    "start_time": "2022-10-23T14:17:17.172Z"
   },
   {
    "duration": 260,
    "start_time": "2022-10-23T14:17:18.624Z"
   },
   {
    "duration": 253,
    "start_time": "2022-10-23T14:17:19.038Z"
   },
   {
    "duration": 156,
    "start_time": "2022-10-23T14:17:20.322Z"
   },
   {
    "duration": 310,
    "start_time": "2022-10-23T14:17:21.108Z"
   },
   {
    "duration": 165,
    "start_time": "2022-10-23T14:17:21.879Z"
   },
   {
    "duration": 241,
    "start_time": "2022-10-23T14:17:22.640Z"
   },
   {
    "duration": 123,
    "start_time": "2022-10-23T14:17:23.392Z"
   },
   {
    "duration": 136,
    "start_time": "2022-10-23T14:17:23.624Z"
   },
   {
    "duration": 4,
    "start_time": "2022-10-23T14:17:24.170Z"
   },
   {
    "duration": 139,
    "start_time": "2022-10-23T14:17:25.372Z"
   },
   {
    "duration": 4,
    "start_time": "2022-10-23T14:17:27.236Z"
   },
   {
    "duration": 198,
    "start_time": "2022-10-23T14:17:28.177Z"
   },
   {
    "duration": 139,
    "start_time": "2022-10-23T14:17:29.122Z"
   },
   {
    "duration": 10,
    "start_time": "2022-10-23T14:17:30.604Z"
   },
   {
    "duration": 10,
    "start_time": "2022-10-23T14:17:31.788Z"
   },
   {
    "duration": 25,
    "start_time": "2022-10-23T14:17:32.779Z"
   },
   {
    "duration": 13,
    "start_time": "2022-10-23T14:17:34.028Z"
   },
   {
    "duration": 279,
    "start_time": "2022-10-23T14:18:37.424Z"
   },
   {
    "duration": 236,
    "start_time": "2022-10-23T14:18:47.982Z"
   },
   {
    "duration": 198,
    "start_time": "2022-10-23T14:18:58.041Z"
   },
   {
    "duration": 195,
    "start_time": "2022-10-23T14:20:11.889Z"
   },
   {
    "duration": 194,
    "start_time": "2022-10-23T14:20:59.867Z"
   },
   {
    "duration": 197,
    "start_time": "2022-10-23T14:23:08.871Z"
   },
   {
    "duration": 328,
    "start_time": "2022-10-23T14:25:09.415Z"
   },
   {
    "duration": 299,
    "start_time": "2022-10-23T14:25:29.280Z"
   },
   {
    "duration": 201,
    "start_time": "2022-10-23T14:27:09.991Z"
   },
   {
    "duration": 306,
    "start_time": "2022-10-23T14:28:54.346Z"
   },
   {
    "duration": 133,
    "start_time": "2022-10-23T14:29:52.811Z"
   },
   {
    "duration": 128,
    "start_time": "2022-10-23T14:33:15.913Z"
   },
   {
    "duration": 206,
    "start_time": "2022-10-23T14:41:52.120Z"
   },
   {
    "duration": 13,
    "start_time": "2022-10-23T14:45:51.036Z"
   },
   {
    "duration": 10,
    "start_time": "2022-10-23T14:51:03.612Z"
   },
   {
    "duration": 26,
    "start_time": "2022-10-23T15:45:31.916Z"
   },
   {
    "duration": 1167,
    "start_time": "2022-10-24T08:34:00.757Z"
   },
   {
    "duration": 284,
    "start_time": "2022-10-24T08:34:01.926Z"
   },
   {
    "duration": 12,
    "start_time": "2022-10-24T08:34:02.211Z"
   },
   {
    "duration": 33,
    "start_time": "2022-10-24T08:34:02.224Z"
   },
   {
    "duration": 6,
    "start_time": "2022-10-24T08:34:02.260Z"
   },
   {
    "duration": 15,
    "start_time": "2022-10-24T08:34:02.268Z"
   },
   {
    "duration": 16,
    "start_time": "2022-10-24T08:34:02.284Z"
   },
   {
    "duration": 10,
    "start_time": "2022-10-24T08:34:02.301Z"
   },
   {
    "duration": 7,
    "start_time": "2022-10-24T08:34:02.312Z"
   },
   {
    "duration": 21,
    "start_time": "2022-10-24T08:34:02.320Z"
   },
   {
    "duration": 11,
    "start_time": "2022-10-24T08:34:02.342Z"
   },
   {
    "duration": 27,
    "start_time": "2022-10-24T08:34:02.354Z"
   },
   {
    "duration": 8,
    "start_time": "2022-10-24T08:34:02.383Z"
   },
   {
    "duration": 18,
    "start_time": "2022-10-24T08:34:02.393Z"
   },
   {
    "duration": 28,
    "start_time": "2022-10-24T08:34:02.412Z"
   },
   {
    "duration": 20,
    "start_time": "2022-10-24T08:34:02.442Z"
   },
   {
    "duration": 32,
    "start_time": "2022-10-24T08:34:02.464Z"
   },
   {
    "duration": 9,
    "start_time": "2022-10-24T08:34:02.497Z"
   },
   {
    "duration": 25,
    "start_time": "2022-10-24T08:34:02.507Z"
   },
   {
    "duration": 22,
    "start_time": "2022-10-24T08:34:02.533Z"
   },
   {
    "duration": 10,
    "start_time": "2022-10-24T08:34:02.557Z"
   },
   {
    "duration": 23,
    "start_time": "2022-10-24T08:34:02.568Z"
   },
   {
    "duration": 9,
    "start_time": "2022-10-24T08:34:02.593Z"
   },
   {
    "duration": 270,
    "start_time": "2022-10-24T08:34:02.604Z"
   },
   {
    "duration": 267,
    "start_time": "2022-10-24T08:34:02.875Z"
   },
   {
    "duration": 199,
    "start_time": "2022-10-24T08:34:03.143Z"
   },
   {
    "duration": 342,
    "start_time": "2022-10-24T08:34:03.343Z"
   },
   {
    "duration": 193,
    "start_time": "2022-10-24T08:34:03.687Z"
   },
   {
    "duration": 294,
    "start_time": "2022-10-24T08:34:03.881Z"
   },
   {
    "duration": 117,
    "start_time": "2022-10-24T08:34:04.176Z"
   },
   {
    "duration": 149,
    "start_time": "2022-10-24T08:34:04.295Z"
   },
   {
    "duration": 3,
    "start_time": "2022-10-24T08:34:04.446Z"
   },
   {
    "duration": 165,
    "start_time": "2022-10-24T08:34:04.451Z"
   },
   {
    "duration": 6,
    "start_time": "2022-10-24T08:34:04.617Z"
   },
   {
    "duration": 215,
    "start_time": "2022-10-24T08:34:04.625Z"
   },
   {
    "duration": 144,
    "start_time": "2022-10-24T08:34:04.842Z"
   },
   {
    "duration": 10,
    "start_time": "2022-10-24T08:34:04.987Z"
   },
   {
    "duration": 25,
    "start_time": "2022-10-24T08:34:04.998Z"
   },
   {
    "duration": 22,
    "start_time": "2022-10-24T08:34:05.025Z"
   },
   {
    "duration": 11,
    "start_time": "2022-10-24T08:34:05.049Z"
   },
   {
    "duration": 10,
    "start_time": "2022-10-24T08:35:39.393Z"
   },
   {
    "duration": 12,
    "start_time": "2022-10-24T08:35:44.386Z"
   },
   {
    "duration": 13,
    "start_time": "2022-10-24T08:36:01.616Z"
   },
   {
    "duration": 6,
    "start_time": "2022-10-24T08:36:15.810Z"
   },
   {
    "duration": 1311,
    "start_time": "2023-02-19T09:56:39.689Z"
   },
   {
    "duration": 288,
    "start_time": "2023-02-19T09:56:41.001Z"
   },
   {
    "duration": 14,
    "start_time": "2023-02-19T09:56:41.290Z"
   },
   {
    "duration": 32,
    "start_time": "2023-02-19T09:56:41.312Z"
   },
   {
    "duration": 8,
    "start_time": "2023-02-19T09:56:41.346Z"
   },
   {
    "duration": 14,
    "start_time": "2023-02-19T09:56:41.356Z"
   },
   {
    "duration": 21,
    "start_time": "2023-02-19T09:56:41.372Z"
   },
   {
    "duration": 42,
    "start_time": "2023-02-19T09:56:41.395Z"
   },
   {
    "duration": 7,
    "start_time": "2023-02-19T09:56:42.526Z"
   },
   {
    "duration": 5,
    "start_time": "2023-02-19T09:56:43.065Z"
   },
   {
    "duration": 15,
    "start_time": "2023-02-19T09:56:44.120Z"
   },
   {
    "duration": 23,
    "start_time": "2023-02-19T09:56:44.696Z"
   },
   {
    "duration": 5,
    "start_time": "2023-02-19T09:56:45.096Z"
   },
   {
    "duration": 5,
    "start_time": "2023-02-19T09:56:45.428Z"
   },
   {
    "duration": 4,
    "start_time": "2023-02-19T09:56:45.975Z"
   },
   {
    "duration": 6,
    "start_time": "2023-02-19T09:56:46.941Z"
   },
   {
    "duration": 10,
    "start_time": "2023-02-19T09:56:47.551Z"
   },
   {
    "duration": 10,
    "start_time": "2023-02-19T09:56:48.230Z"
   },
   {
    "duration": 11,
    "start_time": "2023-02-19T09:56:48.535Z"
   },
   {
    "duration": 8,
    "start_time": "2023-02-19T09:56:48.849Z"
   },
   {
    "duration": 9,
    "start_time": "2023-02-19T09:56:49.225Z"
   },
   {
    "duration": 14,
    "start_time": "2023-02-19T09:56:51.629Z"
   },
   {
    "duration": 12,
    "start_time": "2023-02-19T09:56:54.965Z"
   },
   {
    "duration": 1138,
    "start_time": "2023-02-19T10:04:27.662Z"
   },
   {
    "duration": 150,
    "start_time": "2023-02-19T10:04:28.806Z"
   },
   {
    "duration": 13,
    "start_time": "2023-02-19T10:04:28.957Z"
   },
   {
    "duration": 13,
    "start_time": "2023-02-19T10:04:28.972Z"
   },
   {
    "duration": 8,
    "start_time": "2023-02-19T10:04:28.986Z"
   },
   {
    "duration": 23,
    "start_time": "2023-02-19T10:04:28.996Z"
   },
   {
    "duration": 20,
    "start_time": "2023-02-19T10:04:29.023Z"
   },
   {
    "duration": 8,
    "start_time": "2023-02-19T10:04:29.045Z"
   },
   {
    "duration": 8,
    "start_time": "2023-02-19T10:04:29.055Z"
   },
   {
    "duration": 6,
    "start_time": "2023-02-19T10:04:29.066Z"
   },
   {
    "duration": 13,
    "start_time": "2023-02-19T10:04:29.074Z"
   },
   {
    "duration": 25,
    "start_time": "2023-02-19T10:04:29.088Z"
   },
   {
    "duration": 26,
    "start_time": "2023-02-19T10:04:29.116Z"
   },
   {
    "duration": 9,
    "start_time": "2023-02-19T10:04:29.143Z"
   },
   {
    "duration": 7,
    "start_time": "2023-02-19T10:04:29.153Z"
   },
   {
    "duration": 15,
    "start_time": "2023-02-19T10:04:29.162Z"
   },
   {
    "duration": 14,
    "start_time": "2023-02-19T10:04:29.179Z"
   },
   {
    "duration": 28,
    "start_time": "2023-02-19T10:04:29.195Z"
   },
   {
    "duration": 16,
    "start_time": "2023-02-19T10:04:29.226Z"
   },
   {
    "duration": 15,
    "start_time": "2023-02-19T10:04:29.243Z"
   },
   {
    "duration": 11,
    "start_time": "2023-02-19T10:04:29.259Z"
   },
   {
    "duration": 16,
    "start_time": "2023-02-19T10:04:29.272Z"
   },
   {
    "duration": 11,
    "start_time": "2023-02-19T10:04:29.289Z"
   },
   {
    "duration": 331,
    "start_time": "2023-02-19T10:04:29.313Z"
   },
   {
    "duration": 352,
    "start_time": "2023-02-19T10:04:29.647Z"
   },
   {
    "duration": 256,
    "start_time": "2023-02-19T10:04:30.002Z"
   },
   {
    "duration": 310,
    "start_time": "2023-02-19T10:04:30.259Z"
   },
   {
    "duration": 273,
    "start_time": "2023-02-19T10:04:30.573Z"
   },
   {
    "duration": 329,
    "start_time": "2023-02-19T10:04:30.847Z"
   },
   {
    "duration": 159,
    "start_time": "2023-02-19T10:04:31.177Z"
   },
   {
    "duration": 185,
    "start_time": "2023-02-19T10:04:31.338Z"
   },
   {
    "duration": 10,
    "start_time": "2023-02-19T10:04:31.524Z"
   },
   {
    "duration": 176,
    "start_time": "2023-02-19T10:04:31.536Z"
   },
   {
    "duration": 6,
    "start_time": "2023-02-19T10:04:31.714Z"
   },
   {
    "duration": 250,
    "start_time": "2023-02-19T10:04:31.724Z"
   },
   {
    "duration": 167,
    "start_time": "2023-02-19T10:04:31.976Z"
   },
   {
    "duration": 11,
    "start_time": "2023-02-19T10:04:32.145Z"
   },
   {
    "duration": 12,
    "start_time": "2023-02-19T10:04:32.157Z"
   },
   {
    "duration": 62,
    "start_time": "2023-02-19T10:04:32.170Z"
   },
   {
    "duration": 15,
    "start_time": "2023-02-19T10:04:32.234Z"
   }
  ],
  "kernelspec": {
   "display_name": "Python 3 (ipykernel)",
   "language": "python",
   "name": "python3"
  },
  "language_info": {
   "codemirror_mode": {
    "name": "ipython",
    "version": 3
   },
   "file_extension": ".py",
   "mimetype": "text/x-python",
   "name": "python",
   "nbconvert_exporter": "python",
   "pygments_lexer": "ipython3",
   "version": "3.9.5"
  },
  "toc": {
   "base_numbering": 1,
   "nav_menu": {},
   "number_sections": true,
   "sideBar": true,
   "skip_h1_title": true,
   "title_cell": "Table of Contents",
   "title_sidebar": "Contents",
   "toc_cell": false,
   "toc_position": {},
   "toc_section_display": true,
   "toc_window_display": false
  }
 },
 "nbformat": 4,
 "nbformat_minor": 2
}
